{
 "cells": [
  {
   "cell_type": "markdown",
   "id": "84407b9c",
   "metadata": {},
   "source": [
    "Data set from Kaggle: \n",
    "\n",
    "https://www.kaggle.com/datasets/mexwell/heart-disease-dataset"
   ]
  },
  {
   "cell_type": "code",
   "execution_count": 1,
   "id": "d49ecc06",
   "metadata": {},
   "outputs": [
    {
     "name": "stdout",
     "output_type": "stream",
     "text": [
      "Collecting catboost\n",
      "  Downloading catboost-1.2.8-cp311-cp311-win_amd64.whl.metadata (1.5 kB)\n",
      "Requirement already satisfied: matplotlib in c:\\users\\wojciech\\appdata\\local\\programs\\python\\python311\\lib\\site-packages (3.10.1)\n",
      "Requirement already satisfied: pandas in c:\\users\\wojciech\\appdata\\local\\programs\\python\\python311\\lib\\site-packages (2.2.3)\n",
      "Requirement already satisfied: scikit-learn in c:\\users\\wojciech\\appdata\\local\\programs\\python\\python311\\lib\\site-packages (1.6.1)\n",
      "Collecting kaggle\n",
      "  Downloading kaggle-1.7.4.2-py3-none-any.whl.metadata (16 kB)\n",
      "Collecting optuna\n",
      "  Downloading optuna-4.3.0-py3-none-any.whl.metadata (17 kB)\n",
      "Requirement already satisfied: ipywidgets in c:\\users\\wojciech\\appdata\\local\\programs\\python\\python311\\lib\\site-packages (8.1.5)\n",
      "Collecting kaleido\n",
      "  Using cached kaleido-0.2.1-py2.py3-none-win_amd64.whl.metadata (15 kB)\n",
      "Collecting shap\n",
      "  Downloading shap-0.47.2-cp311-cp311-win_amd64.whl.metadata (25 kB)\n",
      "Collecting jupyterlab-rise\n",
      "  Downloading jupyterlab_rise-0.43.1-py3-none-any.whl.metadata (7.4 kB)\n",
      "Collecting graphviz (from catboost)\n",
      "  Using cached graphviz-0.20.3-py3-none-any.whl.metadata (12 kB)\n",
      "Requirement already satisfied: numpy<3.0,>=1.16.0 in c:\\users\\wojciech\\appdata\\local\\programs\\python\\python311\\lib\\site-packages (from catboost) (2.2.3)\n",
      "Requirement already satisfied: scipy in c:\\users\\wojciech\\appdata\\local\\programs\\python\\python311\\lib\\site-packages (from catboost) (1.15.2)\n",
      "Requirement already satisfied: plotly in c:\\users\\wojciech\\appdata\\local\\programs\\python\\python311\\lib\\site-packages (from catboost) (6.0.0)\n",
      "Requirement already satisfied: six in c:\\users\\wojciech\\appdata\\local\\programs\\python\\python311\\lib\\site-packages (from catboost) (1.17.0)\n",
      "Requirement already satisfied: contourpy>=1.0.1 in c:\\users\\wojciech\\appdata\\local\\programs\\python\\python311\\lib\\site-packages (from matplotlib) (1.3.1)\n",
      "Requirement already satisfied: cycler>=0.10 in c:\\users\\wojciech\\appdata\\local\\programs\\python\\python311\\lib\\site-packages (from matplotlib) (0.12.1)\n",
      "Requirement already satisfied: fonttools>=4.22.0 in c:\\users\\wojciech\\appdata\\local\\programs\\python\\python311\\lib\\site-packages (from matplotlib) (4.56.0)\n",
      "Requirement already satisfied: kiwisolver>=1.3.1 in c:\\users\\wojciech\\appdata\\local\\programs\\python\\python311\\lib\\site-packages (from matplotlib) (1.4.8)\n",
      "Requirement already satisfied: packaging>=20.0 in c:\\users\\wojciech\\appdata\\local\\programs\\python\\python311\\lib\\site-packages (from matplotlib) (24.2)\n",
      "Requirement already satisfied: pillow>=8 in c:\\users\\wojciech\\appdata\\local\\programs\\python\\python311\\lib\\site-packages (from matplotlib) (11.1.0)\n",
      "Requirement already satisfied: pyparsing>=2.3.1 in c:\\users\\wojciech\\appdata\\local\\programs\\python\\python311\\lib\\site-packages (from matplotlib) (3.2.1)\n",
      "Requirement already satisfied: python-dateutil>=2.7 in c:\\users\\wojciech\\appdata\\local\\programs\\python\\python311\\lib\\site-packages (from matplotlib) (2.9.0.post0)\n",
      "Requirement already satisfied: pytz>=2020.1 in c:\\users\\wojciech\\appdata\\local\\programs\\python\\python311\\lib\\site-packages (from pandas) (2025.1)\n",
      "Requirement already satisfied: tzdata>=2022.7 in c:\\users\\wojciech\\appdata\\local\\programs\\python\\python311\\lib\\site-packages (from pandas) (2025.1)\n",
      "Requirement already satisfied: joblib>=1.2.0 in c:\\users\\wojciech\\appdata\\local\\programs\\python\\python311\\lib\\site-packages (from scikit-learn) (1.4.2)\n",
      "Requirement already satisfied: threadpoolctl>=3.1.0 in c:\\users\\wojciech\\appdata\\local\\programs\\python\\python311\\lib\\site-packages (from scikit-learn) (3.5.0)\n",
      "Requirement already satisfied: bleach in c:\\users\\wojciech\\appdata\\local\\programs\\python\\python311\\lib\\site-packages (from kaggle) (6.2.0)\n",
      "Requirement already satisfied: certifi>=14.05.14 in c:\\users\\wojciech\\appdata\\local\\programs\\python\\python311\\lib\\site-packages (from kaggle) (2025.1.31)\n",
      "Requirement already satisfied: charset-normalizer in c:\\users\\wojciech\\appdata\\local\\programs\\python\\python311\\lib\\site-packages (from kaggle) (3.4.1)\n",
      "Requirement already satisfied: idna in c:\\users\\wojciech\\appdata\\local\\programs\\python\\python311\\lib\\site-packages (from kaggle) (3.10)\n",
      "Requirement already satisfied: protobuf in c:\\users\\wojciech\\appdata\\local\\programs\\python\\python311\\lib\\site-packages (from kaggle) (5.29.3)\n",
      "Collecting python-slugify (from kaggle)\n",
      "  Using cached python_slugify-8.0.4-py2.py3-none-any.whl.metadata (8.5 kB)\n",
      "Requirement already satisfied: requests in c:\\users\\wojciech\\appdata\\local\\programs\\python\\python311\\lib\\site-packages (from kaggle) (2.32.3)\n",
      "Requirement already satisfied: setuptools>=21.0.0 in c:\\users\\wojciech\\appdata\\local\\programs\\python\\python311\\lib\\site-packages (from kaggle) (65.5.0)\n",
      "Collecting text-unidecode (from kaggle)\n",
      "  Using cached text_unidecode-1.3-py2.py3-none-any.whl.metadata (2.4 kB)\n",
      "Requirement already satisfied: tqdm in c:\\users\\wojciech\\appdata\\local\\programs\\python\\python311\\lib\\site-packages (from kaggle) (4.67.1)\n",
      "Requirement already satisfied: urllib3>=1.15.1 in c:\\users\\wojciech\\appdata\\local\\programs\\python\\python311\\lib\\site-packages (from kaggle) (2.3.0)\n",
      "Requirement already satisfied: webencodings in c:\\users\\wojciech\\appdata\\local\\programs\\python\\python311\\lib\\site-packages (from kaggle) (0.5.1)\n",
      "Requirement already satisfied: alembic>=1.5.0 in c:\\users\\wojciech\\appdata\\local\\programs\\python\\python311\\lib\\site-packages (from optuna) (1.15.2)\n",
      "Collecting colorlog (from optuna)\n",
      "  Using cached colorlog-6.9.0-py3-none-any.whl.metadata (10 kB)\n",
      "Requirement already satisfied: sqlalchemy>=1.4.2 in c:\\users\\wojciech\\appdata\\local\\programs\\python\\python311\\lib\\site-packages (from optuna) (2.0.40)\n",
      "Requirement already satisfied: PyYAML in c:\\users\\wojciech\\appdata\\local\\programs\\python\\python311\\lib\\site-packages (from optuna) (6.0.2)\n",
      "Requirement already satisfied: comm>=0.1.3 in c:\\users\\wojciech\\appdata\\local\\programs\\python\\python311\\lib\\site-packages (from ipywidgets) (0.2.2)\n",
      "Requirement already satisfied: ipython>=6.1.0 in c:\\users\\wojciech\\appdata\\local\\programs\\python\\python311\\lib\\site-packages (from ipywidgets) (9.0.0)\n",
      "Requirement already satisfied: traitlets>=4.3.1 in c:\\users\\wojciech\\appdata\\local\\programs\\python\\python311\\lib\\site-packages (from ipywidgets) (5.14.3)\n",
      "Requirement already satisfied: widgetsnbextension~=4.0.12 in c:\\users\\wojciech\\appdata\\local\\programs\\python\\python311\\lib\\site-packages (from ipywidgets) (4.0.13)\n",
      "Requirement already satisfied: jupyterlab-widgets~=3.0.12 in c:\\users\\wojciech\\appdata\\local\\programs\\python\\python311\\lib\\site-packages (from ipywidgets) (3.0.13)\n",
      "Collecting slicer==0.0.8 (from shap)\n",
      "  Using cached slicer-0.0.8-py3-none-any.whl.metadata (4.0 kB)\n",
      "Collecting numba>=0.54 (from shap)\n",
      "  Downloading numba-0.61.2-cp311-cp311-win_amd64.whl.metadata (2.9 kB)\n",
      "Requirement already satisfied: cloudpickle in c:\\users\\wojciech\\appdata\\local\\programs\\python\\python311\\lib\\site-packages (from shap) (3.1.1)\n",
      "Requirement already satisfied: typing-extensions in c:\\users\\wojciech\\appdata\\local\\programs\\python\\python311\\lib\\site-packages (from shap) (4.12.2)\n",
      "Requirement already satisfied: jupyter-server<3,>=2.0.1 in c:\\users\\wojciech\\appdata\\local\\programs\\python\\python311\\lib\\site-packages (from jupyterlab-rise) (2.15.0)\n",
      "Collecting jupyterlab-mathjax3 (from jupyterlab-rise)\n",
      "  Downloading jupyterlab_mathjax3-4.3.0-py3-none-any.whl.metadata (2.8 kB)\n",
      "Requirement already satisfied: jupyterlab<5,>=4.1.0 in c:\\users\\wojciech\\appdata\\local\\programs\\python\\python311\\lib\\site-packages (from jupyterlab-rise) (4.3.5)\n",
      "Requirement already satisfied: Mako in c:\\users\\wojciech\\appdata\\local\\programs\\python\\python311\\lib\\site-packages (from alembic>=1.5.0->optuna) (1.3.9)\n",
      "Requirement already satisfied: colorama in c:\\users\\wojciech\\appdata\\local\\programs\\python\\python311\\lib\\site-packages (from ipython>=6.1.0->ipywidgets) (0.4.6)\n",
      "Requirement already satisfied: decorator in c:\\users\\wojciech\\appdata\\local\\programs\\python\\python311\\lib\\site-packages (from ipython>=6.1.0->ipywidgets) (5.2.1)\n",
      "Requirement already satisfied: ipython-pygments-lexers in c:\\users\\wojciech\\appdata\\local\\programs\\python\\python311\\lib\\site-packages (from ipython>=6.1.0->ipywidgets) (1.1.1)\n",
      "Requirement already satisfied: jedi>=0.16 in c:\\users\\wojciech\\appdata\\local\\programs\\python\\python311\\lib\\site-packages (from ipython>=6.1.0->ipywidgets) (0.19.2)\n",
      "Requirement already satisfied: matplotlib-inline in c:\\users\\wojciech\\appdata\\local\\programs\\python\\python311\\lib\\site-packages (from ipython>=6.1.0->ipywidgets) (0.1.7)\n",
      "Requirement already satisfied: prompt_toolkit<3.1.0,>=3.0.41 in c:\\users\\wojciech\\appdata\\local\\programs\\python\\python311\\lib\\site-packages (from ipython>=6.1.0->ipywidgets) (3.0.50)\n",
      "Requirement already satisfied: pygments>=2.4.0 in c:\\users\\wojciech\\appdata\\local\\programs\\python\\python311\\lib\\site-packages (from ipython>=6.1.0->ipywidgets) (2.19.1)\n",
      "Requirement already satisfied: stack_data in c:\\users\\wojciech\\appdata\\local\\programs\\python\\python311\\lib\\site-packages (from ipython>=6.1.0->ipywidgets) (0.6.3)\n",
      "Requirement already satisfied: anyio>=3.1.0 in c:\\users\\wojciech\\appdata\\local\\programs\\python\\python311\\lib\\site-packages (from jupyter-server<3,>=2.0.1->jupyterlab-rise) (4.8.0)\n",
      "Requirement already satisfied: argon2-cffi>=21.1 in c:\\users\\wojciech\\appdata\\local\\programs\\python\\python311\\lib\\site-packages (from jupyter-server<3,>=2.0.1->jupyterlab-rise) (23.1.0)\n",
      "Requirement already satisfied: jinja2>=3.0.3 in c:\\users\\wojciech\\appdata\\local\\programs\\python\\python311\\lib\\site-packages (from jupyter-server<3,>=2.0.1->jupyterlab-rise) (3.1.5)\n",
      "Requirement already satisfied: jupyter-client>=7.4.4 in c:\\users\\wojciech\\appdata\\local\\programs\\python\\python311\\lib\\site-packages (from jupyter-server<3,>=2.0.1->jupyterlab-rise) (8.6.3)\n",
      "Requirement already satisfied: jupyter-core!=5.0.*,>=4.12 in c:\\users\\wojciech\\appdata\\local\\programs\\python\\python311\\lib\\site-packages (from jupyter-server<3,>=2.0.1->jupyterlab-rise) (5.7.2)\n",
      "Requirement already satisfied: jupyter-events>=0.11.0 in c:\\users\\wojciech\\appdata\\local\\programs\\python\\python311\\lib\\site-packages (from jupyter-server<3,>=2.0.1->jupyterlab-rise) (0.12.0)\n",
      "Requirement already satisfied: jupyter-server-terminals>=0.4.4 in c:\\users\\wojciech\\appdata\\local\\programs\\python\\python311\\lib\\site-packages (from jupyter-server<3,>=2.0.1->jupyterlab-rise) (0.5.3)\n",
      "Requirement already satisfied: nbconvert>=6.4.4 in c:\\users\\wojciech\\appdata\\local\\programs\\python\\python311\\lib\\site-packages (from jupyter-server<3,>=2.0.1->jupyterlab-rise) (7.16.6)\n",
      "Requirement already satisfied: nbformat>=5.3.0 in c:\\users\\wojciech\\appdata\\local\\programs\\python\\python311\\lib\\site-packages (from jupyter-server<3,>=2.0.1->jupyterlab-rise) (5.10.4)\n",
      "Requirement already satisfied: overrides>=5.0 in c:\\users\\wojciech\\appdata\\local\\programs\\python\\python311\\lib\\site-packages (from jupyter-server<3,>=2.0.1->jupyterlab-rise) (7.7.0)\n",
      "Requirement already satisfied: prometheus-client>=0.9 in c:\\users\\wojciech\\appdata\\local\\programs\\python\\python311\\lib\\site-packages (from jupyter-server<3,>=2.0.1->jupyterlab-rise) (0.21.1)\n",
      "Requirement already satisfied: pywinpty>=2.0.1 in c:\\users\\wojciech\\appdata\\local\\programs\\python\\python311\\lib\\site-packages (from jupyter-server<3,>=2.0.1->jupyterlab-rise) (2.0.15)\n",
      "Requirement already satisfied: pyzmq>=24 in c:\\users\\wojciech\\appdata\\local\\programs\\python\\python311\\lib\\site-packages (from jupyter-server<3,>=2.0.1->jupyterlab-rise) (26.2.1)\n",
      "Requirement already satisfied: send2trash>=1.8.2 in c:\\users\\wojciech\\appdata\\local\\programs\\python\\python311\\lib\\site-packages (from jupyter-server<3,>=2.0.1->jupyterlab-rise) (1.8.3)\n",
      "Requirement already satisfied: terminado>=0.8.3 in c:\\users\\wojciech\\appdata\\local\\programs\\python\\python311\\lib\\site-packages (from jupyter-server<3,>=2.0.1->jupyterlab-rise) (0.18.1)\n",
      "Requirement already satisfied: tornado>=6.2.0 in c:\\users\\wojciech\\appdata\\local\\programs\\python\\python311\\lib\\site-packages (from jupyter-server<3,>=2.0.1->jupyterlab-rise) (6.4.2)\n",
      "Requirement already satisfied: websocket-client>=1.7 in c:\\users\\wojciech\\appdata\\local\\programs\\python\\python311\\lib\\site-packages (from jupyter-server<3,>=2.0.1->jupyterlab-rise) (1.8.0)\n",
      "Requirement already satisfied: async-lru>=1.0.0 in c:\\users\\wojciech\\appdata\\local\\programs\\python\\python311\\lib\\site-packages (from jupyterlab<5,>=4.1.0->jupyterlab-rise) (2.0.4)\n",
      "Requirement already satisfied: httpx>=0.25.0 in c:\\users\\wojciech\\appdata\\local\\programs\\python\\python311\\lib\\site-packages (from jupyterlab<5,>=4.1.0->jupyterlab-rise) (0.28.1)\n",
      "Requirement already satisfied: ipykernel>=6.5.0 in c:\\users\\wojciech\\appdata\\local\\programs\\python\\python311\\lib\\site-packages (from jupyterlab<5,>=4.1.0->jupyterlab-rise) (6.29.5)\n",
      "Requirement already satisfied: jupyter-lsp>=2.0.0 in c:\\users\\wojciech\\appdata\\local\\programs\\python\\python311\\lib\\site-packages (from jupyterlab<5,>=4.1.0->jupyterlab-rise) (2.2.5)\n",
      "Requirement already satisfied: jupyterlab-server<3,>=2.27.1 in c:\\users\\wojciech\\appdata\\local\\programs\\python\\python311\\lib\\site-packages (from jupyterlab<5,>=4.1.0->jupyterlab-rise) (2.27.3)\n",
      "Requirement already satisfied: notebook-shim>=0.2 in c:\\users\\wojciech\\appdata\\local\\programs\\python\\python311\\lib\\site-packages (from jupyterlab<5,>=4.1.0->jupyterlab-rise) (0.2.4)\n",
      "Collecting llvmlite<0.45,>=0.44.0dev0 (from numba>=0.54->shap)\n",
      "  Using cached llvmlite-0.44.0-cp311-cp311-win_amd64.whl.metadata (5.0 kB)\n",
      "Requirement already satisfied: greenlet>=1 in c:\\users\\wojciech\\appdata\\local\\programs\\python\\python311\\lib\\site-packages (from sqlalchemy>=1.4.2->optuna) (3.1.1)\n",
      "Requirement already satisfied: narwhals>=1.15.1 in c:\\users\\wojciech\\appdata\\local\\programs\\python\\python311\\lib\\site-packages (from plotly->catboost) (1.29.1)\n",
      "Requirement already satisfied: sniffio>=1.1 in c:\\users\\wojciech\\appdata\\local\\programs\\python\\python311\\lib\\site-packages (from anyio>=3.1.0->jupyter-server<3,>=2.0.1->jupyterlab-rise) (1.3.1)\n",
      "Requirement already satisfied: argon2-cffi-bindings in c:\\users\\wojciech\\appdata\\local\\programs\\python\\python311\\lib\\site-packages (from argon2-cffi>=21.1->jupyter-server<3,>=2.0.1->jupyterlab-rise) (21.2.0)\n",
      "Requirement already satisfied: httpcore==1.* in c:\\users\\wojciech\\appdata\\local\\programs\\python\\python311\\lib\\site-packages (from httpx>=0.25.0->jupyterlab<5,>=4.1.0->jupyterlab-rise) (1.0.7)\n",
      "Requirement already satisfied: h11<0.15,>=0.13 in c:\\users\\wojciech\\appdata\\local\\programs\\python\\python311\\lib\\site-packages (from httpcore==1.*->httpx>=0.25.0->jupyterlab<5,>=4.1.0->jupyterlab-rise) (0.14.0)\n",
      "Requirement already satisfied: debugpy>=1.6.5 in c:\\users\\wojciech\\appdata\\local\\programs\\python\\python311\\lib\\site-packages (from ipykernel>=6.5.0->jupyterlab<5,>=4.1.0->jupyterlab-rise) (1.8.12)\n",
      "Requirement already satisfied: nest-asyncio in c:\\users\\wojciech\\appdata\\local\\programs\\python\\python311\\lib\\site-packages (from ipykernel>=6.5.0->jupyterlab<5,>=4.1.0->jupyterlab-rise) (1.6.0)\n",
      "Requirement already satisfied: psutil in c:\\users\\wojciech\\appdata\\local\\programs\\python\\python311\\lib\\site-packages (from ipykernel>=6.5.0->jupyterlab<5,>=4.1.0->jupyterlab-rise) (7.0.0)\n",
      "Requirement already satisfied: parso<0.9.0,>=0.8.4 in c:\\users\\wojciech\\appdata\\local\\programs\\python\\python311\\lib\\site-packages (from jedi>=0.16->ipython>=6.1.0->ipywidgets) (0.8.4)\n",
      "Requirement already satisfied: MarkupSafe>=2.0 in c:\\users\\wojciech\\appdata\\local\\programs\\python\\python311\\lib\\site-packages (from jinja2>=3.0.3->jupyter-server<3,>=2.0.1->jupyterlab-rise) (3.0.2)\n",
      "Requirement already satisfied: platformdirs>=2.5 in c:\\users\\wojciech\\appdata\\local\\programs\\python\\python311\\lib\\site-packages (from jupyter-core!=5.0.*,>=4.12->jupyter-server<3,>=2.0.1->jupyterlab-rise) (4.3.6)\n",
      "Requirement already satisfied: pywin32>=300 in c:\\users\\wojciech\\appdata\\local\\programs\\python\\python311\\lib\\site-packages (from jupyter-core!=5.0.*,>=4.12->jupyter-server<3,>=2.0.1->jupyterlab-rise) (308)\n",
      "Requirement already satisfied: jsonschema>=4.18.0 in c:\\users\\wojciech\\appdata\\local\\programs\\python\\python311\\lib\\site-packages (from jsonschema[format-nongpl]>=4.18.0->jupyter-events>=0.11.0->jupyter-server<3,>=2.0.1->jupyterlab-rise) (4.23.0)\n",
      "Requirement already satisfied: python-json-logger>=2.0.4 in c:\\users\\wojciech\\appdata\\local\\programs\\python\\python311\\lib\\site-packages (from jupyter-events>=0.11.0->jupyter-server<3,>=2.0.1->jupyterlab-rise) (3.2.1)\n",
      "Requirement already satisfied: referencing in c:\\users\\wojciech\\appdata\\local\\programs\\python\\python311\\lib\\site-packages (from jupyter-events>=0.11.0->jupyter-server<3,>=2.0.1->jupyterlab-rise) (0.36.2)\n",
      "Requirement already satisfied: rfc3339-validator in c:\\users\\wojciech\\appdata\\local\\programs\\python\\python311\\lib\\site-packages (from jupyter-events>=0.11.0->jupyter-server<3,>=2.0.1->jupyterlab-rise) (0.1.4)\n",
      "Requirement already satisfied: rfc3986-validator>=0.1.1 in c:\\users\\wojciech\\appdata\\local\\programs\\python\\python311\\lib\\site-packages (from jupyter-events>=0.11.0->jupyter-server<3,>=2.0.1->jupyterlab-rise) (0.1.1)\n",
      "Requirement already satisfied: babel>=2.10 in c:\\users\\wojciech\\appdata\\local\\programs\\python\\python311\\lib\\site-packages (from jupyterlab-server<3,>=2.27.1->jupyterlab<5,>=4.1.0->jupyterlab-rise) (2.17.0)\n",
      "Requirement already satisfied: json5>=0.9.0 in c:\\users\\wojciech\\appdata\\local\\programs\\python\\python311\\lib\\site-packages (from jupyterlab-server<3,>=2.27.1->jupyterlab<5,>=4.1.0->jupyterlab-rise) (0.10.0)\n",
      "Requirement already satisfied: beautifulsoup4 in c:\\users\\wojciech\\appdata\\local\\programs\\python\\python311\\lib\\site-packages (from nbconvert>=6.4.4->jupyter-server<3,>=2.0.1->jupyterlab-rise) (4.13.3)\n",
      "Requirement already satisfied: defusedxml in c:\\users\\wojciech\\appdata\\local\\programs\\python\\python311\\lib\\site-packages (from nbconvert>=6.4.4->jupyter-server<3,>=2.0.1->jupyterlab-rise) (0.7.1)\n",
      "Requirement already satisfied: jupyterlab-pygments in c:\\users\\wojciech\\appdata\\local\\programs\\python\\python311\\lib\\site-packages (from nbconvert>=6.4.4->jupyter-server<3,>=2.0.1->jupyterlab-rise) (0.3.0)\n",
      "Requirement already satisfied: mistune<4,>=2.0.3 in c:\\users\\wojciech\\appdata\\local\\programs\\python\\python311\\lib\\site-packages (from nbconvert>=6.4.4->jupyter-server<3,>=2.0.1->jupyterlab-rise) (3.1.2)\n",
      "Requirement already satisfied: nbclient>=0.5.0 in c:\\users\\wojciech\\appdata\\local\\programs\\python\\python311\\lib\\site-packages (from nbconvert>=6.4.4->jupyter-server<3,>=2.0.1->jupyterlab-rise) (0.10.2)\n",
      "Requirement already satisfied: pandocfilters>=1.4.1 in c:\\users\\wojciech\\appdata\\local\\programs\\python\\python311\\lib\\site-packages (from nbconvert>=6.4.4->jupyter-server<3,>=2.0.1->jupyterlab-rise) (1.5.1)\n",
      "Requirement already satisfied: fastjsonschema>=2.15 in c:\\users\\wojciech\\appdata\\local\\programs\\python\\python311\\lib\\site-packages (from nbformat>=5.3.0->jupyter-server<3,>=2.0.1->jupyterlab-rise) (2.21.1)\n",
      "Requirement already satisfied: wcwidth in c:\\users\\wojciech\\appdata\\local\\programs\\python\\python311\\lib\\site-packages (from prompt_toolkit<3.1.0,>=3.0.41->ipython>=6.1.0->ipywidgets) (0.2.13)\n",
      "Requirement already satisfied: executing>=1.2.0 in c:\\users\\wojciech\\appdata\\local\\programs\\python\\python311\\lib\\site-packages (from stack_data->ipython>=6.1.0->ipywidgets) (2.2.0)\n",
      "Requirement already satisfied: asttokens>=2.1.0 in c:\\users\\wojciech\\appdata\\local\\programs\\python\\python311\\lib\\site-packages (from stack_data->ipython>=6.1.0->ipywidgets) (3.0.0)\n",
      "Requirement already satisfied: pure-eval in c:\\users\\wojciech\\appdata\\local\\programs\\python\\python311\\lib\\site-packages (from stack_data->ipython>=6.1.0->ipywidgets) (0.2.3)\n",
      "Requirement already satisfied: tinycss2<1.5,>=1.1.0 in c:\\users\\wojciech\\appdata\\local\\programs\\python\\python311\\lib\\site-packages (from bleach[css]!=5.0.0->nbconvert>=6.4.4->jupyter-server<3,>=2.0.1->jupyterlab-rise) (1.4.0)\n",
      "Requirement already satisfied: attrs>=22.2.0 in c:\\users\\wojciech\\appdata\\local\\programs\\python\\python311\\lib\\site-packages (from jsonschema>=4.18.0->jsonschema[format-nongpl]>=4.18.0->jupyter-events>=0.11.0->jupyter-server<3,>=2.0.1->jupyterlab-rise) (25.1.0)\n",
      "Requirement already satisfied: jsonschema-specifications>=2023.03.6 in c:\\users\\wojciech\\appdata\\local\\programs\\python\\python311\\lib\\site-packages (from jsonschema>=4.18.0->jsonschema[format-nongpl]>=4.18.0->jupyter-events>=0.11.0->jupyter-server<3,>=2.0.1->jupyterlab-rise) (2024.10.1)\n",
      "Requirement already satisfied: rpds-py>=0.7.1 in c:\\users\\wojciech\\appdata\\local\\programs\\python\\python311\\lib\\site-packages (from jsonschema>=4.18.0->jsonschema[format-nongpl]>=4.18.0->jupyter-events>=0.11.0->jupyter-server<3,>=2.0.1->jupyterlab-rise) (0.23.1)\n",
      "Requirement already satisfied: fqdn in c:\\users\\wojciech\\appdata\\local\\programs\\python\\python311\\lib\\site-packages (from jsonschema[format-nongpl]>=4.18.0->jupyter-events>=0.11.0->jupyter-server<3,>=2.0.1->jupyterlab-rise) (1.5.1)\n",
      "Requirement already satisfied: isoduration in c:\\users\\wojciech\\appdata\\local\\programs\\python\\python311\\lib\\site-packages (from jsonschema[format-nongpl]>=4.18.0->jupyter-events>=0.11.0->jupyter-server<3,>=2.0.1->jupyterlab-rise) (20.11.0)\n",
      "Requirement already satisfied: jsonpointer>1.13 in c:\\users\\wojciech\\appdata\\local\\programs\\python\\python311\\lib\\site-packages (from jsonschema[format-nongpl]>=4.18.0->jupyter-events>=0.11.0->jupyter-server<3,>=2.0.1->jupyterlab-rise) (3.0.0)\n",
      "Requirement already satisfied: uri-template in c:\\users\\wojciech\\appdata\\local\\programs\\python\\python311\\lib\\site-packages (from jsonschema[format-nongpl]>=4.18.0->jupyter-events>=0.11.0->jupyter-server<3,>=2.0.1->jupyterlab-rise) (1.3.0)\n",
      "Requirement already satisfied: webcolors>=24.6.0 in c:\\users\\wojciech\\appdata\\local\\programs\\python\\python311\\lib\\site-packages (from jsonschema[format-nongpl]>=4.18.0->jupyter-events>=0.11.0->jupyter-server<3,>=2.0.1->jupyterlab-rise) (24.11.1)\n",
      "Requirement already satisfied: cffi>=1.0.1 in c:\\users\\wojciech\\appdata\\local\\programs\\python\\python311\\lib\\site-packages (from argon2-cffi-bindings->argon2-cffi>=21.1->jupyter-server<3,>=2.0.1->jupyterlab-rise) (1.17.1)\n",
      "Requirement already satisfied: soupsieve>1.2 in c:\\users\\wojciech\\appdata\\local\\programs\\python\\python311\\lib\\site-packages (from beautifulsoup4->nbconvert>=6.4.4->jupyter-server<3,>=2.0.1->jupyterlab-rise) (2.6)\n",
      "Requirement already satisfied: pycparser in c:\\users\\wojciech\\appdata\\local\\programs\\python\\python311\\lib\\site-packages (from cffi>=1.0.1->argon2-cffi-bindings->argon2-cffi>=21.1->jupyter-server<3,>=2.0.1->jupyterlab-rise) (2.22)\n",
      "Requirement already satisfied: arrow>=0.15.0 in c:\\users\\wojciech\\appdata\\local\\programs\\python\\python311\\lib\\site-packages (from isoduration->jsonschema[format-nongpl]>=4.18.0->jupyter-events>=0.11.0->jupyter-server<3,>=2.0.1->jupyterlab-rise) (1.3.0)\n",
      "Requirement already satisfied: types-python-dateutil>=2.8.10 in c:\\users\\wojciech\\appdata\\local\\programs\\python\\python311\\lib\\site-packages (from arrow>=0.15.0->isoduration->jsonschema[format-nongpl]>=4.18.0->jupyter-events>=0.11.0->jupyter-server<3,>=2.0.1->jupyterlab-rise) (2.9.0.20241206)\n",
      "Downloading catboost-1.2.8-cp311-cp311-win_amd64.whl (102.5 MB)\n",
      "   ---------------------------------------- 0.0/102.5 MB ? eta -:--:--\n",
      "   - -------------------------------------- 3.4/102.5 MB 22.3 MB/s eta 0:00:05\n",
      "   --- ------------------------------------ 9.7/102.5 MB 27.4 MB/s eta 0:00:04\n",
      "   ------- -------------------------------- 18.9/102.5 MB 34.0 MB/s eta 0:00:03\n",
      "   ---------- ----------------------------- 27.0/102.5 MB 35.7 MB/s eta 0:00:03\n",
      "   ------------ --------------------------- 31.7/102.5 MB 36.0 MB/s eta 0:00:02\n",
      "   ------------ --------------------------- 31.7/102.5 MB 36.0 MB/s eta 0:00:02\n",
      "   ------------ --------------------------- 31.7/102.5 MB 36.0 MB/s eta 0:00:02\n",
      "   ------------ --------------------------- 31.7/102.5 MB 36.0 MB/s eta 0:00:02\n",
      "   ------------------- -------------------- 50.1/102.5 MB 28.0 MB/s eta 0:00:02\n",
      "   ---------------------- ----------------- 58.2/102.5 MB 29.0 MB/s eta 0:00:02\n",
      "   ------------------------- -------------- 66.3/102.5 MB 30.0 MB/s eta 0:00:02\n",
      "   ----------------------------- ---------- 74.4/102.5 MB 30.4 MB/s eta 0:00:01\n",
      "   -------------------------------- ------- 82.3/102.5 MB 31.1 MB/s eta 0:00:01\n",
      "   ----------------------------------- ---- 90.2/102.5 MB 31.6 MB/s eta 0:00:01\n",
      "   -------------------------------------- - 98.0/102.5 MB 32.1 MB/s eta 0:00:01\n",
      "   --------------------------------------  102.2/102.5 MB 32.1 MB/s eta 0:00:01\n",
      "   --------------------------------------- 102.5/102.5 MB 31.1 MB/s eta 0:00:00\n",
      "Downloading kaggle-1.7.4.2-py3-none-any.whl (173 kB)\n",
      "Downloading optuna-4.3.0-py3-none-any.whl (386 kB)\n",
      "Using cached kaleido-0.2.1-py2.py3-none-win_amd64.whl (65.9 MB)\n",
      "Downloading shap-0.47.2-cp311-cp311-win_amd64.whl (544 kB)\n",
      "   ---------------------------------------- 0.0/544.4 kB ? eta -:--:--\n",
      "   --------------------------------------- 544.4/544.4 kB 17.6 MB/s eta 0:00:00\n",
      "Using cached slicer-0.0.8-py3-none-any.whl (15 kB)\n",
      "Downloading jupyterlab_rise-0.43.1-py3-none-any.whl (16.4 MB)\n",
      "   ---------------------------------------- 0.0/16.4 MB ? eta -:--:--\n",
      "   ------------------ --------------------- 7.6/16.4 MB 39.0 MB/s eta 0:00:01\n",
      "   ------------------------------------- -- 15.2/16.4 MB 38.2 MB/s eta 0:00:01\n",
      "   ---------------------------------------- 16.4/16.4 MB 34.4 MB/s eta 0:00:00\n",
      "Downloading numba-0.61.2-cp311-cp311-win_amd64.whl (2.8 MB)\n",
      "   ---------------------------------------- 0.0/2.8 MB ? eta -:--:--\n",
      "   ---------------------------------------- 2.8/2.8 MB 32.9 MB/s eta 0:00:00\n",
      "Using cached colorlog-6.9.0-py3-none-any.whl (11 kB)\n",
      "Using cached graphviz-0.20.3-py3-none-any.whl (47 kB)\n",
      "Downloading jupyterlab_mathjax3-4.3.0-py3-none-any.whl (1.1 MB)\n",
      "   ---------------------------------------- 0.0/1.1 MB ? eta -:--:--\n",
      "   ---------------------------------------- 1.1/1.1 MB 25.8 MB/s eta 0:00:00\n",
      "Using cached python_slugify-8.0.4-py2.py3-none-any.whl (10 kB)\n",
      "Using cached text_unidecode-1.3-py2.py3-none-any.whl (78 kB)\n",
      "Using cached llvmlite-0.44.0-cp311-cp311-win_amd64.whl (30.3 MB)\n",
      "Installing collected packages: text-unidecode, kaleido, slicer, python-slugify, llvmlite, jupyterlab-mathjax3, graphviz, colorlog, numba, kaggle, shap, optuna, catboost, jupyterlab-rise\n",
      "Successfully installed catboost-1.2.8 colorlog-6.9.0 graphviz-0.20.3 jupyterlab-mathjax3-4.3.0 jupyterlab-rise-0.43.1 kaggle-1.7.4.2 kaleido-0.2.1 llvmlite-0.44.0 numba-0.61.2 optuna-4.3.0 python-slugify-8.0.4 shap-0.47.2 slicer-0.0.8 text-unidecode-1.3\n"
     ]
    }
   ],
   "source": [
    "!pip install catboost matplotlib pandas scikit-learn kaggle optuna ipywidgets kaleido shap jupyterlab-rise"
   ]
  },
  {
   "cell_type": "code",
   "execution_count": 1,
   "id": "e1316834",
   "metadata": {},
   "outputs": [
    {
     "name": "stderr",
     "output_type": "stream",
     "text": [
      "'ls' is not recognized as an internal or external command,\n",
      "operable program or batch file.\n"
     ]
    }
   ],
   "source": [
    "!ls ../../../home/vscode"
   ]
  },
  {
   "cell_type": "code",
   "execution_count": 1,
   "id": "d9f9592b",
   "metadata": {},
   "outputs": [],
   "source": [
    "import os\n",
    "from pathlib import Path\n",
    "container_check = os.getenv(\"iscontainer\")\n",
    "if container_check==\"y\":\n",
    "    config_dir = Path(\"/home/vscode/.config/kaggle\")\n",
    "    config_dir.mkdir(parents=True, exist_ok=True)\n",
    "    \n",
    "    with open(config_dir / \"kaggle.json\", \"w\") as dst:\n",
    "        with open(\"./kaggle.json\", \"r\") as src:\n",
    "            dst.write(src.read())"
   ]
  },
  {
   "cell_type": "code",
   "execution_count": null,
   "id": "b098b3c9",
   "metadata": {},
   "outputs": [
    {
     "name": "stdout",
     "output_type": "stream",
     "text": [
      "Dataset URL: https://www.kaggle.com/datasets/mexwell/heart-disease-dataset\n"
     ]
    }
   ],
   "source": [
    "import os\n",
    "import zipfile\n",
    "from pathlib import Path\n",
    "from kaggle.api.kaggle_api_extended import KaggleApi\n",
    "\n",
    "api = KaggleApi()\n",
    "api.authenticate()\n",
    "\n",
    "# dataset = \"heart-disease-dataset\"\n",
    "# dataset_test = \"mexwell/heart-disease-dataset\"\n",
    "# download_folder = Path(\"data/heart-disease\")\n",
    "# zip_path = download_folder / \"heart-disease.zip\"\n",
    "# download_folder.mkdir(parents=True, exist_ok=True)\n",
    "\n",
    "# api.competition_download_files(dataset, path=str(download_folder))\n",
    "# api.dataset_download_files(dataset_test, path=str(download_folder), unzip=True)\n",
    "\n",
    "dataset_name = \"mexwell/heart-disease-dataset\"\n",
    "download_folder = Path(\"data/heart-disease\")\n",
    "download_folder.mkdir(parents=True, exist_ok=True)\n",
    "\n",
    "api.dataset_download_files(dataset_name, path=str(download_folder), unzip=True)\n",
    "\n",
    "\n",
    "# with zipfile.ZipFile(zip_path, \"r\") as zip_ref:\n",
    "#     zip_ref.extractall(str(download_folder))\n",
    "# os.remove(zip_path)"
   ]
  },
  {
   "cell_type": "code",
   "execution_count": 4,
   "id": "fa9e8c6c",
   "metadata": {},
   "outputs": [
    {
     "name": "stdout",
     "output_type": "stream",
     "text": [
      " Volume in drive C has no label.\n",
      " Volume Serial Number is D0EF-588E\n",
      "\n",
      " Directory of c:\\Users\\Wojciech\\Documents\\WWSI\\ARISA-MLOps-Assignment\\data\\heart-disease\n",
      "\n",
      "26.04.2025  21:22    <DIR>          .\n",
      "26.04.2025  21:22    <DIR>          ..\n",
      "26.04.2025  21:22           420�674 documentation.pdf\n",
      "26.04.2025  21:22            39�689 heart_statlog_cleveland_hungary_final.csv\n",
      "               2 File(s)        460�363 bytes\n",
      "               2 Dir(s)  104�351�211�520 bytes free\n"
     ]
    }
   ],
   "source": [
    "!dir \"./data/heart-disease\""
   ]
  },
  {
   "cell_type": "code",
   "execution_count": 3,
   "id": "55062e4a",
   "metadata": {},
   "outputs": [],
   "source": [
    "import pandas as pd\n",
    "from sklearn.model_selection import train_test_split\n",
    "\n",
    "df = pd.read_csv(download_folder / \"heart_statlog_cleveland_hungary_final.csv\")\n",
    "# df_ids = df_train.pop(\"PassengerId\")\n",
    "#df.sample(10)\n",
    "\n",
    "df_train, df_test = train_test_split(df, test_size=0.2, random_state=42)\n"
   ]
  },
  {
   "cell_type": "code",
   "execution_count": 4,
   "id": "3f501358",
   "metadata": {},
   "outputs": [
    {
     "name": "stdout",
     "output_type": "stream",
     "text": [
      "<class 'pandas.core.frame.DataFrame'>\n",
      "Index: 238 entries, 390 to 599\n",
      "Data columns (total 12 columns):\n",
      " #   Column               Non-Null Count  Dtype  \n",
      "---  ------               --------------  -----  \n",
      " 0   age                  238 non-null    int64  \n",
      " 1   sex                  238 non-null    int64  \n",
      " 2   chest pain type      238 non-null    int64  \n",
      " 3   resting bp s         238 non-null    int64  \n",
      " 4   cholesterol          238 non-null    int64  \n",
      " 5   fasting blood sugar  238 non-null    int64  \n",
      " 6   resting ecg          238 non-null    int64  \n",
      " 7   max heart rate       238 non-null    int64  \n",
      " 8   exercise angina      238 non-null    int64  \n",
      " 9   oldpeak              238 non-null    float64\n",
      " 10  ST slope             238 non-null    int64  \n",
      " 11  target               238 non-null    int64  \n",
      "dtypes: float64(1), int64(11)\n",
      "memory usage: 24.2 KB\n"
     ]
    }
   ],
   "source": [
    "df_test.info()"
   ]
  },
  {
   "cell_type": "code",
   "execution_count": 5,
   "id": "22f7b74a",
   "metadata": {},
   "outputs": [
    {
     "name": "stdout",
     "output_type": "stream",
     "text": [
      "<class 'pandas.core.frame.DataFrame'>\n",
      "Index: 952 entries, 1005 to 1126\n",
      "Data columns (total 12 columns):\n",
      " #   Column               Non-Null Count  Dtype  \n",
      "---  ------               --------------  -----  \n",
      " 0   age                  952 non-null    int64  \n",
      " 1   sex                  952 non-null    int64  \n",
      " 2   chest pain type      952 non-null    int64  \n",
      " 3   resting bp s         952 non-null    int64  \n",
      " 4   cholesterol          952 non-null    int64  \n",
      " 5   fasting blood sugar  952 non-null    int64  \n",
      " 6   resting ecg          952 non-null    int64  \n",
      " 7   max heart rate       952 non-null    int64  \n",
      " 8   exercise angina      952 non-null    int64  \n",
      " 9   oldpeak              952 non-null    float64\n",
      " 10  ST slope             952 non-null    int64  \n",
      " 11  target               952 non-null    int64  \n",
      "dtypes: float64(1), int64(11)\n",
      "memory usage: 96.7 KB\n"
     ]
    }
   ],
   "source": [
    "df_train.info()"
   ]
  },
  {
   "cell_type": "code",
   "execution_count": 7,
   "id": "717e7cfe",
   "metadata": {},
   "outputs": [
    {
     "ename": "KeyError",
     "evalue": "'target'",
     "output_type": "error",
     "traceback": [
      "\u001b[31m---------------------------------------------------------------------------\u001b[39m",
      "\u001b[31mKeyError\u001b[39m                                  Traceback (most recent call last)",
      "\u001b[36mFile \u001b[39m\u001b[32mc:\\Users\\Wojciech\\AppData\\Local\\Programs\\Python\\Python311\\Lib\\site-packages\\pandas\\core\\indexes\\base.py:3805\u001b[39m, in \u001b[36mIndex.get_loc\u001b[39m\u001b[34m(self, key)\u001b[39m\n\u001b[32m   3804\u001b[39m \u001b[38;5;28;01mtry\u001b[39;00m:\n\u001b[32m-> \u001b[39m\u001b[32m3805\u001b[39m     \u001b[38;5;28;01mreturn\u001b[39;00m \u001b[38;5;28;43mself\u001b[39;49m\u001b[43m.\u001b[49m\u001b[43m_engine\u001b[49m\u001b[43m.\u001b[49m\u001b[43mget_loc\u001b[49m\u001b[43m(\u001b[49m\u001b[43mcasted_key\u001b[49m\u001b[43m)\u001b[49m\n\u001b[32m   3806\u001b[39m \u001b[38;5;28;01mexcept\u001b[39;00m \u001b[38;5;167;01mKeyError\u001b[39;00m \u001b[38;5;28;01mas\u001b[39;00m err:\n",
      "\u001b[36mFile \u001b[39m\u001b[32mindex.pyx:167\u001b[39m, in \u001b[36mpandas._libs.index.IndexEngine.get_loc\u001b[39m\u001b[34m()\u001b[39m\n",
      "\u001b[36mFile \u001b[39m\u001b[32mindex.pyx:196\u001b[39m, in \u001b[36mpandas._libs.index.IndexEngine.get_loc\u001b[39m\u001b[34m()\u001b[39m\n",
      "\u001b[36mFile \u001b[39m\u001b[32mpandas\\\\_libs\\\\hashtable_class_helper.pxi:7081\u001b[39m, in \u001b[36mpandas._libs.hashtable.PyObjectHashTable.get_item\u001b[39m\u001b[34m()\u001b[39m\n",
      "\u001b[36mFile \u001b[39m\u001b[32mpandas\\\\_libs\\\\hashtable_class_helper.pxi:7089\u001b[39m, in \u001b[36mpandas._libs.hashtable.PyObjectHashTable.get_item\u001b[39m\u001b[34m()\u001b[39m\n",
      "\u001b[31mKeyError\u001b[39m: 'target'",
      "\nThe above exception was the direct cause of the following exception:\n",
      "\u001b[31mKeyError\u001b[39m                                  Traceback (most recent call last)",
      "\u001b[36mCell\u001b[39m\u001b[36m \u001b[39m\u001b[32mIn[7]\u001b[39m\u001b[32m, line 1\u001b[39m\n\u001b[32m----> \u001b[39m\u001b[32m1\u001b[39m y_train = \u001b[43mdf_train\u001b[49m\u001b[43m.\u001b[49m\u001b[43mpop\u001b[49m\u001b[43m(\u001b[49m\u001b[33;43m\"\u001b[39;49m\u001b[33;43mtarget\u001b[39;49m\u001b[33;43m\"\u001b[39;49m\u001b[43m)\u001b[49m\n\u001b[32m      2\u001b[39m X_train = df_train\n",
      "\u001b[36mFile \u001b[39m\u001b[32mc:\\Users\\Wojciech\\AppData\\Local\\Programs\\Python\\Python311\\Lib\\site-packages\\pandas\\core\\frame.py:5819\u001b[39m, in \u001b[36mDataFrame.pop\u001b[39m\u001b[34m(self, item)\u001b[39m\n\u001b[32m   5778\u001b[39m \u001b[38;5;28;01mdef\u001b[39;00m\u001b[38;5;250m \u001b[39m\u001b[34mpop\u001b[39m(\u001b[38;5;28mself\u001b[39m, item: Hashable) -> Series:\n\u001b[32m   5779\u001b[39m \u001b[38;5;250m    \u001b[39m\u001b[33;03m\"\"\"\u001b[39;00m\n\u001b[32m   5780\u001b[39m \u001b[33;03m    Return item and drop from frame. Raise KeyError if not found.\u001b[39;00m\n\u001b[32m   5781\u001b[39m \n\u001b[32m   (...)\u001b[39m\u001b[32m   5817\u001b[39m \u001b[33;03m    3  monkey        NaN\u001b[39;00m\n\u001b[32m   5818\u001b[39m \u001b[33;03m    \"\"\"\u001b[39;00m\n\u001b[32m-> \u001b[39m\u001b[32m5819\u001b[39m     \u001b[38;5;28;01mreturn\u001b[39;00m \u001b[38;5;28;43msuper\u001b[39;49m\u001b[43m(\u001b[49m\u001b[43m)\u001b[49m\u001b[43m.\u001b[49m\u001b[43mpop\u001b[49m\u001b[43m(\u001b[49m\u001b[43mitem\u001b[49m\u001b[43m=\u001b[49m\u001b[43mitem\u001b[49m\u001b[43m)\u001b[49m\n",
      "\u001b[36mFile \u001b[39m\u001b[32mc:\\Users\\Wojciech\\AppData\\Local\\Programs\\Python\\Python311\\Lib\\site-packages\\pandas\\core\\generic.py:947\u001b[39m, in \u001b[36mNDFrame.pop\u001b[39m\u001b[34m(self, item)\u001b[39m\n\u001b[32m    946\u001b[39m \u001b[38;5;28;01mdef\u001b[39;00m\u001b[38;5;250m \u001b[39m\u001b[34mpop\u001b[39m(\u001b[38;5;28mself\u001b[39m, item: Hashable) -> Series | Any:\n\u001b[32m--> \u001b[39m\u001b[32m947\u001b[39m     result = \u001b[38;5;28;43mself\u001b[39;49m\u001b[43m[\u001b[49m\u001b[43mitem\u001b[49m\u001b[43m]\u001b[49m\n\u001b[32m    948\u001b[39m     \u001b[38;5;28;01mdel\u001b[39;00m \u001b[38;5;28mself\u001b[39m[item]\n\u001b[32m    950\u001b[39m     \u001b[38;5;28;01mreturn\u001b[39;00m result\n",
      "\u001b[36mFile \u001b[39m\u001b[32mc:\\Users\\Wojciech\\AppData\\Local\\Programs\\Python\\Python311\\Lib\\site-packages\\pandas\\core\\frame.py:4102\u001b[39m, in \u001b[36mDataFrame.__getitem__\u001b[39m\u001b[34m(self, key)\u001b[39m\n\u001b[32m   4100\u001b[39m \u001b[38;5;28;01mif\u001b[39;00m \u001b[38;5;28mself\u001b[39m.columns.nlevels > \u001b[32m1\u001b[39m:\n\u001b[32m   4101\u001b[39m     \u001b[38;5;28;01mreturn\u001b[39;00m \u001b[38;5;28mself\u001b[39m._getitem_multilevel(key)\n\u001b[32m-> \u001b[39m\u001b[32m4102\u001b[39m indexer = \u001b[38;5;28;43mself\u001b[39;49m\u001b[43m.\u001b[49m\u001b[43mcolumns\u001b[49m\u001b[43m.\u001b[49m\u001b[43mget_loc\u001b[49m\u001b[43m(\u001b[49m\u001b[43mkey\u001b[49m\u001b[43m)\u001b[49m\n\u001b[32m   4103\u001b[39m \u001b[38;5;28;01mif\u001b[39;00m is_integer(indexer):\n\u001b[32m   4104\u001b[39m     indexer = [indexer]\n",
      "\u001b[36mFile \u001b[39m\u001b[32mc:\\Users\\Wojciech\\AppData\\Local\\Programs\\Python\\Python311\\Lib\\site-packages\\pandas\\core\\indexes\\base.py:3812\u001b[39m, in \u001b[36mIndex.get_loc\u001b[39m\u001b[34m(self, key)\u001b[39m\n\u001b[32m   3807\u001b[39m     \u001b[38;5;28;01mif\u001b[39;00m \u001b[38;5;28misinstance\u001b[39m(casted_key, \u001b[38;5;28mslice\u001b[39m) \u001b[38;5;129;01mor\u001b[39;00m (\n\u001b[32m   3808\u001b[39m         \u001b[38;5;28misinstance\u001b[39m(casted_key, abc.Iterable)\n\u001b[32m   3809\u001b[39m         \u001b[38;5;129;01mand\u001b[39;00m \u001b[38;5;28many\u001b[39m(\u001b[38;5;28misinstance\u001b[39m(x, \u001b[38;5;28mslice\u001b[39m) \u001b[38;5;28;01mfor\u001b[39;00m x \u001b[38;5;129;01min\u001b[39;00m casted_key)\n\u001b[32m   3810\u001b[39m     ):\n\u001b[32m   3811\u001b[39m         \u001b[38;5;28;01mraise\u001b[39;00m InvalidIndexError(key)\n\u001b[32m-> \u001b[39m\u001b[32m3812\u001b[39m     \u001b[38;5;28;01mraise\u001b[39;00m \u001b[38;5;167;01mKeyError\u001b[39;00m(key) \u001b[38;5;28;01mfrom\u001b[39;00m\u001b[38;5;250m \u001b[39m\u001b[34;01merr\u001b[39;00m\n\u001b[32m   3813\u001b[39m \u001b[38;5;28;01mexcept\u001b[39;00m \u001b[38;5;167;01mTypeError\u001b[39;00m:\n\u001b[32m   3814\u001b[39m     \u001b[38;5;66;03m# If we have a listlike key, _check_indexing_error will raise\u001b[39;00m\n\u001b[32m   3815\u001b[39m     \u001b[38;5;66;03m#  InvalidIndexError. Otherwise we fall through and re-raise\u001b[39;00m\n\u001b[32m   3816\u001b[39m     \u001b[38;5;66;03m#  the TypeError.\u001b[39;00m\n\u001b[32m   3817\u001b[39m     \u001b[38;5;28mself\u001b[39m._check_indexing_error(key)\n",
      "\u001b[31mKeyError\u001b[39m: 'target'"
     ]
    }
   ],
   "source": [
    "y_train = df_train.pop(\"target\")\n",
    "X_train = df_train\n"
   ]
  },
  {
   "cell_type": "code",
   "execution_count": null,
   "id": "5a5f52cb",
   "metadata": {},
   "outputs": [
    {
     "data": {
      "text/html": [
       "<div>\n",
       "<style scoped>\n",
       "    .dataframe tbody tr th:only-of-type {\n",
       "        vertical-align: middle;\n",
       "    }\n",
       "\n",
       "    .dataframe tbody tr th {\n",
       "        vertical-align: top;\n",
       "    }\n",
       "\n",
       "    .dataframe thead th {\n",
       "        text-align: right;\n",
       "    }\n",
       "</style>\n",
       "<table border=\"1\" class=\"dataframe\">\n",
       "  <thead>\n",
       "    <tr style=\"text-align: right;\">\n",
       "      <th></th>\n",
       "      <th>age</th>\n",
       "      <th>sex</th>\n",
       "      <th>chest pain type</th>\n",
       "      <th>resting bp s</th>\n",
       "      <th>cholesterol</th>\n",
       "      <th>fasting blood sugar</th>\n",
       "      <th>resting ecg</th>\n",
       "      <th>max heart rate</th>\n",
       "      <th>exercise angina</th>\n",
       "      <th>oldpeak</th>\n",
       "      <th>ST slope</th>\n",
       "    </tr>\n",
       "  </thead>\n",
       "  <tbody>\n",
       "    <tr>\n",
       "      <th>390</th>\n",
       "      <td>61</td>\n",
       "      <td>1</td>\n",
       "      <td>4</td>\n",
       "      <td>160</td>\n",
       "      <td>0</td>\n",
       "      <td>1</td>\n",
       "      <td>1</td>\n",
       "      <td>145</td>\n",
       "      <td>0</td>\n",
       "      <td>1.0</td>\n",
       "      <td>2</td>\n",
       "    </tr>\n",
       "    <tr>\n",
       "      <th>247</th>\n",
       "      <td>54</td>\n",
       "      <td>1</td>\n",
       "      <td>3</td>\n",
       "      <td>120</td>\n",
       "      <td>237</td>\n",
       "      <td>0</td>\n",
       "      <td>0</td>\n",
       "      <td>150</td>\n",
       "      <td>1</td>\n",
       "      <td>1.5</td>\n",
       "      <td>2</td>\n",
       "    </tr>\n",
       "    <tr>\n",
       "      <th>260</th>\n",
       "      <td>55</td>\n",
       "      <td>0</td>\n",
       "      <td>2</td>\n",
       "      <td>122</td>\n",
       "      <td>320</td>\n",
       "      <td>0</td>\n",
       "      <td>0</td>\n",
       "      <td>155</td>\n",
       "      <td>0</td>\n",
       "      <td>0.0</td>\n",
       "      <td>1</td>\n",
       "    </tr>\n",
       "    <tr>\n",
       "      <th>155</th>\n",
       "      <td>56</td>\n",
       "      <td>1</td>\n",
       "      <td>4</td>\n",
       "      <td>155</td>\n",
       "      <td>342</td>\n",
       "      <td>1</td>\n",
       "      <td>0</td>\n",
       "      <td>150</td>\n",
       "      <td>1</td>\n",
       "      <td>3.0</td>\n",
       "      <td>2</td>\n",
       "    </tr>\n",
       "    <tr>\n",
       "      <th>984</th>\n",
       "      <td>60</td>\n",
       "      <td>0</td>\n",
       "      <td>4</td>\n",
       "      <td>150</td>\n",
       "      <td>258</td>\n",
       "      <td>0</td>\n",
       "      <td>2</td>\n",
       "      <td>157</td>\n",
       "      <td>0</td>\n",
       "      <td>2.6</td>\n",
       "      <td>2</td>\n",
       "    </tr>\n",
       "    <tr>\n",
       "      <th>...</th>\n",
       "      <td>...</td>\n",
       "      <td>...</td>\n",
       "      <td>...</td>\n",
       "      <td>...</td>\n",
       "      <td>...</td>\n",
       "      <td>...</td>\n",
       "      <td>...</td>\n",
       "      <td>...</td>\n",
       "      <td>...</td>\n",
       "      <td>...</td>\n",
       "      <td>...</td>\n",
       "    </tr>\n",
       "    <tr>\n",
       "      <th>535</th>\n",
       "      <td>59</td>\n",
       "      <td>1</td>\n",
       "      <td>4</td>\n",
       "      <td>125</td>\n",
       "      <td>222</td>\n",
       "      <td>0</td>\n",
       "      <td>0</td>\n",
       "      <td>135</td>\n",
       "      <td>1</td>\n",
       "      <td>2.5</td>\n",
       "      <td>3</td>\n",
       "    </tr>\n",
       "    <tr>\n",
       "      <th>1037</th>\n",
       "      <td>52</td>\n",
       "      <td>1</td>\n",
       "      <td>1</td>\n",
       "      <td>152</td>\n",
       "      <td>298</td>\n",
       "      <td>1</td>\n",
       "      <td>0</td>\n",
       "      <td>178</td>\n",
       "      <td>0</td>\n",
       "      <td>1.2</td>\n",
       "      <td>2</td>\n",
       "    </tr>\n",
       "    <tr>\n",
       "      <th>812</th>\n",
       "      <td>55</td>\n",
       "      <td>0</td>\n",
       "      <td>2</td>\n",
       "      <td>135</td>\n",
       "      <td>250</td>\n",
       "      <td>0</td>\n",
       "      <td>2</td>\n",
       "      <td>161</td>\n",
       "      <td>0</td>\n",
       "      <td>1.4</td>\n",
       "      <td>2</td>\n",
       "    </tr>\n",
       "    <tr>\n",
       "      <th>139</th>\n",
       "      <td>43</td>\n",
       "      <td>1</td>\n",
       "      <td>4</td>\n",
       "      <td>150</td>\n",
       "      <td>247</td>\n",
       "      <td>0</td>\n",
       "      <td>0</td>\n",
       "      <td>130</td>\n",
       "      <td>1</td>\n",
       "      <td>2.0</td>\n",
       "      <td>2</td>\n",
       "    </tr>\n",
       "    <tr>\n",
       "      <th>599</th>\n",
       "      <td>55</td>\n",
       "      <td>1</td>\n",
       "      <td>4</td>\n",
       "      <td>120</td>\n",
       "      <td>226</td>\n",
       "      <td>0</td>\n",
       "      <td>2</td>\n",
       "      <td>127</td>\n",
       "      <td>1</td>\n",
       "      <td>1.7</td>\n",
       "      <td>3</td>\n",
       "    </tr>\n",
       "  </tbody>\n",
       "</table>\n",
       "<p>238 rows × 11 columns</p>\n",
       "</div>"
      ],
      "text/plain": [
       "      age  sex  chest pain type  resting bp s  cholesterol  \\\n",
       "390    61    1                4           160            0   \n",
       "247    54    1                3           120          237   \n",
       "260    55    0                2           122          320   \n",
       "155    56    1                4           155          342   \n",
       "984    60    0                4           150          258   \n",
       "...   ...  ...              ...           ...          ...   \n",
       "535    59    1                4           125          222   \n",
       "1037   52    1                1           152          298   \n",
       "812    55    0                2           135          250   \n",
       "139    43    1                4           150          247   \n",
       "599    55    1                4           120          226   \n",
       "\n",
       "      fasting blood sugar  resting ecg  max heart rate  exercise angina  \\\n",
       "390                     1            1             145                0   \n",
       "247                     0            0             150                1   \n",
       "260                     0            0             155                0   \n",
       "155                     1            0             150                1   \n",
       "984                     0            2             157                0   \n",
       "...                   ...          ...             ...              ...   \n",
       "535                     0            0             135                1   \n",
       "1037                    1            0             178                0   \n",
       "812                     0            2             161                0   \n",
       "139                     0            0             130                1   \n",
       "599                     0            2             127                1   \n",
       "\n",
       "      oldpeak  ST slope  \n",
       "390       1.0         2  \n",
       "247       1.5         2  \n",
       "260       0.0         1  \n",
       "155       3.0         2  \n",
       "984       2.6         2  \n",
       "...       ...       ...  \n",
       "535       2.5         3  \n",
       "1037      1.2         2  \n",
       "812       1.4         2  \n",
       "139       2.0         2  \n",
       "599       1.7         3  \n",
       "\n",
       "[238 rows x 11 columns]"
      ]
     },
     "execution_count": 8,
     "metadata": {},
     "output_type": "execute_result"
    }
   ],
   "source": [
    "y_test = df_test.pop(\"target\")\n",
    "X_test = df_test"
   ]
  },
  {
   "cell_type": "code",
   "execution_count": 9,
   "id": "4225e49d",
   "metadata": {},
   "outputs": [
    {
     "name": "stdout",
     "output_type": "stream",
     "text": [
      "<class 'pandas.core.frame.DataFrame'>\n",
      "Index: 952 entries, 1005 to 1126\n",
      "Data columns (total 11 columns):\n",
      " #   Column               Non-Null Count  Dtype  \n",
      "---  ------               --------------  -----  \n",
      " 0   age                  952 non-null    int64  \n",
      " 1   sex                  952 non-null    int64  \n",
      " 2   chest pain type      952 non-null    int64  \n",
      " 3   resting bp s         952 non-null    int64  \n",
      " 4   cholesterol          952 non-null    int64  \n",
      " 5   fasting blood sugar  952 non-null    int64  \n",
      " 6   resting ecg          952 non-null    int64  \n",
      " 7   max heart rate       952 non-null    int64  \n",
      " 8   exercise angina      952 non-null    int64  \n",
      " 9   oldpeak              952 non-null    float64\n",
      " 10  ST slope             952 non-null    int64  \n",
      "dtypes: float64(1), int64(10)\n",
      "memory usage: 89.2 KB\n"
     ]
    }
   ],
   "source": [
    "X_train.info()"
   ]
  },
  {
   "cell_type": "code",
   "execution_count": 10,
   "id": "4a4e3d21",
   "metadata": {},
   "outputs": [
    {
     "name": "stdout",
     "output_type": "stream",
     "text": [
      "Best Parameters: {'depth': 9, 'learning_rate': 0.1989710549297809, 'iterations': 225, 'l2_leaf_reg': 5.203681083589466, 'bagging_temperature': 0.6748870052060675, 'random_strength': 0.27921747675539976}\n"
     ]
    }
   ],
   "source": [
    "import joblib\n",
    "import optuna\n",
    "from sklearn.model_selection import train_test_split\n",
    "from catboost import CatBoostClassifier, Pool, cv\n",
    "\n",
    "outfolder = Path(\"results\")\n",
    "outfolder.mkdir(parents=True, exist_ok=True)\n",
    "\n",
    "best_params_path = outfolder / \"best_params.pkl\"\n",
    "\n",
    "if not best_params_path.is_file():\n",
    "    X_train_opt, X_val_opt, y_train_opt, y_val_opt = train_test_split(X_train, y_train, test_size=0.25, random_state=42)\n",
    "    \n",
    "    def objective(trial):\n",
    "        params = {\n",
    "            \"depth\": trial.suggest_int(\"depth\", 2, 10),\n",
    "            \"learning_rate\": trial.suggest_float(\"learning_rate\", 1e-4, 0.3),\n",
    "            \"iterations\": trial.suggest_int(\"iterations\", 100, 300),\n",
    "            \"l2_leaf_reg\": trial.suggest_float(\"l2_leaf_reg\", 1e-5, 100.0, log=True),\n",
    "            \"bagging_temperature\": trial.suggest_float(\"bagging_temperature\", 0.01, 1),\n",
    "            \"random_strength\": trial.suggest_float(\"random_strength\", 1e-5, 100.0, log=True)\n",
    "        }\n",
    "        model = CatBoostClassifier(**params, verbose=0)\n",
    "        model.fit(X_train_opt, y_train_opt, eval_set=(X_val_opt, y_val_opt), early_stopping_rounds=50)\n",
    "        return model.get_best_score()[\"validation\"][\"Logloss\"]\n",
    "    study = optuna.create_study(direction=\"minimize\")\n",
    "    study.optimize(objective, n_trials=50)\n",
    "    \n",
    "    joblib.dump(study.best_params, best_params_path)\n",
    "    params = study.best_params\n",
    "else:\n",
    "    params = joblib.load(best_params_path)\n",
    "print(\"Best Parameters:\", params)"
   ]
  },
  {
   "cell_type": "code",
   "execution_count": 11,
   "id": "990ffac7",
   "metadata": {},
   "outputs": [
    {
     "name": "stdout",
     "output_type": "stream",
     "text": [
      "Training on fold [0/5]\n",
      "0:\tlearn: 0.9111969\ttest: 0.7977528\tbest: 0.7977528 (0)\ttotal: 142ms\tremaining: 31.8s\n",
      "1:\tlearn: 0.9408805\ttest: 0.8494624\tbest: 0.8494624 (1)\ttotal: 145ms\tremaining: 16.2s\n",
      "2:\tlearn: 0.9375000\ttest: 0.8615385\tbest: 0.8615385 (2)\ttotal: 148ms\tremaining: 11s\n",
      "3:\tlearn: 0.9486859\ttest: 0.8691099\tbest: 0.8691099 (3)\ttotal: 151ms\tremaining: 8.36s\n",
      "4:\tlearn: 0.9589041\ttest: 0.8677249\tbest: 0.8691099 (3)\ttotal: 155ms\tremaining: 6.81s\n",
      "5:\tlearn: 0.9612984\ttest: 0.8854167\tbest: 0.8854167 (5)\ttotal: 158ms\tremaining: 5.77s\n",
      "6:\tlearn: 0.9652605\ttest: 0.8808290\tbest: 0.8854167 (5)\ttotal: 161ms\tremaining: 5.02s\n",
      "7:\tlearn: 0.9714994\ttest: 0.8979592\tbest: 0.8979592 (7)\ttotal: 164ms\tremaining: 4.46s\n",
      "8:\tlearn: 0.9725686\ttest: 0.8865979\tbest: 0.8979592 (7)\ttotal: 168ms\tremaining: 4.02s\n",
      "9:\tlearn: 0.9775561\ttest: 0.8958333\tbest: 0.8979592 (7)\ttotal: 172ms\tremaining: 3.69s\n",
      "10:\tlearn: 0.9812734\ttest: 0.8958333\tbest: 0.8979592 (7)\ttotal: 175ms\tremaining: 3.41s\n",
      "11:\tlearn: 0.9812734\ttest: 0.9015544\tbest: 0.9015544 (11)\ttotal: 178ms\tremaining: 3.16s\n",
      "12:\tlearn: 0.9825436\ttest: 0.9183673\tbest: 0.9183673 (12)\ttotal: 182ms\tremaining: 2.97s\n",
      "13:\tlearn: 0.9813200\ttest: 0.9183673\tbest: 0.9183673 (12)\ttotal: 186ms\tremaining: 2.81s\n",
      "14:\tlearn: 0.9825436\ttest: 0.9128205\tbest: 0.9183673 (12)\ttotal: 190ms\tremaining: 2.66s\n",
      "15:\tlearn: 0.9862672\ttest: 0.9128205\tbest: 0.9183673 (12)\ttotal: 193ms\tremaining: 2.52s\n",
      "16:\tlearn: 0.9862672\ttest: 0.9128205\tbest: 0.9183673 (12)\ttotal: 196ms\tremaining: 2.4s\n",
      "17:\tlearn: 0.9887359\ttest: 0.9128205\tbest: 0.9183673 (12)\ttotal: 199ms\tremaining: 2.29s\n",
      "18:\tlearn: 0.9887359\ttest: 0.9072165\tbest: 0.9183673 (12)\ttotal: 204ms\tremaining: 2.21s\n",
      "19:\tlearn: 0.9887359\ttest: 0.9072165\tbest: 0.9183673 (12)\ttotal: 210ms\tremaining: 2.15s\n",
      "20:\tlearn: 0.9887359\ttest: 0.9072165\tbest: 0.9183673 (12)\ttotal: 213ms\tremaining: 2.07s\n",
      "21:\tlearn: 0.9887359\ttest: 0.9128205\tbest: 0.9183673 (12)\ttotal: 217ms\tremaining: 2s\n",
      "22:\tlearn: 0.9924812\ttest: 0.9128205\tbest: 0.9183673 (12)\ttotal: 221ms\tremaining: 1.94s\n",
      "23:\tlearn: 0.9924812\ttest: 0.9128205\tbest: 0.9183673 (12)\ttotal: 224ms\tremaining: 1.88s\n",
      "24:\tlearn: 0.9949749\ttest: 0.9072165\tbest: 0.9183673 (12)\ttotal: 227ms\tremaining: 1.82s\n",
      "25:\tlearn: 0.9962264\ttest: 0.9128205\tbest: 0.9183673 (12)\ttotal: 231ms\tremaining: 1.77s\n",
      "26:\tlearn: 0.9962264\ttest: 0.9128205\tbest: 0.9183673 (12)\ttotal: 234ms\tremaining: 1.72s\n",
      "27:\tlearn: 0.9962264\ttest: 0.9128205\tbest: 0.9183673 (12)\ttotal: 237ms\tremaining: 1.67s\n",
      "28:\tlearn: 0.9962264\ttest: 0.9128205\tbest: 0.9183673 (12)\ttotal: 241ms\tremaining: 1.63s\n",
      "29:\tlearn: 0.9962264\ttest: 0.9128205\tbest: 0.9183673 (12)\ttotal: 244ms\tremaining: 1.59s\n",
      "30:\tlearn: 0.9962264\ttest: 0.9128205\tbest: 0.9183673 (12)\ttotal: 248ms\tremaining: 1.55s\n",
      "31:\tlearn: 0.9962264\ttest: 0.9128205\tbest: 0.9183673 (12)\ttotal: 249ms\tremaining: 1.5s\n",
      "32:\tlearn: 0.9974874\ttest: 0.9128205\tbest: 0.9183673 (12)\ttotal: 252ms\tremaining: 1.47s\n",
      "33:\tlearn: 0.9974874\ttest: 0.9128205\tbest: 0.9183673 (12)\ttotal: 255ms\tremaining: 1.43s\n",
      "34:\tlearn: 0.9987421\ttest: 0.9128205\tbest: 0.9183673 (12)\ttotal: 258ms\tremaining: 1.4s\n",
      "35:\tlearn: 0.9987421\ttest: 0.9128205\tbest: 0.9183673 (12)\ttotal: 261ms\tremaining: 1.37s\n",
      "36:\tlearn: 0.9987421\ttest: 0.9072165\tbest: 0.9183673 (12)\ttotal: 266ms\tremaining: 1.35s\n",
      "37:\tlearn: 0.9987421\ttest: 0.9072165\tbest: 0.9183673 (12)\ttotal: 269ms\tremaining: 1.32s\n",
      "38:\tlearn: 0.9987421\ttest: 0.9072165\tbest: 0.9183673 (12)\ttotal: 272ms\tremaining: 1.3s\n",
      "39:\tlearn: 0.9987421\ttest: 0.9072165\tbest: 0.9183673 (12)\ttotal: 275ms\tremaining: 1.27s\n",
      "40:\tlearn: 0.9987421\ttest: 0.9072165\tbest: 0.9183673 (12)\ttotal: 279ms\tremaining: 1.25s\n",
      "41:\tlearn: 0.9987421\ttest: 0.9072165\tbest: 0.9183673 (12)\ttotal: 282ms\tremaining: 1.23s\n",
      "42:\tlearn: 0.9987421\ttest: 0.9072165\tbest: 0.9183673 (12)\ttotal: 286ms\tremaining: 1.21s\n",
      "43:\tlearn: 0.9987421\ttest: 0.9072165\tbest: 0.9183673 (12)\ttotal: 289ms\tremaining: 1.19s\n",
      "44:\tlearn: 0.9987421\ttest: 0.9072165\tbest: 0.9183673 (12)\ttotal: 293ms\tremaining: 1.17s\n",
      "45:\tlearn: 0.9987421\ttest: 0.9072165\tbest: 0.9183673 (12)\ttotal: 297ms\tremaining: 1.16s\n",
      "46:\tlearn: 0.9987421\ttest: 0.9072165\tbest: 0.9183673 (12)\ttotal: 300ms\tremaining: 1.14s\n",
      "47:\tlearn: 0.9987421\ttest: 0.9072165\tbest: 0.9183673 (12)\ttotal: 304ms\tremaining: 1.12s\n",
      "48:\tlearn: 0.9987421\ttest: 0.9072165\tbest: 0.9183673 (12)\ttotal: 307ms\tremaining: 1.1s\n",
      "49:\tlearn: 0.9987421\ttest: 0.9072165\tbest: 0.9183673 (12)\ttotal: 310ms\tremaining: 1.08s\n",
      "50:\tlearn: 0.9987421\ttest: 0.9072165\tbest: 0.9183673 (12)\ttotal: 313ms\tremaining: 1.07s\n",
      "51:\tlearn: 0.9987421\ttest: 0.9072165\tbest: 0.9183673 (12)\ttotal: 317ms\tremaining: 1.05s\n",
      "52:\tlearn: 0.9987421\ttest: 0.9072165\tbest: 0.9183673 (12)\ttotal: 321ms\tremaining: 1.04s\n",
      "53:\tlearn: 0.9987421\ttest: 0.9072165\tbest: 0.9183673 (12)\ttotal: 324ms\tremaining: 1.02s\n",
      "54:\tlearn: 0.9987421\ttest: 0.9072165\tbest: 0.9183673 (12)\ttotal: 328ms\tremaining: 1.01s\n",
      "55:\tlearn: 1.0000000\ttest: 0.9128205\tbest: 0.9183673 (12)\ttotal: 332ms\tremaining: 1s\n",
      "56:\tlearn: 1.0000000\ttest: 0.9128205\tbest: 0.9183673 (12)\ttotal: 336ms\tremaining: 990ms\n",
      "57:\tlearn: 1.0000000\ttest: 0.9128205\tbest: 0.9183673 (12)\ttotal: 340ms\tremaining: 979ms\n",
      "58:\tlearn: 1.0000000\ttest: 0.9128205\tbest: 0.9183673 (12)\ttotal: 344ms\tremaining: 967ms\n",
      "59:\tlearn: 1.0000000\ttest: 0.9128205\tbest: 0.9183673 (12)\ttotal: 348ms\tremaining: 957ms\n",
      "60:\tlearn: 1.0000000\ttest: 0.9128205\tbest: 0.9183673 (12)\ttotal: 351ms\tremaining: 944ms\n",
      "61:\tlearn: 1.0000000\ttest: 0.9128205\tbest: 0.9183673 (12)\ttotal: 354ms\tremaining: 931ms\n",
      "62:\tlearn: 1.0000000\ttest: 0.9128205\tbest: 0.9183673 (12)\ttotal: 355ms\tremaining: 914ms\n",
      "63:\tlearn: 1.0000000\ttest: 0.9128205\tbest: 0.9183673 (12)\ttotal: 359ms\tremaining: 902ms\n",
      "64:\tlearn: 1.0000000\ttest: 0.9128205\tbest: 0.9183673 (12)\ttotal: 363ms\tremaining: 893ms\n",
      "65:\tlearn: 1.0000000\ttest: 0.9128205\tbest: 0.9183673 (12)\ttotal: 366ms\tremaining: 881ms\n",
      "66:\tlearn: 1.0000000\ttest: 0.9128205\tbest: 0.9183673 (12)\ttotal: 369ms\tremaining: 870ms\n",
      "67:\tlearn: 1.0000000\ttest: 0.9128205\tbest: 0.9183673 (12)\ttotal: 372ms\tremaining: 859ms\n",
      "68:\tlearn: 1.0000000\ttest: 0.9128205\tbest: 0.9183673 (12)\ttotal: 376ms\tremaining: 849ms\n",
      "69:\tlearn: 1.0000000\ttest: 0.9128205\tbest: 0.9183673 (12)\ttotal: 380ms\tremaining: 841ms\n",
      "70:\tlearn: 1.0000000\ttest: 0.9128205\tbest: 0.9183673 (12)\ttotal: 383ms\tremaining: 831ms\n",
      "71:\tlearn: 1.0000000\ttest: 0.9128205\tbest: 0.9183673 (12)\ttotal: 386ms\tremaining: 821ms\n",
      "72:\tlearn: 1.0000000\ttest: 0.9128205\tbest: 0.9183673 (12)\ttotal: 389ms\tremaining: 811ms\n",
      "73:\tlearn: 1.0000000\ttest: 0.9072165\tbest: 0.9183673 (12)\ttotal: 393ms\tremaining: 802ms\n",
      "74:\tlearn: 1.0000000\ttest: 0.9072165\tbest: 0.9183673 (12)\ttotal: 396ms\tremaining: 793ms\n",
      "75:\tlearn: 1.0000000\ttest: 0.9072165\tbest: 0.9183673 (12)\ttotal: 398ms\tremaining: 779ms\n",
      "76:\tlearn: 1.0000000\ttest: 0.9072165\tbest: 0.9183673 (12)\ttotal: 401ms\tremaining: 770ms\n",
      "77:\tlearn: 1.0000000\ttest: 0.9072165\tbest: 0.9183673 (12)\ttotal: 404ms\tremaining: 761ms\n",
      "78:\tlearn: 1.0000000\ttest: 0.9072165\tbest: 0.9183673 (12)\ttotal: 408ms\tremaining: 754ms\n",
      "79:\tlearn: 1.0000000\ttest: 0.9072165\tbest: 0.9183673 (12)\ttotal: 413ms\tremaining: 748ms\n",
      "80:\tlearn: 1.0000000\ttest: 0.8958333\tbest: 0.9183673 (12)\ttotal: 418ms\tremaining: 742ms\n",
      "81:\tlearn: 1.0000000\ttest: 0.9072165\tbest: 0.9183673 (12)\ttotal: 421ms\tremaining: 734ms\n",
      "82:\tlearn: 1.0000000\ttest: 0.9128205\tbest: 0.9183673 (12)\ttotal: 425ms\tremaining: 726ms\n",
      "83:\tlearn: 1.0000000\ttest: 0.9128205\tbest: 0.9183673 (12)\ttotal: 429ms\tremaining: 720ms\n",
      "84:\tlearn: 1.0000000\ttest: 0.9072165\tbest: 0.9183673 (12)\ttotal: 432ms\tremaining: 712ms\n",
      "85:\tlearn: 1.0000000\ttest: 0.9128205\tbest: 0.9183673 (12)\ttotal: 435ms\tremaining: 703ms\n",
      "86:\tlearn: 1.0000000\ttest: 0.9015544\tbest: 0.9183673 (12)\ttotal: 439ms\tremaining: 696ms\n",
      "87:\tlearn: 1.0000000\ttest: 0.9015544\tbest: 0.9183673 (12)\ttotal: 442ms\tremaining: 688ms\n",
      "88:\tlearn: 1.0000000\ttest: 0.9015544\tbest: 0.9183673 (12)\ttotal: 445ms\tremaining: 681ms\n",
      "89:\tlearn: 1.0000000\ttest: 0.9015544\tbest: 0.9183673 (12)\ttotal: 448ms\tremaining: 673ms\n",
      "90:\tlearn: 1.0000000\ttest: 0.9128205\tbest: 0.9183673 (12)\ttotal: 452ms\tremaining: 665ms\n",
      "91:\tlearn: 1.0000000\ttest: 0.9128205\tbest: 0.9183673 (12)\ttotal: 455ms\tremaining: 658ms\n",
      "92:\tlearn: 1.0000000\ttest: 0.9128205\tbest: 0.9183673 (12)\ttotal: 458ms\tremaining: 650ms\n",
      "93:\tlearn: 1.0000000\ttest: 0.9128205\tbest: 0.9183673 (12)\ttotal: 461ms\tremaining: 643ms\n",
      "94:\tlearn: 1.0000000\ttest: 0.9128205\tbest: 0.9183673 (12)\ttotal: 464ms\tremaining: 635ms\n",
      "95:\tlearn: 1.0000000\ttest: 0.9128205\tbest: 0.9183673 (12)\ttotal: 467ms\tremaining: 628ms\n",
      "96:\tlearn: 1.0000000\ttest: 0.9128205\tbest: 0.9183673 (12)\ttotal: 471ms\tremaining: 622ms\n",
      "97:\tlearn: 1.0000000\ttest: 0.9128205\tbest: 0.9183673 (12)\ttotal: 475ms\tremaining: 616ms\n",
      "98:\tlearn: 1.0000000\ttest: 0.9128205\tbest: 0.9183673 (12)\ttotal: 478ms\tremaining: 609ms\n",
      "99:\tlearn: 1.0000000\ttest: 0.9128205\tbest: 0.9183673 (12)\ttotal: 481ms\tremaining: 602ms\n",
      "100:\tlearn: 1.0000000\ttest: 0.9128205\tbest: 0.9183673 (12)\ttotal: 485ms\tremaining: 595ms\n",
      "101:\tlearn: 1.0000000\ttest: 0.9128205\tbest: 0.9183673 (12)\ttotal: 488ms\tremaining: 588ms\n",
      "102:\tlearn: 1.0000000\ttest: 0.9128205\tbest: 0.9183673 (12)\ttotal: 491ms\tremaining: 582ms\n",
      "103:\tlearn: 1.0000000\ttest: 0.9128205\tbest: 0.9183673 (12)\ttotal: 494ms\tremaining: 575ms\n",
      "104:\tlearn: 1.0000000\ttest: 0.9128205\tbest: 0.9183673 (12)\ttotal: 497ms\tremaining: 568ms\n",
      "105:\tlearn: 1.0000000\ttest: 0.9128205\tbest: 0.9183673 (12)\ttotal: 501ms\tremaining: 562ms\n",
      "106:\tlearn: 1.0000000\ttest: 0.9128205\tbest: 0.9183673 (12)\ttotal: 504ms\tremaining: 556ms\n",
      "107:\tlearn: 1.0000000\ttest: 0.9128205\tbest: 0.9183673 (12)\ttotal: 508ms\tremaining: 550ms\n",
      "108:\tlearn: 1.0000000\ttest: 0.9128205\tbest: 0.9183673 (12)\ttotal: 511ms\tremaining: 544ms\n",
      "109:\tlearn: 1.0000000\ttest: 0.9128205\tbest: 0.9183673 (12)\ttotal: 514ms\tremaining: 537ms\n",
      "110:\tlearn: 1.0000000\ttest: 0.9072165\tbest: 0.9183673 (12)\ttotal: 517ms\tremaining: 531ms\n",
      "111:\tlearn: 1.0000000\ttest: 0.9072165\tbest: 0.9183673 (12)\ttotal: 521ms\tremaining: 526ms\n",
      "112:\tlearn: 1.0000000\ttest: 0.9072165\tbest: 0.9183673 (12)\ttotal: 524ms\tremaining: 519ms\n",
      "113:\tlearn: 1.0000000\ttest: 0.9072165\tbest: 0.9183673 (12)\ttotal: 527ms\tremaining: 513ms\n",
      "114:\tlearn: 1.0000000\ttest: 0.9072165\tbest: 0.9183673 (12)\ttotal: 530ms\tremaining: 507ms\n",
      "115:\tlearn: 1.0000000\ttest: 0.9072165\tbest: 0.9183673 (12)\ttotal: 533ms\tremaining: 501ms\n",
      "116:\tlearn: 1.0000000\ttest: 0.9072165\tbest: 0.9183673 (12)\ttotal: 537ms\tremaining: 495ms\n",
      "117:\tlearn: 1.0000000\ttest: 0.9072165\tbest: 0.9183673 (12)\ttotal: 540ms\tremaining: 490ms\n",
      "118:\tlearn: 1.0000000\ttest: 0.9072165\tbest: 0.9183673 (12)\ttotal: 543ms\tremaining: 484ms\n",
      "119:\tlearn: 1.0000000\ttest: 0.9072165\tbest: 0.9183673 (12)\ttotal: 546ms\tremaining: 478ms\n",
      "120:\tlearn: 1.0000000\ttest: 0.9072165\tbest: 0.9183673 (12)\ttotal: 549ms\tremaining: 472ms\n",
      "121:\tlearn: 1.0000000\ttest: 0.9072165\tbest: 0.9183673 (12)\ttotal: 552ms\tremaining: 466ms\n",
      "122:\tlearn: 1.0000000\ttest: 0.9072165\tbest: 0.9183673 (12)\ttotal: 555ms\tremaining: 461ms\n",
      "123:\tlearn: 1.0000000\ttest: 0.9072165\tbest: 0.9183673 (12)\ttotal: 559ms\tremaining: 455ms\n",
      "124:\tlearn: 1.0000000\ttest: 0.9072165\tbest: 0.9183673 (12)\ttotal: 561ms\tremaining: 449ms\n",
      "125:\tlearn: 1.0000000\ttest: 0.9072165\tbest: 0.9183673 (12)\ttotal: 565ms\tremaining: 444ms\n",
      "126:\tlearn: 1.0000000\ttest: 0.9072165\tbest: 0.9183673 (12)\ttotal: 568ms\tremaining: 438ms\n",
      "127:\tlearn: 1.0000000\ttest: 0.9072165\tbest: 0.9183673 (12)\ttotal: 571ms\tremaining: 433ms\n",
      "128:\tlearn: 1.0000000\ttest: 0.9072165\tbest: 0.9183673 (12)\ttotal: 574ms\tremaining: 427ms\n",
      "129:\tlearn: 1.0000000\ttest: 0.9072165\tbest: 0.9183673 (12)\ttotal: 578ms\tremaining: 422ms\n",
      "130:\tlearn: 1.0000000\ttest: 0.9072165\tbest: 0.9183673 (12)\ttotal: 581ms\tremaining: 417ms\n",
      "131:\tlearn: 1.0000000\ttest: 0.9072165\tbest: 0.9183673 (12)\ttotal: 584ms\tremaining: 411ms\n",
      "132:\tlearn: 1.0000000\ttest: 0.9072165\tbest: 0.9183673 (12)\ttotal: 587ms\tremaining: 406ms\n",
      "133:\tlearn: 1.0000000\ttest: 0.9072165\tbest: 0.9183673 (12)\ttotal: 590ms\tremaining: 401ms\n",
      "134:\tlearn: 1.0000000\ttest: 0.9072165\tbest: 0.9183673 (12)\ttotal: 593ms\tremaining: 396ms\n",
      "135:\tlearn: 1.0000000\ttest: 0.9072165\tbest: 0.9183673 (12)\ttotal: 597ms\tremaining: 391ms\n",
      "136:\tlearn: 1.0000000\ttest: 0.9072165\tbest: 0.9183673 (12)\ttotal: 602ms\tremaining: 387ms\n",
      "137:\tlearn: 1.0000000\ttest: 0.9072165\tbest: 0.9183673 (12)\ttotal: 606ms\tremaining: 382ms\n",
      "138:\tlearn: 1.0000000\ttest: 0.9072165\tbest: 0.9183673 (12)\ttotal: 609ms\tremaining: 377ms\n",
      "139:\tlearn: 1.0000000\ttest: 0.9072165\tbest: 0.9183673 (12)\ttotal: 612ms\tremaining: 372ms\n",
      "140:\tlearn: 1.0000000\ttest: 0.9072165\tbest: 0.9183673 (12)\ttotal: 616ms\tremaining: 367ms\n",
      "141:\tlearn: 1.0000000\ttest: 0.9072165\tbest: 0.9183673 (12)\ttotal: 619ms\tremaining: 362ms\n",
      "142:\tlearn: 1.0000000\ttest: 0.9072165\tbest: 0.9183673 (12)\ttotal: 622ms\tremaining: 357ms\n",
      "143:\tlearn: 1.0000000\ttest: 0.9072165\tbest: 0.9183673 (12)\ttotal: 625ms\tremaining: 352ms\n",
      "144:\tlearn: 1.0000000\ttest: 0.9072165\tbest: 0.9183673 (12)\ttotal: 628ms\tremaining: 347ms\n",
      "145:\tlearn: 1.0000000\ttest: 0.9072165\tbest: 0.9183673 (12)\ttotal: 631ms\tremaining: 342ms\n",
      "146:\tlearn: 1.0000000\ttest: 0.9072165\tbest: 0.9183673 (12)\ttotal: 634ms\tremaining: 337ms\n",
      "147:\tlearn: 1.0000000\ttest: 0.9072165\tbest: 0.9183673 (12)\ttotal: 637ms\tremaining: 332ms\n",
      "148:\tlearn: 1.0000000\ttest: 0.9072165\tbest: 0.9183673 (12)\ttotal: 640ms\tremaining: 327ms\n",
      "149:\tlearn: 1.0000000\ttest: 0.9072165\tbest: 0.9183673 (12)\ttotal: 643ms\tremaining: 322ms\n",
      "150:\tlearn: 1.0000000\ttest: 0.9072165\tbest: 0.9183673 (12)\ttotal: 646ms\tremaining: 317ms\n",
      "151:\tlearn: 1.0000000\ttest: 0.9072165\tbest: 0.9183673 (12)\ttotal: 648ms\tremaining: 311ms\n",
      "152:\tlearn: 1.0000000\ttest: 0.9072165\tbest: 0.9183673 (12)\ttotal: 651ms\tremaining: 306ms\n",
      "153:\tlearn: 1.0000000\ttest: 0.9072165\tbest: 0.9183673 (12)\ttotal: 654ms\tremaining: 302ms\n",
      "154:\tlearn: 1.0000000\ttest: 0.9072165\tbest: 0.9183673 (12)\ttotal: 657ms\tremaining: 297ms\n",
      "155:\tlearn: 1.0000000\ttest: 0.9072165\tbest: 0.9183673 (12)\ttotal: 660ms\tremaining: 292ms\n",
      "156:\tlearn: 1.0000000\ttest: 0.9072165\tbest: 0.9183673 (12)\ttotal: 663ms\tremaining: 287ms\n",
      "157:\tlearn: 1.0000000\ttest: 0.9072165\tbest: 0.9183673 (12)\ttotal: 667ms\tremaining: 283ms\n",
      "158:\tlearn: 1.0000000\ttest: 0.9072165\tbest: 0.9183673 (12)\ttotal: 670ms\tremaining: 278ms\n",
      "159:\tlearn: 1.0000000\ttest: 0.9072165\tbest: 0.9183673 (12)\ttotal: 673ms\tremaining: 273ms\n",
      "160:\tlearn: 1.0000000\ttest: 0.9072165\tbest: 0.9183673 (12)\ttotal: 676ms\tremaining: 269ms\n",
      "161:\tlearn: 1.0000000\ttest: 0.9072165\tbest: 0.9183673 (12)\ttotal: 679ms\tremaining: 264ms\n",
      "162:\tlearn: 1.0000000\ttest: 0.9072165\tbest: 0.9183673 (12)\ttotal: 682ms\tremaining: 260ms\n",
      "163:\tlearn: 1.0000000\ttest: 0.9072165\tbest: 0.9183673 (12)\ttotal: 684ms\tremaining: 254ms\n",
      "164:\tlearn: 1.0000000\ttest: 0.9072165\tbest: 0.9183673 (12)\ttotal: 687ms\tremaining: 250ms\n",
      "165:\tlearn: 1.0000000\ttest: 0.9072165\tbest: 0.9183673 (12)\ttotal: 688ms\tremaining: 245ms\n",
      "166:\tlearn: 1.0000000\ttest: 0.9072165\tbest: 0.9183673 (12)\ttotal: 691ms\tremaining: 240ms\n",
      "167:\tlearn: 1.0000000\ttest: 0.9072165\tbest: 0.9183673 (12)\ttotal: 694ms\tremaining: 236ms\n",
      "168:\tlearn: 1.0000000\ttest: 0.9072165\tbest: 0.9183673 (12)\ttotal: 698ms\tremaining: 231ms\n",
      "169:\tlearn: 1.0000000\ttest: 0.9072165\tbest: 0.9183673 (12)\ttotal: 701ms\tremaining: 227ms\n",
      "170:\tlearn: 1.0000000\ttest: 0.9072165\tbest: 0.9183673 (12)\ttotal: 704ms\tremaining: 222ms\n",
      "171:\tlearn: 1.0000000\ttest: 0.9072165\tbest: 0.9183673 (12)\ttotal: 707ms\tremaining: 218ms\n",
      "172:\tlearn: 1.0000000\ttest: 0.9072165\tbest: 0.9183673 (12)\ttotal: 710ms\tremaining: 213ms\n",
      "173:\tlearn: 1.0000000\ttest: 0.9072165\tbest: 0.9183673 (12)\ttotal: 714ms\tremaining: 209ms\n",
      "174:\tlearn: 1.0000000\ttest: 0.9072165\tbest: 0.9183673 (12)\ttotal: 717ms\tremaining: 205ms\n",
      "175:\tlearn: 1.0000000\ttest: 0.9072165\tbest: 0.9183673 (12)\ttotal: 720ms\tremaining: 200ms\n",
      "176:\tlearn: 1.0000000\ttest: 0.9072165\tbest: 0.9183673 (12)\ttotal: 723ms\tremaining: 196ms\n",
      "177:\tlearn: 1.0000000\ttest: 0.9072165\tbest: 0.9183673 (12)\ttotal: 727ms\tremaining: 192ms\n",
      "178:\tlearn: 1.0000000\ttest: 0.9072165\tbest: 0.9183673 (12)\ttotal: 731ms\tremaining: 188ms\n",
      "179:\tlearn: 1.0000000\ttest: 0.9072165\tbest: 0.9183673 (12)\ttotal: 734ms\tremaining: 184ms\n",
      "180:\tlearn: 1.0000000\ttest: 0.9072165\tbest: 0.9183673 (12)\ttotal: 737ms\tremaining: 179ms\n",
      "181:\tlearn: 1.0000000\ttest: 0.9072165\tbest: 0.9183673 (12)\ttotal: 740ms\tremaining: 175ms\n",
      "182:\tlearn: 1.0000000\ttest: 0.9072165\tbest: 0.9183673 (12)\ttotal: 744ms\tremaining: 171ms\n",
      "183:\tlearn: 1.0000000\ttest: 0.9072165\tbest: 0.9183673 (12)\ttotal: 747ms\tremaining: 167ms\n",
      "184:\tlearn: 1.0000000\ttest: 0.9072165\tbest: 0.9183673 (12)\ttotal: 751ms\tremaining: 162ms\n",
      "185:\tlearn: 1.0000000\ttest: 0.9072165\tbest: 0.9183673 (12)\ttotal: 754ms\tremaining: 158ms\n",
      "186:\tlearn: 1.0000000\ttest: 0.9072165\tbest: 0.9183673 (12)\ttotal: 757ms\tremaining: 154ms\n",
      "187:\tlearn: 1.0000000\ttest: 0.9072165\tbest: 0.9183673 (12)\ttotal: 760ms\tremaining: 150ms\n",
      "188:\tlearn: 1.0000000\ttest: 0.9072165\tbest: 0.9183673 (12)\ttotal: 763ms\tremaining: 145ms\n",
      "189:\tlearn: 1.0000000\ttest: 0.9072165\tbest: 0.9183673 (12)\ttotal: 766ms\tremaining: 141ms\n",
      "190:\tlearn: 1.0000000\ttest: 0.9072165\tbest: 0.9183673 (12)\ttotal: 769ms\tremaining: 137ms\n",
      "191:\tlearn: 1.0000000\ttest: 0.9072165\tbest: 0.9183673 (12)\ttotal: 772ms\tremaining: 133ms\n",
      "192:\tlearn: 1.0000000\ttest: 0.9072165\tbest: 0.9183673 (12)\ttotal: 775ms\tremaining: 129ms\n",
      "193:\tlearn: 1.0000000\ttest: 0.9072165\tbest: 0.9183673 (12)\ttotal: 778ms\tremaining: 124ms\n",
      "194:\tlearn: 1.0000000\ttest: 0.9072165\tbest: 0.9183673 (12)\ttotal: 781ms\tremaining: 120ms\n",
      "195:\tlearn: 1.0000000\ttest: 0.9072165\tbest: 0.9183673 (12)\ttotal: 782ms\tremaining: 116ms\n",
      "196:\tlearn: 1.0000000\ttest: 0.9072165\tbest: 0.9183673 (12)\ttotal: 786ms\tremaining: 112ms\n",
      "197:\tlearn: 1.0000000\ttest: 0.9072165\tbest: 0.9183673 (12)\ttotal: 787ms\tremaining: 107ms\n",
      "198:\tlearn: 1.0000000\ttest: 0.9072165\tbest: 0.9183673 (12)\ttotal: 790ms\tremaining: 103ms\n",
      "199:\tlearn: 1.0000000\ttest: 0.9072165\tbest: 0.9183673 (12)\ttotal: 794ms\tremaining: 99.2ms\n",
      "200:\tlearn: 1.0000000\ttest: 0.9072165\tbest: 0.9183673 (12)\ttotal: 795ms\tremaining: 94.9ms\n",
      "201:\tlearn: 1.0000000\ttest: 0.9072165\tbest: 0.9183673 (12)\ttotal: 798ms\tremaining: 90.9ms\n",
      "202:\tlearn: 1.0000000\ttest: 0.9072165\tbest: 0.9183673 (12)\ttotal: 799ms\tremaining: 86.6ms\n",
      "203:\tlearn: 1.0000000\ttest: 0.9072165\tbest: 0.9183673 (12)\ttotal: 802ms\tremaining: 82.6ms\n",
      "204:\tlearn: 1.0000000\ttest: 0.9072165\tbest: 0.9183673 (12)\ttotal: 806ms\tremaining: 78.6ms\n",
      "205:\tlearn: 1.0000000\ttest: 0.9072165\tbest: 0.9183673 (12)\ttotal: 809ms\tremaining: 74.6ms\n",
      "206:\tlearn: 1.0000000\ttest: 0.9072165\tbest: 0.9183673 (12)\ttotal: 812ms\tremaining: 70.6ms\n",
      "207:\tlearn: 1.0000000\ttest: 0.9072165\tbest: 0.9183673 (12)\ttotal: 815ms\tremaining: 66.6ms\n",
      "208:\tlearn: 1.0000000\ttest: 0.9072165\tbest: 0.9183673 (12)\ttotal: 818ms\tremaining: 62.6ms\n",
      "209:\tlearn: 1.0000000\ttest: 0.9072165\tbest: 0.9183673 (12)\ttotal: 821ms\tremaining: 58.6ms\n",
      "210:\tlearn: 1.0000000\ttest: 0.9072165\tbest: 0.9183673 (12)\ttotal: 824ms\tremaining: 54.7ms\n",
      "211:\tlearn: 1.0000000\ttest: 0.9072165\tbest: 0.9183673 (12)\ttotal: 828ms\tremaining: 50.7ms\n",
      "212:\tlearn: 1.0000000\ttest: 0.9072165\tbest: 0.9183673 (12)\ttotal: 831ms\tremaining: 46.8ms\n",
      "213:\tlearn: 1.0000000\ttest: 0.9072165\tbest: 0.9183673 (12)\ttotal: 834ms\tremaining: 42.9ms\n",
      "214:\tlearn: 1.0000000\ttest: 0.9072165\tbest: 0.9183673 (12)\ttotal: 837ms\tremaining: 38.9ms\n",
      "215:\tlearn: 1.0000000\ttest: 0.9072165\tbest: 0.9183673 (12)\ttotal: 841ms\tremaining: 35ms\n",
      "216:\tlearn: 1.0000000\ttest: 0.9072165\tbest: 0.9183673 (12)\ttotal: 844ms\tremaining: 31.1ms\n",
      "217:\tlearn: 1.0000000\ttest: 0.9072165\tbest: 0.9183673 (12)\ttotal: 847ms\tremaining: 27.2ms\n",
      "218:\tlearn: 1.0000000\ttest: 0.9072165\tbest: 0.9183673 (12)\ttotal: 850ms\tremaining: 23.3ms\n",
      "219:\tlearn: 1.0000000\ttest: 0.9072165\tbest: 0.9183673 (12)\ttotal: 853ms\tremaining: 19.4ms\n",
      "220:\tlearn: 1.0000000\ttest: 0.9072165\tbest: 0.9183673 (12)\ttotal: 856ms\tremaining: 15.5ms\n",
      "221:\tlearn: 1.0000000\ttest: 0.9072165\tbest: 0.9183673 (12)\ttotal: 860ms\tremaining: 11.6ms\n",
      "222:\tlearn: 1.0000000\ttest: 0.9072165\tbest: 0.9183673 (12)\ttotal: 863ms\tremaining: 7.74ms\n",
      "223:\tlearn: 1.0000000\ttest: 0.9072165\tbest: 0.9183673 (12)\ttotal: 866ms\tremaining: 3.87ms\n",
      "224:\tlearn: 1.0000000\ttest: 0.9072165\tbest: 0.9183673 (12)\ttotal: 869ms\tremaining: 0us\n",
      "\n",
      "bestTest = 0.9183673469\n",
      "bestIteration = 12\n",
      "\n",
      "Training on fold [1/5]\n",
      "0:\tlearn: 0.9153846\ttest: 0.7765957\tbest: 0.7765957 (0)\ttotal: 3.88ms\tremaining: 870ms\n",
      "1:\tlearn: 0.9389788\ttest: 0.8316832\tbest: 0.8316832 (1)\ttotal: 6.93ms\tremaining: 773ms\n",
      "2:\tlearn: 0.9510665\ttest: 0.8258706\tbest: 0.8316832 (1)\ttotal: 9.98ms\tremaining: 738ms\n",
      "3:\tlearn: 0.9500000\ttest: 0.8316832\tbest: 0.8316832 (1)\ttotal: 13ms\tremaining: 717ms\n",
      "4:\tlearn: 0.9548872\ttest: 0.8358209\tbest: 0.8358209 (4)\ttotal: 16ms\tremaining: 704ms\n",
      "5:\tlearn: 0.9572864\ttest: 0.8241206\tbest: 0.8358209 (4)\ttotal: 19.5ms\tremaining: 712ms\n",
      "6:\tlearn: 0.9621212\ttest: 0.8514851\tbest: 0.8514851 (6)\ttotal: 22.5ms\tremaining: 701ms\n",
      "7:\tlearn: 0.9636136\ttest: 0.8472906\tbest: 0.8514851 (6)\ttotal: 25.6ms\tremaining: 695ms\n",
      "8:\tlearn: 0.9649123\ttest: 0.8487805\tbest: 0.8514851 (6)\ttotal: 28.7ms\tremaining: 689ms\n",
      "9:\tlearn: 0.9686324\ttest: 0.8529412\tbest: 0.8529412 (9)\ttotal: 31.9ms\tremaining: 686ms\n",
      "10:\tlearn: 0.9710692\ttest: 0.8585366\tbest: 0.8585366 (10)\ttotal: 35.7ms\tremaining: 695ms\n",
      "11:\tlearn: 0.9710692\ttest: 0.8585366\tbest: 0.8585366 (10)\ttotal: 39.3ms\tremaining: 697ms\n",
      "12:\tlearn: 0.9710692\ttest: 0.8585366\tbest: 0.8585366 (10)\ttotal: 42.4ms\tremaining: 692ms\n",
      "13:\tlearn: 0.9710692\ttest: 0.8585366\tbest: 0.8585366 (10)\ttotal: 43.2ms\tremaining: 651ms\n",
      "14:\tlearn: 0.9748111\ttest: 0.8627451\tbest: 0.8627451 (14)\ttotal: 46.3ms\tremaining: 648ms\n",
      "15:\tlearn: 0.9748744\ttest: 0.8682927\tbest: 0.8682927 (15)\ttotal: 50ms\tremaining: 653ms\n",
      "16:\tlearn: 0.9749373\ttest: 0.8737864\tbest: 0.8737864 (16)\ttotal: 53.5ms\tremaining: 654ms\n",
      "17:\tlearn: 0.9773869\ttest: 0.8737864\tbest: 0.8737864 (16)\ttotal: 56.5ms\tremaining: 650ms\n",
      "18:\tlearn: 0.9773869\ttest: 0.8737864\tbest: 0.8737864 (16)\ttotal: 57.3ms\tremaining: 621ms\n",
      "19:\tlearn: 0.9773869\ttest: 0.8737864\tbest: 0.8737864 (16)\ttotal: 60.4ms\tremaining: 619ms\n",
      "20:\tlearn: 0.9785624\ttest: 0.8737864\tbest: 0.8737864 (16)\ttotal: 63.9ms\tremaining: 620ms\n",
      "21:\tlearn: 0.9785624\ttest: 0.8737864\tbest: 0.8737864 (16)\ttotal: 68.3ms\tremaining: 630ms\n",
      "22:\tlearn: 0.9773300\ttest: 0.8737864\tbest: 0.8737864 (16)\ttotal: 71.4ms\tremaining: 627ms\n",
      "23:\tlearn: 0.9773300\ttest: 0.8737864\tbest: 0.8737864 (16)\ttotal: 75.2ms\tremaining: 630ms\n",
      "24:\tlearn: 0.9786700\ttest: 0.8737864\tbest: 0.8737864 (16)\ttotal: 78.6ms\tremaining: 628ms\n",
      "25:\tlearn: 0.9786700\ttest: 0.8737864\tbest: 0.8737864 (16)\ttotal: 82.3ms\tremaining: 630ms\n",
      "26:\tlearn: 0.9825000\ttest: 0.8792271\tbest: 0.8792271 (26)\ttotal: 85.5ms\tremaining: 627ms\n",
      "27:\tlearn: 0.9825000\ttest: 0.8792271\tbest: 0.8792271 (26)\ttotal: 87.6ms\tremaining: 616ms\n",
      "28:\tlearn: 0.9850374\ttest: 0.8792271\tbest: 0.8792271 (26)\ttotal: 90.7ms\tremaining: 613ms\n",
      "29:\tlearn: 0.9850374\ttest: 0.8792271\tbest: 0.8792271 (26)\ttotal: 93ms\tremaining: 605ms\n",
      "30:\tlearn: 0.9850374\ttest: 0.8792271\tbest: 0.8792271 (26)\ttotal: 93.9ms\tremaining: 587ms\n",
      "31:\tlearn: 0.9837703\ttest: 0.8792271\tbest: 0.8792271 (26)\ttotal: 97.5ms\tremaining: 588ms\n",
      "32:\tlearn: 0.9862672\ttest: 0.8737864\tbest: 0.8792271 (26)\ttotal: 101ms\tremaining: 585ms\n",
      "33:\tlearn: 0.9887359\ttest: 0.8737864\tbest: 0.8792271 (26)\ttotal: 104ms\tremaining: 582ms\n",
      "34:\tlearn: 0.9912609\ttest: 0.8737864\tbest: 0.8792271 (26)\ttotal: 107ms\tremaining: 581ms\n",
      "35:\tlearn: 0.9925000\ttest: 0.8737864\tbest: 0.8792271 (26)\ttotal: 111ms\tremaining: 584ms\n",
      "36:\tlearn: 0.9925000\ttest: 0.8737864\tbest: 0.8792271 (26)\ttotal: 115ms\tremaining: 585ms\n",
      "37:\tlearn: 0.9900000\ttest: 0.8627451\tbest: 0.8792271 (26)\ttotal: 118ms\tremaining: 583ms\n",
      "38:\tlearn: 0.9900000\ttest: 0.8627451\tbest: 0.8792271 (26)\ttotal: 122ms\tremaining: 580ms\n",
      "39:\tlearn: 0.9912390\ttest: 0.8627451\tbest: 0.8792271 (26)\ttotal: 125ms\tremaining: 576ms\n",
      "40:\tlearn: 0.9912390\ttest: 0.8627451\tbest: 0.8792271 (26)\ttotal: 128ms\tremaining: 573ms\n",
      "41:\tlearn: 0.9925000\ttest: 0.8627451\tbest: 0.8792271 (26)\ttotal: 131ms\tremaining: 572ms\n",
      "42:\tlearn: 0.9925000\ttest: 0.8627451\tbest: 0.8792271 (26)\ttotal: 134ms\tremaining: 568ms\n",
      "43:\tlearn: 0.9937422\ttest: 0.8571429\tbest: 0.8792271 (26)\ttotal: 138ms\tremaining: 567ms\n",
      "44:\tlearn: 0.9950000\ttest: 0.8571429\tbest: 0.8792271 (26)\ttotal: 141ms\tremaining: 566ms\n",
      "45:\tlearn: 0.9950000\ttest: 0.8571429\tbest: 0.8792271 (26)\ttotal: 144ms\tremaining: 562ms\n",
      "46:\tlearn: 0.9950000\ttest: 0.8514851\tbest: 0.8792271 (26)\ttotal: 149ms\tremaining: 564ms\n",
      "47:\tlearn: 0.9950000\ttest: 0.8514851\tbest: 0.8792271 (26)\ttotal: 150ms\tremaining: 555ms\n",
      "48:\tlearn: 0.9950000\ttest: 0.8514851\tbest: 0.8792271 (26)\ttotal: 154ms\tremaining: 552ms\n",
      "49:\tlearn: 0.9950000\ttest: 0.8571429\tbest: 0.8792271 (26)\ttotal: 157ms\tremaining: 548ms\n",
      "50:\tlearn: 0.9974937\ttest: 0.8571429\tbest: 0.8792271 (26)\ttotal: 160ms\tremaining: 545ms\n",
      "51:\tlearn: 0.9987453\ttest: 0.8514851\tbest: 0.8792271 (26)\ttotal: 163ms\tremaining: 544ms\n",
      "52:\tlearn: 0.9987453\ttest: 0.8514851\tbest: 0.8792271 (26)\ttotal: 166ms\tremaining: 540ms\n",
      "53:\tlearn: 0.9987453\ttest: 0.8514851\tbest: 0.8792271 (26)\ttotal: 170ms\tremaining: 537ms\n",
      "54:\tlearn: 0.9987453\ttest: 0.8571429\tbest: 0.8792271 (26)\ttotal: 173ms\tremaining: 534ms\n",
      "55:\tlearn: 0.9987453\ttest: 0.8627451\tbest: 0.8792271 (26)\ttotal: 176ms\tremaining: 531ms\n",
      "56:\tlearn: 0.9987453\ttest: 0.8627451\tbest: 0.8792271 (26)\ttotal: 179ms\tremaining: 528ms\n",
      "57:\tlearn: 0.9987453\ttest: 0.8682927\tbest: 0.8792271 (26)\ttotal: 182ms\tremaining: 525ms\n",
      "58:\tlearn: 0.9987453\ttest: 0.8682927\tbest: 0.8792271 (26)\ttotal: 185ms\tremaining: 522ms\n",
      "59:\tlearn: 1.0000000\ttest: 0.8627451\tbest: 0.8792271 (26)\ttotal: 188ms\tremaining: 518ms\n",
      "60:\tlearn: 1.0000000\ttest: 0.8627451\tbest: 0.8792271 (26)\ttotal: 191ms\tremaining: 515ms\n",
      "61:\tlearn: 1.0000000\ttest: 0.8571429\tbest: 0.8792271 (26)\ttotal: 195ms\tremaining: 512ms\n",
      "62:\tlearn: 1.0000000\ttest: 0.8571429\tbest: 0.8792271 (26)\ttotal: 198ms\tremaining: 509ms\n",
      "63:\tlearn: 1.0000000\ttest: 0.8627451\tbest: 0.8792271 (26)\ttotal: 201ms\tremaining: 506ms\n",
      "64:\tlearn: 1.0000000\ttest: 0.8627451\tbest: 0.8792271 (26)\ttotal: 204ms\tremaining: 502ms\n",
      "65:\tlearn: 1.0000000\ttest: 0.8627451\tbest: 0.8792271 (26)\ttotal: 207ms\tremaining: 499ms\n",
      "66:\tlearn: 1.0000000\ttest: 0.8627451\tbest: 0.8792271 (26)\ttotal: 211ms\tremaining: 496ms\n",
      "67:\tlearn: 1.0000000\ttest: 0.8571429\tbest: 0.8792271 (26)\ttotal: 214ms\tremaining: 494ms\n",
      "68:\tlearn: 1.0000000\ttest: 0.8627451\tbest: 0.8792271 (26)\ttotal: 217ms\tremaining: 490ms\n",
      "69:\tlearn: 1.0000000\ttest: 0.8627451\tbest: 0.8792271 (26)\ttotal: 220ms\tremaining: 487ms\n",
      "70:\tlearn: 1.0000000\ttest: 0.8627451\tbest: 0.8792271 (26)\ttotal: 223ms\tremaining: 484ms\n",
      "71:\tlearn: 1.0000000\ttest: 0.8571429\tbest: 0.8792271 (26)\ttotal: 227ms\tremaining: 482ms\n",
      "72:\tlearn: 1.0000000\ttest: 0.8571429\tbest: 0.8792271 (26)\ttotal: 230ms\tremaining: 479ms\n",
      "73:\tlearn: 1.0000000\ttest: 0.8571429\tbest: 0.8792271 (26)\ttotal: 233ms\tremaining: 475ms\n",
      "74:\tlearn: 1.0000000\ttest: 0.8571429\tbest: 0.8792271 (26)\ttotal: 236ms\tremaining: 472ms\n",
      "75:\tlearn: 1.0000000\ttest: 0.8571429\tbest: 0.8792271 (26)\ttotal: 239ms\tremaining: 469ms\n",
      "76:\tlearn: 1.0000000\ttest: 0.8627451\tbest: 0.8792271 (26)\ttotal: 242ms\tremaining: 466ms\n",
      "77:\tlearn: 1.0000000\ttest: 0.8627451\tbest: 0.8792271 (26)\ttotal: 246ms\tremaining: 464ms\n",
      "78:\tlearn: 1.0000000\ttest: 0.8627451\tbest: 0.8792271 (26)\ttotal: 250ms\tremaining: 461ms\n",
      "79:\tlearn: 1.0000000\ttest: 0.8627451\tbest: 0.8792271 (26)\ttotal: 253ms\tremaining: 458ms\n",
      "80:\tlearn: 1.0000000\ttest: 0.8627451\tbest: 0.8792271 (26)\ttotal: 256ms\tremaining: 455ms\n",
      "81:\tlearn: 1.0000000\ttest: 0.8627451\tbest: 0.8792271 (26)\ttotal: 259ms\tremaining: 452ms\n",
      "82:\tlearn: 1.0000000\ttest: 0.8627451\tbest: 0.8792271 (26)\ttotal: 262ms\tremaining: 449ms\n",
      "83:\tlearn: 1.0000000\ttest: 0.8627451\tbest: 0.8792271 (26)\ttotal: 266ms\tremaining: 446ms\n",
      "84:\tlearn: 1.0000000\ttest: 0.8627451\tbest: 0.8792271 (26)\ttotal: 269ms\tremaining: 443ms\n",
      "85:\tlearn: 1.0000000\ttest: 0.8627451\tbest: 0.8792271 (26)\ttotal: 272ms\tremaining: 440ms\n",
      "86:\tlearn: 1.0000000\ttest: 0.8627451\tbest: 0.8792271 (26)\ttotal: 277ms\tremaining: 439ms\n",
      "87:\tlearn: 1.0000000\ttest: 0.8627451\tbest: 0.8792271 (26)\ttotal: 280ms\tremaining: 436ms\n",
      "88:\tlearn: 1.0000000\ttest: 0.8627451\tbest: 0.8792271 (26)\ttotal: 283ms\tremaining: 432ms\n",
      "89:\tlearn: 1.0000000\ttest: 0.8627451\tbest: 0.8792271 (26)\ttotal: 286ms\tremaining: 429ms\n",
      "90:\tlearn: 1.0000000\ttest: 0.8627451\tbest: 0.8792271 (26)\ttotal: 289ms\tremaining: 426ms\n",
      "91:\tlearn: 1.0000000\ttest: 0.8571429\tbest: 0.8792271 (26)\ttotal: 293ms\tremaining: 423ms\n",
      "92:\tlearn: 1.0000000\ttest: 0.8571429\tbest: 0.8792271 (26)\ttotal: 296ms\tremaining: 420ms\n",
      "93:\tlearn: 1.0000000\ttest: 0.8571429\tbest: 0.8792271 (26)\ttotal: 299ms\tremaining: 416ms\n",
      "94:\tlearn: 1.0000000\ttest: 0.8514851\tbest: 0.8792271 (26)\ttotal: 302ms\tremaining: 413ms\n",
      "95:\tlearn: 1.0000000\ttest: 0.8514851\tbest: 0.8792271 (26)\ttotal: 305ms\tremaining: 410ms\n",
      "96:\tlearn: 1.0000000\ttest: 0.8514851\tbest: 0.8792271 (26)\ttotal: 309ms\tremaining: 407ms\n",
      "97:\tlearn: 1.0000000\ttest: 0.8514851\tbest: 0.8792271 (26)\ttotal: 310ms\tremaining: 402ms\n",
      "98:\tlearn: 1.0000000\ttest: 0.8514851\tbest: 0.8792271 (26)\ttotal: 313ms\tremaining: 399ms\n",
      "99:\tlearn: 1.0000000\ttest: 0.8514851\tbest: 0.8792271 (26)\ttotal: 316ms\tremaining: 395ms\n",
      "100:\tlearn: 1.0000000\ttest: 0.8571429\tbest: 0.8792271 (26)\ttotal: 319ms\tremaining: 392ms\n",
      "101:\tlearn: 1.0000000\ttest: 0.8571429\tbest: 0.8792271 (26)\ttotal: 323ms\tremaining: 389ms\n",
      "102:\tlearn: 1.0000000\ttest: 0.8627451\tbest: 0.8792271 (26)\ttotal: 326ms\tremaining: 386ms\n",
      "103:\tlearn: 1.0000000\ttest: 0.8627451\tbest: 0.8792271 (26)\ttotal: 329ms\tremaining: 382ms\n",
      "104:\tlearn: 1.0000000\ttest: 0.8571429\tbest: 0.8792271 (26)\ttotal: 332ms\tremaining: 379ms\n",
      "105:\tlearn: 1.0000000\ttest: 0.8571429\tbest: 0.8792271 (26)\ttotal: 335ms\tremaining: 376ms\n",
      "106:\tlearn: 1.0000000\ttest: 0.8571429\tbest: 0.8792271 (26)\ttotal: 339ms\tremaining: 374ms\n",
      "107:\tlearn: 1.0000000\ttest: 0.8571429\tbest: 0.8792271 (26)\ttotal: 343ms\tremaining: 371ms\n",
      "108:\tlearn: 1.0000000\ttest: 0.8571429\tbest: 0.8792271 (26)\ttotal: 346ms\tremaining: 368ms\n",
      "109:\tlearn: 1.0000000\ttest: 0.8571429\tbest: 0.8792271 (26)\ttotal: 349ms\tremaining: 365ms\n",
      "110:\tlearn: 1.0000000\ttest: 0.8571429\tbest: 0.8792271 (26)\ttotal: 351ms\tremaining: 360ms\n",
      "111:\tlearn: 1.0000000\ttest: 0.8571429\tbest: 0.8792271 (26)\ttotal: 354ms\tremaining: 357ms\n",
      "112:\tlearn: 1.0000000\ttest: 0.8571429\tbest: 0.8792271 (26)\ttotal: 357ms\tremaining: 354ms\n",
      "113:\tlearn: 1.0000000\ttest: 0.8571429\tbest: 0.8792271 (26)\ttotal: 360ms\tremaining: 351ms\n",
      "114:\tlearn: 1.0000000\ttest: 0.8571429\tbest: 0.8792271 (26)\ttotal: 363ms\tremaining: 348ms\n",
      "115:\tlearn: 1.0000000\ttest: 0.8571429\tbest: 0.8792271 (26)\ttotal: 366ms\tremaining: 344ms\n",
      "116:\tlearn: 1.0000000\ttest: 0.8571429\tbest: 0.8792271 (26)\ttotal: 370ms\tremaining: 341ms\n",
      "117:\tlearn: 1.0000000\ttest: 0.8571429\tbest: 0.8792271 (26)\ttotal: 373ms\tremaining: 339ms\n",
      "118:\tlearn: 1.0000000\ttest: 0.8627451\tbest: 0.8792271 (26)\ttotal: 377ms\tremaining: 336ms\n",
      "119:\tlearn: 1.0000000\ttest: 0.8571429\tbest: 0.8792271 (26)\ttotal: 380ms\tremaining: 332ms\n",
      "120:\tlearn: 1.0000000\ttest: 0.8571429\tbest: 0.8792271 (26)\ttotal: 383ms\tremaining: 329ms\n",
      "121:\tlearn: 1.0000000\ttest: 0.8571429\tbest: 0.8792271 (26)\ttotal: 386ms\tremaining: 326ms\n",
      "122:\tlearn: 1.0000000\ttest: 0.8571429\tbest: 0.8792271 (26)\ttotal: 390ms\tremaining: 323ms\n",
      "123:\tlearn: 1.0000000\ttest: 0.8571429\tbest: 0.8792271 (26)\ttotal: 392ms\tremaining: 319ms\n",
      "124:\tlearn: 1.0000000\ttest: 0.8571429\tbest: 0.8792271 (26)\ttotal: 395ms\tremaining: 316ms\n",
      "125:\tlearn: 1.0000000\ttest: 0.8571429\tbest: 0.8792271 (26)\ttotal: 398ms\tremaining: 312ms\n",
      "126:\tlearn: 1.0000000\ttest: 0.8571429\tbest: 0.8792271 (26)\ttotal: 401ms\tremaining: 310ms\n",
      "127:\tlearn: 1.0000000\ttest: 0.8571429\tbest: 0.8792271 (26)\ttotal: 406ms\tremaining: 308ms\n",
      "128:\tlearn: 1.0000000\ttest: 0.8571429\tbest: 0.8792271 (26)\ttotal: 409ms\tremaining: 304ms\n",
      "129:\tlearn: 1.0000000\ttest: 0.8571429\tbest: 0.8792271 (26)\ttotal: 412ms\tremaining: 301ms\n",
      "130:\tlearn: 1.0000000\ttest: 0.8571429\tbest: 0.8792271 (26)\ttotal: 415ms\tremaining: 298ms\n",
      "131:\tlearn: 1.0000000\ttest: 0.8571429\tbest: 0.8792271 (26)\ttotal: 419ms\tremaining: 295ms\n",
      "132:\tlearn: 1.0000000\ttest: 0.8571429\tbest: 0.8792271 (26)\ttotal: 422ms\tremaining: 292ms\n",
      "133:\tlearn: 1.0000000\ttest: 0.8571429\tbest: 0.8792271 (26)\ttotal: 425ms\tremaining: 289ms\n",
      "134:\tlearn: 1.0000000\ttest: 0.8571429\tbest: 0.8792271 (26)\ttotal: 428ms\tremaining: 285ms\n",
      "135:\tlearn: 1.0000000\ttest: 0.8571429\tbest: 0.8792271 (26)\ttotal: 431ms\tremaining: 282ms\n",
      "136:\tlearn: 1.0000000\ttest: 0.8571429\tbest: 0.8792271 (26)\ttotal: 435ms\tremaining: 279ms\n",
      "137:\tlearn: 1.0000000\ttest: 0.8571429\tbest: 0.8792271 (26)\ttotal: 438ms\tremaining: 276ms\n",
      "138:\tlearn: 1.0000000\ttest: 0.8571429\tbest: 0.8792271 (26)\ttotal: 441ms\tremaining: 273ms\n",
      "139:\tlearn: 1.0000000\ttest: 0.8571429\tbest: 0.8792271 (26)\ttotal: 444ms\tremaining: 270ms\n",
      "140:\tlearn: 1.0000000\ttest: 0.8514851\tbest: 0.8792271 (26)\ttotal: 447ms\tremaining: 266ms\n",
      "141:\tlearn: 1.0000000\ttest: 0.8514851\tbest: 0.8792271 (26)\ttotal: 451ms\tremaining: 263ms\n",
      "142:\tlearn: 1.0000000\ttest: 0.8514851\tbest: 0.8792271 (26)\ttotal: 454ms\tremaining: 260ms\n",
      "143:\tlearn: 1.0000000\ttest: 0.8514851\tbest: 0.8792271 (26)\ttotal: 457ms\tremaining: 257ms\n",
      "144:\tlearn: 1.0000000\ttest: 0.8514851\tbest: 0.8792271 (26)\ttotal: 460ms\tremaining: 254ms\n",
      "145:\tlearn: 1.0000000\ttest: 0.8514851\tbest: 0.8792271 (26)\ttotal: 463ms\tremaining: 251ms\n",
      "146:\tlearn: 1.0000000\ttest: 0.8514851\tbest: 0.8792271 (26)\ttotal: 467ms\tremaining: 248ms\n",
      "147:\tlearn: 1.0000000\ttest: 0.8514851\tbest: 0.8792271 (26)\ttotal: 470ms\tremaining: 245ms\n",
      "148:\tlearn: 1.0000000\ttest: 0.8514851\tbest: 0.8792271 (26)\ttotal: 473ms\tremaining: 241ms\n",
      "149:\tlearn: 1.0000000\ttest: 0.8514851\tbest: 0.8792271 (26)\ttotal: 476ms\tremaining: 238ms\n",
      "150:\tlearn: 1.0000000\ttest: 0.8571429\tbest: 0.8792271 (26)\ttotal: 478ms\tremaining: 234ms\n",
      "151:\tlearn: 1.0000000\ttest: 0.8571429\tbest: 0.8792271 (26)\ttotal: 481ms\tremaining: 231ms\n",
      "152:\tlearn: 1.0000000\ttest: 0.8571429\tbest: 0.8792271 (26)\ttotal: 483ms\tremaining: 227ms\n",
      "153:\tlearn: 1.0000000\ttest: 0.8571429\tbest: 0.8792271 (26)\ttotal: 486ms\tremaining: 224ms\n",
      "154:\tlearn: 1.0000000\ttest: 0.8627451\tbest: 0.8792271 (26)\ttotal: 488ms\tremaining: 220ms\n",
      "155:\tlearn: 1.0000000\ttest: 0.8627451\tbest: 0.8792271 (26)\ttotal: 491ms\tremaining: 217ms\n",
      "156:\tlearn: 1.0000000\ttest: 0.8627451\tbest: 0.8792271 (26)\ttotal: 494ms\tremaining: 214ms\n",
      "157:\tlearn: 1.0000000\ttest: 0.8627451\tbest: 0.8792271 (26)\ttotal: 497ms\tremaining: 211ms\n",
      "158:\tlearn: 1.0000000\ttest: 0.8571429\tbest: 0.8792271 (26)\ttotal: 502ms\tremaining: 208ms\n",
      "159:\tlearn: 1.0000000\ttest: 0.8627451\tbest: 0.8792271 (26)\ttotal: 505ms\tremaining: 205ms\n",
      "160:\tlearn: 1.0000000\ttest: 0.8682927\tbest: 0.8792271 (26)\ttotal: 508ms\tremaining: 202ms\n",
      "161:\tlearn: 1.0000000\ttest: 0.8627451\tbest: 0.8792271 (26)\ttotal: 511ms\tremaining: 199ms\n",
      "162:\tlearn: 1.0000000\ttest: 0.8627451\tbest: 0.8792271 (26)\ttotal: 514ms\tremaining: 196ms\n",
      "163:\tlearn: 1.0000000\ttest: 0.8627451\tbest: 0.8792271 (26)\ttotal: 518ms\tremaining: 193ms\n",
      "164:\tlearn: 1.0000000\ttest: 0.8627451\tbest: 0.8792271 (26)\ttotal: 521ms\tremaining: 189ms\n",
      "165:\tlearn: 1.0000000\ttest: 0.8627451\tbest: 0.8792271 (26)\ttotal: 524ms\tremaining: 186ms\n",
      "166:\tlearn: 1.0000000\ttest: 0.8627451\tbest: 0.8792271 (26)\ttotal: 527ms\tremaining: 183ms\n",
      "167:\tlearn: 1.0000000\ttest: 0.8627451\tbest: 0.8792271 (26)\ttotal: 530ms\tremaining: 180ms\n",
      "168:\tlearn: 1.0000000\ttest: 0.8627451\tbest: 0.8792271 (26)\ttotal: 534ms\tremaining: 177ms\n",
      "169:\tlearn: 1.0000000\ttest: 0.8627451\tbest: 0.8792271 (26)\ttotal: 537ms\tremaining: 174ms\n",
      "170:\tlearn: 1.0000000\ttest: 0.8627451\tbest: 0.8792271 (26)\ttotal: 540ms\tremaining: 171ms\n",
      "171:\tlearn: 1.0000000\ttest: 0.8627451\tbest: 0.8792271 (26)\ttotal: 544ms\tremaining: 167ms\n",
      "172:\tlearn: 1.0000000\ttest: 0.8627451\tbest: 0.8792271 (26)\ttotal: 548ms\tremaining: 165ms\n",
      "173:\tlearn: 1.0000000\ttest: 0.8571429\tbest: 0.8792271 (26)\ttotal: 551ms\tremaining: 161ms\n",
      "174:\tlearn: 1.0000000\ttest: 0.8514851\tbest: 0.8792271 (26)\ttotal: 554ms\tremaining: 158ms\n",
      "175:\tlearn: 1.0000000\ttest: 0.8514851\tbest: 0.8792271 (26)\ttotal: 557ms\tremaining: 155ms\n",
      "176:\tlearn: 1.0000000\ttest: 0.8514851\tbest: 0.8792271 (26)\ttotal: 560ms\tremaining: 152ms\n",
      "177:\tlearn: 1.0000000\ttest: 0.8514851\tbest: 0.8792271 (26)\ttotal: 563ms\tremaining: 149ms\n",
      "178:\tlearn: 1.0000000\ttest: 0.8571429\tbest: 0.8792271 (26)\ttotal: 566ms\tremaining: 146ms\n",
      "179:\tlearn: 1.0000000\ttest: 0.8571429\tbest: 0.8792271 (26)\ttotal: 569ms\tremaining: 142ms\n",
      "180:\tlearn: 1.0000000\ttest: 0.8571429\tbest: 0.8792271 (26)\ttotal: 572ms\tremaining: 139ms\n",
      "181:\tlearn: 1.0000000\ttest: 0.8571429\tbest: 0.8792271 (26)\ttotal: 575ms\tremaining: 136ms\n",
      "182:\tlearn: 1.0000000\ttest: 0.8514851\tbest: 0.8792271 (26)\ttotal: 579ms\tremaining: 133ms\n",
      "183:\tlearn: 1.0000000\ttest: 0.8514851\tbest: 0.8792271 (26)\ttotal: 582ms\tremaining: 130ms\n",
      "184:\tlearn: 1.0000000\ttest: 0.8514851\tbest: 0.8792271 (26)\ttotal: 585ms\tremaining: 127ms\n",
      "185:\tlearn: 1.0000000\ttest: 0.8571429\tbest: 0.8792271 (26)\ttotal: 588ms\tremaining: 123ms\n",
      "186:\tlearn: 1.0000000\ttest: 0.8571429\tbest: 0.8792271 (26)\ttotal: 592ms\tremaining: 120ms\n",
      "187:\tlearn: 1.0000000\ttest: 0.8571429\tbest: 0.8792271 (26)\ttotal: 595ms\tremaining: 117ms\n",
      "188:\tlearn: 1.0000000\ttest: 0.8571429\tbest: 0.8792271 (26)\ttotal: 598ms\tremaining: 114ms\n",
      "189:\tlearn: 1.0000000\ttest: 0.8571429\tbest: 0.8792271 (26)\ttotal: 601ms\tremaining: 111ms\n",
      "190:\tlearn: 1.0000000\ttest: 0.8571429\tbest: 0.8792271 (26)\ttotal: 605ms\tremaining: 108ms\n",
      "191:\tlearn: 1.0000000\ttest: 0.8571429\tbest: 0.8792271 (26)\ttotal: 608ms\tremaining: 104ms\n",
      "192:\tlearn: 1.0000000\ttest: 0.8571429\tbest: 0.8792271 (26)\ttotal: 611ms\tremaining: 101ms\n",
      "193:\tlearn: 1.0000000\ttest: 0.8571429\tbest: 0.8792271 (26)\ttotal: 614ms\tremaining: 98.1ms\n",
      "194:\tlearn: 1.0000000\ttest: 0.8571429\tbest: 0.8792271 (26)\ttotal: 617ms\tremaining: 94.9ms\n",
      "195:\tlearn: 1.0000000\ttest: 0.8571429\tbest: 0.8792271 (26)\ttotal: 620ms\tremaining: 91.7ms\n",
      "196:\tlearn: 1.0000000\ttest: 0.8571429\tbest: 0.8792271 (26)\ttotal: 623ms\tremaining: 88.5ms\n",
      "197:\tlearn: 1.0000000\ttest: 0.8571429\tbest: 0.8792271 (26)\ttotal: 626ms\tremaining: 85.3ms\n",
      "198:\tlearn: 1.0000000\ttest: 0.8571429\tbest: 0.8792271 (26)\ttotal: 629ms\tremaining: 82.2ms\n",
      "199:\tlearn: 1.0000000\ttest: 0.8571429\tbest: 0.8792271 (26)\ttotal: 632ms\tremaining: 79ms\n",
      "200:\tlearn: 1.0000000\ttest: 0.8514851\tbest: 0.8792271 (26)\ttotal: 635ms\tremaining: 75.9ms\n",
      "201:\tlearn: 1.0000000\ttest: 0.8514851\tbest: 0.8792271 (26)\ttotal: 638ms\tremaining: 72.7ms\n",
      "202:\tlearn: 1.0000000\ttest: 0.8514851\tbest: 0.8792271 (26)\ttotal: 641ms\tremaining: 69.5ms\n",
      "203:\tlearn: 1.0000000\ttest: 0.8514851\tbest: 0.8792271 (26)\ttotal: 642ms\tremaining: 66.1ms\n",
      "204:\tlearn: 1.0000000\ttest: 0.8571429\tbest: 0.8792271 (26)\ttotal: 646ms\tremaining: 63ms\n",
      "205:\tlearn: 1.0000000\ttest: 0.8514851\tbest: 0.8792271 (26)\ttotal: 649ms\tremaining: 59.9ms\n",
      "206:\tlearn: 1.0000000\ttest: 0.8571429\tbest: 0.8792271 (26)\ttotal: 652ms\tremaining: 56.7ms\n",
      "207:\tlearn: 1.0000000\ttest: 0.8571429\tbest: 0.8792271 (26)\ttotal: 655ms\tremaining: 53.6ms\n",
      "208:\tlearn: 1.0000000\ttest: 0.8571429\tbest: 0.8792271 (26)\ttotal: 658ms\tremaining: 50.4ms\n",
      "209:\tlearn: 1.0000000\ttest: 0.8571429\tbest: 0.8792271 (26)\ttotal: 662ms\tremaining: 47.3ms\n",
      "210:\tlearn: 1.0000000\ttest: 0.8571429\tbest: 0.8792271 (26)\ttotal: 665ms\tremaining: 44.1ms\n",
      "211:\tlearn: 1.0000000\ttest: 0.8571429\tbest: 0.8792271 (26)\ttotal: 666ms\tremaining: 40.8ms\n",
      "212:\tlearn: 1.0000000\ttest: 0.8571429\tbest: 0.8792271 (26)\ttotal: 669ms\tremaining: 37.7ms\n",
      "213:\tlearn: 1.0000000\ttest: 0.8571429\tbest: 0.8792271 (26)\ttotal: 672ms\tremaining: 34.6ms\n",
      "214:\tlearn: 1.0000000\ttest: 0.8571429\tbest: 0.8792271 (26)\ttotal: 676ms\tremaining: 31.4ms\n",
      "215:\tlearn: 1.0000000\ttest: 0.8571429\tbest: 0.8792271 (26)\ttotal: 679ms\tremaining: 28.3ms\n",
      "216:\tlearn: 1.0000000\ttest: 0.8571429\tbest: 0.8792271 (26)\ttotal: 681ms\tremaining: 25.1ms\n",
      "217:\tlearn: 1.0000000\ttest: 0.8571429\tbest: 0.8792271 (26)\ttotal: 684ms\tremaining: 22ms\n",
      "218:\tlearn: 1.0000000\ttest: 0.8571429\tbest: 0.8792271 (26)\ttotal: 687ms\tremaining: 18.8ms\n",
      "219:\tlearn: 1.0000000\ttest: 0.8571429\tbest: 0.8792271 (26)\ttotal: 690ms\tremaining: 15.7ms\n",
      "220:\tlearn: 1.0000000\ttest: 0.8514851\tbest: 0.8792271 (26)\ttotal: 693ms\tremaining: 12.5ms\n",
      "221:\tlearn: 1.0000000\ttest: 0.8514851\tbest: 0.8792271 (26)\ttotal: 696ms\tremaining: 9.41ms\n",
      "222:\tlearn: 1.0000000\ttest: 0.8514851\tbest: 0.8792271 (26)\ttotal: 700ms\tremaining: 6.27ms\n",
      "223:\tlearn: 1.0000000\ttest: 0.8514851\tbest: 0.8792271 (26)\ttotal: 703ms\tremaining: 3.14ms\n",
      "224:\tlearn: 1.0000000\ttest: 0.8514851\tbest: 0.8792271 (26)\ttotal: 706ms\tremaining: 0us\n",
      "\n",
      "bestTest = 0.8792270531\n",
      "bestIteration = 26\n",
      "\n",
      "Training on fold [2/5]\n",
      "0:\tlearn: 0.8652658\ttest: 0.8292683\tbest: 0.8292683 (0)\ttotal: 1.66ms\tremaining: 372ms\n",
      "1:\tlearn: 0.9125000\ttest: 0.8200000\tbest: 0.8292683 (0)\ttotal: 4.87ms\tremaining: 543ms\n",
      "2:\tlearn: 0.9364882\ttest: 0.8487805\tbest: 0.8487805 (2)\ttotal: 7.81ms\tremaining: 578ms\n",
      "3:\tlearn: 0.9371859\ttest: 0.8502415\tbest: 0.8502415 (3)\ttotal: 10.7ms\tremaining: 592ms\n",
      "4:\tlearn: 0.9473684\ttest: 0.8502415\tbest: 0.8502415 (3)\ttotal: 13.7ms\tremaining: 602ms\n",
      "5:\tlearn: 0.9612984\ttest: 0.8653846\tbest: 0.8653846 (5)\ttotal: 16.9ms\tremaining: 619ms\n",
      "6:\tlearn: 0.9625935\ttest: 0.8502415\tbest: 0.8653846 (5)\ttotal: 20.2ms\tremaining: 631ms\n",
      "7:\tlearn: 0.9686324\ttest: 0.8502415\tbest: 0.8653846 (5)\ttotal: 23.3ms\tremaining: 632ms\n",
      "8:\tlearn: 0.9725686\ttest: 0.8666667\tbest: 0.8666667 (8)\ttotal: 26.3ms\tremaining: 631ms\n",
      "9:\tlearn: 0.9725000\ttest: 0.8653846\tbest: 0.8666667 (8)\ttotal: 29.3ms\tremaining: 631ms\n",
      "10:\tlearn: 0.9725000\ttest: 0.8653846\tbest: 0.8666667 (8)\ttotal: 32.5ms\tremaining: 633ms\n",
      "11:\tlearn: 0.9737171\ttest: 0.8695652\tbest: 0.8695652 (11)\ttotal: 35.6ms\tremaining: 632ms\n",
      "12:\tlearn: 0.9737171\ttest: 0.8653846\tbest: 0.8695652 (11)\ttotal: 38.7ms\tremaining: 630ms\n",
      "13:\tlearn: 0.9750000\ttest: 0.8708134\tbest: 0.8708134 (13)\ttotal: 41.6ms\tremaining: 628ms\n",
      "14:\tlearn: 0.9737828\ttest: 0.8666667\tbest: 0.8708134 (13)\ttotal: 44.8ms\tremaining: 627ms\n",
      "15:\tlearn: 0.9762203\ttest: 0.8708134\tbest: 0.8708134 (13)\ttotal: 48.2ms\tremaining: 629ms\n",
      "16:\tlearn: 0.9787234\ttest: 0.8761905\tbest: 0.8761905 (16)\ttotal: 51.4ms\tremaining: 628ms\n",
      "17:\tlearn: 0.9787234\ttest: 0.8720379\tbest: 0.8761905 (16)\ttotal: 54.4ms\tremaining: 626ms\n",
      "18:\tlearn: 0.9799499\ttest: 0.8803828\tbest: 0.8803828 (18)\ttotal: 57.4ms\tremaining: 622ms\n",
      "19:\tlearn: 0.9812265\ttest: 0.8803828\tbest: 0.8803828 (18)\ttotal: 58.4ms\tremaining: 599ms\n",
      "20:\tlearn: 0.9812265\ttest: 0.8803828\tbest: 0.8803828 (18)\ttotal: 61.5ms\tremaining: 598ms\n",
      "21:\tlearn: 0.9849624\ttest: 0.8761905\tbest: 0.8803828 (18)\ttotal: 65ms\tremaining: 600ms\n",
      "22:\tlearn: 0.9837297\ttest: 0.8803828\tbest: 0.8803828 (18)\ttotal: 68.1ms\tremaining: 598ms\n",
      "23:\tlearn: 0.9837297\ttest: 0.8803828\tbest: 0.8803828 (18)\ttotal: 71ms\tremaining: 594ms\n",
      "24:\tlearn: 0.9874372\ttest: 0.8720379\tbest: 0.8803828 (18)\ttotal: 74ms\tremaining: 592ms\n",
      "25:\tlearn: 0.9874372\ttest: 0.8720379\tbest: 0.8803828 (18)\ttotal: 77.2ms\tremaining: 591ms\n",
      "26:\tlearn: 0.9874372\ttest: 0.8720379\tbest: 0.8803828 (18)\ttotal: 81ms\tremaining: 594ms\n",
      "27:\tlearn: 0.9886792\ttest: 0.8803828\tbest: 0.8803828 (18)\ttotal: 84.3ms\tremaining: 593ms\n",
      "28:\tlearn: 0.9899244\ttest: 0.8708134\tbest: 0.8803828 (18)\ttotal: 87.4ms\tremaining: 591ms\n",
      "29:\tlearn: 0.9886792\ttest: 0.8803828\tbest: 0.8803828 (18)\ttotal: 90.3ms\tremaining: 587ms\n",
      "30:\tlearn: 0.9886792\ttest: 0.8846154\tbest: 0.8846154 (30)\ttotal: 93.2ms\tremaining: 583ms\n",
      "31:\tlearn: 0.9899244\ttest: 0.8899522\tbest: 0.8899522 (31)\ttotal: 96.7ms\tremaining: 583ms\n",
      "32:\tlearn: 0.9924623\ttest: 0.9038462\tbest: 0.9038462 (32)\ttotal: 99.8ms\tremaining: 580ms\n",
      "33:\tlearn: 0.9949749\ttest: 0.8952381\tbest: 0.9038462 (32)\ttotal: 103ms\tremaining: 577ms\n",
      "34:\tlearn: 0.9937265\ttest: 0.8952381\tbest: 0.9038462 (32)\ttotal: 106ms\tremaining: 574ms\n",
      "35:\tlearn: 0.9937265\ttest: 0.8952381\tbest: 0.9038462 (32)\ttotal: 109ms\tremaining: 571ms\n",
      "36:\tlearn: 0.9937265\ttest: 0.8952381\tbest: 0.9038462 (32)\ttotal: 112ms\tremaining: 568ms\n",
      "37:\tlearn: 0.9937265\ttest: 0.8952381\tbest: 0.9038462 (32)\ttotal: 114ms\tremaining: 563ms\n",
      "38:\tlearn: 0.9937265\ttest: 0.8867925\tbest: 0.9038462 (32)\ttotal: 118ms\tremaining: 562ms\n",
      "39:\tlearn: 0.9949749\ttest: 0.8867925\tbest: 0.9038462 (32)\ttotal: 121ms\tremaining: 558ms\n",
      "40:\tlearn: 0.9949749\ttest: 0.8867925\tbest: 0.9038462 (32)\ttotal: 124ms\tremaining: 555ms\n",
      "41:\tlearn: 0.9962264\ttest: 0.8909953\tbest: 0.9038462 (32)\ttotal: 127ms\tremaining: 554ms\n",
      "42:\tlearn: 0.9987421\ttest: 0.8962264\tbest: 0.9038462 (32)\ttotal: 130ms\tremaining: 552ms\n",
      "43:\tlearn: 0.9987421\ttest: 0.8962264\tbest: 0.9038462 (32)\ttotal: 134ms\tremaining: 549ms\n",
      "44:\tlearn: 0.9987421\ttest: 0.8962264\tbest: 0.9038462 (32)\ttotal: 137ms\tremaining: 547ms\n",
      "45:\tlearn: 0.9987421\ttest: 0.8962264\tbest: 0.9038462 (32)\ttotal: 140ms\tremaining: 547ms\n",
      "46:\tlearn: 0.9987421\ttest: 0.8962264\tbest: 0.9038462 (32)\ttotal: 144ms\tremaining: 547ms\n",
      "47:\tlearn: 0.9987421\ttest: 0.9099526\tbest: 0.9099526 (47)\ttotal: 148ms\tremaining: 544ms\n",
      "48:\tlearn: 0.9987421\ttest: 0.9099526\tbest: 0.9099526 (47)\ttotal: 151ms\tremaining: 541ms\n",
      "49:\tlearn: 0.9987421\ttest: 0.9014085\tbest: 0.9099526 (47)\ttotal: 154ms\tremaining: 539ms\n",
      "50:\tlearn: 0.9987421\ttest: 0.9047619\tbest: 0.9099526 (47)\ttotal: 157ms\tremaining: 536ms\n",
      "51:\tlearn: 0.9987421\ttest: 0.8920188\tbest: 0.9099526 (47)\ttotal: 160ms\tremaining: 534ms\n",
      "52:\tlearn: 0.9987421\ttest: 0.8920188\tbest: 0.9099526 (47)\ttotal: 164ms\tremaining: 531ms\n",
      "53:\tlearn: 0.9987421\ttest: 0.8920188\tbest: 0.9099526 (47)\ttotal: 167ms\tremaining: 529ms\n",
      "54:\tlearn: 0.9987421\ttest: 0.8920188\tbest: 0.9099526 (47)\ttotal: 171ms\tremaining: 528ms\n",
      "55:\tlearn: 0.9987421\ttest: 0.8971963\tbest: 0.9099526 (47)\ttotal: 174ms\tremaining: 525ms\n",
      "56:\tlearn: 0.9987421\ttest: 0.8920188\tbest: 0.9099526 (47)\ttotal: 178ms\tremaining: 525ms\n",
      "57:\tlearn: 0.9987421\ttest: 0.8920188\tbest: 0.9099526 (47)\ttotal: 181ms\tremaining: 522ms\n",
      "58:\tlearn: 0.9987421\ttest: 0.8920188\tbest: 0.9099526 (47)\ttotal: 184ms\tremaining: 519ms\n",
      "59:\tlearn: 0.9987421\ttest: 0.8920188\tbest: 0.9099526 (47)\ttotal: 187ms\tremaining: 515ms\n",
      "60:\tlearn: 1.0000000\ttest: 0.8971963\tbest: 0.9099526 (47)\ttotal: 190ms\tremaining: 512ms\n",
      "61:\tlearn: 1.0000000\ttest: 0.9023256\tbest: 0.9099526 (47)\ttotal: 194ms\tremaining: 509ms\n",
      "62:\tlearn: 1.0000000\ttest: 0.8971963\tbest: 0.9099526 (47)\ttotal: 197ms\tremaining: 506ms\n",
      "63:\tlearn: 1.0000000\ttest: 0.8971963\tbest: 0.9099526 (47)\ttotal: 200ms\tremaining: 504ms\n",
      "64:\tlearn: 1.0000000\ttest: 0.9023256\tbest: 0.9099526 (47)\ttotal: 203ms\tremaining: 501ms\n",
      "65:\tlearn: 1.0000000\ttest: 0.9023256\tbest: 0.9099526 (47)\ttotal: 207ms\tremaining: 499ms\n",
      "66:\tlearn: 1.0000000\ttest: 0.9023256\tbest: 0.9099526 (47)\ttotal: 211ms\tremaining: 497ms\n",
      "67:\tlearn: 1.0000000\ttest: 0.9023256\tbest: 0.9099526 (47)\ttotal: 214ms\tremaining: 493ms\n",
      "68:\tlearn: 1.0000000\ttest: 0.9023256\tbest: 0.9099526 (47)\ttotal: 217ms\tremaining: 490ms\n",
      "69:\tlearn: 1.0000000\ttest: 0.9023256\tbest: 0.9099526 (47)\ttotal: 220ms\tremaining: 486ms\n",
      "70:\tlearn: 1.0000000\ttest: 0.9023256\tbest: 0.9099526 (47)\ttotal: 223ms\tremaining: 483ms\n",
      "71:\tlearn: 1.0000000\ttest: 0.9023256\tbest: 0.9099526 (47)\ttotal: 226ms\tremaining: 481ms\n",
      "72:\tlearn: 1.0000000\ttest: 0.9023256\tbest: 0.9099526 (47)\ttotal: 229ms\tremaining: 478ms\n",
      "73:\tlearn: 1.0000000\ttest: 0.9023256\tbest: 0.9099526 (47)\ttotal: 232ms\tremaining: 474ms\n",
      "74:\tlearn: 1.0000000\ttest: 0.9065421\tbest: 0.9099526 (47)\ttotal: 236ms\tremaining: 471ms\n",
      "75:\tlearn: 1.0000000\ttest: 0.9065421\tbest: 0.9099526 (47)\ttotal: 239ms\tremaining: 468ms\n",
      "76:\tlearn: 1.0000000\ttest: 0.9065421\tbest: 0.9099526 (47)\ttotal: 242ms\tremaining: 465ms\n",
      "77:\tlearn: 1.0000000\ttest: 0.9065421\tbest: 0.9099526 (47)\ttotal: 245ms\tremaining: 462ms\n",
      "78:\tlearn: 1.0000000\ttest: 0.9065421\tbest: 0.9099526 (47)\ttotal: 248ms\tremaining: 459ms\n",
      "79:\tlearn: 1.0000000\ttest: 0.9065421\tbest: 0.9099526 (47)\ttotal: 251ms\tremaining: 455ms\n",
      "80:\tlearn: 1.0000000\ttest: 0.9065421\tbest: 0.9099526 (47)\ttotal: 254ms\tremaining: 452ms\n",
      "81:\tlearn: 1.0000000\ttest: 0.9065421\tbest: 0.9099526 (47)\ttotal: 257ms\tremaining: 449ms\n",
      "82:\tlearn: 1.0000000\ttest: 0.9065421\tbest: 0.9099526 (47)\ttotal: 260ms\tremaining: 445ms\n",
      "83:\tlearn: 1.0000000\ttest: 0.9065421\tbest: 0.9099526 (47)\ttotal: 263ms\tremaining: 442ms\n",
      "84:\tlearn: 1.0000000\ttest: 0.9065421\tbest: 0.9099526 (47)\ttotal: 266ms\tremaining: 439ms\n",
      "85:\tlearn: 1.0000000\ttest: 0.9065421\tbest: 0.9099526 (47)\ttotal: 269ms\tremaining: 435ms\n",
      "86:\tlearn: 1.0000000\ttest: 0.9065421\tbest: 0.9099526 (47)\ttotal: 272ms\tremaining: 432ms\n",
      "87:\tlearn: 1.0000000\ttest: 0.9065421\tbest: 0.9099526 (47)\ttotal: 276ms\tremaining: 429ms\n",
      "88:\tlearn: 1.0000000\ttest: 0.9065421\tbest: 0.9099526 (47)\ttotal: 279ms\tremaining: 426ms\n",
      "89:\tlearn: 1.0000000\ttest: 0.9065421\tbest: 0.9099526 (47)\ttotal: 282ms\tremaining: 422ms\n",
      "90:\tlearn: 1.0000000\ttest: 0.9065421\tbest: 0.9099526 (47)\ttotal: 285ms\tremaining: 419ms\n",
      "91:\tlearn: 1.0000000\ttest: 0.9065421\tbest: 0.9099526 (47)\ttotal: 288ms\tremaining: 416ms\n",
      "92:\tlearn: 1.0000000\ttest: 0.9065421\tbest: 0.9099526 (47)\ttotal: 291ms\tremaining: 413ms\n",
      "93:\tlearn: 1.0000000\ttest: 0.9065421\tbest: 0.9099526 (47)\ttotal: 294ms\tremaining: 410ms\n",
      "94:\tlearn: 1.0000000\ttest: 0.9065421\tbest: 0.9099526 (47)\ttotal: 297ms\tremaining: 407ms\n",
      "95:\tlearn: 1.0000000\ttest: 0.9065421\tbest: 0.9099526 (47)\ttotal: 300ms\tremaining: 403ms\n",
      "96:\tlearn: 1.0000000\ttest: 0.9065421\tbest: 0.9099526 (47)\ttotal: 303ms\tremaining: 400ms\n",
      "97:\tlearn: 1.0000000\ttest: 0.9065421\tbest: 0.9099526 (47)\ttotal: 307ms\tremaining: 398ms\n",
      "98:\tlearn: 1.0000000\ttest: 0.9065421\tbest: 0.9099526 (47)\ttotal: 311ms\tremaining: 395ms\n",
      "99:\tlearn: 1.0000000\ttest: 0.9065421\tbest: 0.9099526 (47)\ttotal: 314ms\tremaining: 393ms\n",
      "100:\tlearn: 1.0000000\ttest: 0.9065421\tbest: 0.9099526 (47)\ttotal: 318ms\tremaining: 390ms\n",
      "101:\tlearn: 1.0000000\ttest: 0.9065421\tbest: 0.9099526 (47)\ttotal: 321ms\tremaining: 387ms\n",
      "102:\tlearn: 1.0000000\ttest: 0.9065421\tbest: 0.9099526 (47)\ttotal: 324ms\tremaining: 384ms\n",
      "103:\tlearn: 1.0000000\ttest: 0.9065421\tbest: 0.9099526 (47)\ttotal: 327ms\tremaining: 381ms\n",
      "104:\tlearn: 1.0000000\ttest: 0.9065421\tbest: 0.9099526 (47)\ttotal: 330ms\tremaining: 377ms\n",
      "105:\tlearn: 1.0000000\ttest: 0.9065421\tbest: 0.9099526 (47)\ttotal: 333ms\tremaining: 374ms\n",
      "106:\tlearn: 1.0000000\ttest: 0.9065421\tbest: 0.9099526 (47)\ttotal: 336ms\tremaining: 371ms\n",
      "107:\tlearn: 1.0000000\ttest: 0.9065421\tbest: 0.9099526 (47)\ttotal: 340ms\tremaining: 368ms\n",
      "108:\tlearn: 1.0000000\ttest: 0.9065421\tbest: 0.9099526 (47)\ttotal: 343ms\tremaining: 365ms\n",
      "109:\tlearn: 1.0000000\ttest: 0.9065421\tbest: 0.9099526 (47)\ttotal: 346ms\tremaining: 362ms\n",
      "110:\tlearn: 1.0000000\ttest: 0.9065421\tbest: 0.9099526 (47)\ttotal: 349ms\tremaining: 359ms\n",
      "111:\tlearn: 1.0000000\ttest: 0.9065421\tbest: 0.9099526 (47)\ttotal: 352ms\tremaining: 356ms\n",
      "112:\tlearn: 1.0000000\ttest: 0.9065421\tbest: 0.9099526 (47)\ttotal: 355ms\tremaining: 352ms\n",
      "113:\tlearn: 1.0000000\ttest: 0.9065421\tbest: 0.9099526 (47)\ttotal: 358ms\tremaining: 349ms\n",
      "114:\tlearn: 1.0000000\ttest: 0.9065421\tbest: 0.9099526 (47)\ttotal: 361ms\tremaining: 346ms\n",
      "115:\tlearn: 1.0000000\ttest: 0.9065421\tbest: 0.9099526 (47)\ttotal: 364ms\tremaining: 343ms\n",
      "116:\tlearn: 1.0000000\ttest: 0.9065421\tbest: 0.9099526 (47)\ttotal: 367ms\tremaining: 338ms\n",
      "117:\tlearn: 1.0000000\ttest: 0.9065421\tbest: 0.9099526 (47)\ttotal: 371ms\tremaining: 336ms\n",
      "118:\tlearn: 1.0000000\ttest: 0.9065421\tbest: 0.9099526 (47)\ttotal: 374ms\tremaining: 333ms\n",
      "119:\tlearn: 1.0000000\ttest: 0.9065421\tbest: 0.9099526 (47)\ttotal: 377ms\tremaining: 330ms\n",
      "120:\tlearn: 1.0000000\ttest: 0.9065421\tbest: 0.9099526 (47)\ttotal: 380ms\tremaining: 327ms\n",
      "121:\tlearn: 1.0000000\ttest: 0.9065421\tbest: 0.9099526 (47)\ttotal: 385ms\tremaining: 325ms\n",
      "122:\tlearn: 1.0000000\ttest: 0.9065421\tbest: 0.9099526 (47)\ttotal: 389ms\tremaining: 322ms\n",
      "123:\tlearn: 1.0000000\ttest: 0.9065421\tbest: 0.9099526 (47)\ttotal: 392ms\tremaining: 319ms\n",
      "124:\tlearn: 1.0000000\ttest: 0.9065421\tbest: 0.9099526 (47)\ttotal: 395ms\tremaining: 316ms\n",
      "125:\tlearn: 1.0000000\ttest: 0.9065421\tbest: 0.9099526 (47)\ttotal: 399ms\tremaining: 313ms\n",
      "126:\tlearn: 1.0000000\ttest: 0.9065421\tbest: 0.9099526 (47)\ttotal: 403ms\tremaining: 311ms\n",
      "127:\tlearn: 1.0000000\ttest: 0.9065421\tbest: 0.9099526 (47)\ttotal: 407ms\tremaining: 308ms\n",
      "128:\tlearn: 1.0000000\ttest: 0.9065421\tbest: 0.9099526 (47)\ttotal: 410ms\tremaining: 305ms\n",
      "129:\tlearn: 1.0000000\ttest: 0.9065421\tbest: 0.9099526 (47)\ttotal: 413ms\tremaining: 302ms\n",
      "130:\tlearn: 1.0000000\ttest: 0.9065421\tbest: 0.9099526 (47)\ttotal: 417ms\tremaining: 299ms\n",
      "131:\tlearn: 1.0000000\ttest: 0.9065421\tbest: 0.9099526 (47)\ttotal: 421ms\tremaining: 296ms\n",
      "132:\tlearn: 1.0000000\ttest: 0.9065421\tbest: 0.9099526 (47)\ttotal: 424ms\tremaining: 293ms\n",
      "133:\tlearn: 1.0000000\ttest: 0.9065421\tbest: 0.9099526 (47)\ttotal: 427ms\tremaining: 290ms\n",
      "134:\tlearn: 1.0000000\ttest: 0.9065421\tbest: 0.9099526 (47)\ttotal: 430ms\tremaining: 287ms\n",
      "135:\tlearn: 1.0000000\ttest: 0.9065421\tbest: 0.9099526 (47)\ttotal: 433ms\tremaining: 283ms\n",
      "136:\tlearn: 1.0000000\ttest: 0.9065421\tbest: 0.9099526 (47)\ttotal: 436ms\tremaining: 280ms\n",
      "137:\tlearn: 1.0000000\ttest: 0.9065421\tbest: 0.9099526 (47)\ttotal: 439ms\tremaining: 277ms\n",
      "138:\tlearn: 1.0000000\ttest: 0.9065421\tbest: 0.9099526 (47)\ttotal: 442ms\tremaining: 274ms\n",
      "139:\tlearn: 1.0000000\ttest: 0.9065421\tbest: 0.9099526 (47)\ttotal: 445ms\tremaining: 270ms\n",
      "140:\tlearn: 1.0000000\ttest: 0.9065421\tbest: 0.9099526 (47)\ttotal: 449ms\tremaining: 267ms\n",
      "141:\tlearn: 1.0000000\ttest: 0.9065421\tbest: 0.9099526 (47)\ttotal: 452ms\tremaining: 264ms\n",
      "142:\tlearn: 1.0000000\ttest: 0.9065421\tbest: 0.9099526 (47)\ttotal: 455ms\tremaining: 261ms\n",
      "143:\tlearn: 1.0000000\ttest: 0.9065421\tbest: 0.9099526 (47)\ttotal: 458ms\tremaining: 257ms\n",
      "144:\tlearn: 1.0000000\ttest: 0.9065421\tbest: 0.9099526 (47)\ttotal: 461ms\tremaining: 254ms\n",
      "145:\tlearn: 1.0000000\ttest: 0.9065421\tbest: 0.9099526 (47)\ttotal: 465ms\tremaining: 251ms\n",
      "146:\tlearn: 1.0000000\ttest: 0.9065421\tbest: 0.9099526 (47)\ttotal: 468ms\tremaining: 248ms\n",
      "147:\tlearn: 1.0000000\ttest: 0.9065421\tbest: 0.9099526 (47)\ttotal: 471ms\tremaining: 245ms\n",
      "148:\tlearn: 1.0000000\ttest: 0.9065421\tbest: 0.9099526 (47)\ttotal: 474ms\tremaining: 242ms\n",
      "149:\tlearn: 1.0000000\ttest: 0.9065421\tbest: 0.9099526 (47)\ttotal: 477ms\tremaining: 238ms\n",
      "150:\tlearn: 1.0000000\ttest: 0.9065421\tbest: 0.9099526 (47)\ttotal: 480ms\tremaining: 235ms\n",
      "151:\tlearn: 1.0000000\ttest: 0.9065421\tbest: 0.9099526 (47)\ttotal: 484ms\tremaining: 232ms\n",
      "152:\tlearn: 1.0000000\ttest: 0.9065421\tbest: 0.9099526 (47)\ttotal: 487ms\tremaining: 229ms\n",
      "153:\tlearn: 1.0000000\ttest: 0.9065421\tbest: 0.9099526 (47)\ttotal: 490ms\tremaining: 226ms\n",
      "154:\tlearn: 1.0000000\ttest: 0.9065421\tbest: 0.9099526 (47)\ttotal: 493ms\tremaining: 223ms\n",
      "155:\tlearn: 1.0000000\ttest: 0.9065421\tbest: 0.9099526 (47)\ttotal: 496ms\tremaining: 220ms\n",
      "156:\tlearn: 1.0000000\ttest: 0.9065421\tbest: 0.9099526 (47)\ttotal: 499ms\tremaining: 216ms\n",
      "157:\tlearn: 1.0000000\ttest: 0.9065421\tbest: 0.9099526 (47)\ttotal: 503ms\tremaining: 213ms\n",
      "158:\tlearn: 1.0000000\ttest: 0.9065421\tbest: 0.9099526 (47)\ttotal: 505ms\tremaining: 210ms\n",
      "159:\tlearn: 1.0000000\ttest: 0.9065421\tbest: 0.9099526 (47)\ttotal: 508ms\tremaining: 207ms\n",
      "160:\tlearn: 1.0000000\ttest: 0.9065421\tbest: 0.9099526 (47)\ttotal: 511ms\tremaining: 203ms\n",
      "161:\tlearn: 1.0000000\ttest: 0.9065421\tbest: 0.9099526 (47)\ttotal: 516ms\tremaining: 201ms\n",
      "162:\tlearn: 1.0000000\ttest: 0.9065421\tbest: 0.9099526 (47)\ttotal: 519ms\tremaining: 197ms\n",
      "163:\tlearn: 1.0000000\ttest: 0.9065421\tbest: 0.9099526 (47)\ttotal: 522ms\tremaining: 194ms\n",
      "164:\tlearn: 1.0000000\ttest: 0.9065421\tbest: 0.9099526 (47)\ttotal: 525ms\tremaining: 191ms\n",
      "165:\tlearn: 1.0000000\ttest: 0.9065421\tbest: 0.9099526 (47)\ttotal: 528ms\tremaining: 188ms\n",
      "166:\tlearn: 1.0000000\ttest: 0.9065421\tbest: 0.9099526 (47)\ttotal: 532ms\tremaining: 185ms\n",
      "167:\tlearn: 1.0000000\ttest: 0.9065421\tbest: 0.9099526 (47)\ttotal: 535ms\tremaining: 181ms\n",
      "168:\tlearn: 1.0000000\ttest: 0.9065421\tbest: 0.9099526 (47)\ttotal: 538ms\tremaining: 178ms\n",
      "169:\tlearn: 1.0000000\ttest: 0.9065421\tbest: 0.9099526 (47)\ttotal: 541ms\tremaining: 175ms\n",
      "170:\tlearn: 1.0000000\ttest: 0.9065421\tbest: 0.9099526 (47)\ttotal: 544ms\tremaining: 172ms\n",
      "171:\tlearn: 1.0000000\ttest: 0.9065421\tbest: 0.9099526 (47)\ttotal: 547ms\tremaining: 169ms\n",
      "172:\tlearn: 1.0000000\ttest: 0.9065421\tbest: 0.9099526 (47)\ttotal: 550ms\tremaining: 165ms\n",
      "173:\tlearn: 1.0000000\ttest: 0.9065421\tbest: 0.9099526 (47)\ttotal: 553ms\tremaining: 162ms\n",
      "174:\tlearn: 1.0000000\ttest: 0.9065421\tbest: 0.9099526 (47)\ttotal: 556ms\tremaining: 159ms\n",
      "175:\tlearn: 1.0000000\ttest: 0.9065421\tbest: 0.9099526 (47)\ttotal: 559ms\tremaining: 156ms\n",
      "176:\tlearn: 1.0000000\ttest: 0.9065421\tbest: 0.9099526 (47)\ttotal: 562ms\tremaining: 152ms\n",
      "177:\tlearn: 1.0000000\ttest: 0.9065421\tbest: 0.9099526 (47)\ttotal: 565ms\tremaining: 149ms\n",
      "178:\tlearn: 1.0000000\ttest: 0.9065421\tbest: 0.9099526 (47)\ttotal: 569ms\tremaining: 146ms\n",
      "179:\tlearn: 1.0000000\ttest: 0.9065421\tbest: 0.9099526 (47)\ttotal: 572ms\tremaining: 143ms\n",
      "180:\tlearn: 1.0000000\ttest: 0.9065421\tbest: 0.9099526 (47)\ttotal: 575ms\tremaining: 140ms\n",
      "181:\tlearn: 1.0000000\ttest: 0.9065421\tbest: 0.9099526 (47)\ttotal: 578ms\tremaining: 137ms\n",
      "182:\tlearn: 1.0000000\ttest: 0.9023256\tbest: 0.9099526 (47)\ttotal: 582ms\tremaining: 133ms\n",
      "183:\tlearn: 1.0000000\ttest: 0.9023256\tbest: 0.9099526 (47)\ttotal: 585ms\tremaining: 130ms\n",
      "184:\tlearn: 1.0000000\ttest: 0.9023256\tbest: 0.9099526 (47)\ttotal: 588ms\tremaining: 127ms\n",
      "185:\tlearn: 1.0000000\ttest: 0.9023256\tbest: 0.9099526 (47)\ttotal: 591ms\tremaining: 124ms\n",
      "186:\tlearn: 1.0000000\ttest: 0.9023256\tbest: 0.9099526 (47)\ttotal: 594ms\tremaining: 121ms\n",
      "187:\tlearn: 1.0000000\ttest: 0.9023256\tbest: 0.9099526 (47)\ttotal: 597ms\tremaining: 118ms\n",
      "188:\tlearn: 1.0000000\ttest: 0.9023256\tbest: 0.9099526 (47)\ttotal: 600ms\tremaining: 114ms\n",
      "189:\tlearn: 1.0000000\ttest: 0.9023256\tbest: 0.9099526 (47)\ttotal: 603ms\tremaining: 111ms\n",
      "190:\tlearn: 1.0000000\ttest: 0.9023256\tbest: 0.9099526 (47)\ttotal: 606ms\tremaining: 108ms\n",
      "191:\tlearn: 1.0000000\ttest: 0.9023256\tbest: 0.9099526 (47)\ttotal: 609ms\tremaining: 105ms\n",
      "192:\tlearn: 1.0000000\ttest: 0.9023256\tbest: 0.9099526 (47)\ttotal: 612ms\tremaining: 102ms\n",
      "193:\tlearn: 1.0000000\ttest: 0.9023256\tbest: 0.9099526 (47)\ttotal: 615ms\tremaining: 98.3ms\n",
      "194:\tlearn: 1.0000000\ttest: 0.9023256\tbest: 0.9099526 (47)\ttotal: 618ms\tremaining: 95.1ms\n",
      "195:\tlearn: 1.0000000\ttest: 0.9023256\tbest: 0.9099526 (47)\ttotal: 621ms\tremaining: 91.9ms\n",
      "196:\tlearn: 1.0000000\ttest: 0.9023256\tbest: 0.9099526 (47)\ttotal: 624ms\tremaining: 88.8ms\n",
      "197:\tlearn: 1.0000000\ttest: 0.9023256\tbest: 0.9099526 (47)\ttotal: 628ms\tremaining: 85.6ms\n",
      "198:\tlearn: 1.0000000\ttest: 0.9023256\tbest: 0.9099526 (47)\ttotal: 630ms\tremaining: 82.4ms\n",
      "199:\tlearn: 1.0000000\ttest: 0.9023256\tbest: 0.9099526 (47)\ttotal: 633ms\tremaining: 79.2ms\n",
      "200:\tlearn: 1.0000000\ttest: 0.9023256\tbest: 0.9099526 (47)\ttotal: 636ms\tremaining: 76ms\n",
      "201:\tlearn: 1.0000000\ttest: 0.9023256\tbest: 0.9099526 (47)\ttotal: 639ms\tremaining: 72.8ms\n",
      "202:\tlearn: 1.0000000\ttest: 0.9023256\tbest: 0.9099526 (47)\ttotal: 642ms\tremaining: 69.6ms\n",
      "203:\tlearn: 1.0000000\ttest: 0.9023256\tbest: 0.9099526 (47)\ttotal: 645ms\tremaining: 66.4ms\n",
      "204:\tlearn: 1.0000000\ttest: 0.9023256\tbest: 0.9099526 (47)\ttotal: 648ms\tremaining: 63.3ms\n",
      "205:\tlearn: 1.0000000\ttest: 0.9023256\tbest: 0.9099526 (47)\ttotal: 652ms\tremaining: 60.1ms\n",
      "206:\tlearn: 1.0000000\ttest: 0.9023256\tbest: 0.9099526 (47)\ttotal: 655ms\tremaining: 56.9ms\n",
      "207:\tlearn: 1.0000000\ttest: 0.9023256\tbest: 0.9099526 (47)\ttotal: 658ms\tremaining: 53.8ms\n",
      "208:\tlearn: 1.0000000\ttest: 0.9023256\tbest: 0.9099526 (47)\ttotal: 661ms\tremaining: 50.6ms\n",
      "209:\tlearn: 1.0000000\ttest: 0.9023256\tbest: 0.9099526 (47)\ttotal: 664ms\tremaining: 47.4ms\n",
      "210:\tlearn: 1.0000000\ttest: 0.9023256\tbest: 0.9099526 (47)\ttotal: 667ms\tremaining: 44.2ms\n",
      "211:\tlearn: 1.0000000\ttest: 0.9023256\tbest: 0.9099526 (47)\ttotal: 670ms\tremaining: 41.1ms\n",
      "212:\tlearn: 1.0000000\ttest: 0.9023256\tbest: 0.9099526 (47)\ttotal: 673ms\tremaining: 37.9ms\n",
      "213:\tlearn: 1.0000000\ttest: 0.9023256\tbest: 0.9099526 (47)\ttotal: 676ms\tremaining: 34.8ms\n",
      "214:\tlearn: 1.0000000\ttest: 0.9023256\tbest: 0.9099526 (47)\ttotal: 679ms\tremaining: 31.6ms\n",
      "215:\tlearn: 1.0000000\ttest: 0.9023256\tbest: 0.9099526 (47)\ttotal: 682ms\tremaining: 28.4ms\n",
      "216:\tlearn: 1.0000000\ttest: 0.9023256\tbest: 0.9099526 (47)\ttotal: 685ms\tremaining: 25.3ms\n",
      "217:\tlearn: 1.0000000\ttest: 0.9023256\tbest: 0.9099526 (47)\ttotal: 688ms\tremaining: 22.1ms\n",
      "218:\tlearn: 1.0000000\ttest: 0.9023256\tbest: 0.9099526 (47)\ttotal: 692ms\tremaining: 18.9ms\n",
      "219:\tlearn: 1.0000000\ttest: 0.9023256\tbest: 0.9099526 (47)\ttotal: 695ms\tremaining: 15.8ms\n",
      "220:\tlearn: 1.0000000\ttest: 0.9023256\tbest: 0.9099526 (47)\ttotal: 698ms\tremaining: 12.6ms\n",
      "221:\tlearn: 1.0000000\ttest: 0.9023256\tbest: 0.9099526 (47)\ttotal: 701ms\tremaining: 9.47ms\n",
      "222:\tlearn: 1.0000000\ttest: 0.9023256\tbest: 0.9099526 (47)\ttotal: 704ms\tremaining: 6.31ms\n",
      "223:\tlearn: 1.0000000\ttest: 0.9023256\tbest: 0.9099526 (47)\ttotal: 707ms\tremaining: 3.16ms\n",
      "224:\tlearn: 1.0000000\ttest: 0.9023256\tbest: 0.9099526 (47)\ttotal: 710ms\tremaining: 0us\n",
      "\n",
      "bestTest = 0.9099526066\n",
      "bestIteration = 47\n",
      "\n",
      "Training on fold [3/5]\n",
      "0:\tlearn: 0.9007634\ttest: 0.8677249\tbest: 0.8677249 (0)\ttotal: 3.4ms\tremaining: 761ms\n",
      "1:\tlearn: 0.9297164\ttest: 0.8736842\tbest: 0.8736842 (1)\ttotal: 6.4ms\tremaining: 714ms\n",
      "2:\tlearn: 0.9339975\ttest: 0.8854167\tbest: 0.8854167 (2)\ttotal: 9.55ms\tremaining: 706ms\n",
      "3:\tlearn: 0.9416149\ttest: 0.8865979\tbest: 0.8865979 (3)\ttotal: 13.1ms\tremaining: 723ms\n",
      "4:\tlearn: 0.9489415\ttest: 0.8865979\tbest: 0.8865979 (3)\ttotal: 16.3ms\tremaining: 719ms\n",
      "5:\tlearn: 0.9502488\ttest: 0.8934010\tbest: 0.8934010 (5)\ttotal: 19.3ms\tremaining: 705ms\n",
      "6:\tlearn: 0.9625935\ttest: 0.8979592\tbest: 0.8979592 (6)\ttotal: 22.4ms\tremaining: 698ms\n",
      "7:\tlearn: 0.9651741\ttest: 0.9072165\tbest: 0.9072165 (7)\ttotal: 25.9ms\tremaining: 703ms\n",
      "8:\tlearn: 0.9662921\ttest: 0.9062500\tbest: 0.9072165 (7)\ttotal: 29.1ms\tremaining: 698ms\n",
      "9:\tlearn: 0.9712859\ttest: 0.9230769\tbest: 0.9230769 (9)\ttotal: 32.8ms\tremaining: 705ms\n",
      "10:\tlearn: 0.9713574\ttest: 0.9175258\tbest: 0.9230769 (9)\ttotal: 35.9ms\tremaining: 699ms\n",
      "11:\tlearn: 0.9750000\ttest: 0.9128205\tbest: 0.9230769 (9)\ttotal: 38.9ms\tremaining: 691ms\n",
      "12:\tlearn: 0.9762203\ttest: 0.9175258\tbest: 0.9230769 (9)\ttotal: 42.7ms\tremaining: 697ms\n",
      "13:\tlearn: 0.9787765\ttest: 0.9175258\tbest: 0.9230769 (9)\ttotal: 46ms\tremaining: 693ms\n",
      "14:\tlearn: 0.9800000\ttest: 0.9175258\tbest: 0.9230769 (9)\ttotal: 49ms\tremaining: 687ms\n",
      "15:\tlearn: 0.9812265\ttest: 0.9175258\tbest: 0.9230769 (9)\ttotal: 52.1ms\tremaining: 680ms\n",
      "16:\tlearn: 0.9812265\ttest: 0.9119171\tbest: 0.9230769 (9)\ttotal: 55.1ms\tremaining: 674ms\n",
      "17:\tlearn: 0.9824561\ttest: 0.9119171\tbest: 0.9230769 (9)\ttotal: 58.9ms\tremaining: 677ms\n",
      "18:\tlearn: 0.9812265\ttest: 0.9166667\tbest: 0.9230769 (9)\ttotal: 62.7ms\tremaining: 679ms\n",
      "19:\tlearn: 0.9825000\ttest: 0.9166667\tbest: 0.9230769 (9)\ttotal: 65.9ms\tremaining: 676ms\n",
      "20:\tlearn: 0.9837297\ttest: 0.9119171\tbest: 0.9230769 (9)\ttotal: 69ms\tremaining: 671ms\n",
      "21:\tlearn: 0.9837297\ttest: 0.9119171\tbest: 0.9230769 (9)\ttotal: 72.7ms\tremaining: 671ms\n",
      "22:\tlearn: 0.9849624\ttest: 0.9166667\tbest: 0.9230769 (9)\ttotal: 75.8ms\tremaining: 666ms\n",
      "23:\tlearn: 0.9862328\ttest: 0.9222798\tbest: 0.9230769 (9)\ttotal: 78.9ms\tremaining: 661ms\n",
      "24:\tlearn: 0.9887640\ttest: 0.9230769\tbest: 0.9230769 (9)\ttotal: 81.9ms\tremaining: 656ms\n",
      "25:\tlearn: 0.9912390\ttest: 0.9230769\tbest: 0.9230769 (9)\ttotal: 85ms\tremaining: 650ms\n",
      "26:\tlearn: 0.9924812\ttest: 0.9285714\tbest: 0.9285714 (26)\ttotal: 88.6ms\tremaining: 650ms\n",
      "27:\tlearn: 0.9912390\ttest: 0.9285714\tbest: 0.9285714 (26)\ttotal: 92.4ms\tremaining: 650ms\n",
      "28:\tlearn: 0.9924812\ttest: 0.9285714\tbest: 0.9285714 (26)\ttotal: 95.5ms\tremaining: 645ms\n",
      "29:\tlearn: 0.9950000\ttest: 0.9285714\tbest: 0.9285714 (26)\ttotal: 98.6ms\tremaining: 641ms\n",
      "30:\tlearn: 0.9962547\ttest: 0.9285714\tbest: 0.9285714 (26)\ttotal: 102ms\tremaining: 636ms\n",
      "31:\tlearn: 0.9975000\ttest: 0.9285714\tbest: 0.9285714 (26)\ttotal: 105ms\tremaining: 634ms\n",
      "32:\tlearn: 0.9987484\ttest: 0.9285714\tbest: 0.9285714 (26)\ttotal: 108ms\tremaining: 630ms\n",
      "33:\tlearn: 0.9987484\ttest: 0.9285714\tbest: 0.9285714 (26)\ttotal: 111ms\tremaining: 626ms\n",
      "34:\tlearn: 0.9987484\ttest: 0.9285714\tbest: 0.9285714 (26)\ttotal: 114ms\tremaining: 621ms\n",
      "35:\tlearn: 0.9987484\ttest: 0.9285714\tbest: 0.9285714 (26)\ttotal: 117ms\tremaining: 617ms\n",
      "36:\tlearn: 0.9987484\ttest: 0.9285714\tbest: 0.9285714 (26)\ttotal: 121ms\tremaining: 616ms\n",
      "37:\tlearn: 0.9987484\ttest: 0.9285714\tbest: 0.9285714 (26)\ttotal: 125ms\tremaining: 613ms\n",
      "38:\tlearn: 0.9987484\ttest: 0.9230769\tbest: 0.9285714 (26)\ttotal: 128ms\tremaining: 609ms\n",
      "39:\tlearn: 0.9987484\ttest: 0.9230769\tbest: 0.9285714 (26)\ttotal: 131ms\tremaining: 605ms\n",
      "40:\tlearn: 0.9987484\ttest: 0.9230769\tbest: 0.9285714 (26)\ttotal: 134ms\tremaining: 601ms\n",
      "41:\tlearn: 0.9987484\ttest: 0.9230769\tbest: 0.9285714 (26)\ttotal: 138ms\tremaining: 599ms\n",
      "42:\tlearn: 0.9987484\ttest: 0.9230769\tbest: 0.9285714 (26)\ttotal: 141ms\tremaining: 597ms\n",
      "43:\tlearn: 0.9987484\ttest: 0.9230769\tbest: 0.9285714 (26)\ttotal: 144ms\tremaining: 593ms\n",
      "44:\tlearn: 0.9987484\ttest: 0.9230769\tbest: 0.9285714 (26)\ttotal: 147ms\tremaining: 589ms\n",
      "45:\tlearn: 0.9987484\ttest: 0.9230769\tbest: 0.9285714 (26)\ttotal: 150ms\tremaining: 585ms\n",
      "46:\tlearn: 0.9987484\ttest: 0.9230769\tbest: 0.9285714 (26)\ttotal: 154ms\tremaining: 582ms\n",
      "47:\tlearn: 0.9987484\ttest: 0.9230769\tbest: 0.9285714 (26)\ttotal: 157ms\tremaining: 578ms\n",
      "48:\tlearn: 1.0000000\ttest: 0.9230769\tbest: 0.9285714 (26)\ttotal: 160ms\tremaining: 574ms\n",
      "49:\tlearn: 1.0000000\ttest: 0.9230769\tbest: 0.9285714 (26)\ttotal: 163ms\tremaining: 570ms\n",
      "50:\tlearn: 1.0000000\ttest: 0.9230769\tbest: 0.9285714 (26)\ttotal: 166ms\tremaining: 566ms\n",
      "51:\tlearn: 1.0000000\ttest: 0.9230769\tbest: 0.9285714 (26)\ttotal: 169ms\tremaining: 563ms\n",
      "52:\tlearn: 1.0000000\ttest: 0.9230769\tbest: 0.9285714 (26)\ttotal: 172ms\tremaining: 560ms\n",
      "53:\tlearn: 1.0000000\ttest: 0.9230769\tbest: 0.9285714 (26)\ttotal: 176ms\tremaining: 556ms\n",
      "54:\tlearn: 1.0000000\ttest: 0.9230769\tbest: 0.9285714 (26)\ttotal: 179ms\tremaining: 552ms\n",
      "55:\tlearn: 1.0000000\ttest: 0.9230769\tbest: 0.9285714 (26)\ttotal: 182ms\tremaining: 548ms\n",
      "56:\tlearn: 1.0000000\ttest: 0.9230769\tbest: 0.9285714 (26)\ttotal: 185ms\tremaining: 546ms\n",
      "57:\tlearn: 1.0000000\ttest: 0.9230769\tbest: 0.9285714 (26)\ttotal: 188ms\tremaining: 543ms\n",
      "58:\tlearn: 1.0000000\ttest: 0.9230769\tbest: 0.9285714 (26)\ttotal: 192ms\tremaining: 539ms\n",
      "59:\tlearn: 1.0000000\ttest: 0.9230769\tbest: 0.9285714 (26)\ttotal: 195ms\tremaining: 535ms\n",
      "60:\tlearn: 1.0000000\ttest: 0.9230769\tbest: 0.9285714 (26)\ttotal: 198ms\tremaining: 532ms\n",
      "61:\tlearn: 1.0000000\ttest: 0.9230769\tbest: 0.9285714 (26)\ttotal: 201ms\tremaining: 530ms\n",
      "62:\tlearn: 1.0000000\ttest: 0.9230769\tbest: 0.9285714 (26)\ttotal: 205ms\tremaining: 527ms\n",
      "63:\tlearn: 1.0000000\ttest: 0.9230769\tbest: 0.9285714 (26)\ttotal: 208ms\tremaining: 524ms\n",
      "64:\tlearn: 1.0000000\ttest: 0.9230769\tbest: 0.9285714 (26)\ttotal: 211ms\tremaining: 520ms\n",
      "65:\tlearn: 1.0000000\ttest: 0.9230769\tbest: 0.9285714 (26)\ttotal: 215ms\tremaining: 517ms\n",
      "66:\tlearn: 1.0000000\ttest: 0.9230769\tbest: 0.9285714 (26)\ttotal: 218ms\tremaining: 514ms\n",
      "67:\tlearn: 1.0000000\ttest: 0.9230769\tbest: 0.9285714 (26)\ttotal: 221ms\tremaining: 510ms\n",
      "68:\tlearn: 1.0000000\ttest: 0.9230769\tbest: 0.9285714 (26)\ttotal: 224ms\tremaining: 507ms\n",
      "69:\tlearn: 1.0000000\ttest: 0.9230769\tbest: 0.9285714 (26)\ttotal: 227ms\tremaining: 503ms\n",
      "70:\tlearn: 1.0000000\ttest: 0.9230769\tbest: 0.9285714 (26)\ttotal: 231ms\tremaining: 501ms\n",
      "71:\tlearn: 1.0000000\ttest: 0.9230769\tbest: 0.9285714 (26)\ttotal: 235ms\tremaining: 499ms\n",
      "72:\tlearn: 1.0000000\ttest: 0.9230769\tbest: 0.9285714 (26)\ttotal: 238ms\tremaining: 496ms\n",
      "73:\tlearn: 1.0000000\ttest: 0.9230769\tbest: 0.9285714 (26)\ttotal: 241ms\tremaining: 493ms\n",
      "74:\tlearn: 1.0000000\ttest: 0.9230769\tbest: 0.9285714 (26)\ttotal: 244ms\tremaining: 489ms\n",
      "75:\tlearn: 1.0000000\ttest: 0.9230769\tbest: 0.9285714 (26)\ttotal: 248ms\tremaining: 485ms\n",
      "76:\tlearn: 1.0000000\ttest: 0.9230769\tbest: 0.9285714 (26)\ttotal: 251ms\tremaining: 483ms\n",
      "77:\tlearn: 1.0000000\ttest: 0.9230769\tbest: 0.9285714 (26)\ttotal: 254ms\tremaining: 480ms\n",
      "78:\tlearn: 1.0000000\ttest: 0.9230769\tbest: 0.9285714 (26)\ttotal: 258ms\tremaining: 476ms\n",
      "79:\tlearn: 1.0000000\ttest: 0.9230769\tbest: 0.9285714 (26)\ttotal: 261ms\tremaining: 472ms\n",
      "80:\tlearn: 1.0000000\ttest: 0.9230769\tbest: 0.9285714 (26)\ttotal: 264ms\tremaining: 469ms\n",
      "81:\tlearn: 1.0000000\ttest: 0.9230769\tbest: 0.9285714 (26)\ttotal: 267ms\tremaining: 466ms\n",
      "82:\tlearn: 1.0000000\ttest: 0.9230769\tbest: 0.9285714 (26)\ttotal: 270ms\tremaining: 463ms\n",
      "83:\tlearn: 1.0000000\ttest: 0.9230769\tbest: 0.9285714 (26)\ttotal: 274ms\tremaining: 459ms\n",
      "84:\tlearn: 1.0000000\ttest: 0.9230769\tbest: 0.9285714 (26)\ttotal: 277ms\tremaining: 456ms\n",
      "85:\tlearn: 1.0000000\ttest: 0.9230769\tbest: 0.9285714 (26)\ttotal: 280ms\tremaining: 452ms\n",
      "86:\tlearn: 1.0000000\ttest: 0.9230769\tbest: 0.9285714 (26)\ttotal: 283ms\tremaining: 449ms\n",
      "87:\tlearn: 1.0000000\ttest: 0.9230769\tbest: 0.9285714 (26)\ttotal: 286ms\tremaining: 445ms\n",
      "88:\tlearn: 1.0000000\ttest: 0.9230769\tbest: 0.9285714 (26)\ttotal: 289ms\tremaining: 442ms\n",
      "89:\tlearn: 1.0000000\ttest: 0.9230769\tbest: 0.9285714 (26)\ttotal: 292ms\tremaining: 438ms\n",
      "90:\tlearn: 1.0000000\ttest: 0.9230769\tbest: 0.9285714 (26)\ttotal: 295ms\tremaining: 434ms\n",
      "91:\tlearn: 1.0000000\ttest: 0.9230769\tbest: 0.9285714 (26)\ttotal: 298ms\tremaining: 431ms\n",
      "92:\tlearn: 1.0000000\ttest: 0.9230769\tbest: 0.9285714 (26)\ttotal: 302ms\tremaining: 428ms\n",
      "93:\tlearn: 1.0000000\ttest: 0.9230769\tbest: 0.9285714 (26)\ttotal: 305ms\tremaining: 425ms\n",
      "94:\tlearn: 1.0000000\ttest: 0.9230769\tbest: 0.9285714 (26)\ttotal: 308ms\tremaining: 421ms\n",
      "95:\tlearn: 1.0000000\ttest: 0.9230769\tbest: 0.9285714 (26)\ttotal: 311ms\tremaining: 418ms\n",
      "96:\tlearn: 1.0000000\ttest: 0.9230769\tbest: 0.9285714 (26)\ttotal: 314ms\tremaining: 415ms\n",
      "97:\tlearn: 1.0000000\ttest: 0.9230769\tbest: 0.9285714 (26)\ttotal: 318ms\tremaining: 412ms\n",
      "98:\tlearn: 1.0000000\ttest: 0.9230769\tbest: 0.9285714 (26)\ttotal: 321ms\tremaining: 408ms\n",
      "99:\tlearn: 1.0000000\ttest: 0.9230769\tbest: 0.9285714 (26)\ttotal: 324ms\tremaining: 404ms\n",
      "100:\tlearn: 1.0000000\ttest: 0.9230769\tbest: 0.9285714 (26)\ttotal: 327ms\tremaining: 401ms\n",
      "101:\tlearn: 1.0000000\ttest: 0.9285714\tbest: 0.9285714 (26)\ttotal: 330ms\tremaining: 398ms\n",
      "102:\tlearn: 1.0000000\ttest: 0.9285714\tbest: 0.9285714 (26)\ttotal: 333ms\tremaining: 394ms\n",
      "103:\tlearn: 1.0000000\ttest: 0.9285714\tbest: 0.9285714 (26)\ttotal: 336ms\tremaining: 391ms\n",
      "104:\tlearn: 1.0000000\ttest: 0.9285714\tbest: 0.9285714 (26)\ttotal: 340ms\tremaining: 388ms\n",
      "105:\tlearn: 1.0000000\ttest: 0.9285714\tbest: 0.9285714 (26)\ttotal: 343ms\tremaining: 385ms\n",
      "106:\tlearn: 1.0000000\ttest: 0.9285714\tbest: 0.9285714 (26)\ttotal: 347ms\tremaining: 383ms\n",
      "107:\tlearn: 1.0000000\ttest: 0.9285714\tbest: 0.9285714 (26)\ttotal: 350ms\tremaining: 380ms\n",
      "108:\tlearn: 1.0000000\ttest: 0.9285714\tbest: 0.9285714 (26)\ttotal: 354ms\tremaining: 376ms\n",
      "109:\tlearn: 1.0000000\ttest: 0.9285714\tbest: 0.9285714 (26)\ttotal: 357ms\tremaining: 373ms\n",
      "110:\tlearn: 1.0000000\ttest: 0.9285714\tbest: 0.9285714 (26)\ttotal: 360ms\tremaining: 370ms\n",
      "111:\tlearn: 1.0000000\ttest: 0.9285714\tbest: 0.9285714 (26)\ttotal: 364ms\tremaining: 367ms\n",
      "112:\tlearn: 1.0000000\ttest: 0.9230769\tbest: 0.9285714 (26)\ttotal: 367ms\tremaining: 364ms\n",
      "113:\tlearn: 1.0000000\ttest: 0.9230769\tbest: 0.9285714 (26)\ttotal: 371ms\tremaining: 361ms\n",
      "114:\tlearn: 1.0000000\ttest: 0.9230769\tbest: 0.9285714 (26)\ttotal: 374ms\tremaining: 357ms\n",
      "115:\tlearn: 1.0000000\ttest: 0.9230769\tbest: 0.9285714 (26)\ttotal: 377ms\tremaining: 354ms\n",
      "116:\tlearn: 1.0000000\ttest: 0.9230769\tbest: 0.9285714 (26)\ttotal: 381ms\tremaining: 352ms\n",
      "117:\tlearn: 1.0000000\ttest: 0.9230769\tbest: 0.9285714 (26)\ttotal: 386ms\tremaining: 350ms\n",
      "118:\tlearn: 1.0000000\ttest: 0.9285714\tbest: 0.9285714 (26)\ttotal: 390ms\tremaining: 347ms\n",
      "119:\tlearn: 1.0000000\ttest: 0.9285714\tbest: 0.9285714 (26)\ttotal: 393ms\tremaining: 344ms\n",
      "120:\tlearn: 1.0000000\ttest: 0.9285714\tbest: 0.9285714 (26)\ttotal: 396ms\tremaining: 341ms\n",
      "121:\tlearn: 1.0000000\ttest: 0.9285714\tbest: 0.9285714 (26)\ttotal: 400ms\tremaining: 338ms\n",
      "122:\tlearn: 1.0000000\ttest: 0.9285714\tbest: 0.9285714 (26)\ttotal: 404ms\tremaining: 335ms\n",
      "123:\tlearn: 1.0000000\ttest: 0.9230769\tbest: 0.9285714 (26)\ttotal: 407ms\tremaining: 331ms\n",
      "124:\tlearn: 1.0000000\ttest: 0.9285714\tbest: 0.9285714 (26)\ttotal: 411ms\tremaining: 328ms\n",
      "125:\tlearn: 1.0000000\ttest: 0.9285714\tbest: 0.9285714 (26)\ttotal: 414ms\tremaining: 325ms\n",
      "126:\tlearn: 1.0000000\ttest: 0.9285714\tbest: 0.9285714 (26)\ttotal: 418ms\tremaining: 322ms\n",
      "127:\tlearn: 1.0000000\ttest: 0.9285714\tbest: 0.9285714 (26)\ttotal: 422ms\tremaining: 319ms\n",
      "128:\tlearn: 1.0000000\ttest: 0.9230769\tbest: 0.9285714 (26)\ttotal: 426ms\tremaining: 317ms\n",
      "129:\tlearn: 1.0000000\ttest: 0.9230769\tbest: 0.9285714 (26)\ttotal: 429ms\tremaining: 314ms\n",
      "130:\tlearn: 1.0000000\ttest: 0.9230769\tbest: 0.9285714 (26)\ttotal: 434ms\tremaining: 312ms\n",
      "131:\tlearn: 1.0000000\ttest: 0.9230769\tbest: 0.9285714 (26)\ttotal: 439ms\tremaining: 309ms\n",
      "132:\tlearn: 1.0000000\ttest: 0.9230769\tbest: 0.9285714 (26)\ttotal: 443ms\tremaining: 307ms\n",
      "133:\tlearn: 1.0000000\ttest: 0.9230769\tbest: 0.9285714 (26)\ttotal: 448ms\tremaining: 304ms\n",
      "134:\tlearn: 1.0000000\ttest: 0.9230769\tbest: 0.9285714 (26)\ttotal: 452ms\tremaining: 301ms\n",
      "135:\tlearn: 1.0000000\ttest: 0.9230769\tbest: 0.9285714 (26)\ttotal: 456ms\tremaining: 299ms\n",
      "136:\tlearn: 1.0000000\ttest: 0.9230769\tbest: 0.9285714 (26)\ttotal: 461ms\tremaining: 296ms\n",
      "137:\tlearn: 1.0000000\ttest: 0.9230769\tbest: 0.9285714 (26)\ttotal: 465ms\tremaining: 293ms\n",
      "138:\tlearn: 1.0000000\ttest: 0.9230769\tbest: 0.9285714 (26)\ttotal: 469ms\tremaining: 290ms\n",
      "139:\tlearn: 1.0000000\ttest: 0.9230769\tbest: 0.9285714 (26)\ttotal: 472ms\tremaining: 287ms\n",
      "140:\tlearn: 1.0000000\ttest: 0.9285714\tbest: 0.9285714 (26)\ttotal: 475ms\tremaining: 283ms\n",
      "141:\tlearn: 1.0000000\ttest: 0.9230769\tbest: 0.9285714 (26)\ttotal: 478ms\tremaining: 280ms\n",
      "142:\tlearn: 1.0000000\ttest: 0.9230769\tbest: 0.9285714 (26)\ttotal: 482ms\tremaining: 276ms\n",
      "143:\tlearn: 1.0000000\ttest: 0.9230769\tbest: 0.9285714 (26)\ttotal: 486ms\tremaining: 273ms\n",
      "144:\tlearn: 1.0000000\ttest: 0.9230769\tbest: 0.9285714 (26)\ttotal: 489ms\tremaining: 270ms\n",
      "145:\tlearn: 1.0000000\ttest: 0.9230769\tbest: 0.9285714 (26)\ttotal: 492ms\tremaining: 266ms\n",
      "146:\tlearn: 1.0000000\ttest: 0.9230769\tbest: 0.9285714 (26)\ttotal: 495ms\tremaining: 263ms\n",
      "147:\tlearn: 1.0000000\ttest: 0.9230769\tbest: 0.9285714 (26)\ttotal: 499ms\tremaining: 260ms\n",
      "148:\tlearn: 1.0000000\ttest: 0.9230769\tbest: 0.9285714 (26)\ttotal: 503ms\tremaining: 256ms\n",
      "149:\tlearn: 1.0000000\ttest: 0.9230769\tbest: 0.9285714 (26)\ttotal: 506ms\tremaining: 253ms\n",
      "150:\tlearn: 1.0000000\ttest: 0.9230769\tbest: 0.9285714 (26)\ttotal: 509ms\tremaining: 250ms\n",
      "151:\tlearn: 1.0000000\ttest: 0.9230769\tbest: 0.9285714 (26)\ttotal: 513ms\tremaining: 246ms\n",
      "152:\tlearn: 1.0000000\ttest: 0.9230769\tbest: 0.9285714 (26)\ttotal: 516ms\tremaining: 243ms\n",
      "153:\tlearn: 1.0000000\ttest: 0.9230769\tbest: 0.9285714 (26)\ttotal: 520ms\tremaining: 240ms\n",
      "154:\tlearn: 1.0000000\ttest: 0.9230769\tbest: 0.9285714 (26)\ttotal: 523ms\tremaining: 236ms\n",
      "155:\tlearn: 1.0000000\ttest: 0.9230769\tbest: 0.9285714 (26)\ttotal: 526ms\tremaining: 233ms\n",
      "156:\tlearn: 1.0000000\ttest: 0.9230769\tbest: 0.9285714 (26)\ttotal: 529ms\tremaining: 229ms\n",
      "157:\tlearn: 1.0000000\ttest: 0.9230769\tbest: 0.9285714 (26)\ttotal: 532ms\tremaining: 226ms\n",
      "158:\tlearn: 1.0000000\ttest: 0.9230769\tbest: 0.9285714 (26)\ttotal: 535ms\tremaining: 222ms\n",
      "159:\tlearn: 1.0000000\ttest: 0.9230769\tbest: 0.9285714 (26)\ttotal: 538ms\tremaining: 219ms\n",
      "160:\tlearn: 1.0000000\ttest: 0.9230769\tbest: 0.9285714 (26)\ttotal: 542ms\tremaining: 215ms\n",
      "161:\tlearn: 1.0000000\ttest: 0.9230769\tbest: 0.9285714 (26)\ttotal: 545ms\tremaining: 212ms\n",
      "162:\tlearn: 1.0000000\ttest: 0.9230769\tbest: 0.9285714 (26)\ttotal: 548ms\tremaining: 208ms\n",
      "163:\tlearn: 1.0000000\ttest: 0.9230769\tbest: 0.9285714 (26)\ttotal: 552ms\tremaining: 205ms\n",
      "164:\tlearn: 1.0000000\ttest: 0.9230769\tbest: 0.9285714 (26)\ttotal: 555ms\tremaining: 202ms\n",
      "165:\tlearn: 1.0000000\ttest: 0.9230769\tbest: 0.9285714 (26)\ttotal: 559ms\tremaining: 199ms\n",
      "166:\tlearn: 1.0000000\ttest: 0.9230769\tbest: 0.9285714 (26)\ttotal: 562ms\tremaining: 195ms\n",
      "167:\tlearn: 1.0000000\ttest: 0.9230769\tbest: 0.9285714 (26)\ttotal: 565ms\tremaining: 192ms\n",
      "168:\tlearn: 1.0000000\ttest: 0.9230769\tbest: 0.9285714 (26)\ttotal: 568ms\tremaining: 188ms\n",
      "169:\tlearn: 1.0000000\ttest: 0.9230769\tbest: 0.9285714 (26)\ttotal: 571ms\tremaining: 185ms\n",
      "170:\tlearn: 1.0000000\ttest: 0.9230769\tbest: 0.9285714 (26)\ttotal: 574ms\tremaining: 181ms\n",
      "171:\tlearn: 1.0000000\ttest: 0.9230769\tbest: 0.9285714 (26)\ttotal: 577ms\tremaining: 178ms\n",
      "172:\tlearn: 1.0000000\ttest: 0.9230769\tbest: 0.9285714 (26)\ttotal: 580ms\tremaining: 174ms\n",
      "173:\tlearn: 1.0000000\ttest: 0.9230769\tbest: 0.9285714 (26)\ttotal: 583ms\tremaining: 171ms\n",
      "174:\tlearn: 1.0000000\ttest: 0.9230769\tbest: 0.9285714 (26)\ttotal: 587ms\tremaining: 168ms\n",
      "175:\tlearn: 1.0000000\ttest: 0.9230769\tbest: 0.9285714 (26)\ttotal: 590ms\tremaining: 164ms\n",
      "176:\tlearn: 1.0000000\ttest: 0.9230769\tbest: 0.9285714 (26)\ttotal: 593ms\tremaining: 161ms\n",
      "177:\tlearn: 1.0000000\ttest: 0.9230769\tbest: 0.9285714 (26)\ttotal: 596ms\tremaining: 157ms\n",
      "178:\tlearn: 1.0000000\ttest: 0.9230769\tbest: 0.9285714 (26)\ttotal: 599ms\tremaining: 154ms\n",
      "179:\tlearn: 1.0000000\ttest: 0.9230769\tbest: 0.9285714 (26)\ttotal: 602ms\tremaining: 151ms\n",
      "180:\tlearn: 1.0000000\ttest: 0.9230769\tbest: 0.9285714 (26)\ttotal: 605ms\tremaining: 147ms\n",
      "181:\tlearn: 1.0000000\ttest: 0.9230769\tbest: 0.9285714 (26)\ttotal: 609ms\tremaining: 144ms\n",
      "182:\tlearn: 1.0000000\ttest: 0.9230769\tbest: 0.9285714 (26)\ttotal: 612ms\tremaining: 141ms\n",
      "183:\tlearn: 1.0000000\ttest: 0.9230769\tbest: 0.9285714 (26)\ttotal: 615ms\tremaining: 137ms\n",
      "184:\tlearn: 1.0000000\ttest: 0.9230769\tbest: 0.9285714 (26)\ttotal: 619ms\tremaining: 134ms\n",
      "185:\tlearn: 1.0000000\ttest: 0.9230769\tbest: 0.9285714 (26)\ttotal: 622ms\tremaining: 130ms\n",
      "186:\tlearn: 1.0000000\ttest: 0.9230769\tbest: 0.9285714 (26)\ttotal: 625ms\tremaining: 127ms\n",
      "187:\tlearn: 1.0000000\ttest: 0.9230769\tbest: 0.9285714 (26)\ttotal: 633ms\tremaining: 125ms\n",
      "188:\tlearn: 1.0000000\ttest: 0.9230769\tbest: 0.9285714 (26)\ttotal: 641ms\tremaining: 122ms\n",
      "189:\tlearn: 1.0000000\ttest: 0.9230769\tbest: 0.9285714 (26)\ttotal: 647ms\tremaining: 119ms\n",
      "190:\tlearn: 1.0000000\ttest: 0.9230769\tbest: 0.9285714 (26)\ttotal: 651ms\tremaining: 116ms\n",
      "191:\tlearn: 1.0000000\ttest: 0.9230769\tbest: 0.9285714 (26)\ttotal: 654ms\tremaining: 112ms\n",
      "192:\tlearn: 1.0000000\ttest: 0.9230769\tbest: 0.9285714 (26)\ttotal: 657ms\tremaining: 109ms\n",
      "193:\tlearn: 1.0000000\ttest: 0.9230769\tbest: 0.9285714 (26)\ttotal: 660ms\tremaining: 105ms\n",
      "194:\tlearn: 1.0000000\ttest: 0.9230769\tbest: 0.9285714 (26)\ttotal: 663ms\tremaining: 102ms\n",
      "195:\tlearn: 1.0000000\ttest: 0.9230769\tbest: 0.9285714 (26)\ttotal: 666ms\tremaining: 98.6ms\n",
      "196:\tlearn: 1.0000000\ttest: 0.9230769\tbest: 0.9285714 (26)\ttotal: 670ms\tremaining: 95.2ms\n",
      "197:\tlearn: 1.0000000\ttest: 0.9230769\tbest: 0.9285714 (26)\ttotal: 673ms\tremaining: 91.7ms\n",
      "198:\tlearn: 1.0000000\ttest: 0.9230769\tbest: 0.9285714 (26)\ttotal: 676ms\tremaining: 88.3ms\n",
      "199:\tlearn: 1.0000000\ttest: 0.9230769\tbest: 0.9285714 (26)\ttotal: 679ms\tremaining: 84.9ms\n",
      "200:\tlearn: 1.0000000\ttest: 0.9230769\tbest: 0.9285714 (26)\ttotal: 682ms\tremaining: 81.5ms\n",
      "201:\tlearn: 1.0000000\ttest: 0.9230769\tbest: 0.9285714 (26)\ttotal: 685ms\tremaining: 78ms\n",
      "202:\tlearn: 1.0000000\ttest: 0.9230769\tbest: 0.9285714 (26)\ttotal: 689ms\tremaining: 74.6ms\n",
      "203:\tlearn: 1.0000000\ttest: 0.9230769\tbest: 0.9285714 (26)\ttotal: 692ms\tremaining: 71.2ms\n",
      "204:\tlearn: 1.0000000\ttest: 0.9230769\tbest: 0.9285714 (26)\ttotal: 695ms\tremaining: 67.8ms\n",
      "205:\tlearn: 1.0000000\ttest: 0.9230769\tbest: 0.9285714 (26)\ttotal: 698ms\tremaining: 64.4ms\n",
      "206:\tlearn: 1.0000000\ttest: 0.9230769\tbest: 0.9285714 (26)\ttotal: 702ms\tremaining: 61ms\n",
      "207:\tlearn: 1.0000000\ttest: 0.9230769\tbest: 0.9285714 (26)\ttotal: 705ms\tremaining: 57.6ms\n",
      "208:\tlearn: 1.0000000\ttest: 0.9230769\tbest: 0.9285714 (26)\ttotal: 708ms\tremaining: 54.2ms\n",
      "209:\tlearn: 1.0000000\ttest: 0.9230769\tbest: 0.9285714 (26)\ttotal: 711ms\tremaining: 50.8ms\n",
      "210:\tlearn: 1.0000000\ttest: 0.9230769\tbest: 0.9285714 (26)\ttotal: 715ms\tremaining: 47.4ms\n",
      "211:\tlearn: 1.0000000\ttest: 0.9230769\tbest: 0.9285714 (26)\ttotal: 718ms\tremaining: 44ms\n",
      "212:\tlearn: 1.0000000\ttest: 0.9230769\tbest: 0.9285714 (26)\ttotal: 721ms\tremaining: 40.6ms\n",
      "213:\tlearn: 1.0000000\ttest: 0.9230769\tbest: 0.9285714 (26)\ttotal: 724ms\tremaining: 37.2ms\n",
      "214:\tlearn: 1.0000000\ttest: 0.9230769\tbest: 0.9285714 (26)\ttotal: 727ms\tremaining: 33.8ms\n",
      "215:\tlearn: 1.0000000\ttest: 0.9230769\tbest: 0.9285714 (26)\ttotal: 730ms\tremaining: 30.4ms\n",
      "216:\tlearn: 1.0000000\ttest: 0.9285714\tbest: 0.9285714 (26)\ttotal: 734ms\tremaining: 27ms\n",
      "217:\tlearn: 1.0000000\ttest: 0.9230769\tbest: 0.9285714 (26)\ttotal: 737ms\tremaining: 23.7ms\n",
      "218:\tlearn: 1.0000000\ttest: 0.9285714\tbest: 0.9285714 (26)\ttotal: 740ms\tremaining: 20.3ms\n",
      "219:\tlearn: 1.0000000\ttest: 0.9285714\tbest: 0.9285714 (26)\ttotal: 743ms\tremaining: 16.9ms\n",
      "220:\tlearn: 1.0000000\ttest: 0.9230769\tbest: 0.9285714 (26)\ttotal: 746ms\tremaining: 13.5ms\n",
      "221:\tlearn: 1.0000000\ttest: 0.9285714\tbest: 0.9285714 (26)\ttotal: 749ms\tremaining: 10.1ms\n",
      "222:\tlearn: 1.0000000\ttest: 0.9285714\tbest: 0.9285714 (26)\ttotal: 752ms\tremaining: 6.75ms\n",
      "223:\tlearn: 1.0000000\ttest: 0.9230769\tbest: 0.9285714 (26)\ttotal: 756ms\tremaining: 3.37ms\n",
      "224:\tlearn: 1.0000000\ttest: 0.9285714\tbest: 0.9285714 (26)\ttotal: 759ms\tremaining: 0us\n",
      "\n",
      "bestTest = 0.9285714286\n",
      "bestIteration = 26\n",
      "\n",
      "Training on fold [4/5]\n",
      "0:\tlearn: 0.8812261\ttest: 0.8080808\tbest: 0.8080808 (0)\ttotal: 3.54ms\tremaining: 794ms\n",
      "1:\tlearn: 0.9251870\ttest: 0.8300000\tbest: 0.8300000 (1)\ttotal: 6.52ms\tremaining: 727ms\n",
      "2:\tlearn: 0.9426434\ttest: 0.8217822\tbest: 0.8300000 (1)\ttotal: 9.65ms\tremaining: 714ms\n",
      "3:\tlearn: 0.9464508\ttest: 0.8217822\tbest: 0.8300000 (1)\ttotal: 12.7ms\tremaining: 700ms\n",
      "4:\tlearn: 0.9539228\ttest: 0.8700000\tbest: 0.8700000 (4)\ttotal: 15.8ms\tremaining: 695ms\n",
      "5:\tlearn: 0.9625000\ttest: 0.8787879\tbest: 0.8787879 (5)\ttotal: 19ms\tremaining: 693ms\n",
      "6:\tlearn: 0.9651741\ttest: 0.8686869\tbest: 0.8787879 (5)\ttotal: 22.1ms\tremaining: 689ms\n",
      "7:\tlearn: 0.9676617\ttest: 0.8787879\tbest: 0.8787879 (5)\ttotal: 25.3ms\tremaining: 686ms\n",
      "8:\tlearn: 0.9713574\ttest: 0.8900000\tbest: 0.8900000 (8)\ttotal: 28.4ms\tremaining: 681ms\n",
      "9:\tlearn: 0.9726368\ttest: 0.8629442\tbest: 0.8900000 (8)\ttotal: 31.8ms\tremaining: 684ms\n",
      "10:\tlearn: 0.9776675\ttest: 0.8787879\tbest: 0.8900000 (8)\ttotal: 34.9ms\tremaining: 679ms\n",
      "11:\tlearn: 0.9776119\ttest: 0.8832487\tbest: 0.8900000 (8)\ttotal: 37.9ms\tremaining: 674ms\n",
      "12:\tlearn: 0.9825436\ttest: 0.8888889\tbest: 0.8900000 (8)\ttotal: 41ms\tremaining: 669ms\n",
      "13:\tlearn: 0.9813200\ttest: 0.9054726\tbest: 0.9054726 (13)\ttotal: 44.1ms\tremaining: 665ms\n",
      "14:\tlearn: 0.9825871\ttest: 0.9100000\tbest: 0.9100000 (14)\ttotal: 47.4ms\tremaining: 663ms\n",
      "15:\tlearn: 0.9813665\ttest: 0.9054726\tbest: 0.9100000 (14)\ttotal: 50.7ms\tremaining: 662ms\n",
      "16:\tlearn: 0.9813200\ttest: 0.9000000\tbest: 0.9100000 (14)\ttotal: 53.7ms\tremaining: 658ms\n",
      "17:\tlearn: 0.9825436\ttest: 0.9045226\tbest: 0.9100000 (14)\ttotal: 56.9ms\tremaining: 655ms\n",
      "18:\tlearn: 0.9875312\ttest: 0.9100000\tbest: 0.9100000 (14)\ttotal: 60.3ms\tremaining: 653ms\n",
      "19:\tlearn: 0.9887640\ttest: 0.9100000\tbest: 0.9100000 (14)\ttotal: 63.3ms\tremaining: 648ms\n",
      "20:\tlearn: 0.9900000\ttest: 0.9054726\tbest: 0.9100000 (14)\ttotal: 66.4ms\tremaining: 645ms\n",
      "21:\tlearn: 0.9924812\ttest: 0.9000000\tbest: 0.9100000 (14)\ttotal: 69.5ms\tremaining: 641ms\n",
      "22:\tlearn: 0.9912390\ttest: 0.9000000\tbest: 0.9100000 (14)\ttotal: 72.7ms\tremaining: 639ms\n",
      "23:\tlearn: 0.9924812\ttest: 0.9045226\tbest: 0.9100000 (14)\ttotal: 75.9ms\tremaining: 636ms\n",
      "24:\tlearn: 0.9975000\ttest: 0.8989899\tbest: 0.9100000 (14)\ttotal: 79.1ms\tremaining: 633ms\n",
      "25:\tlearn: 0.9962547\ttest: 0.8877551\tbest: 0.9100000 (14)\ttotal: 82.3ms\tremaining: 630ms\n",
      "26:\tlearn: 0.9975000\ttest: 0.8877551\tbest: 0.9100000 (14)\ttotal: 85.6ms\tremaining: 628ms\n",
      "27:\tlearn: 0.9975000\ttest: 0.8934010\tbest: 0.9100000 (14)\ttotal: 88.8ms\tremaining: 625ms\n",
      "28:\tlearn: 0.9975000\ttest: 0.8934010\tbest: 0.9100000 (14)\ttotal: 91.9ms\tremaining: 621ms\n",
      "29:\tlearn: 0.9975000\ttest: 0.8989899\tbest: 0.9100000 (14)\ttotal: 94.9ms\tremaining: 617ms\n",
      "30:\tlearn: 0.9987484\ttest: 0.9100000\tbest: 0.9100000 (14)\ttotal: 98.2ms\tremaining: 614ms\n",
      "31:\tlearn: 0.9987484\ttest: 0.9045226\tbest: 0.9100000 (14)\ttotal: 101ms\tremaining: 612ms\n",
      "32:\tlearn: 0.9987484\ttest: 0.8989899\tbest: 0.9100000 (14)\ttotal: 105ms\tremaining: 608ms\n",
      "33:\tlearn: 0.9987484\ttest: 0.9045226\tbest: 0.9100000 (14)\ttotal: 108ms\tremaining: 607ms\n",
      "34:\tlearn: 0.9987484\ttest: 0.9045226\tbest: 0.9100000 (14)\ttotal: 111ms\tremaining: 604ms\n",
      "35:\tlearn: 0.9987484\ttest: 0.8934010\tbest: 0.9100000 (14)\ttotal: 114ms\tremaining: 600ms\n",
      "36:\tlearn: 0.9987484\ttest: 0.8989899\tbest: 0.9100000 (14)\ttotal: 117ms\tremaining: 597ms\n",
      "37:\tlearn: 0.9987484\ttest: 0.8877551\tbest: 0.9100000 (14)\ttotal: 121ms\tremaining: 593ms\n",
      "38:\tlearn: 0.9987484\ttest: 0.8989899\tbest: 0.9100000 (14)\ttotal: 124ms\tremaining: 590ms\n",
      "39:\tlearn: 0.9987484\ttest: 0.8989899\tbest: 0.9100000 (14)\ttotal: 127ms\tremaining: 587ms\n",
      "40:\tlearn: 0.9987484\ttest: 0.8989899\tbest: 0.9100000 (14)\ttotal: 130ms\tremaining: 583ms\n",
      "41:\tlearn: 0.9987484\ttest: 0.9045226\tbest: 0.9100000 (14)\ttotal: 133ms\tremaining: 581ms\n",
      "42:\tlearn: 0.9987484\ttest: 0.8934010\tbest: 0.9100000 (14)\ttotal: 136ms\tremaining: 577ms\n",
      "43:\tlearn: 0.9987484\ttest: 0.8934010\tbest: 0.9100000 (14)\ttotal: 141ms\tremaining: 580ms\n",
      "44:\tlearn: 0.9987484\ttest: 0.8934010\tbest: 0.9100000 (14)\ttotal: 144ms\tremaining: 577ms\n",
      "45:\tlearn: 0.9987484\ttest: 0.8934010\tbest: 0.9100000 (14)\ttotal: 148ms\tremaining: 574ms\n",
      "46:\tlearn: 1.0000000\ttest: 0.8877551\tbest: 0.9100000 (14)\ttotal: 151ms\tremaining: 570ms\n",
      "47:\tlearn: 1.0000000\ttest: 0.8934010\tbest: 0.9100000 (14)\ttotal: 154ms\tremaining: 567ms\n",
      "48:\tlearn: 1.0000000\ttest: 0.8934010\tbest: 0.9100000 (14)\ttotal: 157ms\tremaining: 564ms\n",
      "49:\tlearn: 1.0000000\ttest: 0.8934010\tbest: 0.9100000 (14)\ttotal: 160ms\tremaining: 560ms\n",
      "50:\tlearn: 1.0000000\ttest: 0.8877551\tbest: 0.9100000 (14)\ttotal: 163ms\tremaining: 557ms\n",
      "51:\tlearn: 1.0000000\ttest: 0.8877551\tbest: 0.9100000 (14)\ttotal: 167ms\tremaining: 555ms\n",
      "52:\tlearn: 1.0000000\ttest: 0.8877551\tbest: 0.9100000 (14)\ttotal: 170ms\tremaining: 551ms\n",
      "53:\tlearn: 1.0000000\ttest: 0.8877551\tbest: 0.9100000 (14)\ttotal: 173ms\tremaining: 549ms\n",
      "54:\tlearn: 1.0000000\ttest: 0.8877551\tbest: 0.9100000 (14)\ttotal: 176ms\tremaining: 545ms\n",
      "55:\tlearn: 1.0000000\ttest: 0.8934010\tbest: 0.9100000 (14)\ttotal: 180ms\tremaining: 542ms\n",
      "56:\tlearn: 1.0000000\ttest: 0.8934010\tbest: 0.9100000 (14)\ttotal: 183ms\tremaining: 539ms\n",
      "57:\tlearn: 1.0000000\ttest: 0.8934010\tbest: 0.9100000 (14)\ttotal: 186ms\tremaining: 535ms\n",
      "58:\tlearn: 1.0000000\ttest: 0.8934010\tbest: 0.9100000 (14)\ttotal: 189ms\tremaining: 532ms\n",
      "59:\tlearn: 1.0000000\ttest: 0.8934010\tbest: 0.9100000 (14)\ttotal: 192ms\tremaining: 528ms\n",
      "60:\tlearn: 1.0000000\ttest: 0.8934010\tbest: 0.9100000 (14)\ttotal: 195ms\tremaining: 525ms\n",
      "61:\tlearn: 1.0000000\ttest: 0.8934010\tbest: 0.9100000 (14)\ttotal: 198ms\tremaining: 522ms\n",
      "62:\tlearn: 1.0000000\ttest: 0.8989899\tbest: 0.9100000 (14)\ttotal: 202ms\tremaining: 518ms\n",
      "63:\tlearn: 1.0000000\ttest: 0.8989899\tbest: 0.9100000 (14)\ttotal: 205ms\tremaining: 515ms\n",
      "64:\tlearn: 1.0000000\ttest: 0.8934010\tbest: 0.9100000 (14)\ttotal: 208ms\tremaining: 512ms\n",
      "65:\tlearn: 1.0000000\ttest: 0.8989899\tbest: 0.9100000 (14)\ttotal: 211ms\tremaining: 508ms\n",
      "66:\tlearn: 1.0000000\ttest: 0.8989899\tbest: 0.9100000 (14)\ttotal: 214ms\tremaining: 505ms\n",
      "67:\tlearn: 1.0000000\ttest: 0.8989899\tbest: 0.9100000 (14)\ttotal: 217ms\tremaining: 502ms\n",
      "68:\tlearn: 1.0000000\ttest: 0.8989899\tbest: 0.9100000 (14)\ttotal: 221ms\tremaining: 499ms\n",
      "69:\tlearn: 1.0000000\ttest: 0.8989899\tbest: 0.9100000 (14)\ttotal: 223ms\tremaining: 495ms\n",
      "70:\tlearn: 1.0000000\ttest: 0.8989899\tbest: 0.9100000 (14)\ttotal: 227ms\tremaining: 492ms\n",
      "71:\tlearn: 1.0000000\ttest: 0.8934010\tbest: 0.9100000 (14)\ttotal: 231ms\tremaining: 490ms\n",
      "72:\tlearn: 1.0000000\ttest: 0.8989899\tbest: 0.9100000 (14)\ttotal: 234ms\tremaining: 487ms\n",
      "73:\tlearn: 1.0000000\ttest: 0.8934010\tbest: 0.9100000 (14)\ttotal: 237ms\tremaining: 483ms\n",
      "74:\tlearn: 1.0000000\ttest: 0.8989899\tbest: 0.9100000 (14)\ttotal: 240ms\tremaining: 480ms\n",
      "75:\tlearn: 1.0000000\ttest: 0.8989899\tbest: 0.9100000 (14)\ttotal: 243ms\tremaining: 476ms\n",
      "76:\tlearn: 1.0000000\ttest: 0.8989899\tbest: 0.9100000 (14)\ttotal: 247ms\tremaining: 474ms\n",
      "77:\tlearn: 1.0000000\ttest: 0.8934010\tbest: 0.9100000 (14)\ttotal: 250ms\tremaining: 471ms\n",
      "78:\tlearn: 1.0000000\ttest: 0.8934010\tbest: 0.9100000 (14)\ttotal: 254ms\tremaining: 469ms\n",
      "79:\tlearn: 1.0000000\ttest: 0.8934010\tbest: 0.9100000 (14)\ttotal: 257ms\tremaining: 466ms\n",
      "80:\tlearn: 1.0000000\ttest: 0.8934010\tbest: 0.9100000 (14)\ttotal: 261ms\tremaining: 463ms\n",
      "81:\tlearn: 1.0000000\ttest: 0.8989899\tbest: 0.9100000 (14)\ttotal: 265ms\tremaining: 461ms\n",
      "82:\tlearn: 1.0000000\ttest: 0.8989899\tbest: 0.9100000 (14)\ttotal: 268ms\tremaining: 458ms\n",
      "83:\tlearn: 1.0000000\ttest: 0.8989899\tbest: 0.9100000 (14)\ttotal: 271ms\tremaining: 454ms\n",
      "84:\tlearn: 1.0000000\ttest: 0.8989899\tbest: 0.9100000 (14)\ttotal: 274ms\tremaining: 451ms\n",
      "85:\tlearn: 1.0000000\ttest: 0.8989899\tbest: 0.9100000 (14)\ttotal: 277ms\tremaining: 448ms\n",
      "86:\tlearn: 1.0000000\ttest: 0.8989899\tbest: 0.9100000 (14)\ttotal: 280ms\tremaining: 445ms\n",
      "87:\tlearn: 1.0000000\ttest: 0.8934010\tbest: 0.9100000 (14)\ttotal: 284ms\tremaining: 441ms\n",
      "88:\tlearn: 1.0000000\ttest: 0.8989899\tbest: 0.9100000 (14)\ttotal: 287ms\tremaining: 438ms\n",
      "89:\tlearn: 1.0000000\ttest: 0.8989899\tbest: 0.9100000 (14)\ttotal: 290ms\tremaining: 435ms\n",
      "90:\tlearn: 1.0000000\ttest: 0.8989899\tbest: 0.9100000 (14)\ttotal: 293ms\tremaining: 432ms\n",
      "91:\tlearn: 1.0000000\ttest: 0.8934010\tbest: 0.9100000 (14)\ttotal: 296ms\tremaining: 428ms\n",
      "92:\tlearn: 1.0000000\ttest: 0.8989899\tbest: 0.9100000 (14)\ttotal: 300ms\tremaining: 425ms\n",
      "93:\tlearn: 1.0000000\ttest: 0.8934010\tbest: 0.9100000 (14)\ttotal: 303ms\tremaining: 422ms\n",
      "94:\tlearn: 1.0000000\ttest: 0.8934010\tbest: 0.9100000 (14)\ttotal: 306ms\tremaining: 418ms\n",
      "95:\tlearn: 1.0000000\ttest: 0.8934010\tbest: 0.9100000 (14)\ttotal: 309ms\tremaining: 415ms\n",
      "96:\tlearn: 1.0000000\ttest: 0.8989899\tbest: 0.9100000 (14)\ttotal: 312ms\tremaining: 412ms\n",
      "97:\tlearn: 1.0000000\ttest: 0.8989899\tbest: 0.9100000 (14)\ttotal: 315ms\tremaining: 408ms\n",
      "98:\tlearn: 1.0000000\ttest: 0.8989899\tbest: 0.9100000 (14)\ttotal: 318ms\tremaining: 405ms\n",
      "99:\tlearn: 1.0000000\ttest: 0.8934010\tbest: 0.9100000 (14)\ttotal: 321ms\tremaining: 402ms\n",
      "100:\tlearn: 1.0000000\ttest: 0.8934010\tbest: 0.9100000 (14)\ttotal: 325ms\tremaining: 399ms\n",
      "101:\tlearn: 1.0000000\ttest: 0.8934010\tbest: 0.9100000 (14)\ttotal: 328ms\tremaining: 395ms\n",
      "102:\tlearn: 1.0000000\ttest: 0.8934010\tbest: 0.9100000 (14)\ttotal: 331ms\tremaining: 392ms\n",
      "103:\tlearn: 1.0000000\ttest: 0.8934010\tbest: 0.9100000 (14)\ttotal: 334ms\tremaining: 389ms\n",
      "104:\tlearn: 1.0000000\ttest: 0.8934010\tbest: 0.9100000 (14)\ttotal: 337ms\tremaining: 385ms\n",
      "105:\tlearn: 1.0000000\ttest: 0.8934010\tbest: 0.9100000 (14)\ttotal: 340ms\tremaining: 382ms\n",
      "106:\tlearn: 1.0000000\ttest: 0.8934010\tbest: 0.9100000 (14)\ttotal: 344ms\tremaining: 380ms\n",
      "107:\tlearn: 1.0000000\ttest: 0.8934010\tbest: 0.9100000 (14)\ttotal: 347ms\tremaining: 376ms\n",
      "108:\tlearn: 1.0000000\ttest: 0.8934010\tbest: 0.9100000 (14)\ttotal: 350ms\tremaining: 373ms\n",
      "109:\tlearn: 1.0000000\ttest: 0.8934010\tbest: 0.9100000 (14)\ttotal: 353ms\tremaining: 369ms\n",
      "110:\tlearn: 1.0000000\ttest: 0.8934010\tbest: 0.9100000 (14)\ttotal: 357ms\tremaining: 366ms\n",
      "111:\tlearn: 1.0000000\ttest: 0.8934010\tbest: 0.9100000 (14)\ttotal: 360ms\tremaining: 363ms\n",
      "112:\tlearn: 1.0000000\ttest: 0.8934010\tbest: 0.9100000 (14)\ttotal: 363ms\tremaining: 360ms\n",
      "113:\tlearn: 1.0000000\ttest: 0.8934010\tbest: 0.9100000 (14)\ttotal: 366ms\tremaining: 356ms\n",
      "114:\tlearn: 1.0000000\ttest: 0.8934010\tbest: 0.9100000 (14)\ttotal: 369ms\tremaining: 353ms\n",
      "115:\tlearn: 1.0000000\ttest: 0.8934010\tbest: 0.9100000 (14)\ttotal: 372ms\tremaining: 350ms\n",
      "116:\tlearn: 1.0000000\ttest: 0.8934010\tbest: 0.9100000 (14)\ttotal: 375ms\tremaining: 346ms\n",
      "117:\tlearn: 1.0000000\ttest: 0.8934010\tbest: 0.9100000 (14)\ttotal: 378ms\tremaining: 343ms\n",
      "118:\tlearn: 1.0000000\ttest: 0.8934010\tbest: 0.9100000 (14)\ttotal: 381ms\tremaining: 340ms\n",
      "119:\tlearn: 1.0000000\ttest: 0.8934010\tbest: 0.9100000 (14)\ttotal: 384ms\tremaining: 336ms\n",
      "120:\tlearn: 1.0000000\ttest: 0.8934010\tbest: 0.9100000 (14)\ttotal: 387ms\tremaining: 333ms\n",
      "121:\tlearn: 1.0000000\ttest: 0.8934010\tbest: 0.9100000 (14)\ttotal: 391ms\tremaining: 330ms\n",
      "122:\tlearn: 1.0000000\ttest: 0.8934010\tbest: 0.9100000 (14)\ttotal: 394ms\tremaining: 327ms\n",
      "123:\tlearn: 1.0000000\ttest: 0.8934010\tbest: 0.9100000 (14)\ttotal: 397ms\tremaining: 323ms\n",
      "124:\tlearn: 1.0000000\ttest: 0.8934010\tbest: 0.9100000 (14)\ttotal: 401ms\tremaining: 321ms\n",
      "125:\tlearn: 1.0000000\ttest: 0.8934010\tbest: 0.9100000 (14)\ttotal: 405ms\tremaining: 318ms\n",
      "126:\tlearn: 1.0000000\ttest: 0.8934010\tbest: 0.9100000 (14)\ttotal: 408ms\tremaining: 315ms\n",
      "127:\tlearn: 1.0000000\ttest: 0.8934010\tbest: 0.9100000 (14)\ttotal: 411ms\tremaining: 312ms\n",
      "128:\tlearn: 1.0000000\ttest: 0.8934010\tbest: 0.9100000 (14)\ttotal: 414ms\tremaining: 308ms\n",
      "129:\tlearn: 1.0000000\ttest: 0.8934010\tbest: 0.9100000 (14)\ttotal: 417ms\tremaining: 305ms\n",
      "130:\tlearn: 1.0000000\ttest: 0.8934010\tbest: 0.9100000 (14)\ttotal: 420ms\tremaining: 302ms\n",
      "131:\tlearn: 1.0000000\ttest: 0.8934010\tbest: 0.9100000 (14)\ttotal: 424ms\tremaining: 299ms\n",
      "132:\tlearn: 1.0000000\ttest: 0.8934010\tbest: 0.9100000 (14)\ttotal: 428ms\tremaining: 296ms\n",
      "133:\tlearn: 1.0000000\ttest: 0.8934010\tbest: 0.9100000 (14)\ttotal: 431ms\tremaining: 293ms\n",
      "134:\tlearn: 1.0000000\ttest: 0.8934010\tbest: 0.9100000 (14)\ttotal: 434ms\tremaining: 289ms\n",
      "135:\tlearn: 1.0000000\ttest: 0.8934010\tbest: 0.9100000 (14)\ttotal: 437ms\tremaining: 286ms\n",
      "136:\tlearn: 1.0000000\ttest: 0.8934010\tbest: 0.9100000 (14)\ttotal: 440ms\tremaining: 283ms\n",
      "137:\tlearn: 1.0000000\ttest: 0.8934010\tbest: 0.9100000 (14)\ttotal: 444ms\tremaining: 280ms\n",
      "138:\tlearn: 1.0000000\ttest: 0.8934010\tbest: 0.9100000 (14)\ttotal: 447ms\tremaining: 277ms\n",
      "139:\tlearn: 1.0000000\ttest: 0.8934010\tbest: 0.9100000 (14)\ttotal: 450ms\tremaining: 273ms\n",
      "140:\tlearn: 1.0000000\ttest: 0.8934010\tbest: 0.9100000 (14)\ttotal: 453ms\tremaining: 270ms\n",
      "141:\tlearn: 1.0000000\ttest: 0.8934010\tbest: 0.9100000 (14)\ttotal: 457ms\tremaining: 267ms\n",
      "142:\tlearn: 1.0000000\ttest: 0.8934010\tbest: 0.9100000 (14)\ttotal: 460ms\tremaining: 264ms\n",
      "143:\tlearn: 1.0000000\ttest: 0.8934010\tbest: 0.9100000 (14)\ttotal: 463ms\tremaining: 260ms\n",
      "144:\tlearn: 1.0000000\ttest: 0.8934010\tbest: 0.9100000 (14)\ttotal: 466ms\tremaining: 257ms\n",
      "145:\tlearn: 1.0000000\ttest: 0.8934010\tbest: 0.9100000 (14)\ttotal: 469ms\tremaining: 254ms\n",
      "146:\tlearn: 1.0000000\ttest: 0.8934010\tbest: 0.9100000 (14)\ttotal: 472ms\tremaining: 251ms\n",
      "147:\tlearn: 1.0000000\ttest: 0.8934010\tbest: 0.9100000 (14)\ttotal: 475ms\tremaining: 247ms\n",
      "148:\tlearn: 1.0000000\ttest: 0.8934010\tbest: 0.9100000 (14)\ttotal: 479ms\tremaining: 244ms\n",
      "149:\tlearn: 1.0000000\ttest: 0.8934010\tbest: 0.9100000 (14)\ttotal: 482ms\tremaining: 241ms\n",
      "150:\tlearn: 1.0000000\ttest: 0.8934010\tbest: 0.9100000 (14)\ttotal: 485ms\tremaining: 238ms\n",
      "151:\tlearn: 1.0000000\ttest: 0.8934010\tbest: 0.9100000 (14)\ttotal: 488ms\tremaining: 234ms\n",
      "152:\tlearn: 1.0000000\ttest: 0.8934010\tbest: 0.9100000 (14)\ttotal: 491ms\tremaining: 231ms\n",
      "153:\tlearn: 1.0000000\ttest: 0.8934010\tbest: 0.9100000 (14)\ttotal: 494ms\tremaining: 228ms\n",
      "154:\tlearn: 1.0000000\ttest: 0.8934010\tbest: 0.9100000 (14)\ttotal: 497ms\tremaining: 225ms\n",
      "155:\tlearn: 1.0000000\ttest: 0.8934010\tbest: 0.9100000 (14)\ttotal: 501ms\tremaining: 221ms\n",
      "156:\tlearn: 1.0000000\ttest: 0.8934010\tbest: 0.9100000 (14)\ttotal: 504ms\tremaining: 218ms\n",
      "157:\tlearn: 1.0000000\ttest: 0.8934010\tbest: 0.9100000 (14)\ttotal: 507ms\tremaining: 215ms\n",
      "158:\tlearn: 1.0000000\ttest: 0.8934010\tbest: 0.9100000 (14)\ttotal: 510ms\tremaining: 212ms\n",
      "159:\tlearn: 1.0000000\ttest: 0.8934010\tbest: 0.9100000 (14)\ttotal: 513ms\tremaining: 208ms\n",
      "160:\tlearn: 1.0000000\ttest: 0.8934010\tbest: 0.9100000 (14)\ttotal: 517ms\tremaining: 205ms\n",
      "161:\tlearn: 1.0000000\ttest: 0.8934010\tbest: 0.9100000 (14)\ttotal: 520ms\tremaining: 202ms\n",
      "162:\tlearn: 1.0000000\ttest: 0.8934010\tbest: 0.9100000 (14)\ttotal: 523ms\tremaining: 199ms\n",
      "163:\tlearn: 1.0000000\ttest: 0.8934010\tbest: 0.9100000 (14)\ttotal: 526ms\tremaining: 196ms\n",
      "164:\tlearn: 1.0000000\ttest: 0.8934010\tbest: 0.9100000 (14)\ttotal: 529ms\tremaining: 192ms\n",
      "165:\tlearn: 1.0000000\ttest: 0.8934010\tbest: 0.9100000 (14)\ttotal: 532ms\tremaining: 189ms\n",
      "166:\tlearn: 1.0000000\ttest: 0.8934010\tbest: 0.9100000 (14)\ttotal: 536ms\tremaining: 186ms\n",
      "167:\tlearn: 1.0000000\ttest: 0.8934010\tbest: 0.9100000 (14)\ttotal: 539ms\tremaining: 183ms\n",
      "168:\tlearn: 1.0000000\ttest: 0.8934010\tbest: 0.9100000 (14)\ttotal: 542ms\tremaining: 180ms\n",
      "169:\tlearn: 1.0000000\ttest: 0.8934010\tbest: 0.9100000 (14)\ttotal: 545ms\tremaining: 176ms\n",
      "170:\tlearn: 1.0000000\ttest: 0.8934010\tbest: 0.9100000 (14)\ttotal: 549ms\tremaining: 173ms\n",
      "171:\tlearn: 1.0000000\ttest: 0.8934010\tbest: 0.9100000 (14)\ttotal: 552ms\tremaining: 170ms\n",
      "172:\tlearn: 1.0000000\ttest: 0.8934010\tbest: 0.9100000 (14)\ttotal: 556ms\tremaining: 167ms\n",
      "173:\tlearn: 1.0000000\ttest: 0.8934010\tbest: 0.9100000 (14)\ttotal: 559ms\tremaining: 164ms\n",
      "174:\tlearn: 1.0000000\ttest: 0.8934010\tbest: 0.9100000 (14)\ttotal: 562ms\tremaining: 160ms\n",
      "175:\tlearn: 1.0000000\ttest: 0.8934010\tbest: 0.9100000 (14)\ttotal: 565ms\tremaining: 157ms\n",
      "176:\tlearn: 1.0000000\ttest: 0.8934010\tbest: 0.9100000 (14)\ttotal: 569ms\tremaining: 154ms\n",
      "177:\tlearn: 1.0000000\ttest: 0.8934010\tbest: 0.9100000 (14)\ttotal: 572ms\tremaining: 151ms\n",
      "178:\tlearn: 1.0000000\ttest: 0.8934010\tbest: 0.9100000 (14)\ttotal: 575ms\tremaining: 148ms\n",
      "179:\tlearn: 1.0000000\ttest: 0.8934010\tbest: 0.9100000 (14)\ttotal: 578ms\tremaining: 144ms\n",
      "180:\tlearn: 1.0000000\ttest: 0.8934010\tbest: 0.9100000 (14)\ttotal: 581ms\tremaining: 141ms\n",
      "181:\tlearn: 1.0000000\ttest: 0.8934010\tbest: 0.9100000 (14)\ttotal: 584ms\tremaining: 138ms\n",
      "182:\tlearn: 1.0000000\ttest: 0.8934010\tbest: 0.9100000 (14)\ttotal: 587ms\tremaining: 135ms\n",
      "183:\tlearn: 1.0000000\ttest: 0.8934010\tbest: 0.9100000 (14)\ttotal: 590ms\tremaining: 132ms\n",
      "184:\tlearn: 1.0000000\ttest: 0.8934010\tbest: 0.9100000 (14)\ttotal: 593ms\tremaining: 128ms\n",
      "185:\tlearn: 1.0000000\ttest: 0.8934010\tbest: 0.9100000 (14)\ttotal: 597ms\tremaining: 125ms\n",
      "186:\tlearn: 1.0000000\ttest: 0.8934010\tbest: 0.9100000 (14)\ttotal: 600ms\tremaining: 122ms\n",
      "187:\tlearn: 1.0000000\ttest: 0.8934010\tbest: 0.9100000 (14)\ttotal: 603ms\tremaining: 119ms\n",
      "188:\tlearn: 1.0000000\ttest: 0.8934010\tbest: 0.9100000 (14)\ttotal: 606ms\tremaining: 115ms\n",
      "189:\tlearn: 1.0000000\ttest: 0.8934010\tbest: 0.9100000 (14)\ttotal: 609ms\tremaining: 112ms\n",
      "190:\tlearn: 1.0000000\ttest: 0.8934010\tbest: 0.9100000 (14)\ttotal: 612ms\tremaining: 109ms\n",
      "191:\tlearn: 1.0000000\ttest: 0.8934010\tbest: 0.9100000 (14)\ttotal: 616ms\tremaining: 106ms\n",
      "192:\tlearn: 1.0000000\ttest: 0.8934010\tbest: 0.9100000 (14)\ttotal: 619ms\tremaining: 103ms\n",
      "193:\tlearn: 1.0000000\ttest: 0.8934010\tbest: 0.9100000 (14)\ttotal: 622ms\tremaining: 99.4ms\n",
      "194:\tlearn: 1.0000000\ttest: 0.8934010\tbest: 0.9100000 (14)\ttotal: 625ms\tremaining: 96.2ms\n",
      "195:\tlearn: 1.0000000\ttest: 0.8934010\tbest: 0.9100000 (14)\ttotal: 629ms\tremaining: 93ms\n",
      "196:\tlearn: 1.0000000\ttest: 0.8934010\tbest: 0.9100000 (14)\ttotal: 632ms\tremaining: 89.8ms\n",
      "197:\tlearn: 1.0000000\ttest: 0.8934010\tbest: 0.9100000 (14)\ttotal: 635ms\tremaining: 86.6ms\n",
      "198:\tlearn: 1.0000000\ttest: 0.8934010\tbest: 0.9100000 (14)\ttotal: 638ms\tremaining: 83.4ms\n",
      "199:\tlearn: 1.0000000\ttest: 0.8934010\tbest: 0.9100000 (14)\ttotal: 642ms\tremaining: 80.3ms\n",
      "200:\tlearn: 1.0000000\ttest: 0.8934010\tbest: 0.9100000 (14)\ttotal: 645ms\tremaining: 77ms\n",
      "201:\tlearn: 1.0000000\ttest: 0.8934010\tbest: 0.9100000 (14)\ttotal: 650ms\tremaining: 74ms\n",
      "202:\tlearn: 1.0000000\ttest: 0.8934010\tbest: 0.9100000 (14)\ttotal: 653ms\tremaining: 70.7ms\n",
      "203:\tlearn: 1.0000000\ttest: 0.8934010\tbest: 0.9100000 (14)\ttotal: 656ms\tremaining: 67.5ms\n",
      "204:\tlearn: 1.0000000\ttest: 0.8934010\tbest: 0.9100000 (14)\ttotal: 659ms\tremaining: 64.3ms\n",
      "205:\tlearn: 1.0000000\ttest: 0.8934010\tbest: 0.9100000 (14)\ttotal: 662ms\tremaining: 61.1ms\n",
      "206:\tlearn: 1.0000000\ttest: 0.8934010\tbest: 0.9100000 (14)\ttotal: 666ms\tremaining: 57.9ms\n",
      "207:\tlearn: 1.0000000\ttest: 0.8934010\tbest: 0.9100000 (14)\ttotal: 669ms\tremaining: 54.6ms\n",
      "208:\tlearn: 1.0000000\ttest: 0.8934010\tbest: 0.9100000 (14)\ttotal: 672ms\tremaining: 51.4ms\n",
      "209:\tlearn: 1.0000000\ttest: 0.8934010\tbest: 0.9100000 (14)\ttotal: 675ms\tremaining: 48.2ms\n",
      "210:\tlearn: 1.0000000\ttest: 0.8934010\tbest: 0.9100000 (14)\ttotal: 678ms\tremaining: 45ms\n",
      "211:\tlearn: 1.0000000\ttest: 0.8934010\tbest: 0.9100000 (14)\ttotal: 682ms\tremaining: 41.8ms\n",
      "212:\tlearn: 1.0000000\ttest: 0.8934010\tbest: 0.9100000 (14)\ttotal: 685ms\tremaining: 38.6ms\n",
      "213:\tlearn: 1.0000000\ttest: 0.8934010\tbest: 0.9100000 (14)\ttotal: 688ms\tremaining: 35.4ms\n",
      "214:\tlearn: 1.0000000\ttest: 0.8934010\tbest: 0.9100000 (14)\ttotal: 691ms\tremaining: 32.1ms\n",
      "215:\tlearn: 1.0000000\ttest: 0.8934010\tbest: 0.9100000 (14)\ttotal: 694ms\tremaining: 28.9ms\n",
      "216:\tlearn: 1.0000000\ttest: 0.8934010\tbest: 0.9100000 (14)\ttotal: 697ms\tremaining: 25.7ms\n",
      "217:\tlearn: 1.0000000\ttest: 0.8934010\tbest: 0.9100000 (14)\ttotal: 700ms\tremaining: 22.5ms\n",
      "218:\tlearn: 1.0000000\ttest: 0.8934010\tbest: 0.9100000 (14)\ttotal: 703ms\tremaining: 19.3ms\n",
      "219:\tlearn: 1.0000000\ttest: 0.8934010\tbest: 0.9100000 (14)\ttotal: 706ms\tremaining: 16.1ms\n",
      "220:\tlearn: 1.0000000\ttest: 0.8934010\tbest: 0.9100000 (14)\ttotal: 710ms\tremaining: 12.8ms\n",
      "221:\tlearn: 1.0000000\ttest: 0.8934010\tbest: 0.9100000 (14)\ttotal: 713ms\tremaining: 9.63ms\n",
      "222:\tlearn: 1.0000000\ttest: 0.8934010\tbest: 0.9100000 (14)\ttotal: 716ms\tremaining: 6.42ms\n",
      "223:\tlearn: 1.0000000\ttest: 0.8934010\tbest: 0.9100000 (14)\ttotal: 719ms\tremaining: 3.21ms\n",
      "224:\tlearn: 1.0000000\ttest: 0.8934010\tbest: 0.9100000 (14)\ttotal: 722ms\tremaining: 0us\n",
      "\n",
      "bestTest = 0.91\n",
      "bestIteration = 14\n",
      "\n"
     ]
    }
   ],
   "source": [
    "params[\"eval_metric\"] = \"F1\"\n",
    "params[\"loss_function\"] = \"Logloss\"\n",
    "\n",
    "model = CatBoostClassifier(\n",
    "    **params,\n",
    "    verbose=True\n",
    ")\n",
    "\n",
    "data = Pool(X_train, y_train)\n",
    "\n",
    "cv_results = cv(\n",
    "    params=params,\n",
    "    pool=data,\n",
    "    fold_count=5,\n",
    "    partition_random_seed=42,\n",
    "    shuffle=True,\n",
    ")\n",
    "\n",
    "cv_results.to_csv(outfolder / \"cv_results.csv\", index=False)"
   ]
  },
  {
   "cell_type": "code",
   "execution_count": 12,
   "id": "8ef273c3",
   "metadata": {},
   "outputs": [
    {
     "data": {
      "application/vnd.plotly.v1+json": {
       "config": {
        "plotlyServerURL": "https://plot.ly"
       },
       "data": [
        {
         "line": {
          "color": "blue"
         },
         "mode": "lines",
         "name": "Mean F1 Score",
         "type": "scatter",
         "x": {
          "bdata": "AAABAAIAAwAEAAUABgAHAAgACQAKAAsADAANAA4ADwAQABEAEgATABQAFQAWABcAGAAZABoAGwAcAB0AHgAfACAAIQAiACMAJAAlACYAJwAoACkAKgArACwALQAuAC8AMAAxADIAMwA0ADUANgA3ADgAOQA6ADsAPAA9AD4APwBAAEEAQgBDAEQARQBGAEcASABJAEoASwBMAE0ATgBPAFAAUQBSAFMAVABVAFYAVwBYAFkAWgBbAFwAXQBeAF8AYABhAGIAYwBkAGUAZgBnAGgAaQBqAGsAbABtAG4AbwBwAHEAcgBzAHQAdQB2AHcAeAB5AHoAewB8AH0AfgB/AIAAgQCCAIMAhACFAIYAhwCIAIkAigCLAIwAjQCOAI8AkACRAJIAkwCUAJUAlgCXAJgAmQCaAJsAnACdAJ4AnwCgAKEAogCjAKQApQCmAKcAqACpAKoAqwCsAK0ArgCvALAAsQCyALMAtAC1ALYAtwC4ALkAugC7ALwAvQC+AL8AwADBAMIAwwDEAMUAxgDHAMgAyQDKAMsAzADNAM4AzwDQANEA0gDTANQA1QDWANcA2ADZANoA2wDcAN0A3gDfAOAA",
          "dtype": "i2"
         },
         "y": {
          "bdata": "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",
          "dtype": "f8"
         }
        },
        {
         "fill": "toself",
         "fillcolor": "rgba(0, 0, 255, 0.2)",
         "line": {
          "color": "rgba(255, 255, 255, 0)"
         },
         "showlegend": false,
         "type": "scatter",
         "x": {
          "bdata": "AAABAAIAAwAEAAUABgAHAAgACQAKAAsADAANAA4ADwAQABEAEgATABQAFQAWABcAGAAZABoAGwAcAB0AHgAfACAAIQAiACMAJAAlACYAJwAoACkAKgArACwALQAuAC8AMAAxADIAMwA0ADUANgA3ADgAOQA6ADsAPAA9AD4APwBAAEEAQgBDAEQARQBGAEcASABJAEoASwBMAE0ATgBPAFAAUQBSAFMAVABVAFYAVwBYAFkAWgBbAFwAXQBeAF8AYABhAGIAYwBkAGUAZgBnAGgAaQBqAGsAbABtAG4AbwBwAHEAcgBzAHQAdQB2AHcAeAB5AHoAewB8AH0AfgB/AIAAgQCCAIMAhACFAIYAhwCIAIkAigCLAIwAjQCOAI8AkACRAJIAkwCUAJUAlgCXAJgAmQCaAJsAnACdAJ4AnwCgAKEAogCjAKQApQCmAKcAqACpAKoAqwCsAK0ArgCvALAAsQCyALMAtAC1ALYAtwC4ALkAugC7ALwAvQC+AL8AwADBAMIAwwDEAMUAxgDHAMgAyQDKAMsAzADNAM4AzwDQANEA0gDTANQA1QDWANcA2ADZANoA2wDcAN0A3gDfAOAA4ADfAN4A3QDcANsA2gDZANgA1wDWANUA1ADTANIA0QDQAM8AzgDNAMwAywDKAMkAyADHAMYAxQDEAMMAwgDBAMAAvwC+AL0AvAC7ALoAuQC4ALcAtgC1ALQAswCyALEAsACvAK4ArQCsAKsAqgCpAKgApwCmAKUApACjAKIAoQCgAJ8AngCdAJwAmwCaAJkAmACXAJYAlQCUAJMAkgCRAJAAjwCOAI0AjACLAIoAiQCIAIcAhgCFAIQAgwCCAIEAgAB/AH4AfQB8AHsAegB5AHgAdwB2AHUAdABzAHIAcQBwAG8AbgBtAGwAawBqAGkAaABnAGYAZQBkAGMAYgBhAGAAXwBeAF0AXABbAFoAWQBYAFcAVgBVAFQAUwBSAFEAUABPAE4ATQBMAEsASgBJAEgARwBGAEUARABDAEIAQQBAAD8APgA9ADwAOwA6ADkAOAA3ADYANQA0ADMAMgAxADAALwAuAC0ALAArACoAKQAoACcAJgAlACQAIwAiACEAIAAfAB4AHQAcABsAGgAZABgAFwAWABUAFAATABIAEQAQAA8ADgANAAwACwAKAAkACAAHAAYABQAEAAMAAgABAAAA",
          "dtype": "i2"
         },
         "y": {
          "bdata": "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",
          "dtype": "f8"
         }
        }
       ],
       "layout": {
        "template": {
         "data": {
          "bar": [
           {
            "error_x": {
             "color": "#2a3f5f"
            },
            "error_y": {
             "color": "#2a3f5f"
            },
            "marker": {
             "line": {
              "color": "white",
              "width": 0.5
             },
             "pattern": {
              "fillmode": "overlay",
              "size": 10,
              "solidity": 0.2
             }
            },
            "type": "bar"
           }
          ],
          "barpolar": [
           {
            "marker": {
             "line": {
              "color": "white",
              "width": 0.5
             },
             "pattern": {
              "fillmode": "overlay",
              "size": 10,
              "solidity": 0.2
             }
            },
            "type": "barpolar"
           }
          ],
          "carpet": [
           {
            "aaxis": {
             "endlinecolor": "#2a3f5f",
             "gridcolor": "#C8D4E3",
             "linecolor": "#C8D4E3",
             "minorgridcolor": "#C8D4E3",
             "startlinecolor": "#2a3f5f"
            },
            "baxis": {
             "endlinecolor": "#2a3f5f",
             "gridcolor": "#C8D4E3",
             "linecolor": "#C8D4E3",
             "minorgridcolor": "#C8D4E3",
             "startlinecolor": "#2a3f5f"
            },
            "type": "carpet"
           }
          ],
          "choropleth": [
           {
            "colorbar": {
             "outlinewidth": 0,
             "ticks": ""
            },
            "type": "choropleth"
           }
          ],
          "contour": [
           {
            "colorbar": {
             "outlinewidth": 0,
             "ticks": ""
            },
            "colorscale": [
             [
              0,
              "#0d0887"
             ],
             [
              0.1111111111111111,
              "#46039f"
             ],
             [
              0.2222222222222222,
              "#7201a8"
             ],
             [
              0.3333333333333333,
              "#9c179e"
             ],
             [
              0.4444444444444444,
              "#bd3786"
             ],
             [
              0.5555555555555556,
              "#d8576b"
             ],
             [
              0.6666666666666666,
              "#ed7953"
             ],
             [
              0.7777777777777778,
              "#fb9f3a"
             ],
             [
              0.8888888888888888,
              "#fdca26"
             ],
             [
              1,
              "#f0f921"
             ]
            ],
            "type": "contour"
           }
          ],
          "contourcarpet": [
           {
            "colorbar": {
             "outlinewidth": 0,
             "ticks": ""
            },
            "type": "contourcarpet"
           }
          ],
          "heatmap": [
           {
            "colorbar": {
             "outlinewidth": 0,
             "ticks": ""
            },
            "colorscale": [
             [
              0,
              "#0d0887"
             ],
             [
              0.1111111111111111,
              "#46039f"
             ],
             [
              0.2222222222222222,
              "#7201a8"
             ],
             [
              0.3333333333333333,
              "#9c179e"
             ],
             [
              0.4444444444444444,
              "#bd3786"
             ],
             [
              0.5555555555555556,
              "#d8576b"
             ],
             [
              0.6666666666666666,
              "#ed7953"
             ],
             [
              0.7777777777777778,
              "#fb9f3a"
             ],
             [
              0.8888888888888888,
              "#fdca26"
             ],
             [
              1,
              "#f0f921"
             ]
            ],
            "type": "heatmap"
           }
          ],
          "histogram": [
           {
            "marker": {
             "pattern": {
              "fillmode": "overlay",
              "size": 10,
              "solidity": 0.2
             }
            },
            "type": "histogram"
           }
          ],
          "histogram2d": [
           {
            "colorbar": {
             "outlinewidth": 0,
             "ticks": ""
            },
            "colorscale": [
             [
              0,
              "#0d0887"
             ],
             [
              0.1111111111111111,
              "#46039f"
             ],
             [
              0.2222222222222222,
              "#7201a8"
             ],
             [
              0.3333333333333333,
              "#9c179e"
             ],
             [
              0.4444444444444444,
              "#bd3786"
             ],
             [
              0.5555555555555556,
              "#d8576b"
             ],
             [
              0.6666666666666666,
              "#ed7953"
             ],
             [
              0.7777777777777778,
              "#fb9f3a"
             ],
             [
              0.8888888888888888,
              "#fdca26"
             ],
             [
              1,
              "#f0f921"
             ]
            ],
            "type": "histogram2d"
           }
          ],
          "histogram2dcontour": [
           {
            "colorbar": {
             "outlinewidth": 0,
             "ticks": ""
            },
            "colorscale": [
             [
              0,
              "#0d0887"
             ],
             [
              0.1111111111111111,
              "#46039f"
             ],
             [
              0.2222222222222222,
              "#7201a8"
             ],
             [
              0.3333333333333333,
              "#9c179e"
             ],
             [
              0.4444444444444444,
              "#bd3786"
             ],
             [
              0.5555555555555556,
              "#d8576b"
             ],
             [
              0.6666666666666666,
              "#ed7953"
             ],
             [
              0.7777777777777778,
              "#fb9f3a"
             ],
             [
              0.8888888888888888,
              "#fdca26"
             ],
             [
              1,
              "#f0f921"
             ]
            ],
            "type": "histogram2dcontour"
           }
          ],
          "mesh3d": [
           {
            "colorbar": {
             "outlinewidth": 0,
             "ticks": ""
            },
            "type": "mesh3d"
           }
          ],
          "parcoords": [
           {
            "line": {
             "colorbar": {
              "outlinewidth": 0,
              "ticks": ""
             }
            },
            "type": "parcoords"
           }
          ],
          "pie": [
           {
            "automargin": true,
            "type": "pie"
           }
          ],
          "scatter": [
           {
            "fillpattern": {
             "fillmode": "overlay",
             "size": 10,
             "solidity": 0.2
            },
            "type": "scatter"
           }
          ],
          "scatter3d": [
           {
            "line": {
             "colorbar": {
              "outlinewidth": 0,
              "ticks": ""
             }
            },
            "marker": {
             "colorbar": {
              "outlinewidth": 0,
              "ticks": ""
             }
            },
            "type": "scatter3d"
           }
          ],
          "scattercarpet": [
           {
            "marker": {
             "colorbar": {
              "outlinewidth": 0,
              "ticks": ""
             }
            },
            "type": "scattercarpet"
           }
          ],
          "scattergeo": [
           {
            "marker": {
             "colorbar": {
              "outlinewidth": 0,
              "ticks": ""
             }
            },
            "type": "scattergeo"
           }
          ],
          "scattergl": [
           {
            "marker": {
             "colorbar": {
              "outlinewidth": 0,
              "ticks": ""
             }
            },
            "type": "scattergl"
           }
          ],
          "scattermap": [
           {
            "marker": {
             "colorbar": {
              "outlinewidth": 0,
              "ticks": ""
             }
            },
            "type": "scattermap"
           }
          ],
          "scattermapbox": [
           {
            "marker": {
             "colorbar": {
              "outlinewidth": 0,
              "ticks": ""
             }
            },
            "type": "scattermapbox"
           }
          ],
          "scatterpolar": [
           {
            "marker": {
             "colorbar": {
              "outlinewidth": 0,
              "ticks": ""
             }
            },
            "type": "scatterpolar"
           }
          ],
          "scatterpolargl": [
           {
            "marker": {
             "colorbar": {
              "outlinewidth": 0,
              "ticks": ""
             }
            },
            "type": "scatterpolargl"
           }
          ],
          "scatterternary": [
           {
            "marker": {
             "colorbar": {
              "outlinewidth": 0,
              "ticks": ""
             }
            },
            "type": "scatterternary"
           }
          ],
          "surface": [
           {
            "colorbar": {
             "outlinewidth": 0,
             "ticks": ""
            },
            "colorscale": [
             [
              0,
              "#0d0887"
             ],
             [
              0.1111111111111111,
              "#46039f"
             ],
             [
              0.2222222222222222,
              "#7201a8"
             ],
             [
              0.3333333333333333,
              "#9c179e"
             ],
             [
              0.4444444444444444,
              "#bd3786"
             ],
             [
              0.5555555555555556,
              "#d8576b"
             ],
             [
              0.6666666666666666,
              "#ed7953"
             ],
             [
              0.7777777777777778,
              "#fb9f3a"
             ],
             [
              0.8888888888888888,
              "#fdca26"
             ],
             [
              1,
              "#f0f921"
             ]
            ],
            "type": "surface"
           }
          ],
          "table": [
           {
            "cells": {
             "fill": {
              "color": "#EBF0F8"
             },
             "line": {
              "color": "white"
             }
            },
            "header": {
             "fill": {
              "color": "#C8D4E3"
             },
             "line": {
              "color": "white"
             }
            },
            "type": "table"
           }
          ]
         },
         "layout": {
          "annotationdefaults": {
           "arrowcolor": "#2a3f5f",
           "arrowhead": 0,
           "arrowwidth": 1
          },
          "autotypenumbers": "strict",
          "coloraxis": {
           "colorbar": {
            "outlinewidth": 0,
            "ticks": ""
           }
          },
          "colorscale": {
           "diverging": [
            [
             0,
             "#8e0152"
            ],
            [
             0.1,
             "#c51b7d"
            ],
            [
             0.2,
             "#de77ae"
            ],
            [
             0.3,
             "#f1b6da"
            ],
            [
             0.4,
             "#fde0ef"
            ],
            [
             0.5,
             "#f7f7f7"
            ],
            [
             0.6,
             "#e6f5d0"
            ],
            [
             0.7,
             "#b8e186"
            ],
            [
             0.8,
             "#7fbc41"
            ],
            [
             0.9,
             "#4d9221"
            ],
            [
             1,
             "#276419"
            ]
           ],
           "sequential": [
            [
             0,
             "#0d0887"
            ],
            [
             0.1111111111111111,
             "#46039f"
            ],
            [
             0.2222222222222222,
             "#7201a8"
            ],
            [
             0.3333333333333333,
             "#9c179e"
            ],
            [
             0.4444444444444444,
             "#bd3786"
            ],
            [
             0.5555555555555556,
             "#d8576b"
            ],
            [
             0.6666666666666666,
             "#ed7953"
            ],
            [
             0.7777777777777778,
             "#fb9f3a"
            ],
            [
             0.8888888888888888,
             "#fdca26"
            ],
            [
             1,
             "#f0f921"
            ]
           ],
           "sequentialminus": [
            [
             0,
             "#0d0887"
            ],
            [
             0.1111111111111111,
             "#46039f"
            ],
            [
             0.2222222222222222,
             "#7201a8"
            ],
            [
             0.3333333333333333,
             "#9c179e"
            ],
            [
             0.4444444444444444,
             "#bd3786"
            ],
            [
             0.5555555555555556,
             "#d8576b"
            ],
            [
             0.6666666666666666,
             "#ed7953"
            ],
            [
             0.7777777777777778,
             "#fb9f3a"
            ],
            [
             0.8888888888888888,
             "#fdca26"
            ],
            [
             1,
             "#f0f921"
            ]
           ]
          },
          "colorway": [
           "#636efa",
           "#EF553B",
           "#00cc96",
           "#ab63fa",
           "#FFA15A",
           "#19d3f3",
           "#FF6692",
           "#B6E880",
           "#FF97FF",
           "#FECB52"
          ],
          "font": {
           "color": "#2a3f5f"
          },
          "geo": {
           "bgcolor": "white",
           "lakecolor": "white",
           "landcolor": "white",
           "showlakes": true,
           "showland": true,
           "subunitcolor": "#C8D4E3"
          },
          "hoverlabel": {
           "align": "left"
          },
          "hovermode": "closest",
          "mapbox": {
           "style": "light"
          },
          "paper_bgcolor": "white",
          "plot_bgcolor": "white",
          "polar": {
           "angularaxis": {
            "gridcolor": "#EBF0F8",
            "linecolor": "#EBF0F8",
            "ticks": ""
           },
           "bgcolor": "white",
           "radialaxis": {
            "gridcolor": "#EBF0F8",
            "linecolor": "#EBF0F8",
            "ticks": ""
           }
          },
          "scene": {
           "xaxis": {
            "backgroundcolor": "white",
            "gridcolor": "#DFE8F3",
            "gridwidth": 2,
            "linecolor": "#EBF0F8",
            "showbackground": true,
            "ticks": "",
            "zerolinecolor": "#EBF0F8"
           },
           "yaxis": {
            "backgroundcolor": "white",
            "gridcolor": "#DFE8F3",
            "gridwidth": 2,
            "linecolor": "#EBF0F8",
            "showbackground": true,
            "ticks": "",
            "zerolinecolor": "#EBF0F8"
           },
           "zaxis": {
            "backgroundcolor": "white",
            "gridcolor": "#DFE8F3",
            "gridwidth": 2,
            "linecolor": "#EBF0F8",
            "showbackground": true,
            "ticks": "",
            "zerolinecolor": "#EBF0F8"
           }
          },
          "shapedefaults": {
           "line": {
            "color": "#2a3f5f"
           }
          },
          "ternary": {
           "aaxis": {
            "gridcolor": "#DFE8F3",
            "linecolor": "#A2B1C6",
            "ticks": ""
           },
           "baxis": {
            "gridcolor": "#DFE8F3",
            "linecolor": "#A2B1C6",
            "ticks": ""
           },
           "bgcolor": "white",
           "caxis": {
            "gridcolor": "#DFE8F3",
            "linecolor": "#A2B1C6",
            "ticks": ""
           }
          },
          "title": {
           "x": 0.05
          },
          "xaxis": {
           "automargin": true,
           "gridcolor": "#EBF0F8",
           "linecolor": "#EBF0F8",
           "ticks": "",
           "title": {
            "standoff": 15
           },
           "zerolinecolor": "#EBF0F8",
           "zerolinewidth": 2
          },
          "yaxis": {
           "automargin": true,
           "gridcolor": "#EBF0F8",
           "linecolor": "#EBF0F8",
           "ticks": "",
           "title": {
            "standoff": 15
           },
           "zerolinecolor": "#EBF0F8",
           "zerolinewidth": 2
          }
         }
        },
        "title": {
         "text": "Cross-Validation (N=5) Mean F1 score with Error Bands"
        },
        "xaxis": {
         "title": {
          "text": "Training Steps"
         }
        },
        "yaxis": {
         "range": [
          0.5,
          1
         ],
         "title": {
          "text": "Performance Score"
         }
        }
       }
      }
     },
     "metadata": {},
     "output_type": "display_data"
    }
   ],
   "source": [
    "import plotly.graph_objects as go\n",
    "\n",
    "# Create figure\n",
    "fig = go.Figure()\n",
    "\n",
    "# Add mean performance line\n",
    "fig.add_trace(\n",
    "    go.Scatter(\n",
    "        x=cv_results[\"iterations\"], y=cv_results[\"test-F1-mean\"], mode=\"lines\", name=\"Mean F1 Score\", line=dict(color=\"blue\")\n",
    "    )\n",
    ")\n",
    "\n",
    "# Add shaded error region\n",
    "fig.add_trace(\n",
    "    go.Scatter(\n",
    "        x=pd.concat([cv_results[\"iterations\"], cv_results[\"iterations\"][::-1]]),\n",
    "        y=pd.concat([cv_results[\"test-F1-mean\"]+cv_results[\"test-F1-std\"], \n",
    "                     cv_results[\"test-F1-mean\"]-cv_results[\"test-F1-std\"]]),\n",
    "        fill=\"toself\", \n",
    "        fillcolor=\"rgba(0, 0, 255, 0.2)\",\n",
    "        line=dict(color=\"rgba(255, 255, 255, 0)\"),\n",
    "        showlegend=False\n",
    "    )\n",
    ")\n",
    "\n",
    "# Customize layout\n",
    "fig.update_layout(\n",
    "    title=\"Cross-Validation (N=5) Mean F1 score with Error Bands\",\n",
    "    xaxis_title=\"Training Steps\",\n",
    "    yaxis_title=\"Performance Score\",\n",
    "    template=\"plotly_white\",\n",
    "    yaxis=dict(range=[0.5, 1])\n",
    ")\n",
    "\n",
    "fig.show()\n",
    "\n",
    "fig.write_image(outfolder / \"test_f1.png\")"
   ]
  },
  {
   "cell_type": "code",
   "execution_count": 13,
   "id": "f9638e88",
   "metadata": {},
   "outputs": [
    {
     "data": {
      "application/vnd.plotly.v1+json": {
       "config": {
        "plotlyServerURL": "https://plot.ly"
       },
       "data": [
        {
         "line": {
          "color": "blue"
         },
         "mode": "lines",
         "name": "Mean logloss",
         "type": "scatter",
         "x": {
          "bdata": "AAABAAIAAwAEAAUABgAHAAgACQAKAAsADAANAA4ADwAQABEAEgATABQAFQAWABcAGAAZABoAGwAcAB0AHgAfACAAIQAiACMAJAAlACYAJwAoACkAKgArACwALQAuAC8AMAAxADIAMwA0ADUANgA3ADgAOQA6ADsAPAA9AD4APwBAAEEAQgBDAEQARQBGAEcASABJAEoASwBMAE0ATgBPAFAAUQBSAFMAVABVAFYAVwBYAFkAWgBbAFwAXQBeAF8AYABhAGIAYwBkAGUAZgBnAGgAaQBqAGsAbABtAG4AbwBwAHEAcgBzAHQAdQB2AHcAeAB5AHoAewB8AH0AfgB/AIAAgQCCAIMAhACFAIYAhwCIAIkAigCLAIwAjQCOAI8AkACRAJIAkwCUAJUAlgCXAJgAmQCaAJsAnACdAJ4AnwCgAKEAogCjAKQApQCmAKcAqACpAKoAqwCsAK0ArgCvALAAsQCyALMAtAC1ALYAtwC4ALkAugC7ALwAvQC+AL8AwADBAMIAwwDEAMUAxgDHAMgAyQDKAMsAzADNAM4AzwDQANEA0gDTANQA1QDWANcA2ADZANoA2wDcAN0A3gDfAOAA",
          "dtype": "i2"
         },
         "y": {
          "bdata": "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",
          "dtype": "f8"
         }
        },
        {
         "fill": "toself",
         "fillcolor": "rgba(0, 0, 255, 0.2)",
         "line": {
          "color": "rgba(255, 255, 255, 0)"
         },
         "showlegend": false,
         "type": "scatter",
         "x": {
          "bdata": "AAABAAIAAwAEAAUABgAHAAgACQAKAAsADAANAA4ADwAQABEAEgATABQAFQAWABcAGAAZABoAGwAcAB0AHgAfACAAIQAiACMAJAAlACYAJwAoACkAKgArACwALQAuAC8AMAAxADIAMwA0ADUANgA3ADgAOQA6ADsAPAA9AD4APwBAAEEAQgBDAEQARQBGAEcASABJAEoASwBMAE0ATgBPAFAAUQBSAFMAVABVAFYAVwBYAFkAWgBbAFwAXQBeAF8AYABhAGIAYwBkAGUAZgBnAGgAaQBqAGsAbABtAG4AbwBwAHEAcgBzAHQAdQB2AHcAeAB5AHoAewB8AH0AfgB/AIAAgQCCAIMAhACFAIYAhwCIAIkAigCLAIwAjQCOAI8AkACRAJIAkwCUAJUAlgCXAJgAmQCaAJsAnACdAJ4AnwCgAKEAogCjAKQApQCmAKcAqACpAKoAqwCsAK0ArgCvALAAsQCyALMAtAC1ALYAtwC4ALkAugC7ALwAvQC+AL8AwADBAMIAwwDEAMUAxgDHAMgAyQDKAMsAzADNAM4AzwDQANEA0gDTANQA1QDWANcA2ADZANoA2wDcAN0A3gDfAOAA4ADfAN4A3QDcANsA2gDZANgA1wDWANUA1ADTANIA0QDQAM8AzgDNAMwAywDKAMkAyADHAMYAxQDEAMMAwgDBAMAAvwC+AL0AvAC7ALoAuQC4ALcAtgC1ALQAswCyALEAsACvAK4ArQCsAKsAqgCpAKgApwCmAKUApACjAKIAoQCgAJ8AngCdAJwAmwCaAJkAmACXAJYAlQCUAJMAkgCRAJAAjwCOAI0AjACLAIoAiQCIAIcAhgCFAIQAgwCCAIEAgAB/AH4AfQB8AHsAegB5AHgAdwB2AHUAdABzAHIAcQBwAG8AbgBtAGwAawBqAGkAaABnAGYAZQBkAGMAYgBhAGAAXwBeAF0AXABbAFoAWQBYAFcAVgBVAFQAUwBSAFEAUABPAE4ATQBMAEsASgBJAEgARwBGAEUARABDAEIAQQBAAD8APgA9ADwAOwA6ADkAOAA3ADYANQA0ADMAMgAxADAALwAuAC0ALAArACoAKQAoACcAJgAlACQAIwAiACEAIAAfAB4AHQAcABsAGgAZABgAFwAWABUAFAATABIAEQAQAA8ADgANAAwACwAKAAkACAAHAAYABQAEAAMAAgABAAAA",
          "dtype": "i2"
         },
         "y": {
          "bdata": "LIeNiUTK4j/2kLp1gcTgPxTCO/rk8N4/x72BT/g23T+ZEan5wb7bP/xFGxoVjdo/pa+wf1Zm2T/Oldvjp9nYPyjNB7gnZ9g/kqCFFcAG2D8XNsaXPKLXPywQqTdJU9c/4Tu4aCsS1z/cxzlvotnWP4MssLZ/o9Y/0jCAVXaJ1j8HjSa9H0TWPyOs85uuRtY/CDq2RXAP1j8anO4/qwrWP7X5/mh+/dU/v5Ze9uDg1T9yfKQ8DdLVPxKXGH4u1NU/qopsW2rI1T/wg/0Jq8bVPwkoecNftdU/9VsxKS9u1T+Ouds8P3vVPzSs8qGtXNU/brPLQVNc1T9IwbGA3WHVPyhVqtKrSdU//mGp21FI1T/zWNRWSlPVP7bAQgHQZtU/aa9VPglx1T/eyltuWXvVP6T5c8C/cNU/lbvrTSVx1T+sKJy5gXLVP9deIvgkZ9U/JrpdQm9b1T8PT4ku1HnVP3VwEGCTcdU/Gac3izRz1T+f7N6ld17VP5rnH0hfSdU/KoyCGIZF1T9kbFbkzFHVP9ajIhQTXNU/BWvgwZtm1T+4PKlOmmzVP1gFZz9BbdU/x0chd8ll1T9KPImohX3VPxYX5yHWh9U/4PtF23qK1T/p+df0LJnVP4GAJEa/ktU/WUb5B22Y1T84dx3SZZXVP1ddCwUNqNU/3smqF8Wa1T/EVMdOEJzVPy0lWXpsrtU/lM9sfcC21T/UtKZbkdPVP/KkBkId1tU/sDxTtx/d1T9oucmuE+DVPy68gLEa6tU/RwBrjmDq1T+DadLv4fHVP2LRHGtL9NU/oH3xWRwA1j9+5Kotr/bVP0hMONCh69U/pE9PUArs1T8eKepdpuzVP9q65eJvANY/uzQEDegQ1j+YW/erdhbWPzB/rV2KHNY/zKS3930p1j/OScZ7mz3WP8CZDW0vS9Y/BhmK8BlW1j+dU0Z6p2jWP8DGP9DTctY/kTZtsR9z1j8K8kJeNXTWPw3ewbQIi9Y/rpdW8mSW1j9Fkumv1qbWP3hJdSTus9Y/8p5seMmz1j8Jv0+FKL7WP24M5NBSytY/O2RHDlXJ1j90CW7Sr9HWPwUzR0Y+0NY/Izc1itfe1j96PWgb/N7WP8Tzt+9s6NY/TAM+q2rp1j9UsOTgp+XWPwb1xv3X9tY/t1CViE0E1z97kECz1wXXP+p6fGgvDNc/7tA6i4oL1z89XE2P1w/XP0pJTUMNENc/xMS+AjYX1z/isO2fDiPXP2JFMrJ/FNc/tlzdT+Id1z+hsrwQqiHXP3Ce22LAN9c/1O95W0U01z+eZ8e39DbXP8bDHWLdM9c/T5nRPFU31z9I1IejbznXP8Y52BS1P9c/fA3fJlc+1z+4mySMgFTXP3SMzK/VaNc/nE2tJg1r1z+mBKe66m7XP3KC+Pv0btc/TjhQU4Jv1z9iObXHwXrXP5ynpyjqjNc/cEe4ctiF1z9YuU/mu5fXP36EDe+IpNc/rEhu6sOk1z+CwrdQbq/XP16SyZQytdc/AIKWLBqy1z9m4eRQYrXXPyZMMimmvdc/IMWgBWi71z+C4zbp27nXP9EQWTuCu9c/UfrHXPm/1z9xYZZjCb7XP7pjkBpGxNc/OzUKjZy81z/1aOwlMb/XP5Xn7li5vNc/BaBBDifB1z+sIQIfNMrXP6D7Qd5e09c/6oX9w1XQ1z9YH9Fdt9TXP2Bx/g/o3Nc/kYuI1Cfb1z9iOsAkWdjXPzyI7kFa49c/GqkJdc/j1z+5RNbwPOrXP+ArgP6979c/Fr168lv11z/uc+Fy//TXP+z7qs4M99c/K67jpqb61z8Mr01lufzXP4E6eb2+89c/Qx9Le7X81z9MeddqqvvXP0VoQ5rh/dc/b7j3g6kH2D9MYW/mZg7YP78WNcuTEtg/C8jZ9nAZ2D82Mr3nyB/YP8PInHFDJdg/zLX05dUp2D/ApBvGiCrYP2RDpx3vO9g/T0qK1iM+2D9dZ5arVEPYPx792a2pTNg/KfH7+ldG2D/exGG06kTYP9jwyvfoRdg/Qy9t4B5W2D++iiLyHVvYP7Rv+mZKYtg/xjEgIn5h2D+FvkGauWHYP+/+9CD+Ytg/WuSRaHBj2D90tPUwFWrYP0JuMoEQadg/Jlskh3hp2D9sziTdR27YP2AwvT92bdg/iIU3r/Vr2D+UKh8dzWnYPyVhMXJXa9g/lWWmnaVz2D9GT/veKXrYP8e3a1vZfNg/86buO6d92D9ok6mIhoDYP5aZkaCHgtg/aJ7pzZKD2D/kRSo2OonYP5iVIw+kh9g/UPHW2oeJ2D8r8zO6RYzYPxNX7RaKm9g/Ok/DgUSo2D/5RxPEXaDYP+Ryq/s9o9g/jBbIGp6l2D/M5SPQpanYP3zj0FYjrdg/Piqh7lqt2D8JqKrcEq/YP474Jlr6uNg/ZsT3Pk0D4j81OVZVtbvfP1BzFxd2cdw/6ZOunNPg2T9ne78kfWPYP7hAY0mICNc/8QxbCM8d1j9MrFg1PhTVPwz0cwxLb9Q/QhXSEkr+0z+5q0Zy4GLTPw4w+j4BCNM/o0keTMal0j8G8U3BCivSPw0mcX5Y09E/GprgNyx60T9hvKpAkFDRPw2slsNSFdE/VDi6+f7r0D/gOvEN3LbQP39W3i19h9A/LVajde5o0D98F2UrJVXQP7aXtb1tQtA/piKUvb0r0D+U55k6swvQP9XFePXS6M8/tqb/uXTgzz+ZhdwCWZDPP3hC0IASc88/K3gpdkoczz/kwesm4iHPPxiKfTyQP88/rOn/6ZIFzz8a9RdDIdLOP2jA5Z8lvM4/LXCPRxu6zj8LBoABudDOP4NqpdlExc4/3o3wJ/+4zj/0FxGWnn7OP75B3CiEdc4/s8C16H9tzj/tPTKYbEHOPz5q9MapZs4/+zvDgzphzj/OZPEz9FjOP9SWjyNzPc4/eJlksGg8zj/1pEr2NE3OP+iFTaixTM4//rAZH4Ylzj+DV/V3swfOP0hsHC40580/YyN3a876zT9jII8rctbNP10KCFP9x80/LMN2XnbYzT8m2RR8Q8TNP6YyaYGU0M0/9dk6qvq5zT8s1c+yLsHNP3LqbRvkwM0/C/K8DVDjzT+DzsZvVubNP9Z4+GXe580/dPN6MUHizT+cyWsbMOTNPwR8T2OH+c0/oBQXDSj+zT/AGYA/RAvOP+UuoHZtBM4/ChVwPN74zT81gx7MugfOP7tTyOdr+c0/AI5B5hX5zT+8dTJLEBTOP4jHbvbCDs4/KGxeX/sLzj9sXU2rL/vNP5RoRHB96M0/NkSh06PazT8gWjKcuNPNPwHQocZ+0s0/mC47jv30zT/gaEv9wwrOP4gOprSeG84/vMGs6Lj6zT/aXpLOe/fNP1nZY1gS+s0/Yq8RNRn5zT8EriPR9eDNP/6wF/O56M0/uywk6VH8zT9mVrw9vgnOPzFofi+8CM4/tBk9gEQFzj+m/+IibRTOP1xfBf92Jc4/imegKz8qzj/tZLHn7zjOPwIafcuTQM4/gk1MY55Pzj+ojAao0FDOP6BQJFJnZ84/iAPPoH9Yzj8kI+dDeGLOP5ztnjBnVs4/s6VC02Nkzj9WJzPiNHfOP9tiJCqNj84/DKVoNxqKzj/WJlqISY3OP1wxIMXJis4/UayR6qOJzj/n8qsBOZ3OP02hTl5Gpc4/3VCt8Omjzj9WOf6+h6DOP21VYz3SqM4/QBIR2Eu0zj+kTwryl7LOP/vsdcM5rM4/jndBOeO2zj9Hg2yPQ8DOP+hw270GsM4/NKb3l2fDzj+wwKXczcPOP4NZb8Rpsc4/OFRSaMizzj/J8S1TWr/OP6gxTSfGts4/CNDKhJWyzj8EmhHKubDOP5zBADhIu84/NNXU3+PDzj/Me947IsLOP2HBHFwVq84/kI0Z3bCwzj8F07+SCqzOP/zAbjxXpM4/98sNdKSszj+gCwAeNsLOP3xSPl5Pwc4/HFMpuubGzj/Q+vo8Dc7OP/o3ZCAixc4/UmsZ4rXLzj8CMzZ0BM7OP1xroITW184/Gu3cOUXZzj/GfNyTE9fOPwoLhr9d2c4/SkrCPJTWzj/QT0X9OeLOP3RbpDB66c4/wMHxUIrqzj/cDoE3o+DOP4er4Kk6384/NvB4Dnvuzj8JZErlPfvOP8R31BoG8s4/Y0jeboXmzj+mr2emY+vOP8jmLLDr5M4/g1qHgVLrzj/IuVm9cu7OPxCEMTqQ9s4/aoLNXxUFzz/R6ZC1AQzPP6aDgCqsEM8/5ncQ8ssQzz9QQ+ZjXxLPP45SFHayFM8/zrGC/IUPzz9RbPYqaxjPP5Ll/5vkIs8/0obGW/sqzz9Qi6lIIi3PP26x3nahK88/EMyOJzUyzz+H6jJRsBvPP0yeDk0hHc8/mnICczUXzz969goQmxXPP3xkDf7JE88/VkVuJnIVzz8gekgsaiDPP4Um1IH6J88/WpDCj2otzz8jYXLUwC/PP8x+7U8KKs8/5G2Ug9Uvzz+ujPfHHTfPP5rBFh2+N88/cxqLKcg4zz9QzmKs9z7PPwg1UzhgQs8/3FcnxJZBzz9Rr9zCXULPP4lUZRD/R88/vPZlLtJUzz9F60v7XVrPP75f5O4IYc8/IjJPcTtdzz83Z2A8GGfPP+qleg6rZ88/BkV1lcJszz8jEAnNUnDPP5CUxLd6cs8/idepRpN6zz+JWagfG4DPPyg6Pggkf88/uWSrSHSEzz9y8mkTyYLPP7p6Gv11ec8/ZeWgszh1zz8Wcfw7c3jPP3dx1DG7ec8/yDH8XHd6zz9EdAhKHnnPP0AhTipag88/S+b8YTSCzz+ms+TWSYrPP0CCS09chs8/",
          "dtype": "f8"
         }
        }
       ],
       "layout": {
        "template": {
         "data": {
          "bar": [
           {
            "error_x": {
             "color": "#2a3f5f"
            },
            "error_y": {
             "color": "#2a3f5f"
            },
            "marker": {
             "line": {
              "color": "white",
              "width": 0.5
             },
             "pattern": {
              "fillmode": "overlay",
              "size": 10,
              "solidity": 0.2
             }
            },
            "type": "bar"
           }
          ],
          "barpolar": [
           {
            "marker": {
             "line": {
              "color": "white",
              "width": 0.5
             },
             "pattern": {
              "fillmode": "overlay",
              "size": 10,
              "solidity": 0.2
             }
            },
            "type": "barpolar"
           }
          ],
          "carpet": [
           {
            "aaxis": {
             "endlinecolor": "#2a3f5f",
             "gridcolor": "#C8D4E3",
             "linecolor": "#C8D4E3",
             "minorgridcolor": "#C8D4E3",
             "startlinecolor": "#2a3f5f"
            },
            "baxis": {
             "endlinecolor": "#2a3f5f",
             "gridcolor": "#C8D4E3",
             "linecolor": "#C8D4E3",
             "minorgridcolor": "#C8D4E3",
             "startlinecolor": "#2a3f5f"
            },
            "type": "carpet"
           }
          ],
          "choropleth": [
           {
            "colorbar": {
             "outlinewidth": 0,
             "ticks": ""
            },
            "type": "choropleth"
           }
          ],
          "contour": [
           {
            "colorbar": {
             "outlinewidth": 0,
             "ticks": ""
            },
            "colorscale": [
             [
              0,
              "#0d0887"
             ],
             [
              0.1111111111111111,
              "#46039f"
             ],
             [
              0.2222222222222222,
              "#7201a8"
             ],
             [
              0.3333333333333333,
              "#9c179e"
             ],
             [
              0.4444444444444444,
              "#bd3786"
             ],
             [
              0.5555555555555556,
              "#d8576b"
             ],
             [
              0.6666666666666666,
              "#ed7953"
             ],
             [
              0.7777777777777778,
              "#fb9f3a"
             ],
             [
              0.8888888888888888,
              "#fdca26"
             ],
             [
              1,
              "#f0f921"
             ]
            ],
            "type": "contour"
           }
          ],
          "contourcarpet": [
           {
            "colorbar": {
             "outlinewidth": 0,
             "ticks": ""
            },
            "type": "contourcarpet"
           }
          ],
          "heatmap": [
           {
            "colorbar": {
             "outlinewidth": 0,
             "ticks": ""
            },
            "colorscale": [
             [
              0,
              "#0d0887"
             ],
             [
              0.1111111111111111,
              "#46039f"
             ],
             [
              0.2222222222222222,
              "#7201a8"
             ],
             [
              0.3333333333333333,
              "#9c179e"
             ],
             [
              0.4444444444444444,
              "#bd3786"
             ],
             [
              0.5555555555555556,
              "#d8576b"
             ],
             [
              0.6666666666666666,
              "#ed7953"
             ],
             [
              0.7777777777777778,
              "#fb9f3a"
             ],
             [
              0.8888888888888888,
              "#fdca26"
             ],
             [
              1,
              "#f0f921"
             ]
            ],
            "type": "heatmap"
           }
          ],
          "histogram": [
           {
            "marker": {
             "pattern": {
              "fillmode": "overlay",
              "size": 10,
              "solidity": 0.2
             }
            },
            "type": "histogram"
           }
          ],
          "histogram2d": [
           {
            "colorbar": {
             "outlinewidth": 0,
             "ticks": ""
            },
            "colorscale": [
             [
              0,
              "#0d0887"
             ],
             [
              0.1111111111111111,
              "#46039f"
             ],
             [
              0.2222222222222222,
              "#7201a8"
             ],
             [
              0.3333333333333333,
              "#9c179e"
             ],
             [
              0.4444444444444444,
              "#bd3786"
             ],
             [
              0.5555555555555556,
              "#d8576b"
             ],
             [
              0.6666666666666666,
              "#ed7953"
             ],
             [
              0.7777777777777778,
              "#fb9f3a"
             ],
             [
              0.8888888888888888,
              "#fdca26"
             ],
             [
              1,
              "#f0f921"
             ]
            ],
            "type": "histogram2d"
           }
          ],
          "histogram2dcontour": [
           {
            "colorbar": {
             "outlinewidth": 0,
             "ticks": ""
            },
            "colorscale": [
             [
              0,
              "#0d0887"
             ],
             [
              0.1111111111111111,
              "#46039f"
             ],
             [
              0.2222222222222222,
              "#7201a8"
             ],
             [
              0.3333333333333333,
              "#9c179e"
             ],
             [
              0.4444444444444444,
              "#bd3786"
             ],
             [
              0.5555555555555556,
              "#d8576b"
             ],
             [
              0.6666666666666666,
              "#ed7953"
             ],
             [
              0.7777777777777778,
              "#fb9f3a"
             ],
             [
              0.8888888888888888,
              "#fdca26"
             ],
             [
              1,
              "#f0f921"
             ]
            ],
            "type": "histogram2dcontour"
           }
          ],
          "mesh3d": [
           {
            "colorbar": {
             "outlinewidth": 0,
             "ticks": ""
            },
            "type": "mesh3d"
           }
          ],
          "parcoords": [
           {
            "line": {
             "colorbar": {
              "outlinewidth": 0,
              "ticks": ""
             }
            },
            "type": "parcoords"
           }
          ],
          "pie": [
           {
            "automargin": true,
            "type": "pie"
           }
          ],
          "scatter": [
           {
            "fillpattern": {
             "fillmode": "overlay",
             "size": 10,
             "solidity": 0.2
            },
            "type": "scatter"
           }
          ],
          "scatter3d": [
           {
            "line": {
             "colorbar": {
              "outlinewidth": 0,
              "ticks": ""
             }
            },
            "marker": {
             "colorbar": {
              "outlinewidth": 0,
              "ticks": ""
             }
            },
            "type": "scatter3d"
           }
          ],
          "scattercarpet": [
           {
            "marker": {
             "colorbar": {
              "outlinewidth": 0,
              "ticks": ""
             }
            },
            "type": "scattercarpet"
           }
          ],
          "scattergeo": [
           {
            "marker": {
             "colorbar": {
              "outlinewidth": 0,
              "ticks": ""
             }
            },
            "type": "scattergeo"
           }
          ],
          "scattergl": [
           {
            "marker": {
             "colorbar": {
              "outlinewidth": 0,
              "ticks": ""
             }
            },
            "type": "scattergl"
           }
          ],
          "scattermap": [
           {
            "marker": {
             "colorbar": {
              "outlinewidth": 0,
              "ticks": ""
             }
            },
            "type": "scattermap"
           }
          ],
          "scattermapbox": [
           {
            "marker": {
             "colorbar": {
              "outlinewidth": 0,
              "ticks": ""
             }
            },
            "type": "scattermapbox"
           }
          ],
          "scatterpolar": [
           {
            "marker": {
             "colorbar": {
              "outlinewidth": 0,
              "ticks": ""
             }
            },
            "type": "scatterpolar"
           }
          ],
          "scatterpolargl": [
           {
            "marker": {
             "colorbar": {
              "outlinewidth": 0,
              "ticks": ""
             }
            },
            "type": "scatterpolargl"
           }
          ],
          "scatterternary": [
           {
            "marker": {
             "colorbar": {
              "outlinewidth": 0,
              "ticks": ""
             }
            },
            "type": "scatterternary"
           }
          ],
          "surface": [
           {
            "colorbar": {
             "outlinewidth": 0,
             "ticks": ""
            },
            "colorscale": [
             [
              0,
              "#0d0887"
             ],
             [
              0.1111111111111111,
              "#46039f"
             ],
             [
              0.2222222222222222,
              "#7201a8"
             ],
             [
              0.3333333333333333,
              "#9c179e"
             ],
             [
              0.4444444444444444,
              "#bd3786"
             ],
             [
              0.5555555555555556,
              "#d8576b"
             ],
             [
              0.6666666666666666,
              "#ed7953"
             ],
             [
              0.7777777777777778,
              "#fb9f3a"
             ],
             [
              0.8888888888888888,
              "#fdca26"
             ],
             [
              1,
              "#f0f921"
             ]
            ],
            "type": "surface"
           }
          ],
          "table": [
           {
            "cells": {
             "fill": {
              "color": "#EBF0F8"
             },
             "line": {
              "color": "white"
             }
            },
            "header": {
             "fill": {
              "color": "#C8D4E3"
             },
             "line": {
              "color": "white"
             }
            },
            "type": "table"
           }
          ]
         },
         "layout": {
          "annotationdefaults": {
           "arrowcolor": "#2a3f5f",
           "arrowhead": 0,
           "arrowwidth": 1
          },
          "autotypenumbers": "strict",
          "coloraxis": {
           "colorbar": {
            "outlinewidth": 0,
            "ticks": ""
           }
          },
          "colorscale": {
           "diverging": [
            [
             0,
             "#8e0152"
            ],
            [
             0.1,
             "#c51b7d"
            ],
            [
             0.2,
             "#de77ae"
            ],
            [
             0.3,
             "#f1b6da"
            ],
            [
             0.4,
             "#fde0ef"
            ],
            [
             0.5,
             "#f7f7f7"
            ],
            [
             0.6,
             "#e6f5d0"
            ],
            [
             0.7,
             "#b8e186"
            ],
            [
             0.8,
             "#7fbc41"
            ],
            [
             0.9,
             "#4d9221"
            ],
            [
             1,
             "#276419"
            ]
           ],
           "sequential": [
            [
             0,
             "#0d0887"
            ],
            [
             0.1111111111111111,
             "#46039f"
            ],
            [
             0.2222222222222222,
             "#7201a8"
            ],
            [
             0.3333333333333333,
             "#9c179e"
            ],
            [
             0.4444444444444444,
             "#bd3786"
            ],
            [
             0.5555555555555556,
             "#d8576b"
            ],
            [
             0.6666666666666666,
             "#ed7953"
            ],
            [
             0.7777777777777778,
             "#fb9f3a"
            ],
            [
             0.8888888888888888,
             "#fdca26"
            ],
            [
             1,
             "#f0f921"
            ]
           ],
           "sequentialminus": [
            [
             0,
             "#0d0887"
            ],
            [
             0.1111111111111111,
             "#46039f"
            ],
            [
             0.2222222222222222,
             "#7201a8"
            ],
            [
             0.3333333333333333,
             "#9c179e"
            ],
            [
             0.4444444444444444,
             "#bd3786"
            ],
            [
             0.5555555555555556,
             "#d8576b"
            ],
            [
             0.6666666666666666,
             "#ed7953"
            ],
            [
             0.7777777777777778,
             "#fb9f3a"
            ],
            [
             0.8888888888888888,
             "#fdca26"
            ],
            [
             1,
             "#f0f921"
            ]
           ]
          },
          "colorway": [
           "#636efa",
           "#EF553B",
           "#00cc96",
           "#ab63fa",
           "#FFA15A",
           "#19d3f3",
           "#FF6692",
           "#B6E880",
           "#FF97FF",
           "#FECB52"
          ],
          "font": {
           "color": "#2a3f5f"
          },
          "geo": {
           "bgcolor": "white",
           "lakecolor": "white",
           "landcolor": "white",
           "showlakes": true,
           "showland": true,
           "subunitcolor": "#C8D4E3"
          },
          "hoverlabel": {
           "align": "left"
          },
          "hovermode": "closest",
          "mapbox": {
           "style": "light"
          },
          "paper_bgcolor": "white",
          "plot_bgcolor": "white",
          "polar": {
           "angularaxis": {
            "gridcolor": "#EBF0F8",
            "linecolor": "#EBF0F8",
            "ticks": ""
           },
           "bgcolor": "white",
           "radialaxis": {
            "gridcolor": "#EBF0F8",
            "linecolor": "#EBF0F8",
            "ticks": ""
           }
          },
          "scene": {
           "xaxis": {
            "backgroundcolor": "white",
            "gridcolor": "#DFE8F3",
            "gridwidth": 2,
            "linecolor": "#EBF0F8",
            "showbackground": true,
            "ticks": "",
            "zerolinecolor": "#EBF0F8"
           },
           "yaxis": {
            "backgroundcolor": "white",
            "gridcolor": "#DFE8F3",
            "gridwidth": 2,
            "linecolor": "#EBF0F8",
            "showbackground": true,
            "ticks": "",
            "zerolinecolor": "#EBF0F8"
           },
           "zaxis": {
            "backgroundcolor": "white",
            "gridcolor": "#DFE8F3",
            "gridwidth": 2,
            "linecolor": "#EBF0F8",
            "showbackground": true,
            "ticks": "",
            "zerolinecolor": "#EBF0F8"
           }
          },
          "shapedefaults": {
           "line": {
            "color": "#2a3f5f"
           }
          },
          "ternary": {
           "aaxis": {
            "gridcolor": "#DFE8F3",
            "linecolor": "#A2B1C6",
            "ticks": ""
           },
           "baxis": {
            "gridcolor": "#DFE8F3",
            "linecolor": "#A2B1C6",
            "ticks": ""
           },
           "bgcolor": "white",
           "caxis": {
            "gridcolor": "#DFE8F3",
            "linecolor": "#A2B1C6",
            "ticks": ""
           }
          },
          "title": {
           "x": 0.05
          },
          "xaxis": {
           "automargin": true,
           "gridcolor": "#EBF0F8",
           "linecolor": "#EBF0F8",
           "ticks": "",
           "title": {
            "standoff": 15
           },
           "zerolinecolor": "#EBF0F8",
           "zerolinewidth": 2
          },
          "yaxis": {
           "automargin": true,
           "gridcolor": "#EBF0F8",
           "linecolor": "#EBF0F8",
           "ticks": "",
           "title": {
            "standoff": 15
           },
           "zerolinecolor": "#EBF0F8",
           "zerolinewidth": 2
          }
         }
        },
        "title": {
         "text": "Cross-Validation (N=5) Mean Logloss with Error Bands"
        },
        "xaxis": {
         "title": {
          "text": "Training Steps"
         }
        },
        "yaxis": {
         "title": {
          "text": "Logloss"
         }
        }
       }
      }
     },
     "metadata": {},
     "output_type": "display_data"
    }
   ],
   "source": [
    "import plotly.graph_objects as go\n",
    "\n",
    "# Create figure\n",
    "fig = go.Figure()\n",
    "\n",
    "# Add mean performance line\n",
    "fig.add_trace(\n",
    "    go.Scatter(\n",
    "        x=cv_results[\"iterations\"], y=cv_results[\"test-Logloss-mean\"], mode=\"lines\", name=\"Mean logloss\", line=dict(color=\"blue\")\n",
    "    )\n",
    ")\n",
    "\n",
    "# Add shaded error region\n",
    "fig.add_trace(\n",
    "    go.Scatter(\n",
    "        x=pd.concat([cv_results[\"iterations\"], cv_results[\"iterations\"][::-1]]),\n",
    "        y=pd.concat([cv_results[\"test-Logloss-mean\"]+cv_results[\"test-Logloss-std\"], \n",
    "                     cv_results[\"test-Logloss-mean\"]-cv_results[\"test-Logloss-std\"]]),\n",
    "        fill=\"toself\", \n",
    "        fillcolor=\"rgba(0, 0, 255, 0.2)\",\n",
    "        line=dict(color=\"rgba(255, 255, 255, 0)\"),\n",
    "        showlegend=False\n",
    "    )\n",
    ")\n",
    "\n",
    "# Customize layout\n",
    "fig.update_layout(\n",
    "    title=\"Cross-Validation (N=5) Mean Logloss with Error Bands\",\n",
    "    xaxis_title=\"Training Steps\",\n",
    "    yaxis_title=\"Logloss\",\n",
    "    template=\"plotly_white\"\n",
    ")\n",
    "\n",
    "fig.show()\n",
    "\n",
    "fig.write_image(outfolder / \"test_logloss.png\")"
   ]
  },
  {
   "cell_type": "code",
   "execution_count": 14,
   "id": "55c3f566",
   "metadata": {},
   "outputs": [
    {
     "data": {
      "application/vnd.jupyter.widget-view+json": {
       "model_id": "b1d529919e2846c0803143500cbefd55",
       "version_major": 2,
       "version_minor": 0
      },
      "text/plain": [
       "MetricVisualizer(layout=Layout(align_self='stretch', height='500px'))"
      ]
     },
     "metadata": {},
     "output_type": "display_data"
    },
    {
     "name": "stdout",
     "output_type": "stream",
     "text": [
      "0:\tlearn: 0.9014085\ttotal: 4.62ms\tremaining: 1.03s\n",
      "50:\tlearn: 0.9989970\ttotal: 207ms\tremaining: 707ms\n",
      "100:\tlearn: 1.0000000\ttotal: 402ms\tremaining: 494ms\n",
      "150:\tlearn: 1.0000000\ttotal: 588ms\tremaining: 288ms\n",
      "200:\tlearn: 1.0000000\ttotal: 778ms\tremaining: 92.9ms\n",
      "224:\tlearn: 1.0000000\ttotal: 869ms\tremaining: 0us\n"
     ]
    },
    {
     "data": {
      "text/plain": [
       "['results\\\\model_params.pkl']"
      ]
     },
     "execution_count": 14,
     "metadata": {},
     "output_type": "execute_result"
    }
   ],
   "source": [
    "model.fit(\n",
    "    X_train,\n",
    "    y_train,\n",
    "    verbose_eval=50,\n",
    "    early_stopping_rounds=50,\n",
    "    use_best_model=False,\n",
    "    plot=True\n",
    ")\n",
    "\n",
    "model.save_model(outfolder / 'catboost_model_heart_disease.cbm')\n",
    "joblib.dump(params, outfolder / 'model_params.pkl')"
   ]
  },
  {
   "cell_type": "code",
   "execution_count": 19,
   "id": "c84542ff",
   "metadata": {},
   "outputs": [],
   "source": [
    "#df_test = pd.read_csv(download_folder / \"test.csv\")"
   ]
  },
  {
   "cell_type": "code",
   "execution_count": 15,
   "id": "8ee2596a",
   "metadata": {},
   "outputs": [
    {
     "data": {
      "text/plain": [
       "array([1, 0, 0, 1, 1, 1, 0, 0, 0, 0, 0, 1, 0, 0, 1, 1, 1, 1, 0, 1, 1, 1,\n",
       "       1, 1, 1, 1, 0, 1, 1, 1, 1, 1, 0, 1, 1, 0, 1, 1, 1, 1, 1, 0, 1, 0,\n",
       "       1, 1, 1, 1, 1, 1, 1, 0, 1, 0, 1, 1, 0, 0, 0, 1, 1, 0, 0, 0, 1, 1,\n",
       "       0, 1, 1, 1, 0, 0, 1, 1, 1, 0, 0, 1, 1, 1, 0, 0, 0, 0, 0, 0, 0, 0,\n",
       "       1, 1, 0, 0, 1, 1, 0, 0, 0, 0, 1, 1, 0, 1, 1, 1, 1, 0, 0, 0, 1, 1,\n",
       "       0, 1, 0, 1, 1, 1, 1, 0, 1, 1, 1, 1, 0, 0, 0, 1, 1, 1, 1, 0, 0, 0,\n",
       "       0, 0, 0, 1, 0, 0, 0, 1, 1, 0, 1, 1, 1, 1, 1, 1, 1, 0, 0, 0, 0, 0,\n",
       "       0, 0, 1, 1, 0, 0, 0, 0, 0, 1, 1, 1, 0, 0, 0, 1, 0, 1, 1, 1, 1, 1,\n",
       "       1, 0, 1, 1, 1, 1, 1, 0, 1, 1, 1, 0, 1, 0, 0, 1, 1, 1, 0, 1, 0, 1,\n",
       "       1, 0, 1, 0, 1, 1, 0, 0, 0, 0, 1, 1, 0, 0, 1, 0, 0, 0, 1, 1, 1, 1,\n",
       "       1, 1, 1, 0, 0, 1, 0, 1, 1, 1, 0, 1, 1, 1, 1, 0, 1, 1])"
      ]
     },
     "execution_count": 15,
     "metadata": {},
     "output_type": "execute_result"
    }
   ],
   "source": [
    "model.predict(df_test)"
   ]
  },
  {
   "cell_type": "code",
   "execution_count": 16,
   "id": "92259ea1",
   "metadata": {},
   "outputs": [],
   "source": [
    "preds = model.predict(df_test[X_train.columns])"
   ]
  },
  {
   "cell_type": "code",
   "execution_count": 17,
   "id": "1ca84026",
   "metadata": {},
   "outputs": [
    {
     "data": {
      "image/png": "[encoded data removed]",
      "text/plain": [
       "<Figure size 800x590 with 2 Axes>"
      ]
     },
     "metadata": {},
     "output_type": "display_data"
    }
   ],
   "source": [
    "import shap\n",
    "import matplotlib.pyplot as plt\n",
    "explainer = shap.TreeExplainer(model)\n",
    "shap_values = explainer.shap_values(df_test)\n",
    "\n",
    "shap.summary_plot(shap_values, df_test, show=False)\n",
    "plt.savefig(outfolder / \"test_shap_overall.png\")"
   ]
  },
  {
   "cell_type": "code",
   "execution_count": 18,
   "id": "70d92d95",
   "metadata": {},
   "outputs": [],
   "source": [
    "df_test[\"target\"] = preds\n",
    "df_test.to_csv(outfolder / \"predictions.csv\", index=False)"
   ]
  }
 ],
 "metadata": {
  "kernelspec": {
   "display_name": "Python 3",
   "language": "python",
   "name": "python3"
  },
  "language_info": {
   "codemirror_mode": {
    "name": "ipython",
    "version": 3
   },
   "file_extension": ".py",
   "mimetype": "text/x-python",
   "name": "python",
   "nbconvert_exporter": "python",
   "pygments_lexer": "ipython3",
   "version": "3.11.9"
  }
 },
 "nbformat": 4,
 "nbformat_minor": 5
}
