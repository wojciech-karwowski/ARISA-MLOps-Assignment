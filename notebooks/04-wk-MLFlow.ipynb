{
 "cells": [
  {
   "cell_type": "code",
   "execution_count": 1,
   "id": "1e94e1e6",
   "metadata": {},
   "outputs": [],
   "source": [
    "import os\n",
    "from pathlib import Path\n",
    "container_check = os.getenv(\"iscontainer\")\n",
    "if container_check==\"y\":\n",
    "    config_dir = Path(\"/home/vscode/.config/kaggle\")\n",
    "    config_dir.mkdir(parents=True, exist_ok=True)\n",
    "\n",
    "    with open(config_dir / \"kaggle.json\", \"w\") as dst:\n",
    "        with open(\"../kaggle.json\", \"r\") as src:\n",
    "            dst.write(src.read())"
   ]
  },
  {
   "cell_type": "code",
   "execution_count": 2,
   "id": "a036419c",
   "metadata": {},
   "outputs": [
    {
     "name": "stderr",
     "output_type": "stream",
     "text": [
      "\u001b[32m2025-05-04 17:53:54.764\u001b[0m | \u001b[1mINFO    \u001b[0m | \u001b[36mARISA_DSML.config\u001b[0m:\u001b[36m<module>\u001b[0m:\u001b[36m12\u001b[0m - \u001b[1mPROJ_ROOT path is: C:\\Users\\Wojciech\\Documents\\WWSI\\ARISA-MLOps-Assignment\u001b[0m\n"
     ]
    }
   ],
   "source": [
    "import os\n",
    "import sys\n",
    "\n",
    "sys.path.append(os.path.abspath(\"..\"))\n",
    "\n",
    "from ARISA_DSML.config import RAW_DATA_DIR, target\n",
    "from ARISA_DSML.preproc import get_raw_data"
   ]
  },
  {
   "cell_type": "code",
   "execution_count": 3,
   "id": "5a872e8d",
   "metadata": {},
   "outputs": [
    {
     "data": {
      "text/plain": [
       "'e748c36602acdadf8aabf93c0665ca75544e43b9'"
      ]
     },
     "execution_count": 3,
     "metadata": {},
     "output_type": "execute_result"
    }
   ],
   "source": [
    "from ARISA_DSML.helpers import get_active_branch_name, get_git_commit_hash\n",
    "\n",
    "get_active_branch_name(\"..\")  # need \"..\" because we are not in root\n",
    "get_git_commit_hash()"
   ]
  },
  {
   "cell_type": "code",
   "execution_count": 4,
   "id": "31731c27",
   "metadata": {},
   "outputs": [
    {
     "name": "stderr",
     "output_type": "stream",
     "text": [
      "\u001b[32m2025-05-04 17:53:59.449\u001b[0m | \u001b[1mINFO    \u001b[0m | \u001b[36mARISA_DSML.preproc\u001b[0m:\u001b[36mget_raw_data\u001b[0m:\u001b[36m21\u001b[0m - \u001b[1mDownloading dataset mexwell/heart-disease-dataset to C:\\Users\\Wojciech\\Documents\\WWSI\\ARISA-MLOps-Assignment\\data\\raw\u001b[0m\n"
     ]
    },
    {
     "name": "stdout",
     "output_type": "stream",
     "text": [
      "Dataset URL: https://www.kaggle.com/datasets/mexwell/heart-disease-dataset\n"
     ]
    },
    {
     "name": "stderr",
     "output_type": "stream",
     "text": [
      "\u001b[32m2025-05-04 17:54:00.503\u001b[0m | \u001b[1mINFO    \u001b[0m | \u001b[36mARISA_DSML.preproc\u001b[0m:\u001b[36mget_raw_data\u001b[0m:\u001b[36m24\u001b[0m - \u001b[1mDownload complete.\u001b[0m\n"
     ]
    },
    {
     "name": "stdout",
     "output_type": "stream",
     "text": [
      " Volume in drive C has no label.\n",
      " Volume Serial Number is D0EF-588E\n",
      "\n",
      " Directory of C:\\Users\\Wojciech\\Documents\\WWSI\\ARISA-MLOps-Assignment\\data\\raw\n",
      "\n",
      "04.05.2025  17:54    <DIR>          .\n",
      "04.05.2025  17:54    <DIR>          ..\n",
      "04.05.2025  17:33                 0 .gitkeep\n",
      "04.05.2025  17:54           420�674 documentation.pdf\n",
      "04.05.2025  17:54            39�689 heart_statlog_cleveland_hungary_final.csv\n",
      "               3 File(s)        460�363 bytes\n",
      "               2 Dir(s)  110�463�250�432 bytes free\n"
     ]
    }
   ],
   "source": [
    "get_raw_data()\n",
    "!dir \"{RAW_DATA_DIR}\""
   ]
  },
  {
   "cell_type": "code",
   "execution_count": 5,
   "id": "aec1cb7e",
   "metadata": {},
   "outputs": [
    {
     "name": "stderr",
     "output_type": "stream",
     "text": [
      "\u001b[32m2025-05-04 17:54:02.728\u001b[0m | \u001b[1mINFO    \u001b[0m | \u001b[36mARISA_DSML.preproc\u001b[0m:\u001b[36mpreprocess_df\u001b[0m:\u001b[36m58\u001b[0m - \u001b[1mTrain saved to C:\\Users\\Wojciech\\Documents\\WWSI\\ARISA-MLOps-Assignment\\data\\processed\\train.csv, Test saved to C:\\Users\\Wojciech\\Documents\\WWSI\\ARISA-MLOps-Assignment\\data\\processed\\test.csv\u001b[0m\n"
     ]
    }
   ],
   "source": [
    "from ARISA_DSML.preproc import preprocess_df\n",
    "\n",
    "train_path, test_path = preprocess_df(RAW_DATA_DIR / \"heart_statlog_cleveland_hungary_final.csv\")"
   ]
  },
  {
   "cell_type": "code",
   "execution_count": 6,
   "id": "a08fdff8",
   "metadata": {},
   "outputs": [
    {
     "name": "stdout",
     "output_type": "stream",
     "text": [
      "<class 'pandas.core.frame.DataFrame'>\n",
      "RangeIndex: 734 entries, 0 to 733\n",
      "Data columns (total 12 columns):\n",
      " #   Column               Non-Null Count  Dtype  \n",
      "---  ------               --------------  -----  \n",
      " 0   age                  734 non-null    int64  \n",
      " 1   sex                  734 non-null    int64  \n",
      " 2   chest_pain_type      734 non-null    int64  \n",
      " 3   resting_bp_s         734 non-null    int64  \n",
      " 4   cholesterol          734 non-null    int64  \n",
      " 5   fasting_blood_sugar  734 non-null    int64  \n",
      " 6   resting_ecg          734 non-null    int64  \n",
      " 7   max_heart_rate       734 non-null    int64  \n",
      " 8   exercise_angina      734 non-null    int64  \n",
      " 9   oldpeak              734 non-null    float64\n",
      " 10  st_slope             734 non-null    int64  \n",
      " 11  target               734 non-null    int64  \n",
      "dtypes: float64(1), int64(11)\n",
      "memory usage: 68.9 KB\n"
     ]
    }
   ],
   "source": [
    "import pandas as pd\n",
    "df_train = pd.read_csv(train_path)\n",
    "df_train.info()"
   ]
  },
  {
   "cell_type": "code",
   "execution_count": 7,
   "id": "5139ca25",
   "metadata": {},
   "outputs": [],
   "source": [
    "y_train = df_train.pop(target)\n",
    "X_train = df_train"
   ]
  },
  {
   "cell_type": "code",
   "execution_count": 8,
   "id": "13d28bec",
   "metadata": {},
   "outputs": [
    {
     "name": "stderr",
     "output_type": "stream",
     "text": [
      "c:\\Users\\Wojciech\\AppData\\Local\\Programs\\Python\\Python311\\Lib\\site-packages\\mlflow\\protos\\service_pb2.py:11: UserWarning: google.protobuf.service module is deprecated. RPC implementations should provide code generator plugins which generate code specific to the RPC implementation. service.py will be removed in Jan 2025\n",
      "  from google.protobuf import service as _service\n",
      "\u001b[32m2025-05-04 17:56:37.983\u001b[0m | \u001b[1mINFO    \u001b[0m | \u001b[36mARISA_DSML.train\u001b[0m:\u001b[36mrun_hyperopt\u001b[0m:\u001b[36m70\u001b[0m - \u001b[1mBest Parameters: {'depth': 6, 'learning_rate': 0.2997467303248517, 'iterations': 258, 'l2_leaf_reg': 29.31565918827504, 'bagging_temperature': 0.5200854166591251, 'random_strength': 0.0057443330613406365}\u001b[0m\n"
     ]
    }
   ],
   "source": [
    "import mlflow\n",
    "from ARISA_DSML.train import run_hyperopt, get_or_create_experiment\n",
    "\n",
    "mlflow.set_tracking_uri(f\"http://127.0.0.1:5000\")\n",
    "\n",
    "experiment_id = get_or_create_experiment(\"heart_hyperparam_tuning\")\n",
    "mlflow.set_experiment(experiment_id=experiment_id)\n",
    "best_params_path = run_hyperopt(X_train, y_train)"
   ]
  },
  {
   "cell_type": "code",
   "execution_count": 9,
   "id": "1fcdaef1",
   "metadata": {},
   "outputs": [
    {
     "data": {
      "application/vnd.jupyter.widget-view+json": {
       "model_id": "bdd003c2db5f45ce8e893d487666bdac",
       "version_major": 2,
       "version_minor": 0
      },
      "text/plain": [
       "MetricVisualizer(layout=Layout(align_self='stretch', height='500px'))"
      ]
     },
     "metadata": {},
     "output_type": "display_data"
    },
    {
     "name": "stdout",
     "output_type": "stream",
     "text": [
      "Training on fold [0/5]\n",
      "0:\tlearn: 0.8792846\ttest: 0.9047619\tbest: 0.9047619 (0)\ttotal: 149ms\tremaining: 38.3s\n",
      "1:\tlearn: 0.8804841\ttest: 0.8888889\tbest: 0.9047619 (0)\ttotal: 153ms\tremaining: 19.5s\n",
      "2:\tlearn: 0.8919330\ttest: 0.8902439\tbest: 0.9047619 (0)\ttotal: 154ms\tremaining: 13.1s\n",
      "3:\tlearn: 0.8933539\ttest: 0.9079755\tbest: 0.9079755 (3)\ttotal: 155ms\tremaining: 9.85s\n",
      "4:\tlearn: 0.9074355\ttest: 0.9012346\tbest: 0.9079755 (3)\ttotal: 156ms\tremaining: 7.91s\n",
      "5:\tlearn: 0.9065850\ttest: 0.9012346\tbest: 0.9079755 (3)\ttotal: 158ms\tremaining: 6.62s\n",
      "6:\tlearn: 0.9040248\ttest: 0.9000000\tbest: 0.9079755 (3)\ttotal: 159ms\tremaining: 5.69s\n",
      "7:\tlearn: 0.9133127\ttest: 0.9012346\tbest: 0.9079755 (3)\ttotal: 160ms\tremaining: 5s\n",
      "8:\tlearn: 0.9164087\ttest: 0.9192547\tbest: 0.9192547 (8)\ttotal: 161ms\tremaining: 4.46s\n",
      "9:\tlearn: 0.9214176\ttest: 0.9125000\tbest: 0.9192547 (8)\ttotal: 162ms\tremaining: 4.03s\n",
      "10:\tlearn: 0.9180835\ttest: 0.8944099\tbest: 0.9192547 (8)\ttotal: 164ms\tremaining: 3.67s\n",
      "11:\tlearn: 0.9169231\ttest: 0.9068323\tbest: 0.9192547 (8)\ttotal: 165ms\tremaining: 3.38s\n",
      "12:\tlearn: 0.9216590\ttest: 0.9068323\tbest: 0.9192547 (8)\ttotal: 166ms\tremaining: 3.13s\n",
      "13:\tlearn: 0.9275809\ttest: 0.9024390\tbest: 0.9192547 (8)\ttotal: 167ms\tremaining: 2.91s\n",
      "14:\tlearn: 0.9306626\ttest: 0.8957055\tbest: 0.9192547 (8)\ttotal: 168ms\tremaining: 2.72s\n",
      "15:\tlearn: 0.9304482\ttest: 0.8888889\tbest: 0.9192547 (8)\ttotal: 169ms\tremaining: 2.56s\n",
      "16:\tlearn: 0.9323077\ttest: 0.8834356\tbest: 0.9192547 (8)\ttotal: 170ms\tremaining: 2.41s\n",
      "17:\tlearn: 0.9349845\ttest: 0.8834356\tbest: 0.9192547 (8)\ttotal: 171ms\tremaining: 2.29s\n",
      "18:\tlearn: 0.9364341\ttest: 0.8834356\tbest: 0.9192547 (8)\ttotal: 173ms\tremaining: 2.17s\n",
      "19:\tlearn: 0.9393468\ttest: 0.8834356\tbest: 0.9192547 (8)\ttotal: 174ms\tremaining: 2.07s\n",
      "20:\tlearn: 0.9393468\ttest: 0.8834356\tbest: 0.9192547 (8)\ttotal: 175ms\tremaining: 1.97s\n",
      "21:\tlearn: 0.9409938\ttest: 0.8834356\tbest: 0.9192547 (8)\ttotal: 176ms\tremaining: 1.88s\n",
      "22:\tlearn: 0.9409938\ttest: 0.8902439\tbest: 0.9192547 (8)\ttotal: 177ms\tremaining: 1.8s\n",
      "23:\tlearn: 0.9409938\ttest: 0.8902439\tbest: 0.9192547 (8)\ttotal: 178ms\tremaining: 1.73s\n",
      "24:\tlearn: 0.9440994\ttest: 0.8902439\tbest: 0.9192547 (8)\ttotal: 179ms\tremaining: 1.67s\n",
      "25:\tlearn: 0.9440994\ttest: 0.8902439\tbest: 0.9192547 (8)\ttotal: 182ms\tremaining: 1.62s\n",
      "26:\tlearn: 0.9473684\ttest: 0.8780488\tbest: 0.9192547 (8)\ttotal: 183ms\tremaining: 1.57s\n",
      "27:\tlearn: 0.9475309\ttest: 0.8888889\tbest: 0.9192547 (8)\ttotal: 184ms\tremaining: 1.51s\n",
      "28:\tlearn: 0.9504644\ttest: 0.9012346\tbest: 0.9192547 (8)\ttotal: 186ms\tremaining: 1.47s\n",
      "29:\tlearn: 0.9504644\ttest: 0.9012346\tbest: 0.9192547 (8)\ttotal: 187ms\tremaining: 1.42s\n",
      "30:\tlearn: 0.9489954\ttest: 0.9012346\tbest: 0.9192547 (8)\ttotal: 189ms\tremaining: 1.38s\n",
      "31:\tlearn: 0.9520866\ttest: 0.8819876\tbest: 0.9192547 (8)\ttotal: 190ms\tremaining: 1.34s\n",
      "32:\tlearn: 0.9520866\ttest: 0.8819876\tbest: 0.9192547 (8)\ttotal: 191ms\tremaining: 1.3s\n",
      "33:\tlearn: 0.9520866\ttest: 0.8819876\tbest: 0.9192547 (8)\ttotal: 192ms\tremaining: 1.26s\n",
      "34:\tlearn: 0.9520866\ttest: 0.8819876\tbest: 0.9192547 (8)\ttotal: 193ms\tremaining: 1.23s\n",
      "35:\tlearn: 0.9520866\ttest: 0.8819876\tbest: 0.9192547 (8)\ttotal: 194ms\tremaining: 1.2s\n",
      "36:\tlearn: 0.9520866\ttest: 0.8819876\tbest: 0.9192547 (8)\ttotal: 196ms\tremaining: 1.17s\n",
      "37:\tlearn: 0.9535604\ttest: 0.8819876\tbest: 0.9192547 (8)\ttotal: 197ms\tremaining: 1.14s\n",
      "38:\tlearn: 0.9535604\ttest: 0.8819876\tbest: 0.9192547 (8)\ttotal: 198ms\tremaining: 1.11s\n",
      "39:\tlearn: 0.9598765\ttest: 0.8819876\tbest: 0.9192547 (8)\ttotal: 199ms\tremaining: 1.08s\n",
      "40:\tlearn: 0.9598765\ttest: 0.8819876\tbest: 0.9192547 (8)\ttotal: 200ms\tremaining: 1.06s\n",
      "41:\tlearn: 0.9551777\ttest: 0.8888889\tbest: 0.9192547 (8)\ttotal: 201ms\tremaining: 1.03s\n",
      "42:\tlearn: 0.9551777\ttest: 0.8888889\tbest: 0.9192547 (8)\ttotal: 202ms\tremaining: 1.01s\n",
      "43:\tlearn: 0.9551777\ttest: 0.8888889\tbest: 0.9192547 (8)\ttotal: 204ms\tremaining: 990ms\n",
      "44:\tlearn: 0.9551777\ttest: 0.8888889\tbest: 0.9192547 (8)\ttotal: 205ms\tremaining: 968ms\n",
      "45:\tlearn: 0.9612403\ttest: 0.8750000\tbest: 0.9192547 (8)\ttotal: 206ms\tremaining: 948ms\n",
      "46:\tlearn: 0.9612403\ttest: 0.8750000\tbest: 0.9192547 (8)\ttotal: 207ms\tremaining: 928ms\n",
      "47:\tlearn: 0.9612403\ttest: 0.8750000\tbest: 0.9192547 (8)\ttotal: 208ms\tremaining: 909ms\n",
      "48:\tlearn: 0.9627329\ttest: 0.8750000\tbest: 0.9192547 (8)\ttotal: 209ms\tremaining: 892ms\n",
      "49:\tlearn: 0.9642302\ttest: 0.8695652\tbest: 0.9192547 (8)\ttotal: 210ms\tremaining: 875ms\n",
      "50:\tlearn: 0.9642302\ttest: 0.8695652\tbest: 0.9192547 (8)\ttotal: 211ms\tremaining: 858ms\n",
      "51:\tlearn: 0.9642302\ttest: 0.8695652\tbest: 0.9192547 (8)\ttotal: 212ms\tremaining: 841ms\n",
      "52:\tlearn: 0.9642302\ttest: 0.8695652\tbest: 0.9192547 (8)\ttotal: 214ms\tremaining: 828ms\n",
      "53:\tlearn: 0.9642302\ttest: 0.8695652\tbest: 0.9192547 (8)\ttotal: 217ms\tremaining: 819ms\n",
      "54:\tlearn: 0.9642302\ttest: 0.8695652\tbest: 0.9192547 (8)\ttotal: 220ms\tremaining: 811ms\n",
      "55:\tlearn: 0.9658385\ttest: 0.8695652\tbest: 0.9192547 (8)\ttotal: 223ms\tremaining: 805ms\n",
      "56:\tlearn: 0.9673406\ttest: 0.8695652\tbest: 0.9192547 (8)\ttotal: 226ms\tremaining: 798ms\n",
      "57:\tlearn: 0.9673406\ttest: 0.8695652\tbest: 0.9192547 (8)\ttotal: 228ms\tremaining: 785ms\n",
      "58:\tlearn: 0.9673406\ttest: 0.8750000\tbest: 0.9192547 (8)\ttotal: 229ms\tremaining: 771ms\n",
      "59:\tlearn: 0.9689441\ttest: 0.8750000\tbest: 0.9192547 (8)\ttotal: 230ms\tremaining: 760ms\n",
      "60:\tlearn: 0.9690402\ttest: 0.8765432\tbest: 0.9192547 (8)\ttotal: 233ms\tremaining: 753ms\n",
      "61:\tlearn: 0.9722222\ttest: 0.8711656\tbest: 0.9192547 (8)\ttotal: 235ms\tremaining: 743ms\n",
      "62:\tlearn: 0.9721362\ttest: 0.8641975\tbest: 0.9192547 (8)\ttotal: 238ms\tremaining: 735ms\n",
      "63:\tlearn: 0.9737249\ttest: 0.8711656\tbest: 0.9192547 (8)\ttotal: 241ms\tremaining: 730ms\n",
      "64:\tlearn: 0.9753086\ttest: 0.8695652\tbest: 0.9192547 (8)\ttotal: 244ms\tremaining: 725ms\n",
      "65:\tlearn: 0.9753086\ttest: 0.8750000\tbest: 0.9192547 (8)\ttotal: 246ms\tremaining: 716ms\n",
      "66:\tlearn: 0.9768161\ttest: 0.8819876\tbest: 0.9192547 (8)\ttotal: 247ms\tremaining: 705ms\n",
      "67:\tlearn: 0.9753086\ttest: 0.8765432\tbest: 0.9192547 (8)\ttotal: 249ms\tremaining: 695ms\n",
      "68:\tlearn: 0.9768161\ttest: 0.8765432\tbest: 0.9192547 (8)\ttotal: 250ms\tremaining: 686ms\n",
      "69:\tlearn: 0.9799692\ttest: 0.8695652\tbest: 0.9192547 (8)\ttotal: 252ms\tremaining: 677ms\n",
      "70:\tlearn: 0.9783951\ttest: 0.8805031\tbest: 0.9192547 (8)\ttotal: 254ms\tremaining: 669ms\n",
      "71:\tlearn: 0.9783951\ttest: 0.8805031\tbest: 0.9192547 (8)\ttotal: 256ms\tremaining: 661ms\n",
      "72:\tlearn: 0.9783951\ttest: 0.8805031\tbest: 0.9192547 (8)\ttotal: 258ms\tremaining: 655ms\n",
      "73:\tlearn: 0.9783282\ttest: 0.8750000\tbest: 0.9192547 (8)\ttotal: 260ms\tremaining: 647ms\n",
      "74:\tlearn: 0.9768161\ttest: 0.8750000\tbest: 0.9192547 (8)\ttotal: 262ms\tremaining: 638ms\n",
      "75:\tlearn: 0.9783282\ttest: 0.8750000\tbest: 0.9192547 (8)\ttotal: 263ms\tremaining: 630ms\n",
      "76:\tlearn: 0.9768161\ttest: 0.8750000\tbest: 0.9192547 (8)\ttotal: 265ms\tremaining: 622ms\n",
      "77:\tlearn: 0.9829985\ttest: 0.8679245\tbest: 0.9192547 (8)\ttotal: 266ms\tremaining: 614ms\n",
      "78:\tlearn: 0.9829985\ttest: 0.8679245\tbest: 0.9192547 (8)\ttotal: 268ms\tremaining: 608ms\n",
      "79:\tlearn: 0.9845679\ttest: 0.8750000\tbest: 0.9192547 (8)\ttotal: 270ms\tremaining: 601ms\n",
      "80:\tlearn: 0.9845679\ttest: 0.8750000\tbest: 0.9192547 (8)\ttotal: 273ms\tremaining: 597ms\n",
      "81:\tlearn: 0.9845679\ttest: 0.8750000\tbest: 0.9192547 (8)\ttotal: 274ms\tremaining: 589ms\n",
      "82:\tlearn: 0.9845679\ttest: 0.8750000\tbest: 0.9192547 (8)\ttotal: 276ms\tremaining: 581ms\n",
      "83:\tlearn: 0.9845679\ttest: 0.8679245\tbest: 0.9192547 (8)\ttotal: 277ms\tremaining: 573ms\n",
      "84:\tlearn: 0.9845679\ttest: 0.8679245\tbest: 0.9192547 (8)\ttotal: 279ms\tremaining: 567ms\n",
      "85:\tlearn: 0.9845679\ttest: 0.8679245\tbest: 0.9192547 (8)\ttotal: 280ms\tremaining: 560ms\n",
      "86:\tlearn: 0.9845679\ttest: 0.8679245\tbest: 0.9192547 (8)\ttotal: 282ms\tremaining: 553ms\n",
      "87:\tlearn: 0.9860896\ttest: 0.8679245\tbest: 0.9192547 (8)\ttotal: 283ms\tremaining: 548ms\n",
      "88:\tlearn: 0.9876161\ttest: 0.8679245\tbest: 0.9192547 (8)\ttotal: 285ms\tremaining: 540ms\n",
      "89:\tlearn: 0.9876161\ttest: 0.8679245\tbest: 0.9192547 (8)\ttotal: 287ms\tremaining: 535ms\n",
      "90:\tlearn: 0.9876161\ttest: 0.8679245\tbest: 0.9192547 (8)\ttotal: 289ms\tremaining: 529ms\n",
      "91:\tlearn: 0.9876161\ttest: 0.8679245\tbest: 0.9192547 (8)\ttotal: 290ms\tremaining: 523ms\n",
      "92:\tlearn: 0.9876161\ttest: 0.8679245\tbest: 0.9192547 (8)\ttotal: 291ms\tremaining: 517ms\n",
      "93:\tlearn: 0.9860896\ttest: 0.8750000\tbest: 0.9192547 (8)\ttotal: 292ms\tremaining: 510ms\n",
      "94:\tlearn: 0.9860896\ttest: 0.8750000\tbest: 0.9192547 (8)\ttotal: 294ms\tremaining: 504ms\n",
      "95:\tlearn: 0.9860896\ttest: 0.8750000\tbest: 0.9192547 (8)\ttotal: 296ms\tremaining: 499ms\n",
      "96:\tlearn: 0.9845679\ttest: 0.8750000\tbest: 0.9192547 (8)\ttotal: 298ms\tremaining: 494ms\n",
      "97:\tlearn: 0.9845679\ttest: 0.8750000\tbest: 0.9192547 (8)\ttotal: 299ms\tremaining: 488ms\n",
      "98:\tlearn: 0.9845679\ttest: 0.8750000\tbest: 0.9192547 (8)\ttotal: 301ms\tremaining: 483ms\n",
      "99:\tlearn: 0.9845679\ttest: 0.8750000\tbest: 0.9192547 (8)\ttotal: 303ms\tremaining: 479ms\n",
      "100:\tlearn: 0.9845679\ttest: 0.8750000\tbest: 0.9192547 (8)\ttotal: 305ms\tremaining: 474ms\n",
      "101:\tlearn: 0.9845679\ttest: 0.8750000\tbest: 0.9192547 (8)\ttotal: 306ms\tremaining: 469ms\n",
      "102:\tlearn: 0.9845679\ttest: 0.8750000\tbest: 0.9192547 (8)\ttotal: 308ms\tremaining: 463ms\n",
      "103:\tlearn: 0.9876161\ttest: 0.8679245\tbest: 0.9192547 (8)\ttotal: 309ms\tremaining: 458ms\n",
      "104:\tlearn: 0.9876161\ttest: 0.8679245\tbest: 0.9192547 (8)\ttotal: 310ms\tremaining: 452ms\n",
      "105:\tlearn: 0.9876161\ttest: 0.8679245\tbest: 0.9192547 (8)\ttotal: 312ms\tremaining: 447ms\n",
      "106:\tlearn: 0.9860896\ttest: 0.8679245\tbest: 0.9192547 (8)\ttotal: 314ms\tremaining: 443ms\n",
      "107:\tlearn: 0.9876161\ttest: 0.8679245\tbest: 0.9192547 (8)\ttotal: 316ms\tremaining: 438ms\n",
      "108:\tlearn: 0.9891473\ttest: 0.8553459\tbest: 0.9192547 (8)\ttotal: 318ms\tremaining: 434ms\n",
      "109:\tlearn: 0.9891473\ttest: 0.8553459\tbest: 0.9192547 (8)\ttotal: 320ms\tremaining: 430ms\n",
      "110:\tlearn: 0.9891473\ttest: 0.8553459\tbest: 0.9192547 (8)\ttotal: 322ms\tremaining: 426ms\n",
      "111:\tlearn: 0.9906832\ttest: 0.8553459\tbest: 0.9192547 (8)\ttotal: 324ms\tremaining: 422ms\n",
      "112:\tlearn: 0.9906832\ttest: 0.8553459\tbest: 0.9192547 (8)\ttotal: 325ms\tremaining: 417ms\n",
      "113:\tlearn: 0.9906832\ttest: 0.8553459\tbest: 0.9192547 (8)\ttotal: 327ms\tremaining: 413ms\n",
      "114:\tlearn: 0.9906832\ttest: 0.8553459\tbest: 0.9192547 (8)\ttotal: 328ms\tremaining: 408ms\n",
      "115:\tlearn: 0.9906832\ttest: 0.8625000\tbest: 0.9192547 (8)\ttotal: 330ms\tremaining: 404ms\n",
      "116:\tlearn: 0.9891473\ttest: 0.8695652\tbest: 0.9192547 (8)\ttotal: 333ms\tremaining: 401ms\n",
      "117:\tlearn: 0.9891473\ttest: 0.8695652\tbest: 0.9192547 (8)\ttotal: 335ms\tremaining: 398ms\n",
      "118:\tlearn: 0.9906832\ttest: 0.8750000\tbest: 0.9192547 (8)\ttotal: 338ms\tremaining: 395ms\n",
      "119:\tlearn: 0.9922240\ttest: 0.8750000\tbest: 0.9192547 (8)\ttotal: 339ms\tremaining: 390ms\n",
      "120:\tlearn: 0.9922240\ttest: 0.8750000\tbest: 0.9192547 (8)\ttotal: 341ms\tremaining: 386ms\n",
      "121:\tlearn: 0.9922240\ttest: 0.8695652\tbest: 0.9192547 (8)\ttotal: 343ms\tremaining: 383ms\n",
      "122:\tlearn: 0.9922240\ttest: 0.8695652\tbest: 0.9192547 (8)\ttotal: 344ms\tremaining: 378ms\n",
      "123:\tlearn: 0.9922240\ttest: 0.8695652\tbest: 0.9192547 (8)\ttotal: 346ms\tremaining: 374ms\n",
      "124:\tlearn: 0.9922240\ttest: 0.8695652\tbest: 0.9192547 (8)\ttotal: 348ms\tremaining: 371ms\n",
      "125:\tlearn: 0.9922240\ttest: 0.8695652\tbest: 0.9192547 (8)\ttotal: 350ms\tremaining: 367ms\n",
      "126:\tlearn: 0.9922240\ttest: 0.8695652\tbest: 0.9192547 (8)\ttotal: 353ms\tremaining: 364ms\n",
      "127:\tlearn: 0.9922240\ttest: 0.8750000\tbest: 0.9192547 (8)\ttotal: 354ms\tremaining: 359ms\n",
      "128:\tlearn: 0.9937695\ttest: 0.8750000\tbest: 0.9192547 (8)\ttotal: 355ms\tremaining: 355ms\n",
      "129:\tlearn: 0.9937695\ttest: 0.8805031\tbest: 0.9192547 (8)\ttotal: 357ms\tremaining: 351ms\n",
      "130:\tlearn: 0.9922240\ttest: 0.8805031\tbest: 0.9192547 (8)\ttotal: 358ms\tremaining: 347ms\n",
      "131:\tlearn: 0.9922240\ttest: 0.8750000\tbest: 0.9192547 (8)\ttotal: 361ms\tremaining: 345ms\n",
      "132:\tlearn: 0.9922240\ttest: 0.8750000\tbest: 0.9192547 (8)\ttotal: 363ms\tremaining: 341ms\n",
      "133:\tlearn: 0.9922240\ttest: 0.8750000\tbest: 0.9192547 (8)\ttotal: 364ms\tremaining: 337ms\n",
      "134:\tlearn: 0.9922240\ttest: 0.8750000\tbest: 0.9192547 (8)\ttotal: 366ms\tremaining: 334ms\n",
      "135:\tlearn: 0.9922240\ttest: 0.8750000\tbest: 0.9192547 (8)\ttotal: 368ms\tremaining: 330ms\n",
      "136:\tlearn: 0.9953344\ttest: 0.8750000\tbest: 0.9192547 (8)\ttotal: 369ms\tremaining: 326ms\n",
      "137:\tlearn: 0.9953344\ttest: 0.8750000\tbest: 0.9192547 (8)\ttotal: 371ms\tremaining: 322ms\n",
      "138:\tlearn: 0.9953344\ttest: 0.8750000\tbest: 0.9192547 (8)\ttotal: 372ms\tremaining: 318ms\n",
      "139:\tlearn: 0.9953344\ttest: 0.8750000\tbest: 0.9192547 (8)\ttotal: 374ms\tremaining: 315ms\n",
      "140:\tlearn: 0.9953344\ttest: 0.8750000\tbest: 0.9192547 (8)\ttotal: 375ms\tremaining: 311ms\n",
      "141:\tlearn: 0.9968847\ttest: 0.8750000\tbest: 0.9192547 (8)\ttotal: 377ms\tremaining: 308ms\n",
      "142:\tlearn: 0.9968847\ttest: 0.8750000\tbest: 0.9192547 (8)\ttotal: 378ms\tremaining: 304ms\n",
      "143:\tlearn: 0.9968847\ttest: 0.8750000\tbest: 0.9192547 (8)\ttotal: 379ms\tremaining: 300ms\n",
      "144:\tlearn: 0.9968847\ttest: 0.8750000\tbest: 0.9192547 (8)\ttotal: 381ms\tremaining: 297ms\n",
      "145:\tlearn: 0.9968847\ttest: 0.8750000\tbest: 0.9192547 (8)\ttotal: 382ms\tremaining: 293ms\n",
      "146:\tlearn: 0.9968847\ttest: 0.8750000\tbest: 0.9192547 (8)\ttotal: 383ms\tremaining: 289ms\n",
      "147:\tlearn: 0.9968847\ttest: 0.8750000\tbest: 0.9192547 (8)\ttotal: 384ms\tremaining: 285ms\n",
      "148:\tlearn: 0.9968847\ttest: 0.8750000\tbest: 0.9192547 (8)\ttotal: 385ms\tremaining: 282ms\n",
      "149:\tlearn: 0.9968847\ttest: 0.8750000\tbest: 0.9192547 (8)\ttotal: 386ms\tremaining: 278ms\n",
      "150:\tlearn: 0.9968847\ttest: 0.8750000\tbest: 0.9192547 (8)\ttotal: 387ms\tremaining: 275ms\n",
      "151:\tlearn: 0.9968847\ttest: 0.8750000\tbest: 0.9192547 (8)\ttotal: 389ms\tremaining: 271ms\n",
      "152:\tlearn: 0.9968847\ttest: 0.8750000\tbest: 0.9192547 (8)\ttotal: 390ms\tremaining: 268ms\n",
      "153:\tlearn: 0.9968847\ttest: 0.8750000\tbest: 0.9192547 (8)\ttotal: 391ms\tremaining: 264ms\n",
      "154:\tlearn: 0.9968847\ttest: 0.8750000\tbest: 0.9192547 (8)\ttotal: 393ms\tremaining: 261ms\n",
      "155:\tlearn: 0.9968847\ttest: 0.8750000\tbest: 0.9192547 (8)\ttotal: 394ms\tremaining: 257ms\n",
      "156:\tlearn: 0.9968847\ttest: 0.8750000\tbest: 0.9192547 (8)\ttotal: 395ms\tremaining: 254ms\n",
      "157:\tlearn: 0.9968847\ttest: 0.8750000\tbest: 0.9192547 (8)\ttotal: 396ms\tremaining: 251ms\n",
      "158:\tlearn: 0.9968847\ttest: 0.8750000\tbest: 0.9192547 (8)\ttotal: 397ms\tremaining: 247ms\n",
      "159:\tlearn: 0.9968847\ttest: 0.8750000\tbest: 0.9192547 (8)\ttotal: 398ms\tremaining: 244ms\n",
      "160:\tlearn: 0.9968847\ttest: 0.8750000\tbest: 0.9192547 (8)\ttotal: 399ms\tremaining: 241ms\n",
      "161:\tlearn: 0.9968847\ttest: 0.8750000\tbest: 0.9192547 (8)\ttotal: 401ms\tremaining: 237ms\n",
      "162:\tlearn: 0.9968847\ttest: 0.8750000\tbest: 0.9192547 (8)\ttotal: 402ms\tremaining: 234ms\n",
      "163:\tlearn: 0.9968847\ttest: 0.8750000\tbest: 0.9192547 (8)\ttotal: 404ms\tremaining: 232ms\n",
      "164:\tlearn: 0.9968847\ttest: 0.8750000\tbest: 0.9192547 (8)\ttotal: 405ms\tremaining: 229ms\n",
      "165:\tlearn: 0.9968847\ttest: 0.8750000\tbest: 0.9192547 (8)\ttotal: 407ms\tremaining: 226ms\n",
      "166:\tlearn: 0.9968847\ttest: 0.8750000\tbest: 0.9192547 (8)\ttotal: 409ms\tremaining: 223ms\n",
      "167:\tlearn: 0.9968847\ttest: 0.8750000\tbest: 0.9192547 (8)\ttotal: 412ms\tremaining: 221ms\n",
      "168:\tlearn: 0.9968847\ttest: 0.8750000\tbest: 0.9192547 (8)\ttotal: 415ms\tremaining: 219ms\n",
      "169:\tlearn: 0.9968847\ttest: 0.8750000\tbest: 0.9192547 (8)\ttotal: 418ms\tremaining: 216ms\n",
      "170:\tlearn: 0.9968847\ttest: 0.8750000\tbest: 0.9192547 (8)\ttotal: 421ms\tremaining: 214ms\n",
      "171:\tlearn: 0.9968847\ttest: 0.8750000\tbest: 0.9192547 (8)\ttotal: 423ms\tremaining: 211ms\n",
      "172:\tlearn: 0.9968847\ttest: 0.8750000\tbest: 0.9192547 (8)\ttotal: 424ms\tremaining: 208ms\n",
      "173:\tlearn: 0.9968847\ttest: 0.8750000\tbest: 0.9192547 (8)\ttotal: 427ms\tremaining: 206ms\n",
      "174:\tlearn: 0.9968847\ttest: 0.8750000\tbest: 0.9192547 (8)\ttotal: 429ms\tremaining: 204ms\n",
      "175:\tlearn: 0.9968847\ttest: 0.8750000\tbest: 0.9192547 (8)\ttotal: 431ms\tremaining: 201ms\n",
      "176:\tlearn: 0.9968847\ttest: 0.8750000\tbest: 0.9192547 (8)\ttotal: 433ms\tremaining: 198ms\n",
      "177:\tlearn: 0.9968847\ttest: 0.8750000\tbest: 0.9192547 (8)\ttotal: 434ms\tremaining: 195ms\n",
      "178:\tlearn: 0.9968847\ttest: 0.8750000\tbest: 0.9192547 (8)\ttotal: 437ms\tremaining: 193ms\n",
      "179:\tlearn: 0.9968847\ttest: 0.8750000\tbest: 0.9192547 (8)\ttotal: 438ms\tremaining: 190ms\n",
      "180:\tlearn: 0.9968847\ttest: 0.8750000\tbest: 0.9192547 (8)\ttotal: 440ms\tremaining: 187ms\n",
      "181:\tlearn: 0.9968847\ttest: 0.8750000\tbest: 0.9192547 (8)\ttotal: 443ms\tremaining: 185ms\n",
      "182:\tlearn: 0.9968847\ttest: 0.8750000\tbest: 0.9192547 (8)\ttotal: 444ms\tremaining: 182ms\n",
      "183:\tlearn: 0.9968847\ttest: 0.8750000\tbest: 0.9192547 (8)\ttotal: 446ms\tremaining: 179ms\n",
      "184:\tlearn: 0.9968847\ttest: 0.8750000\tbest: 0.9192547 (8)\ttotal: 447ms\tremaining: 176ms\n",
      "185:\tlearn: 0.9984399\ttest: 0.8750000\tbest: 0.9192547 (8)\ttotal: 448ms\tremaining: 173ms\n",
      "186:\tlearn: 0.9984399\ttest: 0.8750000\tbest: 0.9192547 (8)\ttotal: 449ms\tremaining: 170ms\n",
      "187:\tlearn: 0.9984399\ttest: 0.8750000\tbest: 0.9192547 (8)\ttotal: 450ms\tremaining: 168ms\n",
      "188:\tlearn: 0.9968847\ttest: 0.8750000\tbest: 0.9192547 (8)\ttotal: 451ms\tremaining: 165ms\n",
      "189:\tlearn: 0.9984399\ttest: 0.8750000\tbest: 0.9192547 (8)\ttotal: 452ms\tremaining: 162ms\n",
      "190:\tlearn: 0.9984399\ttest: 0.8679245\tbest: 0.9192547 (8)\ttotal: 453ms\tremaining: 159ms\n",
      "191:\tlearn: 0.9984399\ttest: 0.8679245\tbest: 0.9192547 (8)\ttotal: 455ms\tremaining: 156ms\n",
      "192:\tlearn: 0.9984399\ttest: 0.8679245\tbest: 0.9192547 (8)\ttotal: 456ms\tremaining: 153ms\n",
      "193:\tlearn: 0.9984399\ttest: 0.8625000\tbest: 0.9192547 (8)\ttotal: 457ms\tremaining: 151ms\n",
      "194:\tlearn: 0.9984399\ttest: 0.8625000\tbest: 0.9192547 (8)\ttotal: 459ms\tremaining: 148ms\n",
      "195:\tlearn: 0.9984399\ttest: 0.8625000\tbest: 0.9192547 (8)\ttotal: 460ms\tremaining: 145ms\n",
      "196:\tlearn: 1.0000000\ttest: 0.8625000\tbest: 0.9192547 (8)\ttotal: 461ms\tremaining: 143ms\n",
      "197:\tlearn: 1.0000000\ttest: 0.8625000\tbest: 0.9192547 (8)\ttotal: 462ms\tremaining: 140ms\n",
      "198:\tlearn: 1.0000000\ttest: 0.8625000\tbest: 0.9192547 (8)\ttotal: 464ms\tremaining: 138ms\n",
      "199:\tlearn: 1.0000000\ttest: 0.8625000\tbest: 0.9192547 (8)\ttotal: 465ms\tremaining: 135ms\n",
      "200:\tlearn: 1.0000000\ttest: 0.8625000\tbest: 0.9192547 (8)\ttotal: 466ms\tremaining: 132ms\n",
      "201:\tlearn: 1.0000000\ttest: 0.8625000\tbest: 0.9192547 (8)\ttotal: 467ms\tremaining: 130ms\n",
      "202:\tlearn: 1.0000000\ttest: 0.8625000\tbest: 0.9192547 (8)\ttotal: 468ms\tremaining: 127ms\n",
      "203:\tlearn: 1.0000000\ttest: 0.8625000\tbest: 0.9192547 (8)\ttotal: 470ms\tremaining: 124ms\n",
      "204:\tlearn: 1.0000000\ttest: 0.8625000\tbest: 0.9192547 (8)\ttotal: 471ms\tremaining: 122ms\n",
      "205:\tlearn: 1.0000000\ttest: 0.8625000\tbest: 0.9192547 (8)\ttotal: 472ms\tremaining: 119ms\n",
      "206:\tlearn: 1.0000000\ttest: 0.8625000\tbest: 0.9192547 (8)\ttotal: 474ms\tremaining: 117ms\n",
      "207:\tlearn: 1.0000000\ttest: 0.8625000\tbest: 0.9192547 (8)\ttotal: 476ms\tremaining: 114ms\n",
      "208:\tlearn: 1.0000000\ttest: 0.8625000\tbest: 0.9192547 (8)\ttotal: 477ms\tremaining: 112ms\n",
      "209:\tlearn: 1.0000000\ttest: 0.8625000\tbest: 0.9192547 (8)\ttotal: 478ms\tremaining: 109ms\n",
      "210:\tlearn: 1.0000000\ttest: 0.8625000\tbest: 0.9192547 (8)\ttotal: 479ms\tremaining: 107ms\n",
      "211:\tlearn: 1.0000000\ttest: 0.8625000\tbest: 0.9192547 (8)\ttotal: 481ms\tremaining: 104ms\n",
      "212:\tlearn: 1.0000000\ttest: 0.8625000\tbest: 0.9192547 (8)\ttotal: 482ms\tremaining: 102ms\n",
      "213:\tlearn: 1.0000000\ttest: 0.8695652\tbest: 0.9192547 (8)\ttotal: 483ms\tremaining: 99.3ms\n",
      "214:\tlearn: 1.0000000\ttest: 0.8695652\tbest: 0.9192547 (8)\ttotal: 484ms\tremaining: 96.8ms\n",
      "215:\tlearn: 1.0000000\ttest: 0.8695652\tbest: 0.9192547 (8)\ttotal: 485ms\tremaining: 94.3ms\n",
      "216:\tlearn: 1.0000000\ttest: 0.8695652\tbest: 0.9192547 (8)\ttotal: 486ms\tremaining: 91.8ms\n",
      "217:\tlearn: 1.0000000\ttest: 0.8695652\tbest: 0.9192547 (8)\ttotal: 487ms\tremaining: 89.4ms\n",
      "218:\tlearn: 1.0000000\ttest: 0.8695652\tbest: 0.9192547 (8)\ttotal: 489ms\tremaining: 87.1ms\n",
      "219:\tlearn: 1.0000000\ttest: 0.8695652\tbest: 0.9192547 (8)\ttotal: 490ms\tremaining: 84.7ms\n",
      "220:\tlearn: 1.0000000\ttest: 0.8695652\tbest: 0.9192547 (8)\ttotal: 492ms\tremaining: 82.4ms\n",
      "221:\tlearn: 1.0000000\ttest: 0.8695652\tbest: 0.9192547 (8)\ttotal: 493ms\tremaining: 80ms\n",
      "222:\tlearn: 1.0000000\ttest: 0.8695652\tbest: 0.9192547 (8)\ttotal: 494ms\tremaining: 77.6ms\n",
      "223:\tlearn: 1.0000000\ttest: 0.8695652\tbest: 0.9192547 (8)\ttotal: 495ms\tremaining: 75.2ms\n",
      "224:\tlearn: 1.0000000\ttest: 0.8695652\tbest: 0.9192547 (8)\ttotal: 496ms\tremaining: 72.8ms\n",
      "225:\tlearn: 1.0000000\ttest: 0.8695652\tbest: 0.9192547 (8)\ttotal: 497ms\tremaining: 70.4ms\n",
      "226:\tlearn: 1.0000000\ttest: 0.8695652\tbest: 0.9192547 (8)\ttotal: 498ms\tremaining: 68.1ms\n",
      "227:\tlearn: 1.0000000\ttest: 0.8695652\tbest: 0.9192547 (8)\ttotal: 500ms\tremaining: 65.7ms\n",
      "228:\tlearn: 1.0000000\ttest: 0.8695652\tbest: 0.9192547 (8)\ttotal: 501ms\tremaining: 63.4ms\n",
      "229:\tlearn: 1.0000000\ttest: 0.8695652\tbest: 0.9192547 (8)\ttotal: 502ms\tremaining: 61.1ms\n",
      "230:\tlearn: 1.0000000\ttest: 0.8695652\tbest: 0.9192547 (8)\ttotal: 503ms\tremaining: 58.8ms\n",
      "231:\tlearn: 1.0000000\ttest: 0.8695652\tbest: 0.9192547 (8)\ttotal: 504ms\tremaining: 56.5ms\n",
      "232:\tlearn: 1.0000000\ttest: 0.8695652\tbest: 0.9192547 (8)\ttotal: 506ms\tremaining: 54.3ms\n",
      "233:\tlearn: 1.0000000\ttest: 0.8695652\tbest: 0.9192547 (8)\ttotal: 508ms\tremaining: 52.1ms\n",
      "234:\tlearn: 1.0000000\ttest: 0.8695652\tbest: 0.9192547 (8)\ttotal: 509ms\tremaining: 49.8ms\n",
      "235:\tlearn: 1.0000000\ttest: 0.8695652\tbest: 0.9192547 (8)\ttotal: 510ms\tremaining: 47.6ms\n",
      "236:\tlearn: 1.0000000\ttest: 0.8695652\tbest: 0.9192547 (8)\ttotal: 511ms\tremaining: 45.3ms\n",
      "237:\tlearn: 1.0000000\ttest: 0.8695652\tbest: 0.9192547 (8)\ttotal: 512ms\tremaining: 43.1ms\n",
      "238:\tlearn: 1.0000000\ttest: 0.8695652\tbest: 0.9192547 (8)\ttotal: 513ms\tremaining: 40.8ms\n",
      "239:\tlearn: 1.0000000\ttest: 0.8695652\tbest: 0.9192547 (8)\ttotal: 515ms\tremaining: 38.6ms\n",
      "240:\tlearn: 1.0000000\ttest: 0.8695652\tbest: 0.9192547 (8)\ttotal: 516ms\tremaining: 36.4ms\n",
      "241:\tlearn: 1.0000000\ttest: 0.8695652\tbest: 0.9192547 (8)\ttotal: 517ms\tremaining: 34.2ms\n",
      "242:\tlearn: 1.0000000\ttest: 0.8695652\tbest: 0.9192547 (8)\ttotal: 518ms\tremaining: 32ms\n",
      "243:\tlearn: 1.0000000\ttest: 0.8695652\tbest: 0.9192547 (8)\ttotal: 520ms\tremaining: 29.8ms\n",
      "244:\tlearn: 1.0000000\ttest: 0.8695652\tbest: 0.9192547 (8)\ttotal: 521ms\tremaining: 27.7ms\n",
      "245:\tlearn: 1.0000000\ttest: 0.8695652\tbest: 0.9192547 (8)\ttotal: 522ms\tremaining: 25.5ms\n",
      "246:\tlearn: 1.0000000\ttest: 0.8695652\tbest: 0.9192547 (8)\ttotal: 523ms\tremaining: 23.3ms\n",
      "247:\tlearn: 1.0000000\ttest: 0.8695652\tbest: 0.9192547 (8)\ttotal: 524ms\tremaining: 21.1ms\n",
      "248:\tlearn: 1.0000000\ttest: 0.8695652\tbest: 0.9192547 (8)\ttotal: 525ms\tremaining: 19ms\n",
      "249:\tlearn: 1.0000000\ttest: 0.8695652\tbest: 0.9192547 (8)\ttotal: 527ms\tremaining: 16.8ms\n",
      "250:\tlearn: 1.0000000\ttest: 0.8695652\tbest: 0.9192547 (8)\ttotal: 528ms\tremaining: 14.7ms\n",
      "251:\tlearn: 1.0000000\ttest: 0.8695652\tbest: 0.9192547 (8)\ttotal: 529ms\tremaining: 12.6ms\n",
      "252:\tlearn: 1.0000000\ttest: 0.8695652\tbest: 0.9192547 (8)\ttotal: 530ms\tremaining: 10.5ms\n",
      "253:\tlearn: 1.0000000\ttest: 0.8695652\tbest: 0.9192547 (8)\ttotal: 531ms\tremaining: 8.37ms\n",
      "254:\tlearn: 1.0000000\ttest: 0.8695652\tbest: 0.9192547 (8)\ttotal: 533ms\tremaining: 6.26ms\n",
      "255:\tlearn: 1.0000000\ttest: 0.8695652\tbest: 0.9192547 (8)\ttotal: 534ms\tremaining: 4.17ms\n",
      "256:\tlearn: 1.0000000\ttest: 0.8695652\tbest: 0.9192547 (8)\ttotal: 535ms\tremaining: 2.08ms\n",
      "257:\tlearn: 1.0000000\ttest: 0.8695652\tbest: 0.9192547 (8)\ttotal: 536ms\tremaining: 0us\n",
      "\n",
      "bestTest = 0.9192546584\n",
      "bestIteration = 8\n",
      "\n",
      "Training on fold [1/5]\n",
      "0:\tlearn: 0.8780488\ttest: 0.8622754\tbest: 0.8622754 (0)\ttotal: 1.3ms\tremaining: 335ms\n",
      "1:\tlearn: 0.8925373\ttest: 0.8505747\tbest: 0.8622754 (0)\ttotal: 2.43ms\tremaining: 312ms\n",
      "2:\tlearn: 0.8972810\ttest: 0.8750000\tbest: 0.8750000 (2)\ttotal: 3.54ms\tremaining: 301ms\n",
      "3:\tlearn: 0.9046899\ttest: 0.8875740\tbest: 0.8875740 (3)\ttotal: 4.63ms\tremaining: 294ms\n",
      "4:\tlearn: 0.9101979\ttest: 0.8888889\tbest: 0.8888889 (4)\ttotal: 5.71ms\tremaining: 289ms\n",
      "5:\tlearn: 0.9096478\ttest: 0.8941176\tbest: 0.8941176 (5)\ttotal: 7.13ms\tremaining: 299ms\n",
      "6:\tlearn: 0.9141104\ttest: 0.8875740\tbest: 0.8941176 (5)\ttotal: 8.42ms\tremaining: 302ms\n",
      "7:\tlearn: 0.9141104\ttest: 0.8982036\tbest: 0.8982036 (7)\ttotal: 9.93ms\tremaining: 310ms\n",
      "8:\tlearn: 0.9152542\ttest: 0.8928571\tbest: 0.8982036 (7)\ttotal: 11ms\tremaining: 306ms\n",
      "9:\tlearn: 0.9185868\ttest: 0.8982036\tbest: 0.8982036 (7)\ttotal: 12.1ms\tremaining: 301ms\n",
      "10:\tlearn: 0.9244992\ttest: 0.9047619\tbest: 0.9047619 (10)\ttotal: 13.2ms\tremaining: 297ms\n",
      "11:\tlearn: 0.9200000\ttest: 0.9047619\tbest: 0.9047619 (10)\ttotal: 14.3ms\tremaining: 293ms\n",
      "12:\tlearn: 0.9244992\ttest: 0.9047619\tbest: 0.9047619 (10)\ttotal: 15.4ms\tremaining: 290ms\n",
      "13:\tlearn: 0.9275809\ttest: 0.9047619\tbest: 0.9047619 (10)\ttotal: 16.5ms\tremaining: 287ms\n",
      "14:\tlearn: 0.9308756\ttest: 0.9047619\tbest: 0.9047619 (10)\ttotal: 17.6ms\tremaining: 286ms\n",
      "15:\tlearn: 0.9325153\ttest: 0.9047619\tbest: 0.9047619 (10)\ttotal: 18.7ms\tremaining: 283ms\n",
      "16:\tlearn: 0.9353846\ttest: 0.9101796\tbest: 0.9101796 (16)\ttotal: 19.8ms\tremaining: 281ms\n",
      "17:\tlearn: 0.9372129\ttest: 0.9101796\tbest: 0.9101796 (16)\ttotal: 20.9ms\tremaining: 279ms\n",
      "18:\tlearn: 0.9400922\ttest: 0.9101796\tbest: 0.9101796 (16)\ttotal: 22.1ms\tremaining: 278ms\n",
      "19:\tlearn: 0.9400922\ttest: 0.9101796\tbest: 0.9101796 (16)\ttotal: 23.2ms\tremaining: 276ms\n",
      "20:\tlearn: 0.9460709\ttest: 0.9101796\tbest: 0.9101796 (16)\ttotal: 24.3ms\tremaining: 274ms\n",
      "21:\tlearn: 0.9475309\ttest: 0.9101796\tbest: 0.9101796 (16)\ttotal: 25.6ms\tremaining: 274ms\n",
      "22:\tlearn: 0.9460709\ttest: 0.9101796\tbest: 0.9101796 (16)\ttotal: 26.7ms\tremaining: 273ms\n",
      "23:\tlearn: 0.9476923\ttest: 0.9101796\tbest: 0.9101796 (16)\ttotal: 27.6ms\tremaining: 269ms\n",
      "24:\tlearn: 0.9475309\ttest: 0.9101796\tbest: 0.9101796 (16)\ttotal: 28.7ms\tremaining: 267ms\n",
      "25:\tlearn: 0.9475309\ttest: 0.9101796\tbest: 0.9101796 (16)\ttotal: 29.8ms\tremaining: 266ms\n",
      "26:\tlearn: 0.9473684\ttest: 0.9166667\tbest: 0.9166667 (26)\ttotal: 31ms\tremaining: 265ms\n",
      "27:\tlearn: 0.9473684\ttest: 0.9166667\tbest: 0.9166667 (26)\ttotal: 32.2ms\tremaining: 264ms\n",
      "28:\tlearn: 0.9537037\ttest: 0.9166667\tbest: 0.9166667 (26)\ttotal: 33.3ms\tremaining: 263ms\n",
      "29:\tlearn: 0.9553159\ttest: 0.9166667\tbest: 0.9166667 (26)\ttotal: 34.3ms\tremaining: 261ms\n",
      "30:\tlearn: 0.9553159\ttest: 0.9166667\tbest: 0.9166667 (26)\ttotal: 35.5ms\tremaining: 260ms\n",
      "31:\tlearn: 0.9554531\ttest: 0.9101796\tbest: 0.9166667 (26)\ttotal: 36.6ms\tremaining: 259ms\n",
      "32:\tlearn: 0.9554531\ttest: 0.9101796\tbest: 0.9166667 (26)\ttotal: 37.7ms\tremaining: 257ms\n",
      "33:\tlearn: 0.9569231\ttest: 0.9101796\tbest: 0.9166667 (26)\ttotal: 38.8ms\tremaining: 256ms\n",
      "34:\tlearn: 0.9583975\ttest: 0.9101796\tbest: 0.9166667 (26)\ttotal: 41.1ms\tremaining: 262ms\n",
      "35:\tlearn: 0.9598765\ttest: 0.9101796\tbest: 0.9166667 (26)\ttotal: 42.3ms\tremaining: 261ms\n",
      "36:\tlearn: 0.9614792\ttest: 0.9047619\tbest: 0.9166667 (26)\ttotal: 43.5ms\tremaining: 260ms\n",
      "37:\tlearn: 0.9614792\ttest: 0.9047619\tbest: 0.9166667 (26)\ttotal: 44.6ms\tremaining: 258ms\n",
      "38:\tlearn: 0.9614792\ttest: 0.9047619\tbest: 0.9166667 (26)\ttotal: 45.8ms\tremaining: 257ms\n",
      "39:\tlearn: 0.9614792\ttest: 0.9047619\tbest: 0.9166667 (26)\ttotal: 46.9ms\tremaining: 255ms\n",
      "40:\tlearn: 0.9614792\ttest: 0.9047619\tbest: 0.9166667 (26)\ttotal: 47.7ms\tremaining: 252ms\n",
      "41:\tlearn: 0.9600000\ttest: 0.9047619\tbest: 0.9166667 (26)\ttotal: 48.9ms\tremaining: 251ms\n",
      "42:\tlearn: 0.9629630\ttest: 0.9047619\tbest: 0.9166667 (26)\ttotal: 50ms\tremaining: 250ms\n",
      "43:\tlearn: 0.9629630\ttest: 0.9047619\tbest: 0.9166667 (26)\ttotal: 51.1ms\tremaining: 248ms\n",
      "44:\tlearn: 0.9645609\ttest: 0.9047619\tbest: 0.9166667 (26)\ttotal: 52.1ms\tremaining: 247ms\n",
      "45:\tlearn: 0.9645609\ttest: 0.9047619\tbest: 0.9166667 (26)\ttotal: 53.4ms\tremaining: 246ms\n",
      "46:\tlearn: 0.9645609\ttest: 0.9047619\tbest: 0.9166667 (26)\ttotal: 54.5ms\tremaining: 245ms\n",
      "47:\tlearn: 0.9660494\ttest: 0.8994083\tbest: 0.9166667 (26)\ttotal: 55.9ms\tremaining: 245ms\n",
      "48:\tlearn: 0.9690402\ttest: 0.8994083\tbest: 0.9166667 (26)\ttotal: 57.5ms\tremaining: 245ms\n",
      "49:\tlearn: 0.9675425\ttest: 0.8994083\tbest: 0.9166667 (26)\ttotal: 58.6ms\tremaining: 244ms\n",
      "50:\tlearn: 0.9661538\ttest: 0.8994083\tbest: 0.9166667 (26)\ttotal: 59.7ms\tremaining: 242ms\n",
      "51:\tlearn: 0.9661538\ttest: 0.8994083\tbest: 0.9166667 (26)\ttotal: 60.8ms\tremaining: 241ms\n",
      "52:\tlearn: 0.9676425\ttest: 0.8994083\tbest: 0.9166667 (26)\ttotal: 61.9ms\tremaining: 240ms\n",
      "53:\tlearn: 0.9676425\ttest: 0.8994083\tbest: 0.9166667 (26)\ttotal: 62.6ms\tremaining: 237ms\n",
      "54:\tlearn: 0.9676425\ttest: 0.8994083\tbest: 0.9166667 (26)\ttotal: 63.6ms\tremaining: 235ms\n",
      "55:\tlearn: 0.9676425\ttest: 0.8994083\tbest: 0.9166667 (26)\ttotal: 64.8ms\tremaining: 234ms\n",
      "56:\tlearn: 0.9721362\ttest: 0.8994083\tbest: 0.9166667 (26)\ttotal: 65.9ms\tremaining: 232ms\n",
      "57:\tlearn: 0.9721362\ttest: 0.8994083\tbest: 0.9166667 (26)\ttotal: 67ms\tremaining: 231ms\n",
      "58:\tlearn: 0.9721362\ttest: 0.8994083\tbest: 0.9166667 (26)\ttotal: 68.4ms\tremaining: 231ms\n",
      "59:\tlearn: 0.9721362\ttest: 0.8994083\tbest: 0.9166667 (26)\ttotal: 69.8ms\tremaining: 230ms\n",
      "60:\tlearn: 0.9737249\ttest: 0.8994083\tbest: 0.9166667 (26)\ttotal: 71.1ms\tremaining: 230ms\n",
      "61:\tlearn: 0.9797823\ttest: 0.8994083\tbest: 0.9166667 (26)\ttotal: 72.2ms\tremaining: 228ms\n",
      "62:\tlearn: 0.9813665\ttest: 0.8994083\tbest: 0.9166667 (26)\ttotal: 73.4ms\tremaining: 227ms\n",
      "63:\tlearn: 0.9813665\ttest: 0.8994083\tbest: 0.9166667 (26)\ttotal: 74.4ms\tremaining: 226ms\n",
      "64:\tlearn: 0.9813665\ttest: 0.8994083\tbest: 0.9166667 (26)\ttotal: 75.6ms\tremaining: 224ms\n",
      "65:\tlearn: 0.9813665\ttest: 0.8994083\tbest: 0.9166667 (26)\ttotal: 76.7ms\tremaining: 223ms\n",
      "66:\tlearn: 0.9813665\ttest: 0.8994083\tbest: 0.9166667 (26)\ttotal: 77.5ms\tremaining: 221ms\n",
      "67:\tlearn: 0.9813665\ttest: 0.8994083\tbest: 0.9166667 (26)\ttotal: 78.6ms\tremaining: 220ms\n",
      "68:\tlearn: 0.9813665\ttest: 0.8994083\tbest: 0.9166667 (26)\ttotal: 79.8ms\tremaining: 218ms\n",
      "69:\tlearn: 0.9813665\ttest: 0.8994083\tbest: 0.9166667 (26)\ttotal: 80.8ms\tremaining: 217ms\n",
      "70:\tlearn: 0.9814241\ttest: 0.8994083\tbest: 0.9166667 (26)\ttotal: 81.9ms\tremaining: 216ms\n",
      "71:\tlearn: 0.9829457\ttest: 0.8994083\tbest: 0.9166667 (26)\ttotal: 83.1ms\tremaining: 215ms\n",
      "72:\tlearn: 0.9829457\ttest: 0.8994083\tbest: 0.9166667 (26)\ttotal: 84.2ms\tremaining: 213ms\n",
      "73:\tlearn: 0.9829457\ttest: 0.8994083\tbest: 0.9166667 (26)\ttotal: 85.6ms\tremaining: 213ms\n",
      "74:\tlearn: 0.9829457\ttest: 0.9058824\tbest: 0.9166667 (26)\ttotal: 86.6ms\tremaining: 211ms\n",
      "75:\tlearn: 0.9845201\ttest: 0.9058824\tbest: 0.9166667 (26)\ttotal: 87.8ms\tremaining: 210ms\n",
      "76:\tlearn: 0.9860896\ttest: 0.9047619\tbest: 0.9166667 (26)\ttotal: 89ms\tremaining: 209ms\n",
      "77:\tlearn: 0.9860896\ttest: 0.9047619\tbest: 0.9166667 (26)\ttotal: 90.3ms\tremaining: 208ms\n",
      "78:\tlearn: 0.9860896\ttest: 0.9047619\tbest: 0.9166667 (26)\ttotal: 92ms\tremaining: 209ms\n",
      "79:\tlearn: 0.9860896\ttest: 0.9047619\tbest: 0.9166667 (26)\ttotal: 93.2ms\tremaining: 207ms\n",
      "80:\tlearn: 0.9860896\ttest: 0.9047619\tbest: 0.9166667 (26)\ttotal: 94.5ms\tremaining: 206ms\n",
      "81:\tlearn: 0.9860896\ttest: 0.9047619\tbest: 0.9166667 (26)\ttotal: 95.5ms\tremaining: 205ms\n",
      "82:\tlearn: 0.9860896\ttest: 0.9047619\tbest: 0.9166667 (26)\ttotal: 96.6ms\tremaining: 204ms\n",
      "83:\tlearn: 0.9860896\ttest: 0.9047619\tbest: 0.9166667 (26)\ttotal: 98.1ms\tremaining: 203ms\n",
      "84:\tlearn: 0.9860896\ttest: 0.9047619\tbest: 0.9166667 (26)\ttotal: 99.2ms\tremaining: 202ms\n",
      "85:\tlearn: 0.9860896\ttest: 0.9047619\tbest: 0.9166667 (26)\ttotal: 100ms\tremaining: 201ms\n",
      "86:\tlearn: 0.9860896\ttest: 0.9047619\tbest: 0.9166667 (26)\ttotal: 102ms\tremaining: 200ms\n",
      "87:\tlearn: 0.9891473\ttest: 0.8994083\tbest: 0.9166667 (26)\ttotal: 103ms\tremaining: 199ms\n",
      "88:\tlearn: 0.9891473\ttest: 0.9047619\tbest: 0.9166667 (26)\ttotal: 104ms\tremaining: 198ms\n",
      "89:\tlearn: 0.9876161\ttest: 0.9047619\tbest: 0.9166667 (26)\ttotal: 105ms\tremaining: 197ms\n",
      "90:\tlearn: 0.9876161\ttest: 0.8994083\tbest: 0.9166667 (26)\ttotal: 107ms\tremaining: 196ms\n",
      "91:\tlearn: 0.9876161\ttest: 0.8994083\tbest: 0.9166667 (26)\ttotal: 108ms\tremaining: 194ms\n",
      "92:\tlearn: 0.9891808\ttest: 0.8994083\tbest: 0.9166667 (26)\ttotal: 109ms\tremaining: 193ms\n",
      "93:\tlearn: 0.9907121\ttest: 0.8994083\tbest: 0.9166667 (26)\ttotal: 110ms\tremaining: 192ms\n",
      "94:\tlearn: 0.9907121\ttest: 0.8994083\tbest: 0.9166667 (26)\ttotal: 111ms\tremaining: 191ms\n",
      "95:\tlearn: 0.9907121\ttest: 0.8994083\tbest: 0.9166667 (26)\ttotal: 113ms\tremaining: 190ms\n",
      "96:\tlearn: 0.9922720\ttest: 0.8928571\tbest: 0.9166667 (26)\ttotal: 114ms\tremaining: 189ms\n",
      "97:\tlearn: 0.9922720\ttest: 0.8928571\tbest: 0.9166667 (26)\ttotal: 115ms\tremaining: 188ms\n",
      "98:\tlearn: 0.9922720\ttest: 0.8982036\tbest: 0.9166667 (26)\ttotal: 117ms\tremaining: 188ms\n",
      "99:\tlearn: 0.9907121\ttest: 0.8982036\tbest: 0.9166667 (26)\ttotal: 118ms\tremaining: 186ms\n",
      "100:\tlearn: 0.9907121\ttest: 0.8982036\tbest: 0.9166667 (26)\ttotal: 120ms\tremaining: 187ms\n",
      "101:\tlearn: 0.9922720\ttest: 0.8982036\tbest: 0.9166667 (26)\ttotal: 121ms\tremaining: 186ms\n",
      "102:\tlearn: 0.9922720\ttest: 0.8982036\tbest: 0.9166667 (26)\ttotal: 123ms\tremaining: 184ms\n",
      "103:\tlearn: 0.9922720\ttest: 0.8982036\tbest: 0.9166667 (26)\ttotal: 124ms\tremaining: 184ms\n",
      "104:\tlearn: 0.9922720\ttest: 0.8982036\tbest: 0.9166667 (26)\ttotal: 126ms\tremaining: 183ms\n",
      "105:\tlearn: 0.9922720\ttest: 0.8982036\tbest: 0.9166667 (26)\ttotal: 127ms\tremaining: 182ms\n",
      "106:\tlearn: 0.9922720\ttest: 0.8982036\tbest: 0.9166667 (26)\ttotal: 128ms\tremaining: 181ms\n",
      "107:\tlearn: 0.9922720\ttest: 0.8915663\tbest: 0.9166667 (26)\ttotal: 129ms\tremaining: 179ms\n",
      "108:\tlearn: 0.9922720\ttest: 0.8915663\tbest: 0.9166667 (26)\ttotal: 130ms\tremaining: 178ms\n",
      "109:\tlearn: 0.9922720\ttest: 0.8915663\tbest: 0.9166667 (26)\ttotal: 131ms\tremaining: 177ms\n",
      "110:\tlearn: 0.9922720\ttest: 0.8915663\tbest: 0.9166667 (26)\ttotal: 133ms\tremaining: 176ms\n",
      "111:\tlearn: 0.9922720\ttest: 0.8915663\tbest: 0.9166667 (26)\ttotal: 134ms\tremaining: 175ms\n",
      "112:\tlearn: 0.9922720\ttest: 0.8915663\tbest: 0.9166667 (26)\ttotal: 135ms\tremaining: 174ms\n",
      "113:\tlearn: 0.9922720\ttest: 0.8915663\tbest: 0.9166667 (26)\ttotal: 136ms\tremaining: 172ms\n",
      "114:\tlearn: 0.9922720\ttest: 0.8915663\tbest: 0.9166667 (26)\ttotal: 138ms\tremaining: 171ms\n",
      "115:\tlearn: 0.9922720\ttest: 0.8915663\tbest: 0.9166667 (26)\ttotal: 139ms\tremaining: 170ms\n",
      "116:\tlearn: 0.9922720\ttest: 0.8915663\tbest: 0.9166667 (26)\ttotal: 140ms\tremaining: 168ms\n",
      "117:\tlearn: 0.9922720\ttest: 0.8915663\tbest: 0.9166667 (26)\ttotal: 141ms\tremaining: 167ms\n",
      "118:\tlearn: 0.9922720\ttest: 0.8915663\tbest: 0.9166667 (26)\ttotal: 142ms\tremaining: 165ms\n",
      "119:\tlearn: 0.9922720\ttest: 0.8915663\tbest: 0.9166667 (26)\ttotal: 143ms\tremaining: 164ms\n",
      "120:\tlearn: 0.9922720\ttest: 0.8915663\tbest: 0.9166667 (26)\ttotal: 144ms\tremaining: 163ms\n",
      "121:\tlearn: 0.9922720\ttest: 0.8915663\tbest: 0.9166667 (26)\ttotal: 145ms\tremaining: 162ms\n",
      "122:\tlearn: 0.9922720\ttest: 0.8915663\tbest: 0.9166667 (26)\ttotal: 147ms\tremaining: 161ms\n",
      "123:\tlearn: 0.9922720\ttest: 0.8915663\tbest: 0.9166667 (26)\ttotal: 148ms\tremaining: 160ms\n",
      "124:\tlearn: 0.9922720\ttest: 0.8915663\tbest: 0.9166667 (26)\ttotal: 149ms\tremaining: 159ms\n",
      "125:\tlearn: 0.9922720\ttest: 0.8915663\tbest: 0.9166667 (26)\ttotal: 150ms\tremaining: 157ms\n",
      "126:\tlearn: 0.9922720\ttest: 0.8915663\tbest: 0.9166667 (26)\ttotal: 151ms\tremaining: 156ms\n",
      "127:\tlearn: 0.9938080\ttest: 0.8862275\tbest: 0.9166667 (26)\ttotal: 152ms\tremaining: 155ms\n",
      "128:\tlearn: 0.9938080\ttest: 0.8928571\tbest: 0.9166667 (26)\ttotal: 153ms\tremaining: 153ms\n",
      "129:\tlearn: 0.9938080\ttest: 0.8928571\tbest: 0.9166667 (26)\ttotal: 155ms\tremaining: 152ms\n",
      "130:\tlearn: 0.9938080\ttest: 0.8928571\tbest: 0.9166667 (26)\ttotal: 156ms\tremaining: 151ms\n",
      "131:\tlearn: 0.9938080\ttest: 0.8928571\tbest: 0.9166667 (26)\ttotal: 157ms\tremaining: 150ms\n",
      "132:\tlearn: 0.9938080\ttest: 0.8928571\tbest: 0.9166667 (26)\ttotal: 158ms\tremaining: 148ms\n",
      "133:\tlearn: 0.9938080\ttest: 0.8928571\tbest: 0.9166667 (26)\ttotal: 159ms\tremaining: 147ms\n",
      "134:\tlearn: 0.9938080\ttest: 0.8928571\tbest: 0.9166667 (26)\ttotal: 160ms\tremaining: 146ms\n",
      "135:\tlearn: 0.9938080\ttest: 0.8982036\tbest: 0.9166667 (26)\ttotal: 161ms\tremaining: 145ms\n",
      "136:\tlearn: 0.9938080\ttest: 0.8928571\tbest: 0.9166667 (26)\ttotal: 162ms\tremaining: 144ms\n",
      "137:\tlearn: 0.9938080\ttest: 0.8928571\tbest: 0.9166667 (26)\ttotal: 165ms\tremaining: 143ms\n",
      "138:\tlearn: 0.9938080\ttest: 0.8928571\tbest: 0.9166667 (26)\ttotal: 166ms\tremaining: 142ms\n",
      "139:\tlearn: 0.9938080\ttest: 0.8982036\tbest: 0.9166667 (26)\ttotal: 167ms\tremaining: 140ms\n",
      "140:\tlearn: 0.9938080\ttest: 0.8982036\tbest: 0.9166667 (26)\ttotal: 168ms\tremaining: 139ms\n",
      "141:\tlearn: 0.9938080\ttest: 0.8928571\tbest: 0.9166667 (26)\ttotal: 169ms\tremaining: 138ms\n",
      "142:\tlearn: 0.9938080\ttest: 0.8928571\tbest: 0.9166667 (26)\ttotal: 170ms\tremaining: 136ms\n",
      "143:\tlearn: 0.9938080\ttest: 0.8928571\tbest: 0.9166667 (26)\ttotal: 171ms\tremaining: 135ms\n",
      "144:\tlearn: 0.9953488\ttest: 0.8928571\tbest: 0.9166667 (26)\ttotal: 172ms\tremaining: 134ms\n",
      "145:\tlearn: 0.9953488\ttest: 0.8928571\tbest: 0.9166667 (26)\ttotal: 173ms\tremaining: 133ms\n",
      "146:\tlearn: 0.9953488\ttest: 0.8928571\tbest: 0.9166667 (26)\ttotal: 174ms\tremaining: 131ms\n",
      "147:\tlearn: 0.9953488\ttest: 0.8928571\tbest: 0.9166667 (26)\ttotal: 175ms\tremaining: 130ms\n",
      "148:\tlearn: 0.9968944\ttest: 0.8862275\tbest: 0.9166667 (26)\ttotal: 176ms\tremaining: 129ms\n",
      "149:\tlearn: 0.9968944\ttest: 0.8862275\tbest: 0.9166667 (26)\ttotal: 177ms\tremaining: 128ms\n",
      "150:\tlearn: 0.9968944\ttest: 0.8862275\tbest: 0.9166667 (26)\ttotal: 178ms\tremaining: 126ms\n",
      "151:\tlearn: 0.9968944\ttest: 0.8862275\tbest: 0.9166667 (26)\ttotal: 180ms\tremaining: 125ms\n",
      "152:\tlearn: 0.9968944\ttest: 0.8862275\tbest: 0.9166667 (26)\ttotal: 181ms\tremaining: 124ms\n",
      "153:\tlearn: 0.9968944\ttest: 0.8862275\tbest: 0.9166667 (26)\ttotal: 182ms\tremaining: 123ms\n",
      "154:\tlearn: 0.9968944\ttest: 0.8862275\tbest: 0.9166667 (26)\ttotal: 183ms\tremaining: 122ms\n",
      "155:\tlearn: 0.9968944\ttest: 0.8862275\tbest: 0.9166667 (26)\ttotal: 184ms\tremaining: 121ms\n",
      "156:\tlearn: 0.9968944\ttest: 0.8862275\tbest: 0.9166667 (26)\ttotal: 186ms\tremaining: 119ms\n",
      "157:\tlearn: 0.9968944\ttest: 0.8862275\tbest: 0.9166667 (26)\ttotal: 187ms\tremaining: 118ms\n",
      "158:\tlearn: 0.9968944\ttest: 0.8862275\tbest: 0.9166667 (26)\ttotal: 188ms\tremaining: 117ms\n",
      "159:\tlearn: 0.9968944\ttest: 0.8862275\tbest: 0.9166667 (26)\ttotal: 189ms\tremaining: 116ms\n",
      "160:\tlearn: 0.9968944\ttest: 0.8862275\tbest: 0.9166667 (26)\ttotal: 190ms\tremaining: 114ms\n",
      "161:\tlearn: 0.9968944\ttest: 0.8862275\tbest: 0.9166667 (26)\ttotal: 191ms\tremaining: 113ms\n",
      "162:\tlearn: 0.9968944\ttest: 0.8862275\tbest: 0.9166667 (26)\ttotal: 192ms\tremaining: 112ms\n",
      "163:\tlearn: 0.9968944\ttest: 0.8862275\tbest: 0.9166667 (26)\ttotal: 193ms\tremaining: 111ms\n",
      "164:\tlearn: 0.9984448\ttest: 0.8862275\tbest: 0.9166667 (26)\ttotal: 195ms\tremaining: 110ms\n",
      "165:\tlearn: 0.9984448\ttest: 0.8862275\tbest: 0.9166667 (26)\ttotal: 196ms\tremaining: 108ms\n",
      "166:\tlearn: 0.9984448\ttest: 0.8795181\tbest: 0.9166667 (26)\ttotal: 197ms\tremaining: 107ms\n",
      "167:\tlearn: 0.9984448\ttest: 0.8795181\tbest: 0.9166667 (26)\ttotal: 198ms\tremaining: 106ms\n",
      "168:\tlearn: 0.9984448\ttest: 0.8862275\tbest: 0.9166667 (26)\ttotal: 199ms\tremaining: 105ms\n",
      "169:\tlearn: 0.9984448\ttest: 0.8862275\tbest: 0.9166667 (26)\ttotal: 200ms\tremaining: 104ms\n",
      "170:\tlearn: 0.9984448\ttest: 0.8742515\tbest: 0.9166667 (26)\ttotal: 201ms\tremaining: 102ms\n",
      "171:\tlearn: 0.9984448\ttest: 0.8809524\tbest: 0.9166667 (26)\ttotal: 203ms\tremaining: 101ms\n",
      "172:\tlearn: 0.9984448\ttest: 0.8795181\tbest: 0.9166667 (26)\ttotal: 204ms\tremaining: 100ms\n",
      "173:\tlearn: 0.9984448\ttest: 0.8862275\tbest: 0.9166667 (26)\ttotal: 205ms\tremaining: 98.8ms\n",
      "174:\tlearn: 0.9984448\ttest: 0.8862275\tbest: 0.9166667 (26)\ttotal: 206ms\tremaining: 97.6ms\n",
      "175:\tlearn: 0.9984448\ttest: 0.8862275\tbest: 0.9166667 (26)\ttotal: 207ms\tremaining: 96.4ms\n",
      "176:\tlearn: 0.9984448\ttest: 0.8862275\tbest: 0.9166667 (26)\ttotal: 208ms\tremaining: 95.2ms\n",
      "177:\tlearn: 0.9984448\ttest: 0.8862275\tbest: 0.9166667 (26)\ttotal: 209ms\tremaining: 94ms\n",
      "178:\tlearn: 0.9984448\ttest: 0.8862275\tbest: 0.9166667 (26)\ttotal: 210ms\tremaining: 92.8ms\n",
      "179:\tlearn: 0.9984448\ttest: 0.8862275\tbest: 0.9166667 (26)\ttotal: 211ms\tremaining: 91.6ms\n",
      "180:\tlearn: 0.9984448\ttest: 0.8862275\tbest: 0.9166667 (26)\ttotal: 212ms\tremaining: 90.2ms\n",
      "181:\tlearn: 0.9984448\ttest: 0.8795181\tbest: 0.9166667 (26)\ttotal: 213ms\tremaining: 89ms\n",
      "182:\tlearn: 0.9984448\ttest: 0.8795181\tbest: 0.9166667 (26)\ttotal: 214ms\tremaining: 87.7ms\n",
      "183:\tlearn: 0.9984448\ttest: 0.8795181\tbest: 0.9166667 (26)\ttotal: 215ms\tremaining: 86.4ms\n",
      "184:\tlearn: 0.9984448\ttest: 0.8795181\tbest: 0.9166667 (26)\ttotal: 216ms\tremaining: 85.2ms\n",
      "185:\tlearn: 0.9984448\ttest: 0.8795181\tbest: 0.9166667 (26)\ttotal: 217ms\tremaining: 84ms\n",
      "186:\tlearn: 0.9984448\ttest: 0.8795181\tbest: 0.9166667 (26)\ttotal: 218ms\tremaining: 82.8ms\n",
      "187:\tlearn: 0.9984448\ttest: 0.8795181\tbest: 0.9166667 (26)\ttotal: 219ms\tremaining: 81.6ms\n",
      "188:\tlearn: 0.9984448\ttest: 0.8795181\tbest: 0.9166667 (26)\ttotal: 220ms\tremaining: 80.4ms\n",
      "189:\tlearn: 0.9984448\ttest: 0.8795181\tbest: 0.9166667 (26)\ttotal: 221ms\tremaining: 79.2ms\n",
      "190:\tlearn: 0.9984448\ttest: 0.8795181\tbest: 0.9166667 (26)\ttotal: 222ms\tremaining: 77.9ms\n",
      "191:\tlearn: 0.9984448\ttest: 0.8862275\tbest: 0.9166667 (26)\ttotal: 224ms\tremaining: 77ms\n",
      "192:\tlearn: 0.9984448\ttest: 0.8862275\tbest: 0.9166667 (26)\ttotal: 225ms\tremaining: 75.9ms\n",
      "193:\tlearn: 0.9984448\ttest: 0.8862275\tbest: 0.9166667 (26)\ttotal: 228ms\tremaining: 75.3ms\n",
      "194:\tlearn: 0.9984448\ttest: 0.8862275\tbest: 0.9166667 (26)\ttotal: 229ms\tremaining: 74.1ms\n",
      "195:\tlearn: 0.9984448\ttest: 0.8862275\tbest: 0.9166667 (26)\ttotal: 231ms\tremaining: 72.9ms\n",
      "196:\tlearn: 0.9984448\ttest: 0.8862275\tbest: 0.9166667 (26)\ttotal: 232ms\tremaining: 71.7ms\n",
      "197:\tlearn: 0.9984448\ttest: 0.8862275\tbest: 0.9166667 (26)\ttotal: 232ms\tremaining: 70.4ms\n",
      "198:\tlearn: 0.9984448\ttest: 0.8862275\tbest: 0.9166667 (26)\ttotal: 234ms\tremaining: 69.2ms\n",
      "199:\tlearn: 0.9984448\ttest: 0.8862275\tbest: 0.9166667 (26)\ttotal: 235ms\tremaining: 68ms\n",
      "200:\tlearn: 0.9984448\ttest: 0.8862275\tbest: 0.9166667 (26)\ttotal: 236ms\tremaining: 66.8ms\n",
      "201:\tlearn: 0.9984448\ttest: 0.8862275\tbest: 0.9166667 (26)\ttotal: 237ms\tremaining: 65.6ms\n",
      "202:\tlearn: 0.9984448\ttest: 0.8862275\tbest: 0.9166667 (26)\ttotal: 238ms\tremaining: 64.4ms\n",
      "203:\tlearn: 0.9984448\ttest: 0.8862275\tbest: 0.9166667 (26)\ttotal: 239ms\tremaining: 63.2ms\n",
      "204:\tlearn: 0.9984448\ttest: 0.8862275\tbest: 0.9166667 (26)\ttotal: 240ms\tremaining: 62.1ms\n",
      "205:\tlearn: 0.9984448\ttest: 0.8862275\tbest: 0.9166667 (26)\ttotal: 241ms\tremaining: 60.9ms\n",
      "206:\tlearn: 0.9984448\ttest: 0.8862275\tbest: 0.9166667 (26)\ttotal: 242ms\tremaining: 59.7ms\n",
      "207:\tlearn: 0.9984448\ttest: 0.8862275\tbest: 0.9166667 (26)\ttotal: 243ms\tremaining: 58.5ms\n",
      "208:\tlearn: 0.9984448\ttest: 0.8862275\tbest: 0.9166667 (26)\ttotal: 244ms\tremaining: 57.3ms\n",
      "209:\tlearn: 0.9984448\ttest: 0.8862275\tbest: 0.9166667 (26)\ttotal: 246ms\tremaining: 56.1ms\n",
      "210:\tlearn: 0.9984448\ttest: 0.8915663\tbest: 0.9166667 (26)\ttotal: 247ms\tremaining: 54.9ms\n",
      "211:\tlearn: 0.9984448\ttest: 0.8915663\tbest: 0.9166667 (26)\ttotal: 248ms\tremaining: 53.7ms\n",
      "212:\tlearn: 0.9984448\ttest: 0.8915663\tbest: 0.9166667 (26)\ttotal: 249ms\tremaining: 52.6ms\n",
      "213:\tlearn: 0.9984448\ttest: 0.8915663\tbest: 0.9166667 (26)\ttotal: 250ms\tremaining: 51.4ms\n",
      "214:\tlearn: 0.9984448\ttest: 0.8915663\tbest: 0.9166667 (26)\ttotal: 251ms\tremaining: 50.2ms\n",
      "215:\tlearn: 0.9984448\ttest: 0.8862275\tbest: 0.9166667 (26)\ttotal: 252ms\tremaining: 49ms\n",
      "216:\tlearn: 0.9984448\ttest: 0.8862275\tbest: 0.9166667 (26)\ttotal: 253ms\tremaining: 47.8ms\n",
      "217:\tlearn: 0.9984448\ttest: 0.8862275\tbest: 0.9166667 (26)\ttotal: 255ms\tremaining: 46.7ms\n",
      "218:\tlearn: 0.9984448\ttest: 0.8862275\tbest: 0.9166667 (26)\ttotal: 256ms\tremaining: 45.6ms\n",
      "219:\tlearn: 0.9984448\ttest: 0.8862275\tbest: 0.9166667 (26)\ttotal: 257ms\tremaining: 44.4ms\n",
      "220:\tlearn: 1.0000000\ttest: 0.8915663\tbest: 0.9166667 (26)\ttotal: 258ms\tremaining: 43.2ms\n",
      "221:\tlearn: 1.0000000\ttest: 0.8915663\tbest: 0.9166667 (26)\ttotal: 259ms\tremaining: 42ms\n",
      "222:\tlearn: 1.0000000\ttest: 0.8915663\tbest: 0.9166667 (26)\ttotal: 260ms\tremaining: 40.9ms\n",
      "223:\tlearn: 1.0000000\ttest: 0.8915663\tbest: 0.9166667 (26)\ttotal: 261ms\tremaining: 39.7ms\n",
      "224:\tlearn: 1.0000000\ttest: 0.8915663\tbest: 0.9166667 (26)\ttotal: 262ms\tremaining: 38.5ms\n",
      "225:\tlearn: 1.0000000\ttest: 0.8915663\tbest: 0.9166667 (26)\ttotal: 263ms\tremaining: 37.3ms\n",
      "226:\tlearn: 1.0000000\ttest: 0.8915663\tbest: 0.9166667 (26)\ttotal: 265ms\tremaining: 36.1ms\n",
      "227:\tlearn: 1.0000000\ttest: 0.8915663\tbest: 0.9166667 (26)\ttotal: 266ms\tremaining: 34.9ms\n",
      "228:\tlearn: 1.0000000\ttest: 0.8915663\tbest: 0.9166667 (26)\ttotal: 266ms\tremaining: 33.7ms\n",
      "229:\tlearn: 1.0000000\ttest: 0.8915663\tbest: 0.9166667 (26)\ttotal: 267ms\tremaining: 32.5ms\n",
      "230:\tlearn: 1.0000000\ttest: 0.8915663\tbest: 0.9166667 (26)\ttotal: 268ms\tremaining: 31.4ms\n",
      "231:\tlearn: 1.0000000\ttest: 0.8915663\tbest: 0.9166667 (26)\ttotal: 270ms\tremaining: 30.2ms\n",
      "232:\tlearn: 1.0000000\ttest: 0.8915663\tbest: 0.9166667 (26)\ttotal: 271ms\tremaining: 29.1ms\n",
      "233:\tlearn: 1.0000000\ttest: 0.8915663\tbest: 0.9166667 (26)\ttotal: 272ms\tremaining: 27.9ms\n",
      "234:\tlearn: 1.0000000\ttest: 0.8915663\tbest: 0.9166667 (26)\ttotal: 273ms\tremaining: 26.7ms\n",
      "235:\tlearn: 1.0000000\ttest: 0.8915663\tbest: 0.9166667 (26)\ttotal: 274ms\tremaining: 25.6ms\n",
      "236:\tlearn: 1.0000000\ttest: 0.8915663\tbest: 0.9166667 (26)\ttotal: 275ms\tremaining: 24.4ms\n",
      "237:\tlearn: 1.0000000\ttest: 0.8915663\tbest: 0.9166667 (26)\ttotal: 276ms\tremaining: 23.2ms\n",
      "238:\tlearn: 1.0000000\ttest: 0.8915663\tbest: 0.9166667 (26)\ttotal: 277ms\tremaining: 22ms\n",
      "239:\tlearn: 1.0000000\ttest: 0.8915663\tbest: 0.9166667 (26)\ttotal: 278ms\tremaining: 20.9ms\n",
      "240:\tlearn: 1.0000000\ttest: 0.8915663\tbest: 0.9166667 (26)\ttotal: 279ms\tremaining: 19.7ms\n",
      "241:\tlearn: 1.0000000\ttest: 0.8915663\tbest: 0.9166667 (26)\ttotal: 280ms\tremaining: 18.5ms\n",
      "242:\tlearn: 1.0000000\ttest: 0.8915663\tbest: 0.9166667 (26)\ttotal: 282ms\tremaining: 17.4ms\n",
      "243:\tlearn: 1.0000000\ttest: 0.8915663\tbest: 0.9166667 (26)\ttotal: 283ms\tremaining: 16.2ms\n",
      "244:\tlearn: 1.0000000\ttest: 0.8915663\tbest: 0.9166667 (26)\ttotal: 284ms\tremaining: 15ms\n",
      "245:\tlearn: 1.0000000\ttest: 0.8915663\tbest: 0.9166667 (26)\ttotal: 285ms\tremaining: 13.9ms\n",
      "246:\tlearn: 1.0000000\ttest: 0.8915663\tbest: 0.9166667 (26)\ttotal: 286ms\tremaining: 12.7ms\n",
      "247:\tlearn: 1.0000000\ttest: 0.8915663\tbest: 0.9166667 (26)\ttotal: 287ms\tremaining: 11.6ms\n",
      "248:\tlearn: 1.0000000\ttest: 0.8915663\tbest: 0.9166667 (26)\ttotal: 288ms\tremaining: 10.4ms\n",
      "249:\tlearn: 1.0000000\ttest: 0.8915663\tbest: 0.9166667 (26)\ttotal: 289ms\tremaining: 9.26ms\n",
      "250:\tlearn: 1.0000000\ttest: 0.8915663\tbest: 0.9166667 (26)\ttotal: 290ms\tremaining: 8.09ms\n",
      "251:\tlearn: 1.0000000\ttest: 0.8915663\tbest: 0.9166667 (26)\ttotal: 291ms\tremaining: 6.93ms\n",
      "252:\tlearn: 1.0000000\ttest: 0.8915663\tbest: 0.9166667 (26)\ttotal: 292ms\tremaining: 5.77ms\n",
      "253:\tlearn: 1.0000000\ttest: 0.8915663\tbest: 0.9166667 (26)\ttotal: 293ms\tremaining: 4.62ms\n",
      "254:\tlearn: 1.0000000\ttest: 0.8915663\tbest: 0.9166667 (26)\ttotal: 294ms\tremaining: 3.46ms\n",
      "255:\tlearn: 1.0000000\ttest: 0.8915663\tbest: 0.9166667 (26)\ttotal: 295ms\tremaining: 2.31ms\n",
      "256:\tlearn: 1.0000000\ttest: 0.8915663\tbest: 0.9166667 (26)\ttotal: 297ms\tremaining: 1.15ms\n",
      "257:\tlearn: 1.0000000\ttest: 0.8915663\tbest: 0.9166667 (26)\ttotal: 297ms\tremaining: 0us\n",
      "\n",
      "bestTest = 0.9166666667\n",
      "bestIteration = 26\n",
      "\n",
      "Training on fold [2/5]\n",
      "0:\tlearn: 0.8770370\ttest: 0.8994083\tbest: 0.8994083 (0)\ttotal: 1.46ms\tremaining: 376ms\n",
      "1:\tlearn: 0.8882175\ttest: 0.9036145\tbest: 0.9036145 (1)\ttotal: 2.62ms\tremaining: 335ms\n",
      "2:\tlearn: 0.9033233\ttest: 0.9036145\tbest: 0.9036145 (1)\ttotal: 3.82ms\tremaining: 325ms\n",
      "3:\tlearn: 0.9063444\ttest: 0.9079755\tbest: 0.9079755 (3)\ttotal: 4.93ms\tremaining: 313ms\n",
      "4:\tlearn: 0.9019608\ttest: 0.9146341\tbest: 0.9146341 (4)\ttotal: 6.03ms\tremaining: 305ms\n",
      "5:\tlearn: 0.9074355\ttest: 0.9090909\tbest: 0.9146341 (4)\ttotal: 7.13ms\tremaining: 300ms\n",
      "6:\tlearn: 0.9101979\ttest: 0.9036145\tbest: 0.9146341 (4)\ttotal: 8.24ms\tremaining: 295ms\n",
      "7:\tlearn: 0.9099237\ttest: 0.9024390\tbest: 0.9146341 (4)\ttotal: 9.34ms\tremaining: 292ms\n",
      "8:\tlearn: 0.9110429\ttest: 0.9024390\tbest: 0.9146341 (4)\ttotal: 10.4ms\tremaining: 288ms\n",
      "9:\tlearn: 0.9157734\ttest: 0.9024390\tbest: 0.9146341 (4)\ttotal: 11.5ms\tremaining: 285ms\n",
      "10:\tlearn: 0.9169231\ttest: 0.9024390\tbest: 0.9146341 (4)\ttotal: 12.6ms\tremaining: 283ms\n",
      "11:\tlearn: 0.9218989\ttest: 0.9024390\tbest: 0.9146341 (4)\ttotal: 13.8ms\tremaining: 282ms\n",
      "12:\tlearn: 0.9263804\ttest: 0.9079755\tbest: 0.9146341 (4)\ttotal: 14.9ms\tremaining: 281ms\n",
      "13:\tlearn: 0.9278034\ttest: 0.9012346\tbest: 0.9146341 (4)\ttotal: 16ms\tremaining: 278ms\n",
      "14:\tlearn: 0.9294479\ttest: 0.8957055\tbest: 0.9146341 (4)\ttotal: 17ms\tremaining: 276ms\n",
      "15:\tlearn: 0.9294479\ttest: 0.9024390\tbest: 0.9146341 (4)\ttotal: 18.1ms\tremaining: 274ms\n",
      "16:\tlearn: 0.9310873\ttest: 0.8902439\tbest: 0.9146341 (4)\ttotal: 19.2ms\tremaining: 272ms\n",
      "17:\tlearn: 0.9308756\ttest: 0.8902439\tbest: 0.9146341 (4)\ttotal: 20.3ms\tremaining: 270ms\n",
      "18:\tlearn: 0.9355828\ttest: 0.8888889\tbest: 0.9146341 (4)\ttotal: 21.4ms\tremaining: 269ms\n",
      "19:\tlearn: 0.9357798\ttest: 0.8902439\tbest: 0.9146341 (4)\ttotal: 22.4ms\tremaining: 267ms\n",
      "20:\tlearn: 0.9404580\ttest: 0.8888889\tbest: 0.9146341 (4)\ttotal: 23.5ms\tremaining: 265ms\n",
      "21:\tlearn: 0.9447853\ttest: 0.8944099\tbest: 0.9146341 (4)\ttotal: 24.6ms\tremaining: 263ms\n",
      "22:\tlearn: 0.9462366\ttest: 0.8944099\tbest: 0.9146341 (4)\ttotal: 25.7ms\tremaining: 262ms\n",
      "23:\tlearn: 0.9493088\ttest: 0.8944099\tbest: 0.9146341 (4)\ttotal: 26.7ms\tremaining: 261ms\n",
      "24:\tlearn: 0.9462366\ttest: 0.8888889\tbest: 0.9146341 (4)\ttotal: 27.8ms\tremaining: 259ms\n",
      "25:\tlearn: 0.9462366\ttest: 0.8888889\tbest: 0.9146341 (4)\ttotal: 29ms\tremaining: 259ms\n",
      "26:\tlearn: 0.9462366\ttest: 0.8888889\tbest: 0.9146341 (4)\ttotal: 30.5ms\tremaining: 261ms\n",
      "27:\tlearn: 0.9462366\ttest: 0.8888889\tbest: 0.9146341 (4)\ttotal: 31.5ms\tremaining: 259ms\n",
      "28:\tlearn: 0.9478528\ttest: 0.8888889\tbest: 0.9146341 (4)\ttotal: 32.6ms\tremaining: 257ms\n",
      "29:\tlearn: 0.9478528\ttest: 0.8888889\tbest: 0.9146341 (4)\ttotal: 33.7ms\tremaining: 256ms\n",
      "30:\tlearn: 0.9478528\ttest: 0.8888889\tbest: 0.9146341 (4)\ttotal: 34.6ms\tremaining: 253ms\n",
      "31:\tlearn: 0.9478528\ttest: 0.8888889\tbest: 0.9146341 (4)\ttotal: 35.6ms\tremaining: 252ms\n",
      "32:\tlearn: 0.9478528\ttest: 0.8888889\tbest: 0.9146341 (4)\ttotal: 36.8ms\tremaining: 251ms\n",
      "33:\tlearn: 0.9478528\ttest: 0.8888889\tbest: 0.9146341 (4)\ttotal: 37.9ms\tremaining: 250ms\n",
      "34:\tlearn: 0.9478528\ttest: 0.8888889\tbest: 0.9146341 (4)\ttotal: 39ms\tremaining: 248ms\n",
      "35:\tlearn: 0.9493088\ttest: 0.8834356\tbest: 0.9146341 (4)\ttotal: 41.5ms\tremaining: 256ms\n",
      "36:\tlearn: 0.9509202\ttest: 0.8834356\tbest: 0.9146341 (4)\ttotal: 43.4ms\tremaining: 259ms\n",
      "37:\tlearn: 0.9509202\ttest: 0.8834356\tbest: 0.9146341 (4)\ttotal: 45.1ms\tremaining: 261ms\n",
      "38:\tlearn: 0.9509202\ttest: 0.8834356\tbest: 0.9146341 (4)\ttotal: 46.2ms\tremaining: 260ms\n",
      "39:\tlearn: 0.9554531\ttest: 0.8848485\tbest: 0.9146341 (4)\ttotal: 47.5ms\tremaining: 259ms\n",
      "40:\tlearn: 0.9554531\ttest: 0.8848485\tbest: 0.9146341 (4)\ttotal: 49.3ms\tremaining: 261ms\n",
      "41:\tlearn: 0.9583975\ttest: 0.8848485\tbest: 0.9146341 (4)\ttotal: 50.6ms\tremaining: 260ms\n",
      "42:\tlearn: 0.9583975\ttest: 0.8915663\tbest: 0.9146341 (4)\ttotal: 52.9ms\tremaining: 264ms\n",
      "43:\tlearn: 0.9583975\ttest: 0.8915663\tbest: 0.9146341 (4)\ttotal: 53.9ms\tremaining: 262ms\n",
      "44:\tlearn: 0.9583975\ttest: 0.8915663\tbest: 0.9146341 (4)\ttotal: 56.3ms\tremaining: 266ms\n",
      "45:\tlearn: 0.9583975\ttest: 0.8915663\tbest: 0.9146341 (4)\ttotal: 57.9ms\tremaining: 267ms\n",
      "46:\tlearn: 0.9598765\ttest: 0.8848485\tbest: 0.9146341 (4)\ttotal: 59.7ms\tremaining: 268ms\n",
      "47:\tlearn: 0.9598765\ttest: 0.8848485\tbest: 0.9146341 (4)\ttotal: 61.1ms\tremaining: 267ms\n",
      "48:\tlearn: 0.9598765\ttest: 0.8848485\tbest: 0.9146341 (4)\ttotal: 62.7ms\tremaining: 268ms\n",
      "49:\tlearn: 0.9598765\ttest: 0.8848485\tbest: 0.9146341 (4)\ttotal: 63.8ms\tremaining: 265ms\n",
      "50:\tlearn: 0.9598765\ttest: 0.8848485\tbest: 0.9146341 (4)\ttotal: 64.9ms\tremaining: 263ms\n",
      "51:\tlearn: 0.9598765\ttest: 0.8848485\tbest: 0.9146341 (4)\ttotal: 65.8ms\tremaining: 261ms\n",
      "52:\tlearn: 0.9598765\ttest: 0.8915663\tbest: 0.9146341 (4)\ttotal: 68.6ms\tremaining: 265ms\n",
      "53:\tlearn: 0.9583975\ttest: 0.8902439\tbest: 0.9146341 (4)\ttotal: 70.7ms\tremaining: 267ms\n",
      "54:\tlearn: 0.9583975\ttest: 0.8902439\tbest: 0.9146341 (4)\ttotal: 72.4ms\tremaining: 267ms\n",
      "55:\tlearn: 0.9583975\ttest: 0.8902439\tbest: 0.9146341 (4)\ttotal: 73.7ms\tremaining: 266ms\n",
      "56:\tlearn: 0.9583975\ttest: 0.8902439\tbest: 0.9146341 (4)\ttotal: 74.8ms\tremaining: 264ms\n",
      "57:\tlearn: 0.9583975\ttest: 0.8902439\tbest: 0.9146341 (4)\ttotal: 76.1ms\tremaining: 262ms\n",
      "58:\tlearn: 0.9583975\ttest: 0.8902439\tbest: 0.9146341 (4)\ttotal: 77.3ms\tremaining: 261ms\n",
      "59:\tlearn: 0.9583975\ttest: 0.8902439\tbest: 0.9146341 (4)\ttotal: 78.5ms\tremaining: 259ms\n",
      "60:\tlearn: 0.9583975\ttest: 0.8902439\tbest: 0.9146341 (4)\ttotal: 79.7ms\tremaining: 257ms\n",
      "61:\tlearn: 0.9629630\ttest: 0.8902439\tbest: 0.9146341 (4)\ttotal: 81ms\tremaining: 256ms\n",
      "62:\tlearn: 0.9629630\ttest: 0.8969697\tbest: 0.9146341 (4)\ttotal: 88.5ms\tremaining: 274ms\n",
      "63:\tlearn: 0.9629630\ttest: 0.8969697\tbest: 0.9146341 (4)\ttotal: 94.7ms\tremaining: 287ms\n",
      "64:\tlearn: 0.9644513\ttest: 0.8902439\tbest: 0.9146341 (4)\ttotal: 95.9ms\tremaining: 285ms\n",
      "65:\tlearn: 0.9660494\ttest: 0.8902439\tbest: 0.9146341 (4)\ttotal: 97.1ms\tremaining: 282ms\n",
      "66:\tlearn: 0.9660494\ttest: 0.8902439\tbest: 0.9146341 (4)\ttotal: 98.2ms\tremaining: 280ms\n",
      "67:\tlearn: 0.9691358\ttest: 0.8848485\tbest: 0.9146341 (4)\ttotal: 99.4ms\tremaining: 278ms\n",
      "68:\tlearn: 0.9707242\ttest: 0.8902439\tbest: 0.9146341 (4)\ttotal: 101ms\tremaining: 275ms\n",
      "69:\tlearn: 0.9707242\ttest: 0.8902439\tbest: 0.9146341 (4)\ttotal: 102ms\tremaining: 273ms\n",
      "70:\tlearn: 0.9722222\ttest: 0.8902439\tbest: 0.9146341 (4)\ttotal: 103ms\tremaining: 271ms\n",
      "71:\tlearn: 0.9722222\ttest: 0.8902439\tbest: 0.9146341 (4)\ttotal: 104ms\tremaining: 268ms\n",
      "72:\tlearn: 0.9722222\ttest: 0.8902439\tbest: 0.9146341 (4)\ttotal: 105ms\tremaining: 266ms\n",
      "73:\tlearn: 0.9722222\ttest: 0.8902439\tbest: 0.9146341 (4)\ttotal: 106ms\tremaining: 263ms\n",
      "74:\tlearn: 0.9722222\ttest: 0.8902439\tbest: 0.9146341 (4)\ttotal: 107ms\tremaining: 262ms\n",
      "75:\tlearn: 0.9722222\ttest: 0.8848485\tbest: 0.9146341 (4)\ttotal: 108ms\tremaining: 259ms\n",
      "76:\tlearn: 0.9722222\ttest: 0.8848485\tbest: 0.9146341 (4)\ttotal: 109ms\tremaining: 257ms\n",
      "77:\tlearn: 0.9752322\ttest: 0.8848485\tbest: 0.9146341 (4)\ttotal: 111ms\tremaining: 255ms\n",
      "78:\tlearn: 0.9752322\ttest: 0.8848485\tbest: 0.9146341 (4)\ttotal: 112ms\tremaining: 253ms\n",
      "79:\tlearn: 0.9752322\ttest: 0.8902439\tbest: 0.9146341 (4)\ttotal: 113ms\tremaining: 251ms\n",
      "80:\tlearn: 0.9752322\ttest: 0.8902439\tbest: 0.9146341 (4)\ttotal: 114ms\tremaining: 250ms\n",
      "81:\tlearn: 0.9752322\ttest: 0.8848485\tbest: 0.9146341 (4)\ttotal: 115ms\tremaining: 248ms\n",
      "82:\tlearn: 0.9737249\ttest: 0.8902439\tbest: 0.9146341 (4)\ttotal: 116ms\tremaining: 246ms\n",
      "83:\tlearn: 0.9752322\ttest: 0.8902439\tbest: 0.9146341 (4)\ttotal: 118ms\tremaining: 244ms\n",
      "84:\tlearn: 0.9768161\ttest: 0.8902439\tbest: 0.9146341 (4)\ttotal: 119ms\tremaining: 242ms\n",
      "85:\tlearn: 0.9768161\ttest: 0.8902439\tbest: 0.9146341 (4)\ttotal: 120ms\tremaining: 240ms\n",
      "86:\tlearn: 0.9768161\ttest: 0.8902439\tbest: 0.9146341 (4)\ttotal: 121ms\tremaining: 238ms\n",
      "87:\tlearn: 0.9783951\ttest: 0.8848485\tbest: 0.9146341 (4)\ttotal: 122ms\tremaining: 236ms\n",
      "88:\tlearn: 0.9783951\ttest: 0.8848485\tbest: 0.9146341 (4)\ttotal: 123ms\tremaining: 234ms\n",
      "89:\tlearn: 0.9783951\ttest: 0.8848485\tbest: 0.9146341 (4)\ttotal: 124ms\tremaining: 232ms\n",
      "90:\tlearn: 0.9783951\ttest: 0.8848485\tbest: 0.9146341 (4)\ttotal: 126ms\tremaining: 230ms\n",
      "91:\tlearn: 0.9783951\ttest: 0.8848485\tbest: 0.9146341 (4)\ttotal: 127ms\tremaining: 228ms\n",
      "92:\tlearn: 0.9783951\ttest: 0.8848485\tbest: 0.9146341 (4)\ttotal: 128ms\tremaining: 227ms\n",
      "93:\tlearn: 0.9783951\ttest: 0.8848485\tbest: 0.9146341 (4)\ttotal: 129ms\tremaining: 225ms\n",
      "94:\tlearn: 0.9783951\ttest: 0.8848485\tbest: 0.9146341 (4)\ttotal: 131ms\tremaining: 224ms\n",
      "95:\tlearn: 0.9799073\ttest: 0.8848485\tbest: 0.9146341 (4)\ttotal: 132ms\tremaining: 222ms\n",
      "96:\tlearn: 0.9799073\ttest: 0.8848485\tbest: 0.9146341 (4)\ttotal: 133ms\tremaining: 221ms\n",
      "97:\tlearn: 0.9829457\ttest: 0.8848485\tbest: 0.9146341 (4)\ttotal: 134ms\tremaining: 219ms\n",
      "98:\tlearn: 0.9829457\ttest: 0.8848485\tbest: 0.9146341 (4)\ttotal: 135ms\tremaining: 217ms\n",
      "99:\tlearn: 0.9829457\ttest: 0.8848485\tbest: 0.9146341 (4)\ttotal: 136ms\tremaining: 215ms\n",
      "100:\tlearn: 0.9860896\ttest: 0.8848485\tbest: 0.9146341 (4)\ttotal: 138ms\tremaining: 214ms\n",
      "101:\tlearn: 0.9860896\ttest: 0.8848485\tbest: 0.9146341 (4)\ttotal: 139ms\tremaining: 213ms\n",
      "102:\tlearn: 0.9860896\ttest: 0.8848485\tbest: 0.9146341 (4)\ttotal: 140ms\tremaining: 211ms\n",
      "103:\tlearn: 0.9860896\ttest: 0.8848485\tbest: 0.9146341 (4)\ttotal: 142ms\tremaining: 210ms\n",
      "104:\tlearn: 0.9830508\ttest: 0.8848485\tbest: 0.9146341 (4)\ttotal: 143ms\tremaining: 208ms\n",
      "105:\tlearn: 0.9830508\ttest: 0.8848485\tbest: 0.9146341 (4)\ttotal: 144ms\tremaining: 206ms\n",
      "106:\tlearn: 0.9830508\ttest: 0.8848485\tbest: 0.9146341 (4)\ttotal: 145ms\tremaining: 205ms\n",
      "107:\tlearn: 0.9830508\ttest: 0.8848485\tbest: 0.9146341 (4)\ttotal: 146ms\tremaining: 203ms\n",
      "108:\tlearn: 0.9830508\ttest: 0.8848485\tbest: 0.9146341 (4)\ttotal: 147ms\tremaining: 201ms\n",
      "109:\tlearn: 0.9830508\ttest: 0.8848485\tbest: 0.9146341 (4)\ttotal: 148ms\tremaining: 200ms\n",
      "110:\tlearn: 0.9830508\ttest: 0.8848485\tbest: 0.9146341 (4)\ttotal: 150ms\tremaining: 198ms\n",
      "111:\tlearn: 0.9860896\ttest: 0.8848485\tbest: 0.9146341 (4)\ttotal: 151ms\tremaining: 196ms\n",
      "112:\tlearn: 0.9860896\ttest: 0.8848485\tbest: 0.9146341 (4)\ttotal: 152ms\tremaining: 195ms\n",
      "113:\tlearn: 0.9860896\ttest: 0.8848485\tbest: 0.9146341 (4)\ttotal: 153ms\tremaining: 194ms\n",
      "114:\tlearn: 0.9876161\ttest: 0.8848485\tbest: 0.9146341 (4)\ttotal: 154ms\tremaining: 192ms\n",
      "115:\tlearn: 0.9876161\ttest: 0.8848485\tbest: 0.9146341 (4)\ttotal: 156ms\tremaining: 190ms\n",
      "116:\tlearn: 0.9876161\ttest: 0.8902439\tbest: 0.9146341 (4)\ttotal: 157ms\tremaining: 189ms\n",
      "117:\tlearn: 0.9876161\ttest: 0.8902439\tbest: 0.9146341 (4)\ttotal: 158ms\tremaining: 187ms\n",
      "118:\tlearn: 0.9891473\ttest: 0.8902439\tbest: 0.9146341 (4)\ttotal: 159ms\tremaining: 186ms\n",
      "119:\tlearn: 0.9891473\ttest: 0.8902439\tbest: 0.9146341 (4)\ttotal: 160ms\tremaining: 184ms\n",
      "120:\tlearn: 0.9907121\ttest: 0.8902439\tbest: 0.9146341 (4)\ttotal: 161ms\tremaining: 182ms\n",
      "121:\tlearn: 0.9907121\ttest: 0.8902439\tbest: 0.9146341 (4)\ttotal: 162ms\tremaining: 181ms\n",
      "122:\tlearn: 0.9907121\ttest: 0.8902439\tbest: 0.9146341 (4)\ttotal: 163ms\tremaining: 179ms\n",
      "123:\tlearn: 0.9907121\ttest: 0.8902439\tbest: 0.9146341 (4)\ttotal: 164ms\tremaining: 177ms\n",
      "124:\tlearn: 0.9907121\ttest: 0.8902439\tbest: 0.9146341 (4)\ttotal: 165ms\tremaining: 176ms\n",
      "125:\tlearn: 0.9907121\ttest: 0.8902439\tbest: 0.9146341 (4)\ttotal: 166ms\tremaining: 174ms\n",
      "126:\tlearn: 0.9907121\ttest: 0.8902439\tbest: 0.9146341 (4)\ttotal: 167ms\tremaining: 173ms\n",
      "127:\tlearn: 0.9907121\ttest: 0.8902439\tbest: 0.9146341 (4)\ttotal: 169ms\tremaining: 172ms\n",
      "128:\tlearn: 0.9907121\ttest: 0.8902439\tbest: 0.9146341 (4)\ttotal: 170ms\tremaining: 170ms\n",
      "129:\tlearn: 0.9907121\ttest: 0.8902439\tbest: 0.9146341 (4)\ttotal: 171ms\tremaining: 169ms\n",
      "130:\tlearn: 0.9907121\ttest: 0.8902439\tbest: 0.9146341 (4)\ttotal: 172ms\tremaining: 167ms\n",
      "131:\tlearn: 0.9907121\ttest: 0.8902439\tbest: 0.9146341 (4)\ttotal: 173ms\tremaining: 165ms\n",
      "132:\tlearn: 0.9907121\ttest: 0.8902439\tbest: 0.9146341 (4)\ttotal: 174ms\tremaining: 164ms\n",
      "133:\tlearn: 0.9907121\ttest: 0.8902439\tbest: 0.9146341 (4)\ttotal: 175ms\tremaining: 162ms\n",
      "134:\tlearn: 0.9907121\ttest: 0.8902439\tbest: 0.9146341 (4)\ttotal: 177ms\tremaining: 161ms\n",
      "135:\tlearn: 0.9907121\ttest: 0.8902439\tbest: 0.9146341 (4)\ttotal: 178ms\tremaining: 159ms\n",
      "136:\tlearn: 0.9907121\ttest: 0.8848485\tbest: 0.9146341 (4)\ttotal: 179ms\tremaining: 158ms\n",
      "137:\tlearn: 0.9907121\ttest: 0.8848485\tbest: 0.9146341 (4)\ttotal: 180ms\tremaining: 156ms\n",
      "138:\tlearn: 0.9907121\ttest: 0.8848485\tbest: 0.9146341 (4)\ttotal: 181ms\tremaining: 155ms\n",
      "139:\tlearn: 0.9922481\ttest: 0.8902439\tbest: 0.9146341 (4)\ttotal: 182ms\tremaining: 153ms\n",
      "140:\tlearn: 0.9922481\ttest: 0.8848485\tbest: 0.9146341 (4)\ttotal: 183ms\tremaining: 152ms\n",
      "141:\tlearn: 0.9922481\ttest: 0.8848485\tbest: 0.9146341 (4)\ttotal: 185ms\tremaining: 151ms\n",
      "142:\tlearn: 0.9922481\ttest: 0.8848485\tbest: 0.9146341 (4)\ttotal: 186ms\tremaining: 149ms\n",
      "143:\tlearn: 0.9922481\ttest: 0.8848485\tbest: 0.9146341 (4)\ttotal: 186ms\tremaining: 147ms\n",
      "144:\tlearn: 0.9922481\ttest: 0.8848485\tbest: 0.9146341 (4)\ttotal: 187ms\tremaining: 146ms\n",
      "145:\tlearn: 0.9922481\ttest: 0.8848485\tbest: 0.9146341 (4)\ttotal: 188ms\tremaining: 144ms\n",
      "146:\tlearn: 0.9922481\ttest: 0.8848485\tbest: 0.9146341 (4)\ttotal: 189ms\tremaining: 143ms\n",
      "147:\tlearn: 0.9922481\ttest: 0.8848485\tbest: 0.9146341 (4)\ttotal: 190ms\tremaining: 141ms\n",
      "148:\tlearn: 0.9922481\ttest: 0.8848485\tbest: 0.9146341 (4)\ttotal: 191ms\tremaining: 140ms\n",
      "149:\tlearn: 0.9922481\ttest: 0.8848485\tbest: 0.9146341 (4)\ttotal: 193ms\tremaining: 139ms\n",
      "150:\tlearn: 0.9922481\ttest: 0.8848485\tbest: 0.9146341 (4)\ttotal: 194ms\tremaining: 137ms\n",
      "151:\tlearn: 0.9922481\ttest: 0.8848485\tbest: 0.9146341 (4)\ttotal: 195ms\tremaining: 136ms\n",
      "152:\tlearn: 0.9922481\ttest: 0.8848485\tbest: 0.9146341 (4)\ttotal: 196ms\tremaining: 134ms\n",
      "153:\tlearn: 0.9922481\ttest: 0.8848485\tbest: 0.9146341 (4)\ttotal: 197ms\tremaining: 133ms\n",
      "154:\tlearn: 0.9922481\ttest: 0.8848485\tbest: 0.9146341 (4)\ttotal: 198ms\tremaining: 132ms\n",
      "155:\tlearn: 0.9922481\ttest: 0.8848485\tbest: 0.9146341 (4)\ttotal: 200ms\tremaining: 130ms\n",
      "156:\tlearn: 0.9922481\ttest: 0.8848485\tbest: 0.9146341 (4)\ttotal: 201ms\tremaining: 129ms\n",
      "157:\tlearn: 0.9922481\ttest: 0.8902439\tbest: 0.9146341 (4)\ttotal: 203ms\tremaining: 128ms\n",
      "158:\tlearn: 0.9937888\ttest: 0.8902439\tbest: 0.9146341 (4)\ttotal: 204ms\tremaining: 127ms\n",
      "159:\tlearn: 0.9937888\ttest: 0.8902439\tbest: 0.9146341 (4)\ttotal: 205ms\tremaining: 125ms\n",
      "160:\tlearn: 0.9937888\ttest: 0.8902439\tbest: 0.9146341 (4)\ttotal: 206ms\tremaining: 124ms\n",
      "161:\tlearn: 0.9937888\ttest: 0.8902439\tbest: 0.9146341 (4)\ttotal: 207ms\tremaining: 123ms\n",
      "162:\tlearn: 0.9937888\ttest: 0.8902439\tbest: 0.9146341 (4)\ttotal: 208ms\tremaining: 121ms\n",
      "163:\tlearn: 0.9937888\ttest: 0.8848485\tbest: 0.9146341 (4)\ttotal: 209ms\tremaining: 120ms\n",
      "164:\tlearn: 0.9937888\ttest: 0.8848485\tbest: 0.9146341 (4)\ttotal: 210ms\tremaining: 119ms\n",
      "165:\tlearn: 0.9937888\ttest: 0.8848485\tbest: 0.9146341 (4)\ttotal: 211ms\tremaining: 117ms\n",
      "166:\tlearn: 0.9937888\ttest: 0.8848485\tbest: 0.9146341 (4)\ttotal: 212ms\tremaining: 116ms\n",
      "167:\tlearn: 0.9937888\ttest: 0.8795181\tbest: 0.9146341 (4)\ttotal: 213ms\tremaining: 114ms\n",
      "168:\tlearn: 0.9937888\ttest: 0.8795181\tbest: 0.9146341 (4)\ttotal: 215ms\tremaining: 113ms\n",
      "169:\tlearn: 0.9937888\ttest: 0.8795181\tbest: 0.9146341 (4)\ttotal: 216ms\tremaining: 112ms\n",
      "170:\tlearn: 0.9937888\ttest: 0.8795181\tbest: 0.9146341 (4)\ttotal: 217ms\tremaining: 110ms\n",
      "171:\tlearn: 0.9953344\ttest: 0.8848485\tbest: 0.9146341 (4)\ttotal: 218ms\tremaining: 109ms\n",
      "172:\tlearn: 0.9953344\ttest: 0.8848485\tbest: 0.9146341 (4)\ttotal: 219ms\tremaining: 108ms\n",
      "173:\tlearn: 0.9953344\ttest: 0.8848485\tbest: 0.9146341 (4)\ttotal: 220ms\tremaining: 106ms\n",
      "174:\tlearn: 0.9953344\ttest: 0.8848485\tbest: 0.9146341 (4)\ttotal: 221ms\tremaining: 105ms\n",
      "175:\tlearn: 0.9953344\ttest: 0.8848485\tbest: 0.9146341 (4)\ttotal: 222ms\tremaining: 104ms\n",
      "176:\tlearn: 0.9953344\ttest: 0.8848485\tbest: 0.9146341 (4)\ttotal: 224ms\tremaining: 102ms\n",
      "177:\tlearn: 0.9968847\ttest: 0.8848485\tbest: 0.9146341 (4)\ttotal: 225ms\tremaining: 101ms\n",
      "178:\tlearn: 0.9968847\ttest: 0.8848485\tbest: 0.9146341 (4)\ttotal: 226ms\tremaining: 99.8ms\n",
      "179:\tlearn: 0.9968847\ttest: 0.8848485\tbest: 0.9146341 (4)\ttotal: 227ms\tremaining: 98.4ms\n",
      "180:\tlearn: 0.9968847\ttest: 0.8727273\tbest: 0.9146341 (4)\ttotal: 228ms\tremaining: 97.1ms\n",
      "181:\tlearn: 0.9968847\ttest: 0.8727273\tbest: 0.9146341 (4)\ttotal: 230ms\tremaining: 95.8ms\n",
      "182:\tlearn: 0.9968847\ttest: 0.8795181\tbest: 0.9146341 (4)\ttotal: 231ms\tremaining: 94.7ms\n",
      "183:\tlearn: 0.9968847\ttest: 0.8795181\tbest: 0.9146341 (4)\ttotal: 232ms\tremaining: 93.4ms\n",
      "184:\tlearn: 0.9968847\ttest: 0.8848485\tbest: 0.9146341 (4)\ttotal: 233ms\tremaining: 92.1ms\n",
      "185:\tlearn: 0.9968847\ttest: 0.8848485\tbest: 0.9146341 (4)\ttotal: 235ms\tremaining: 90.8ms\n",
      "186:\tlearn: 0.9968847\ttest: 0.8848485\tbest: 0.9146341 (4)\ttotal: 236ms\tremaining: 89.5ms\n",
      "187:\tlearn: 0.9968847\ttest: 0.8848485\tbest: 0.9146341 (4)\ttotal: 237ms\tremaining: 88.2ms\n",
      "188:\tlearn: 0.9968847\ttest: 0.8848485\tbest: 0.9146341 (4)\ttotal: 238ms\tremaining: 86.9ms\n",
      "189:\tlearn: 0.9968847\ttest: 0.8848485\tbest: 0.9146341 (4)\ttotal: 239ms\tremaining: 85.6ms\n",
      "190:\tlearn: 0.9968847\ttest: 0.8848485\tbest: 0.9146341 (4)\ttotal: 240ms\tremaining: 84.3ms\n",
      "191:\tlearn: 0.9968847\ttest: 0.8902439\tbest: 0.9146341 (4)\ttotal: 241ms\tremaining: 83ms\n",
      "192:\tlearn: 0.9984448\ttest: 0.8902439\tbest: 0.9146341 (4)\ttotal: 243ms\tremaining: 81.7ms\n",
      "193:\tlearn: 0.9984448\ttest: 0.8902439\tbest: 0.9146341 (4)\ttotal: 244ms\tremaining: 80.4ms\n",
      "194:\tlearn: 0.9984448\ttest: 0.8902439\tbest: 0.9146341 (4)\ttotal: 245ms\tremaining: 79.1ms\n",
      "195:\tlearn: 0.9984448\ttest: 0.8902439\tbest: 0.9146341 (4)\ttotal: 248ms\tremaining: 78.4ms\n",
      "196:\tlearn: 0.9984448\ttest: 0.8902439\tbest: 0.9146341 (4)\ttotal: 249ms\tremaining: 77ms\n",
      "197:\tlearn: 0.9984448\ttest: 0.8902439\tbest: 0.9146341 (4)\ttotal: 250ms\tremaining: 75.7ms\n",
      "198:\tlearn: 0.9984448\ttest: 0.8902439\tbest: 0.9146341 (4)\ttotal: 251ms\tremaining: 74.4ms\n",
      "199:\tlearn: 0.9984448\ttest: 0.8902439\tbest: 0.9146341 (4)\ttotal: 252ms\tremaining: 73.1ms\n",
      "200:\tlearn: 0.9984448\ttest: 0.8902439\tbest: 0.9146341 (4)\ttotal: 253ms\tremaining: 71.8ms\n",
      "201:\tlearn: 0.9984448\ttest: 0.8902439\tbest: 0.9146341 (4)\ttotal: 254ms\tremaining: 70.4ms\n",
      "202:\tlearn: 0.9984448\ttest: 0.8902439\tbest: 0.9146341 (4)\ttotal: 255ms\tremaining: 69.1ms\n",
      "203:\tlearn: 0.9984448\ttest: 0.8902439\tbest: 0.9146341 (4)\ttotal: 257ms\tremaining: 67.9ms\n",
      "204:\tlearn: 0.9984448\ttest: 0.8902439\tbest: 0.9146341 (4)\ttotal: 258ms\tremaining: 66.6ms\n",
      "205:\tlearn: 0.9984448\ttest: 0.8902439\tbest: 0.9146341 (4)\ttotal: 258ms\tremaining: 65.2ms\n",
      "206:\tlearn: 0.9984448\ttest: 0.8902439\tbest: 0.9146341 (4)\ttotal: 259ms\tremaining: 63.9ms\n",
      "207:\tlearn: 0.9984448\ttest: 0.8902439\tbest: 0.9146341 (4)\ttotal: 261ms\tremaining: 62.6ms\n",
      "208:\tlearn: 0.9984448\ttest: 0.8902439\tbest: 0.9146341 (4)\ttotal: 262ms\tremaining: 61.4ms\n",
      "209:\tlearn: 0.9984448\ttest: 0.8902439\tbest: 0.9146341 (4)\ttotal: 263ms\tremaining: 60.1ms\n",
      "210:\tlearn: 0.9984448\ttest: 0.8902439\tbest: 0.9146341 (4)\ttotal: 264ms\tremaining: 58.7ms\n",
      "211:\tlearn: 0.9984448\ttest: 0.8902439\tbest: 0.9146341 (4)\ttotal: 265ms\tremaining: 57.4ms\n",
      "212:\tlearn: 0.9984448\ttest: 0.8902439\tbest: 0.9146341 (4)\ttotal: 266ms\tremaining: 56.1ms\n",
      "213:\tlearn: 0.9984448\ttest: 0.8902439\tbest: 0.9146341 (4)\ttotal: 267ms\tremaining: 54.9ms\n",
      "214:\tlearn: 0.9984448\ttest: 0.8902439\tbest: 0.9146341 (4)\ttotal: 268ms\tremaining: 53.5ms\n",
      "215:\tlearn: 0.9984448\ttest: 0.8902439\tbest: 0.9146341 (4)\ttotal: 269ms\tremaining: 52.2ms\n",
      "216:\tlearn: 0.9984448\ttest: 0.8902439\tbest: 0.9146341 (4)\ttotal: 270ms\tremaining: 51ms\n",
      "217:\tlearn: 0.9984448\ttest: 0.8902439\tbest: 0.9146341 (4)\ttotal: 272ms\tremaining: 49.8ms\n",
      "218:\tlearn: 0.9984448\ttest: 0.8902439\tbest: 0.9146341 (4)\ttotal: 273ms\tremaining: 48.7ms\n",
      "219:\tlearn: 0.9984448\ttest: 0.8902439\tbest: 0.9146341 (4)\ttotal: 274ms\tremaining: 47.4ms\n",
      "220:\tlearn: 0.9984448\ttest: 0.8902439\tbest: 0.9146341 (4)\ttotal: 275ms\tremaining: 46.1ms\n",
      "221:\tlearn: 0.9984448\ttest: 0.8902439\tbest: 0.9146341 (4)\ttotal: 277ms\tremaining: 44.9ms\n",
      "222:\tlearn: 0.9984448\ttest: 0.8834356\tbest: 0.9146341 (4)\ttotal: 279ms\tremaining: 43.7ms\n",
      "223:\tlearn: 0.9984448\ttest: 0.8834356\tbest: 0.9146341 (4)\ttotal: 281ms\tremaining: 42.6ms\n",
      "224:\tlearn: 0.9984448\ttest: 0.8834356\tbest: 0.9146341 (4)\ttotal: 282ms\tremaining: 41.3ms\n",
      "225:\tlearn: 0.9984448\ttest: 0.8834356\tbest: 0.9146341 (4)\ttotal: 283ms\tremaining: 40.1ms\n",
      "226:\tlearn: 0.9984448\ttest: 0.8834356\tbest: 0.9146341 (4)\ttotal: 284ms\tremaining: 38.8ms\n",
      "227:\tlearn: 0.9984448\ttest: 0.8834356\tbest: 0.9146341 (4)\ttotal: 285ms\tremaining: 37.5ms\n",
      "228:\tlearn: 0.9984448\ttest: 0.8834356\tbest: 0.9146341 (4)\ttotal: 286ms\tremaining: 36.2ms\n",
      "229:\tlearn: 0.9984448\ttest: 0.8834356\tbest: 0.9146341 (4)\ttotal: 287ms\tremaining: 35ms\n",
      "230:\tlearn: 0.9984448\ttest: 0.8902439\tbest: 0.9146341 (4)\ttotal: 288ms\tremaining: 33.7ms\n",
      "231:\tlearn: 0.9984448\ttest: 0.8902439\tbest: 0.9146341 (4)\ttotal: 289ms\tremaining: 32.4ms\n",
      "232:\tlearn: 0.9984448\ttest: 0.8834356\tbest: 0.9146341 (4)\ttotal: 291ms\tremaining: 31.3ms\n",
      "233:\tlearn: 0.9984448\ttest: 0.8834356\tbest: 0.9146341 (4)\ttotal: 293ms\tremaining: 30ms\n",
      "234:\tlearn: 0.9984448\ttest: 0.8834356\tbest: 0.9146341 (4)\ttotal: 294ms\tremaining: 28.8ms\n",
      "235:\tlearn: 0.9984448\ttest: 0.8834356\tbest: 0.9146341 (4)\ttotal: 295ms\tremaining: 27.5ms\n",
      "236:\tlearn: 0.9984448\ttest: 0.8834356\tbest: 0.9146341 (4)\ttotal: 296ms\tremaining: 26.3ms\n",
      "237:\tlearn: 0.9984448\ttest: 0.8834356\tbest: 0.9146341 (4)\ttotal: 297ms\tremaining: 25ms\n",
      "238:\tlearn: 0.9984448\ttest: 0.8834356\tbest: 0.9146341 (4)\ttotal: 298ms\tremaining: 23.7ms\n",
      "239:\tlearn: 0.9984448\ttest: 0.8902439\tbest: 0.9146341 (4)\ttotal: 300ms\tremaining: 22.5ms\n",
      "240:\tlearn: 0.9984448\ttest: 0.8902439\tbest: 0.9146341 (4)\ttotal: 301ms\tremaining: 21.2ms\n",
      "241:\tlearn: 0.9984448\ttest: 0.8902439\tbest: 0.9146341 (4)\ttotal: 302ms\tremaining: 20ms\n",
      "242:\tlearn: 0.9984448\ttest: 0.8902439\tbest: 0.9146341 (4)\ttotal: 303ms\tremaining: 18.7ms\n",
      "243:\tlearn: 0.9984448\ttest: 0.8902439\tbest: 0.9146341 (4)\ttotal: 305ms\tremaining: 17.5ms\n",
      "244:\tlearn: 0.9984448\ttest: 0.8902439\tbest: 0.9146341 (4)\ttotal: 307ms\tremaining: 16.3ms\n",
      "245:\tlearn: 0.9984448\ttest: 0.8902439\tbest: 0.9146341 (4)\ttotal: 309ms\tremaining: 15.1ms\n",
      "246:\tlearn: 0.9984448\ttest: 0.8902439\tbest: 0.9146341 (4)\ttotal: 310ms\tremaining: 13.8ms\n",
      "247:\tlearn: 0.9984448\ttest: 0.8902439\tbest: 0.9146341 (4)\ttotal: 311ms\tremaining: 12.5ms\n",
      "248:\tlearn: 0.9984448\ttest: 0.8902439\tbest: 0.9146341 (4)\ttotal: 313ms\tremaining: 11.3ms\n",
      "249:\tlearn: 0.9984448\ttest: 0.8902439\tbest: 0.9146341 (4)\ttotal: 314ms\tremaining: 10.1ms\n",
      "250:\tlearn: 0.9984448\ttest: 0.8902439\tbest: 0.9146341 (4)\ttotal: 315ms\tremaining: 8.79ms\n",
      "251:\tlearn: 0.9984448\ttest: 0.8902439\tbest: 0.9146341 (4)\ttotal: 316ms\tremaining: 7.53ms\n",
      "252:\tlearn: 0.9984448\ttest: 0.8902439\tbest: 0.9146341 (4)\ttotal: 317ms\tremaining: 6.27ms\n",
      "253:\tlearn: 0.9984448\ttest: 0.8902439\tbest: 0.9146341 (4)\ttotal: 318ms\tremaining: 5.01ms\n",
      "254:\tlearn: 0.9984448\ttest: 0.8902439\tbest: 0.9146341 (4)\ttotal: 319ms\tremaining: 3.76ms\n",
      "255:\tlearn: 0.9984448\ttest: 0.8902439\tbest: 0.9146341 (4)\ttotal: 320ms\tremaining: 2.5ms\n",
      "256:\tlearn: 0.9984448\ttest: 0.8902439\tbest: 0.9146341 (4)\ttotal: 321ms\tremaining: 1.25ms\n",
      "257:\tlearn: 0.9984448\ttest: 0.8902439\tbest: 0.9146341 (4)\ttotal: 323ms\tremaining: 0us\n",
      "\n",
      "bestTest = 0.9146341463\n",
      "bestIteration = 4\n",
      "\n",
      "Training on fold [3/5]\n",
      "0:\tlearn: 0.8858859\ttest: 0.8354430\tbest: 0.8354430 (0)\ttotal: 1.28ms\tremaining: 329ms\n",
      "1:\tlearn: 0.8977778\ttest: 0.8176101\tbest: 0.8354430 (0)\ttotal: 2.4ms\tremaining: 307ms\n",
      "2:\tlearn: 0.9006024\ttest: 0.8280255\tbest: 0.8354430 (0)\ttotal: 3.54ms\tremaining: 301ms\n",
      "3:\tlearn: 0.9140271\ttest: 0.8280255\tbest: 0.8354430 (0)\ttotal: 4.64ms\tremaining: 295ms\n",
      "4:\tlearn: 0.9071537\ttest: 0.8227848\tbest: 0.8354430 (0)\ttotal: 5.72ms\tremaining: 289ms\n",
      "5:\tlearn: 0.9129771\ttest: 0.8301887\tbest: 0.8354430 (0)\ttotal: 6.81ms\tremaining: 286ms\n",
      "6:\tlearn: 0.9211747\ttest: 0.8333333\tbest: 0.8354430 (0)\ttotal: 7.91ms\tremaining: 284ms\n",
      "7:\tlearn: 0.9230769\ttest: 0.8258065\tbest: 0.8354430 (0)\ttotal: 9.06ms\tremaining: 283ms\n",
      "8:\tlearn: 0.9230769\ttest: 0.8280255\tbest: 0.8354430 (0)\ttotal: 10.4ms\tremaining: 287ms\n",
      "9:\tlearn: 0.9263804\ttest: 0.8280255\tbest: 0.8354430 (0)\ttotal: 11.5ms\tremaining: 285ms\n",
      "10:\tlearn: 0.9296636\ttest: 0.8354430\tbest: 0.8354430 (0)\ttotal: 12.6ms\tremaining: 284ms\n",
      "11:\tlearn: 0.9310873\ttest: 0.8481013\tbest: 0.8481013 (11)\ttotal: 13.7ms\tremaining: 282ms\n",
      "12:\tlearn: 0.9327217\ttest: 0.8481013\tbest: 0.8481013 (11)\ttotal: 14.9ms\tremaining: 280ms\n",
      "13:\tlearn: 0.9402757\ttest: 0.8258065\tbest: 0.8481013 (11)\ttotal: 16ms\tremaining: 278ms\n",
      "14:\tlearn: 0.9388379\ttest: 0.8333333\tbest: 0.8481013 (11)\ttotal: 17.1ms\tremaining: 277ms\n",
      "15:\tlearn: 0.9417178\ttest: 0.8387097\tbest: 0.8481013 (11)\ttotal: 18.2ms\tremaining: 275ms\n",
      "16:\tlearn: 0.9476923\ttest: 0.8333333\tbest: 0.8481013 (11)\ttotal: 19.3ms\tremaining: 273ms\n",
      "17:\tlearn: 0.9491525\ttest: 0.8333333\tbest: 0.8481013 (11)\ttotal: 20.4ms\tremaining: 272ms\n",
      "18:\tlearn: 0.9506173\ttest: 0.8461538\tbest: 0.8481013 (11)\ttotal: 21.5ms\tremaining: 270ms\n",
      "19:\tlearn: 0.9522342\ttest: 0.8535032\tbest: 0.8535032 (19)\ttotal: 22.6ms\tremaining: 269ms\n",
      "20:\tlearn: 0.9551777\ttest: 0.8535032\tbest: 0.8535032 (19)\ttotal: 23.7ms\tremaining: 267ms\n",
      "21:\tlearn: 0.9522342\ttest: 0.8607595\tbest: 0.8607595 (21)\ttotal: 24.8ms\tremaining: 266ms\n",
      "22:\tlearn: 0.9582689\ttest: 0.8607595\tbest: 0.8607595 (21)\ttotal: 26ms\tremaining: 266ms\n",
      "23:\tlearn: 0.9582689\ttest: 0.8607595\tbest: 0.8607595 (21)\ttotal: 27.1ms\tremaining: 265ms\n",
      "24:\tlearn: 0.9567901\ttest: 0.8607595\tbest: 0.8607595 (21)\ttotal: 28.3ms\tremaining: 264ms\n",
      "25:\tlearn: 0.9582689\ttest: 0.8607595\tbest: 0.8607595 (21)\ttotal: 29.4ms\tremaining: 263ms\n",
      "26:\tlearn: 0.9614792\ttest: 0.8625000\tbest: 0.8625000 (26)\ttotal: 30.6ms\tremaining: 261ms\n",
      "27:\tlearn: 0.9630769\ttest: 0.8481013\tbest: 0.8625000 (26)\ttotal: 31.7ms\tremaining: 260ms\n",
      "28:\tlearn: 0.9646697\ttest: 0.8553459\tbest: 0.8625000 (26)\ttotal: 32.8ms\tremaining: 259ms\n",
      "29:\tlearn: 0.9646697\ttest: 0.8607595\tbest: 0.8625000 (26)\ttotal: 33.9ms\tremaining: 258ms\n",
      "30:\tlearn: 0.9661538\ttest: 0.8607595\tbest: 0.8625000 (26)\ttotal: 35ms\tremaining: 256ms\n",
      "31:\tlearn: 0.9676425\ttest: 0.8607595\tbest: 0.8625000 (26)\ttotal: 36.1ms\tremaining: 255ms\n",
      "32:\tlearn: 0.9645609\ttest: 0.8662420\tbest: 0.8662420 (32)\ttotal: 37.2ms\tremaining: 254ms\n",
      "33:\tlearn: 0.9676425\ttest: 0.8734177\tbest: 0.8734177 (33)\ttotal: 38.3ms\tremaining: 253ms\n",
      "34:\tlearn: 0.9706337\ttest: 0.8679245\tbest: 0.8734177 (33)\ttotal: 39.4ms\tremaining: 251ms\n",
      "35:\tlearn: 0.9721362\ttest: 0.8695652\tbest: 0.8734177 (33)\ttotal: 40.6ms\tremaining: 251ms\n",
      "36:\tlearn: 0.9706337\ttest: 0.8695652\tbest: 0.8734177 (33)\ttotal: 42.4ms\tremaining: 253ms\n",
      "37:\tlearn: 0.9706337\ttest: 0.8695652\tbest: 0.8734177 (33)\ttotal: 43.6ms\tremaining: 252ms\n",
      "38:\tlearn: 0.9706337\ttest: 0.8553459\tbest: 0.8734177 (33)\ttotal: 44.7ms\tremaining: 251ms\n",
      "39:\tlearn: 0.9691358\ttest: 0.8553459\tbest: 0.8734177 (33)\ttotal: 45.8ms\tremaining: 250ms\n",
      "40:\tlearn: 0.9691358\ttest: 0.8625000\tbest: 0.8734177 (33)\ttotal: 46.9ms\tremaining: 248ms\n",
      "41:\tlearn: 0.9691358\ttest: 0.8625000\tbest: 0.8734177 (33)\ttotal: 48ms\tremaining: 247ms\n",
      "42:\tlearn: 0.9736434\ttest: 0.8607595\tbest: 0.8734177 (33)\ttotal: 49.1ms\tremaining: 246ms\n",
      "43:\tlearn: 0.9736434\ttest: 0.8607595\tbest: 0.8734177 (33)\ttotal: 50.2ms\tremaining: 244ms\n",
      "44:\tlearn: 0.9736434\ttest: 0.8607595\tbest: 0.8734177 (33)\ttotal: 51.3ms\tremaining: 243ms\n",
      "45:\tlearn: 0.9783282\ttest: 0.8607595\tbest: 0.8734177 (33)\ttotal: 52.4ms\tremaining: 241ms\n",
      "46:\tlearn: 0.9783282\ttest: 0.8607595\tbest: 0.8734177 (33)\ttotal: 53.4ms\tremaining: 240ms\n",
      "47:\tlearn: 0.9798450\ttest: 0.8607595\tbest: 0.8734177 (33)\ttotal: 54.5ms\tremaining: 239ms\n",
      "48:\tlearn: 0.9798450\ttest: 0.8607595\tbest: 0.8734177 (33)\ttotal: 55.6ms\tremaining: 237ms\n",
      "49:\tlearn: 0.9799073\ttest: 0.8679245\tbest: 0.8734177 (33)\ttotal: 57.2ms\tremaining: 238ms\n",
      "50:\tlearn: 0.9799073\ttest: 0.8679245\tbest: 0.8734177 (33)\ttotal: 58.4ms\tremaining: 237ms\n",
      "51:\tlearn: 0.9860896\ttest: 0.8679245\tbest: 0.8734177 (33)\ttotal: 60ms\tremaining: 238ms\n",
      "52:\tlearn: 0.9814815\ttest: 0.8734177\tbest: 0.8734177 (33)\ttotal: 61.1ms\tremaining: 236ms\n",
      "53:\tlearn: 0.9814815\ttest: 0.8734177\tbest: 0.8734177 (33)\ttotal: 62.3ms\tremaining: 235ms\n",
      "54:\tlearn: 0.9860465\ttest: 0.8734177\tbest: 0.8734177 (33)\ttotal: 63.4ms\tremaining: 234ms\n",
      "55:\tlearn: 0.9860465\ttest: 0.8734177\tbest: 0.8734177 (33)\ttotal: 64.5ms\tremaining: 233ms\n",
      "56:\tlearn: 0.9876161\ttest: 0.8607595\tbest: 0.8734177 (33)\ttotal: 65.8ms\tremaining: 232ms\n",
      "57:\tlearn: 0.9860896\ttest: 0.8662420\tbest: 0.8734177 (33)\ttotal: 67.2ms\tremaining: 232ms\n",
      "58:\tlearn: 0.9891473\ttest: 0.8679245\tbest: 0.8734177 (33)\ttotal: 68.4ms\tremaining: 231ms\n",
      "59:\tlearn: 0.9891473\ttest: 0.8679245\tbest: 0.8734177 (33)\ttotal: 69.5ms\tremaining: 229ms\n",
      "60:\tlearn: 0.9891473\ttest: 0.8679245\tbest: 0.8734177 (33)\ttotal: 70.7ms\tremaining: 228ms\n",
      "61:\tlearn: 0.9891473\ttest: 0.8679245\tbest: 0.8734177 (33)\ttotal: 71.8ms\tremaining: 227ms\n",
      "62:\tlearn: 0.9891473\ttest: 0.8625000\tbest: 0.8734177 (33)\ttotal: 73ms\tremaining: 226ms\n",
      "63:\tlearn: 0.9891473\ttest: 0.8679245\tbest: 0.8734177 (33)\ttotal: 74.2ms\tremaining: 225ms\n",
      "64:\tlearn: 0.9891473\ttest: 0.8679245\tbest: 0.8734177 (33)\ttotal: 75.3ms\tremaining: 224ms\n",
      "65:\tlearn: 0.9891473\ttest: 0.8535032\tbest: 0.8734177 (33)\ttotal: 76.4ms\tremaining: 222ms\n",
      "66:\tlearn: 0.9891473\ttest: 0.8589744\tbest: 0.8734177 (33)\ttotal: 77.6ms\tremaining: 221ms\n",
      "67:\tlearn: 0.9906832\ttest: 0.8589744\tbest: 0.8734177 (33)\ttotal: 78.7ms\tremaining: 220ms\n",
      "68:\tlearn: 0.9906832\ttest: 0.8589744\tbest: 0.8734177 (33)\ttotal: 80ms\tremaining: 219ms\n",
      "69:\tlearn: 0.9906832\ttest: 0.8535032\tbest: 0.8734177 (33)\ttotal: 81.1ms\tremaining: 218ms\n",
      "70:\tlearn: 0.9922481\ttest: 0.8589744\tbest: 0.8734177 (33)\ttotal: 82.2ms\tremaining: 216ms\n",
      "71:\tlearn: 0.9922481\ttest: 0.8589744\tbest: 0.8734177 (33)\ttotal: 83.3ms\tremaining: 215ms\n",
      "72:\tlearn: 0.9922481\ttest: 0.8607595\tbest: 0.8734177 (33)\ttotal: 84.4ms\tremaining: 214ms\n",
      "73:\tlearn: 0.9922481\ttest: 0.8535032\tbest: 0.8734177 (33)\ttotal: 85.5ms\tremaining: 213ms\n",
      "74:\tlearn: 0.9922481\ttest: 0.8607595\tbest: 0.8734177 (33)\ttotal: 86.6ms\tremaining: 211ms\n",
      "75:\tlearn: 0.9922481\ttest: 0.8607595\tbest: 0.8734177 (33)\ttotal: 88.2ms\tremaining: 211ms\n",
      "76:\tlearn: 0.9922481\ttest: 0.8535032\tbest: 0.8734177 (33)\ttotal: 89.3ms\tremaining: 210ms\n",
      "77:\tlearn: 0.9922481\ttest: 0.8535032\tbest: 0.8734177 (33)\ttotal: 90.4ms\tremaining: 209ms\n",
      "78:\tlearn: 0.9922481\ttest: 0.8535032\tbest: 0.8734177 (33)\ttotal: 91.5ms\tremaining: 207ms\n",
      "79:\tlearn: 0.9937888\ttest: 0.8535032\tbest: 0.8734177 (33)\ttotal: 92.6ms\tremaining: 206ms\n",
      "80:\tlearn: 0.9937888\ttest: 0.8535032\tbest: 0.8734177 (33)\ttotal: 93.7ms\tremaining: 205ms\n",
      "81:\tlearn: 0.9922481\ttest: 0.8535032\tbest: 0.8734177 (33)\ttotal: 94.9ms\tremaining: 204ms\n",
      "82:\tlearn: 0.9922481\ttest: 0.8535032\tbest: 0.8734177 (33)\ttotal: 96ms\tremaining: 202ms\n",
      "83:\tlearn: 0.9922481\ttest: 0.8535032\tbest: 0.8734177 (33)\ttotal: 97.2ms\tremaining: 201ms\n",
      "84:\tlearn: 0.9922481\ttest: 0.8535032\tbest: 0.8734177 (33)\ttotal: 98.3ms\tremaining: 200ms\n",
      "85:\tlearn: 0.9922481\ttest: 0.8607595\tbest: 0.8734177 (33)\ttotal: 99.4ms\tremaining: 199ms\n",
      "86:\tlearn: 0.9922481\ttest: 0.8589744\tbest: 0.8734177 (33)\ttotal: 101ms\tremaining: 198ms\n",
      "87:\tlearn: 0.9937888\ttest: 0.8535032\tbest: 0.8734177 (33)\ttotal: 102ms\tremaining: 196ms\n",
      "88:\tlearn: 0.9937888\ttest: 0.8535032\tbest: 0.8734177 (33)\ttotal: 104ms\tremaining: 197ms\n",
      "89:\tlearn: 0.9937888\ttest: 0.8589744\tbest: 0.8734177 (33)\ttotal: 105ms\tremaining: 196ms\n",
      "90:\tlearn: 0.9937888\ttest: 0.8535032\tbest: 0.8734177 (33)\ttotal: 106ms\tremaining: 195ms\n",
      "91:\tlearn: 0.9937888\ttest: 0.8607595\tbest: 0.8734177 (33)\ttotal: 107ms\tremaining: 193ms\n",
      "92:\tlearn: 0.9953488\ttest: 0.8662420\tbest: 0.8734177 (33)\ttotal: 108ms\tremaining: 192ms\n",
      "93:\tlearn: 0.9953488\ttest: 0.8607595\tbest: 0.8734177 (33)\ttotal: 109ms\tremaining: 191ms\n",
      "94:\tlearn: 0.9937888\ttest: 0.8607595\tbest: 0.8734177 (33)\ttotal: 111ms\tremaining: 190ms\n",
      "95:\tlearn: 0.9937888\ttest: 0.8607595\tbest: 0.8734177 (33)\ttotal: 112ms\tremaining: 189ms\n",
      "96:\tlearn: 0.9937888\ttest: 0.8589744\tbest: 0.8734177 (33)\ttotal: 113ms\tremaining: 188ms\n",
      "97:\tlearn: 0.9937888\ttest: 0.8589744\tbest: 0.8734177 (33)\ttotal: 114ms\tremaining: 187ms\n",
      "98:\tlearn: 0.9937888\ttest: 0.8535032\tbest: 0.8734177 (33)\ttotal: 116ms\tremaining: 186ms\n",
      "99:\tlearn: 0.9937888\ttest: 0.8535032\tbest: 0.8734177 (33)\ttotal: 117ms\tremaining: 185ms\n",
      "100:\tlearn: 0.9953488\ttest: 0.8535032\tbest: 0.8734177 (33)\ttotal: 119ms\tremaining: 184ms\n",
      "101:\tlearn: 0.9953488\ttest: 0.8535032\tbest: 0.8734177 (33)\ttotal: 120ms\tremaining: 183ms\n",
      "102:\tlearn: 0.9953488\ttest: 0.8589744\tbest: 0.8734177 (33)\ttotal: 123ms\tremaining: 185ms\n",
      "103:\tlearn: 0.9953488\ttest: 0.8589744\tbest: 0.8734177 (33)\ttotal: 124ms\tremaining: 184ms\n",
      "104:\tlearn: 0.9968944\ttest: 0.8589744\tbest: 0.8734177 (33)\ttotal: 126ms\tremaining: 184ms\n",
      "105:\tlearn: 0.9968944\ttest: 0.8589744\tbest: 0.8734177 (33)\ttotal: 128ms\tremaining: 184ms\n",
      "106:\tlearn: 0.9968944\ttest: 0.8589744\tbest: 0.8734177 (33)\ttotal: 131ms\tremaining: 185ms\n",
      "107:\tlearn: 0.9968944\ttest: 0.8589744\tbest: 0.8734177 (33)\ttotal: 135ms\tremaining: 187ms\n",
      "108:\tlearn: 0.9968944\ttest: 0.8589744\tbest: 0.8734177 (33)\ttotal: 138ms\tremaining: 188ms\n",
      "109:\tlearn: 0.9968944\ttest: 0.8535032\tbest: 0.8734177 (33)\ttotal: 140ms\tremaining: 189ms\n",
      "110:\tlearn: 0.9968944\ttest: 0.8535032\tbest: 0.8734177 (33)\ttotal: 143ms\tremaining: 189ms\n",
      "111:\tlearn: 0.9968944\ttest: 0.8535032\tbest: 0.8734177 (33)\ttotal: 146ms\tremaining: 190ms\n",
      "112:\tlearn: 0.9968944\ttest: 0.8535032\tbest: 0.8734177 (33)\ttotal: 147ms\tremaining: 189ms\n",
      "113:\tlearn: 0.9953488\ttest: 0.8535032\tbest: 0.8734177 (33)\ttotal: 149ms\tremaining: 188ms\n",
      "114:\tlearn: 0.9968944\ttest: 0.8535032\tbest: 0.8734177 (33)\ttotal: 151ms\tremaining: 187ms\n",
      "115:\tlearn: 0.9968944\ttest: 0.8535032\tbest: 0.8734177 (33)\ttotal: 152ms\tremaining: 186ms\n",
      "116:\tlearn: 0.9984448\ttest: 0.8535032\tbest: 0.8734177 (33)\ttotal: 154ms\tremaining: 186ms\n",
      "117:\tlearn: 0.9984448\ttest: 0.8535032\tbest: 0.8734177 (33)\ttotal: 157ms\tremaining: 186ms\n",
      "118:\tlearn: 0.9984448\ttest: 0.8535032\tbest: 0.8734177 (33)\ttotal: 159ms\tremaining: 185ms\n",
      "119:\tlearn: 0.9984448\ttest: 0.8535032\tbest: 0.8734177 (33)\ttotal: 160ms\tremaining: 184ms\n",
      "120:\tlearn: 0.9984448\ttest: 0.8607595\tbest: 0.8734177 (33)\ttotal: 161ms\tremaining: 182ms\n",
      "121:\tlearn: 0.9984448\ttest: 0.8607595\tbest: 0.8734177 (33)\ttotal: 162ms\tremaining: 181ms\n",
      "122:\tlearn: 0.9984448\ttest: 0.8535032\tbest: 0.8734177 (33)\ttotal: 163ms\tremaining: 179ms\n",
      "123:\tlearn: 0.9984448\ttest: 0.8516129\tbest: 0.8734177 (33)\ttotal: 166ms\tremaining: 179ms\n",
      "124:\tlearn: 0.9984448\ttest: 0.8441558\tbest: 0.8734177 (33)\ttotal: 167ms\tremaining: 177ms\n",
      "125:\tlearn: 0.9984448\ttest: 0.8571429\tbest: 0.8734177 (33)\ttotal: 168ms\tremaining: 176ms\n",
      "126:\tlearn: 0.9984448\ttest: 0.8571429\tbest: 0.8734177 (33)\ttotal: 171ms\tremaining: 176ms\n",
      "127:\tlearn: 0.9984448\ttest: 0.8461538\tbest: 0.8734177 (33)\ttotal: 172ms\tremaining: 175ms\n",
      "128:\tlearn: 0.9984448\ttest: 0.8461538\tbest: 0.8734177 (33)\ttotal: 174ms\tremaining: 174ms\n",
      "129:\tlearn: 0.9984448\ttest: 0.8461538\tbest: 0.8734177 (33)\ttotal: 175ms\tremaining: 172ms\n",
      "130:\tlearn: 0.9984448\ttest: 0.8461538\tbest: 0.8734177 (33)\ttotal: 176ms\tremaining: 171ms\n",
      "131:\tlearn: 0.9984448\ttest: 0.8461538\tbest: 0.8734177 (33)\ttotal: 178ms\tremaining: 170ms\n",
      "132:\tlearn: 0.9984448\ttest: 0.8461538\tbest: 0.8734177 (33)\ttotal: 179ms\tremaining: 168ms\n",
      "133:\tlearn: 0.9984448\ttest: 0.8461538\tbest: 0.8734177 (33)\ttotal: 180ms\tremaining: 167ms\n",
      "134:\tlearn: 0.9984448\ttest: 0.8516129\tbest: 0.8734177 (33)\ttotal: 182ms\tremaining: 166ms\n",
      "135:\tlearn: 0.9984448\ttest: 0.8516129\tbest: 0.8734177 (33)\ttotal: 183ms\tremaining: 164ms\n",
      "136:\tlearn: 0.9984448\ttest: 0.8516129\tbest: 0.8734177 (33)\ttotal: 184ms\tremaining: 163ms\n",
      "137:\tlearn: 0.9984448\ttest: 0.8516129\tbest: 0.8734177 (33)\ttotal: 186ms\tremaining: 162ms\n",
      "138:\tlearn: 0.9984448\ttest: 0.8589744\tbest: 0.8734177 (33)\ttotal: 187ms\tremaining: 160ms\n",
      "139:\tlearn: 0.9984448\ttest: 0.8589744\tbest: 0.8734177 (33)\ttotal: 188ms\tremaining: 159ms\n",
      "140:\tlearn: 0.9984448\ttest: 0.8589744\tbest: 0.8734177 (33)\ttotal: 190ms\tremaining: 157ms\n",
      "141:\tlearn: 0.9984448\ttest: 0.8589744\tbest: 0.8734177 (33)\ttotal: 191ms\tremaining: 156ms\n",
      "142:\tlearn: 0.9984448\ttest: 0.8589744\tbest: 0.8734177 (33)\ttotal: 193ms\tremaining: 155ms\n",
      "143:\tlearn: 0.9984448\ttest: 0.8589744\tbest: 0.8734177 (33)\ttotal: 195ms\tremaining: 154ms\n",
      "144:\tlearn: 1.0000000\ttest: 0.8589744\tbest: 0.8734177 (33)\ttotal: 196ms\tremaining: 153ms\n",
      "145:\tlearn: 1.0000000\ttest: 0.8589744\tbest: 0.8734177 (33)\ttotal: 197ms\tremaining: 151ms\n",
      "146:\tlearn: 1.0000000\ttest: 0.8589744\tbest: 0.8734177 (33)\ttotal: 199ms\tremaining: 150ms\n",
      "147:\tlearn: 1.0000000\ttest: 0.8589744\tbest: 0.8734177 (33)\ttotal: 200ms\tremaining: 149ms\n",
      "148:\tlearn: 1.0000000\ttest: 0.8589744\tbest: 0.8734177 (33)\ttotal: 201ms\tremaining: 147ms\n",
      "149:\tlearn: 1.0000000\ttest: 0.8589744\tbest: 0.8734177 (33)\ttotal: 203ms\tremaining: 146ms\n",
      "150:\tlearn: 1.0000000\ttest: 0.8589744\tbest: 0.8734177 (33)\ttotal: 204ms\tremaining: 144ms\n",
      "151:\tlearn: 1.0000000\ttest: 0.8645161\tbest: 0.8734177 (33)\ttotal: 205ms\tremaining: 143ms\n",
      "152:\tlearn: 1.0000000\ttest: 0.8645161\tbest: 0.8734177 (33)\ttotal: 206ms\tremaining: 142ms\n",
      "153:\tlearn: 1.0000000\ttest: 0.8645161\tbest: 0.8734177 (33)\ttotal: 208ms\tremaining: 141ms\n",
      "154:\tlearn: 1.0000000\ttest: 0.8645161\tbest: 0.8734177 (33)\ttotal: 210ms\tremaining: 139ms\n",
      "155:\tlearn: 1.0000000\ttest: 0.8645161\tbest: 0.8734177 (33)\ttotal: 211ms\tremaining: 138ms\n",
      "156:\tlearn: 1.0000000\ttest: 0.8645161\tbest: 0.8734177 (33)\ttotal: 214ms\tremaining: 138ms\n",
      "157:\tlearn: 1.0000000\ttest: 0.8645161\tbest: 0.8734177 (33)\ttotal: 216ms\tremaining: 136ms\n",
      "158:\tlearn: 1.0000000\ttest: 0.8645161\tbest: 0.8734177 (33)\ttotal: 217ms\tremaining: 135ms\n",
      "159:\tlearn: 1.0000000\ttest: 0.8645161\tbest: 0.8734177 (33)\ttotal: 218ms\tremaining: 134ms\n",
      "160:\tlearn: 1.0000000\ttest: 0.8645161\tbest: 0.8734177 (33)\ttotal: 219ms\tremaining: 132ms\n",
      "161:\tlearn: 1.0000000\ttest: 0.8645161\tbest: 0.8734177 (33)\ttotal: 220ms\tremaining: 131ms\n",
      "162:\tlearn: 1.0000000\ttest: 0.8645161\tbest: 0.8734177 (33)\ttotal: 221ms\tremaining: 129ms\n",
      "163:\tlearn: 1.0000000\ttest: 0.8645161\tbest: 0.8734177 (33)\ttotal: 223ms\tremaining: 128ms\n",
      "164:\tlearn: 1.0000000\ttest: 0.8645161\tbest: 0.8734177 (33)\ttotal: 224ms\tremaining: 126ms\n",
      "165:\tlearn: 1.0000000\ttest: 0.8645161\tbest: 0.8734177 (33)\ttotal: 225ms\tremaining: 125ms\n",
      "166:\tlearn: 1.0000000\ttest: 0.8645161\tbest: 0.8734177 (33)\ttotal: 226ms\tremaining: 123ms\n",
      "167:\tlearn: 1.0000000\ttest: 0.8645161\tbest: 0.8734177 (33)\ttotal: 227ms\tremaining: 122ms\n",
      "168:\tlearn: 1.0000000\ttest: 0.8645161\tbest: 0.8734177 (33)\ttotal: 228ms\tremaining: 120ms\n",
      "169:\tlearn: 1.0000000\ttest: 0.8645161\tbest: 0.8734177 (33)\ttotal: 230ms\tremaining: 119ms\n",
      "170:\tlearn: 1.0000000\ttest: 0.8645161\tbest: 0.8734177 (33)\ttotal: 231ms\tremaining: 117ms\n",
      "171:\tlearn: 1.0000000\ttest: 0.8645161\tbest: 0.8734177 (33)\ttotal: 232ms\tremaining: 116ms\n",
      "172:\tlearn: 1.0000000\ttest: 0.8645161\tbest: 0.8734177 (33)\ttotal: 233ms\tremaining: 114ms\n",
      "173:\tlearn: 1.0000000\ttest: 0.8645161\tbest: 0.8734177 (33)\ttotal: 234ms\tremaining: 113ms\n",
      "174:\tlearn: 1.0000000\ttest: 0.8645161\tbest: 0.8734177 (33)\ttotal: 235ms\tremaining: 112ms\n",
      "175:\tlearn: 1.0000000\ttest: 0.8645161\tbest: 0.8734177 (33)\ttotal: 236ms\tremaining: 110ms\n",
      "176:\tlearn: 1.0000000\ttest: 0.8645161\tbest: 0.8734177 (33)\ttotal: 237ms\tremaining: 109ms\n",
      "177:\tlearn: 1.0000000\ttest: 0.8645161\tbest: 0.8734177 (33)\ttotal: 239ms\tremaining: 107ms\n",
      "178:\tlearn: 1.0000000\ttest: 0.8645161\tbest: 0.8734177 (33)\ttotal: 240ms\tremaining: 106ms\n",
      "179:\tlearn: 1.0000000\ttest: 0.8645161\tbest: 0.8734177 (33)\ttotal: 241ms\tremaining: 104ms\n",
      "180:\tlearn: 1.0000000\ttest: 0.8645161\tbest: 0.8734177 (33)\ttotal: 243ms\tremaining: 104ms\n",
      "181:\tlearn: 1.0000000\ttest: 0.8645161\tbest: 0.8734177 (33)\ttotal: 246ms\tremaining: 103ms\n",
      "182:\tlearn: 1.0000000\ttest: 0.8645161\tbest: 0.8734177 (33)\ttotal: 248ms\tremaining: 101ms\n",
      "183:\tlearn: 1.0000000\ttest: 0.8645161\tbest: 0.8734177 (33)\ttotal: 249ms\tremaining: 100ms\n",
      "184:\tlearn: 1.0000000\ttest: 0.8645161\tbest: 0.8734177 (33)\ttotal: 250ms\tremaining: 98.6ms\n",
      "185:\tlearn: 1.0000000\ttest: 0.8589744\tbest: 0.8734177 (33)\ttotal: 251ms\tremaining: 97.2ms\n",
      "186:\tlearn: 1.0000000\ttest: 0.8589744\tbest: 0.8734177 (33)\ttotal: 252ms\tremaining: 95.8ms\n",
      "187:\tlearn: 1.0000000\ttest: 0.8535032\tbest: 0.8734177 (33)\ttotal: 253ms\tremaining: 94.3ms\n",
      "188:\tlearn: 1.0000000\ttest: 0.8535032\tbest: 0.8734177 (33)\ttotal: 254ms\tremaining: 92.9ms\n",
      "189:\tlearn: 1.0000000\ttest: 0.8535032\tbest: 0.8734177 (33)\ttotal: 256ms\tremaining: 91.7ms\n",
      "190:\tlearn: 1.0000000\ttest: 0.8535032\tbest: 0.8734177 (33)\ttotal: 258ms\tremaining: 90.6ms\n",
      "191:\tlearn: 1.0000000\ttest: 0.8535032\tbest: 0.8734177 (33)\ttotal: 265ms\tremaining: 91.2ms\n",
      "192:\tlearn: 1.0000000\ttest: 0.8535032\tbest: 0.8734177 (33)\ttotal: 270ms\tremaining: 90.8ms\n",
      "193:\tlearn: 1.0000000\ttest: 0.8589744\tbest: 0.8734177 (33)\ttotal: 273ms\tremaining: 89.9ms\n",
      "194:\tlearn: 1.0000000\ttest: 0.8535032\tbest: 0.8734177 (33)\ttotal: 275ms\tremaining: 88.7ms\n",
      "195:\tlearn: 1.0000000\ttest: 0.8589744\tbest: 0.8734177 (33)\ttotal: 278ms\tremaining: 87.9ms\n",
      "196:\tlearn: 1.0000000\ttest: 0.8589744\tbest: 0.8734177 (33)\ttotal: 279ms\tremaining: 86.5ms\n",
      "197:\tlearn: 1.0000000\ttest: 0.8589744\tbest: 0.8734177 (33)\ttotal: 281ms\tremaining: 85ms\n",
      "198:\tlearn: 1.0000000\ttest: 0.8535032\tbest: 0.8734177 (33)\ttotal: 283ms\tremaining: 83.8ms\n",
      "199:\tlearn: 1.0000000\ttest: 0.8589744\tbest: 0.8734177 (33)\ttotal: 285ms\tremaining: 82.5ms\n",
      "200:\tlearn: 1.0000000\ttest: 0.8589744\tbest: 0.8734177 (33)\ttotal: 287ms\tremaining: 81.4ms\n",
      "201:\tlearn: 1.0000000\ttest: 0.8589744\tbest: 0.8734177 (33)\ttotal: 288ms\tremaining: 80ms\n",
      "202:\tlearn: 1.0000000\ttest: 0.8589744\tbest: 0.8734177 (33)\ttotal: 290ms\tremaining: 78.6ms\n",
      "203:\tlearn: 1.0000000\ttest: 0.8645161\tbest: 0.8734177 (33)\ttotal: 293ms\tremaining: 77.5ms\n",
      "204:\tlearn: 1.0000000\ttest: 0.8645161\tbest: 0.8734177 (33)\ttotal: 294ms\tremaining: 76.1ms\n",
      "205:\tlearn: 1.0000000\ttest: 0.8589744\tbest: 0.8734177 (33)\ttotal: 296ms\tremaining: 74.6ms\n",
      "206:\tlearn: 1.0000000\ttest: 0.8589744\tbest: 0.8734177 (33)\ttotal: 297ms\tremaining: 73.3ms\n",
      "207:\tlearn: 1.0000000\ttest: 0.8589744\tbest: 0.8734177 (33)\ttotal: 299ms\tremaining: 71.9ms\n",
      "208:\tlearn: 1.0000000\ttest: 0.8589744\tbest: 0.8734177 (33)\ttotal: 301ms\tremaining: 70.5ms\n",
      "209:\tlearn: 1.0000000\ttest: 0.8589744\tbest: 0.8734177 (33)\ttotal: 303ms\tremaining: 69.2ms\n",
      "210:\tlearn: 1.0000000\ttest: 0.8589744\tbest: 0.8734177 (33)\ttotal: 304ms\tremaining: 67.7ms\n",
      "211:\tlearn: 1.0000000\ttest: 0.8589744\tbest: 0.8734177 (33)\ttotal: 306ms\tremaining: 66.4ms\n",
      "212:\tlearn: 1.0000000\ttest: 0.8589744\tbest: 0.8734177 (33)\ttotal: 307ms\tremaining: 64.9ms\n",
      "213:\tlearn: 1.0000000\ttest: 0.8589744\tbest: 0.8734177 (33)\ttotal: 308ms\tremaining: 63.4ms\n",
      "214:\tlearn: 1.0000000\ttest: 0.8589744\tbest: 0.8734177 (33)\ttotal: 310ms\tremaining: 61.9ms\n",
      "215:\tlearn: 1.0000000\ttest: 0.8589744\tbest: 0.8734177 (33)\ttotal: 311ms\tremaining: 60.4ms\n",
      "216:\tlearn: 1.0000000\ttest: 0.8589744\tbest: 0.8734177 (33)\ttotal: 312ms\tremaining: 58.9ms\n",
      "217:\tlearn: 1.0000000\ttest: 0.8589744\tbest: 0.8734177 (33)\ttotal: 313ms\tremaining: 57.4ms\n",
      "218:\tlearn: 1.0000000\ttest: 0.8589744\tbest: 0.8734177 (33)\ttotal: 314ms\tremaining: 55.9ms\n",
      "219:\tlearn: 1.0000000\ttest: 0.8589744\tbest: 0.8734177 (33)\ttotal: 315ms\tremaining: 54.4ms\n",
      "220:\tlearn: 1.0000000\ttest: 0.8516129\tbest: 0.8734177 (33)\ttotal: 316ms\tremaining: 52.9ms\n",
      "221:\tlearn: 1.0000000\ttest: 0.8516129\tbest: 0.8734177 (33)\ttotal: 317ms\tremaining: 51.4ms\n",
      "222:\tlearn: 1.0000000\ttest: 0.8516129\tbest: 0.8734177 (33)\ttotal: 318ms\tremaining: 49.9ms\n",
      "223:\tlearn: 1.0000000\ttest: 0.8516129\tbest: 0.8734177 (33)\ttotal: 319ms\tremaining: 48.5ms\n",
      "224:\tlearn: 1.0000000\ttest: 0.8516129\tbest: 0.8734177 (33)\ttotal: 321ms\tremaining: 47ms\n",
      "225:\tlearn: 1.0000000\ttest: 0.8516129\tbest: 0.8734177 (33)\ttotal: 322ms\tremaining: 45.6ms\n",
      "226:\tlearn: 1.0000000\ttest: 0.8516129\tbest: 0.8734177 (33)\ttotal: 323ms\tremaining: 44.1ms\n",
      "227:\tlearn: 1.0000000\ttest: 0.8516129\tbest: 0.8734177 (33)\ttotal: 324ms\tremaining: 42.7ms\n",
      "228:\tlearn: 1.0000000\ttest: 0.8516129\tbest: 0.8734177 (33)\ttotal: 326ms\tremaining: 41.2ms\n",
      "229:\tlearn: 1.0000000\ttest: 0.8516129\tbest: 0.8734177 (33)\ttotal: 328ms\tremaining: 39.9ms\n",
      "230:\tlearn: 1.0000000\ttest: 0.8516129\tbest: 0.8734177 (33)\ttotal: 329ms\tremaining: 38.4ms\n",
      "231:\tlearn: 1.0000000\ttest: 0.8516129\tbest: 0.8734177 (33)\ttotal: 330ms\tremaining: 37ms\n",
      "232:\tlearn: 1.0000000\ttest: 0.8516129\tbest: 0.8734177 (33)\ttotal: 331ms\tremaining: 35.5ms\n",
      "233:\tlearn: 1.0000000\ttest: 0.8516129\tbest: 0.8734177 (33)\ttotal: 332ms\tremaining: 34.1ms\n",
      "234:\tlearn: 1.0000000\ttest: 0.8516129\tbest: 0.8734177 (33)\ttotal: 334ms\tremaining: 32.7ms\n",
      "235:\tlearn: 1.0000000\ttest: 0.8516129\tbest: 0.8734177 (33)\ttotal: 337ms\tremaining: 31.4ms\n",
      "236:\tlearn: 1.0000000\ttest: 0.8516129\tbest: 0.8734177 (33)\ttotal: 339ms\tremaining: 30ms\n",
      "237:\tlearn: 1.0000000\ttest: 0.8516129\tbest: 0.8734177 (33)\ttotal: 340ms\tremaining: 28.6ms\n",
      "238:\tlearn: 1.0000000\ttest: 0.8516129\tbest: 0.8734177 (33)\ttotal: 341ms\tremaining: 27.1ms\n",
      "239:\tlearn: 1.0000000\ttest: 0.8516129\tbest: 0.8734177 (33)\ttotal: 344ms\tremaining: 25.8ms\n",
      "240:\tlearn: 1.0000000\ttest: 0.8516129\tbest: 0.8734177 (33)\ttotal: 346ms\tremaining: 24.4ms\n",
      "241:\tlearn: 1.0000000\ttest: 0.8516129\tbest: 0.8734177 (33)\ttotal: 349ms\tremaining: 23.1ms\n",
      "242:\tlearn: 1.0000000\ttest: 0.8516129\tbest: 0.8734177 (33)\ttotal: 351ms\tremaining: 21.6ms\n",
      "243:\tlearn: 1.0000000\ttest: 0.8516129\tbest: 0.8734177 (33)\ttotal: 355ms\tremaining: 20.4ms\n",
      "244:\tlearn: 1.0000000\ttest: 0.8516129\tbest: 0.8734177 (33)\ttotal: 357ms\tremaining: 19ms\n",
      "245:\tlearn: 1.0000000\ttest: 0.8516129\tbest: 0.8734177 (33)\ttotal: 359ms\tremaining: 17.5ms\n",
      "246:\tlearn: 1.0000000\ttest: 0.8516129\tbest: 0.8734177 (33)\ttotal: 360ms\tremaining: 16ms\n",
      "247:\tlearn: 1.0000000\ttest: 0.8516129\tbest: 0.8734177 (33)\ttotal: 362ms\tremaining: 14.6ms\n",
      "248:\tlearn: 1.0000000\ttest: 0.8516129\tbest: 0.8734177 (33)\ttotal: 364ms\tremaining: 13.2ms\n",
      "249:\tlearn: 1.0000000\ttest: 0.8516129\tbest: 0.8734177 (33)\ttotal: 366ms\tremaining: 11.7ms\n",
      "250:\tlearn: 1.0000000\ttest: 0.8516129\tbest: 0.8734177 (33)\ttotal: 368ms\tremaining: 10.3ms\n",
      "251:\tlearn: 1.0000000\ttest: 0.8516129\tbest: 0.8734177 (33)\ttotal: 370ms\tremaining: 8.81ms\n",
      "252:\tlearn: 1.0000000\ttest: 0.8516129\tbest: 0.8734177 (33)\ttotal: 372ms\tremaining: 7.36ms\n",
      "253:\tlearn: 1.0000000\ttest: 0.8516129\tbest: 0.8734177 (33)\ttotal: 375ms\tremaining: 5.91ms\n",
      "254:\tlearn: 1.0000000\ttest: 0.8516129\tbest: 0.8734177 (33)\ttotal: 376ms\tremaining: 4.42ms\n",
      "255:\tlearn: 1.0000000\ttest: 0.8571429\tbest: 0.8734177 (33)\ttotal: 378ms\tremaining: 2.95ms\n",
      "256:\tlearn: 1.0000000\ttest: 0.8571429\tbest: 0.8734177 (33)\ttotal: 380ms\tremaining: 1.48ms\n",
      "257:\tlearn: 1.0000000\ttest: 0.8516129\tbest: 0.8734177 (33)\ttotal: 382ms\tremaining: 0us\n",
      "\n",
      "bestTest = 0.8734177215\n",
      "bestIteration = 33\n",
      "\n",
      "Training on fold [4/5]\n",
      "0:\tlearn: 0.8952096\ttest: 0.8198758\tbest: 0.8198758 (0)\ttotal: 1.29ms\tremaining: 331ms\n",
      "1:\tlearn: 0.9010654\ttest: 0.8484848\tbest: 0.8484848 (1)\ttotal: 2.4ms\tremaining: 307ms\n",
      "2:\tlearn: 0.9113150\ttest: 0.8588957\tbest: 0.8588957 (2)\ttotal: 3.51ms\tremaining: 298ms\n",
      "3:\tlearn: 0.9190840\ttest: 0.8343558\tbest: 0.8588957 (2)\ttotal: 4.61ms\tremaining: 293ms\n",
      "4:\tlearn: 0.9221374\ttest: 0.8414634\tbest: 0.8588957 (2)\ttotal: 5.81ms\tremaining: 294ms\n",
      "5:\tlearn: 0.9216590\ttest: 0.8606061\tbest: 0.8606061 (5)\ttotal: 7.22ms\tremaining: 303ms\n",
      "6:\tlearn: 0.9233129\ttest: 0.8466258\tbest: 0.8606061 (5)\ttotal: 8.34ms\tremaining: 299ms\n",
      "7:\tlearn: 0.9230769\ttest: 0.8727273\tbest: 0.8727273 (7)\ttotal: 9.44ms\tremaining: 295ms\n",
      "8:\tlearn: 0.9259259\ttest: 0.8658537\tbest: 0.8727273 (7)\ttotal: 10.5ms\tremaining: 291ms\n",
      "9:\tlearn: 0.9304482\ttest: 0.8641975\tbest: 0.8727273 (7)\ttotal: 11.6ms\tremaining: 289ms\n",
      "10:\tlearn: 0.9318885\ttest: 0.8395062\tbest: 0.8727273 (7)\ttotal: 12.8ms\tremaining: 288ms\n",
      "11:\tlearn: 0.9318885\ttest: 0.8536585\tbest: 0.8727273 (7)\ttotal: 13.9ms\tremaining: 285ms\n",
      "12:\tlearn: 0.9349845\ttest: 0.8414634\tbest: 0.8727273 (7)\ttotal: 15ms\tremaining: 282ms\n",
      "13:\tlearn: 0.9333333\ttest: 0.8414634\tbest: 0.8727273 (7)\ttotal: 16.1ms\tremaining: 281ms\n",
      "14:\tlearn: 0.9380805\ttest: 0.8414634\tbest: 0.8727273 (7)\ttotal: 17.2ms\tremaining: 279ms\n",
      "15:\tlearn: 0.9428130\ttest: 0.8343558\tbest: 0.8727273 (7)\ttotal: 18.3ms\tremaining: 277ms\n",
      "16:\tlearn: 0.9413580\ttest: 0.8484848\tbest: 0.8727273 (7)\ttotal: 19.4ms\tremaining: 275ms\n",
      "17:\tlearn: 0.9413580\ttest: 0.8363636\tbest: 0.8727273 (7)\ttotal: 20.6ms\tremaining: 275ms\n",
      "18:\tlearn: 0.9429892\ttest: 0.8292683\tbest: 0.8727273 (7)\ttotal: 21.8ms\tremaining: 274ms\n",
      "19:\tlearn: 0.9462366\ttest: 0.8292683\tbest: 0.8727273 (7)\ttotal: 22.9ms\tremaining: 273ms\n",
      "20:\tlearn: 0.9476923\ttest: 0.8271605\tbest: 0.8727273 (7)\ttotal: 24.1ms\tremaining: 272ms\n",
      "21:\tlearn: 0.9493088\ttest: 0.8220859\tbest: 0.8727273 (7)\ttotal: 25.2ms\tremaining: 270ms\n",
      "22:\tlearn: 0.9493088\ttest: 0.8220859\tbest: 0.8727273 (7)\ttotal: 26.2ms\tremaining: 268ms\n",
      "23:\tlearn: 0.9493088\ttest: 0.8271605\tbest: 0.8727273 (7)\ttotal: 27.3ms\tremaining: 267ms\n",
      "24:\tlearn: 0.9493088\ttest: 0.8271605\tbest: 0.8727273 (7)\ttotal: 28.9ms\tremaining: 269ms\n",
      "25:\tlearn: 0.9509202\ttest: 0.8271605\tbest: 0.8727273 (7)\ttotal: 31.6ms\tremaining: 282ms\n",
      "26:\tlearn: 0.9538462\ttest: 0.8220859\tbest: 0.8727273 (7)\ttotal: 33.1ms\tremaining: 283ms\n",
      "27:\tlearn: 0.9538462\ttest: 0.8220859\tbest: 0.8727273 (7)\ttotal: 34.7ms\tremaining: 285ms\n",
      "28:\tlearn: 0.9523810\ttest: 0.8220859\tbest: 0.8727273 (7)\ttotal: 37.1ms\tremaining: 293ms\n",
      "29:\tlearn: 0.9523810\ttest: 0.8220859\tbest: 0.8727273 (7)\ttotal: 38.8ms\tremaining: 295ms\n",
      "30:\tlearn: 0.9523810\ttest: 0.8220859\tbest: 0.8727273 (7)\ttotal: 40ms\tremaining: 293ms\n",
      "31:\tlearn: 0.9523810\ttest: 0.8220859\tbest: 0.8727273 (7)\ttotal: 41.1ms\tremaining: 290ms\n",
      "32:\tlearn: 0.9554531\ttest: 0.8220859\tbest: 0.8727273 (7)\ttotal: 43.1ms\tremaining: 294ms\n",
      "33:\tlearn: 0.9554531\ttest: 0.8220859\tbest: 0.8727273 (7)\ttotal: 45.4ms\tremaining: 299ms\n",
      "34:\tlearn: 0.9554531\ttest: 0.8220859\tbest: 0.8727273 (7)\ttotal: 46.5ms\tremaining: 297ms\n",
      "35:\tlearn: 0.9554531\ttest: 0.8220859\tbest: 0.8727273 (7)\ttotal: 47.5ms\tremaining: 293ms\n",
      "36:\tlearn: 0.9538462\ttest: 0.8220859\tbest: 0.8727273 (7)\ttotal: 48.6ms\tremaining: 290ms\n",
      "37:\tlearn: 0.9614792\ttest: 0.8220859\tbest: 0.8727273 (7)\ttotal: 50.9ms\tremaining: 295ms\n",
      "38:\tlearn: 0.9614792\ttest: 0.8271605\tbest: 0.8727273 (7)\ttotal: 52.6ms\tremaining: 295ms\n",
      "39:\tlearn: 0.9614792\ttest: 0.8271605\tbest: 0.8727273 (7)\ttotal: 54.3ms\tremaining: 296ms\n",
      "40:\tlearn: 0.9645609\ttest: 0.8220859\tbest: 0.8727273 (7)\ttotal: 56ms\tremaining: 296ms\n",
      "41:\tlearn: 0.9614792\ttest: 0.8271605\tbest: 0.8727273 (7)\ttotal: 57.6ms\tremaining: 296ms\n",
      "42:\tlearn: 0.9675425\ttest: 0.8292683\tbest: 0.8727273 (7)\ttotal: 59.4ms\tremaining: 297ms\n",
      "43:\tlearn: 0.9643411\ttest: 0.8292683\tbest: 0.8727273 (7)\ttotal: 60.7ms\tremaining: 295ms\n",
      "44:\tlearn: 0.9643411\ttest: 0.8292683\tbest: 0.8727273 (7)\ttotal: 62.7ms\tremaining: 297ms\n",
      "45:\tlearn: 0.9643411\ttest: 0.8292683\tbest: 0.8727273 (7)\ttotal: 65ms\tremaining: 299ms\n",
      "46:\tlearn: 0.9658385\ttest: 0.8292683\tbest: 0.8727273 (7)\ttotal: 67.1ms\tremaining: 301ms\n",
      "47:\tlearn: 0.9658385\ttest: 0.8292683\tbest: 0.8727273 (7)\ttotal: 68.3ms\tremaining: 299ms\n",
      "48:\tlearn: 0.9658385\ttest: 0.8292683\tbest: 0.8727273 (7)\ttotal: 69.7ms\tremaining: 297ms\n",
      "49:\tlearn: 0.9658385\ttest: 0.8292683\tbest: 0.8727273 (7)\ttotal: 71.1ms\tremaining: 296ms\n",
      "50:\tlearn: 0.9658385\ttest: 0.8292683\tbest: 0.8727273 (7)\ttotal: 72.9ms\tremaining: 296ms\n",
      "51:\tlearn: 0.9658385\ttest: 0.8292683\tbest: 0.8727273 (7)\ttotal: 74.1ms\tremaining: 294ms\n",
      "52:\tlearn: 0.9658385\ttest: 0.8292683\tbest: 0.8727273 (7)\ttotal: 75.4ms\tremaining: 292ms\n",
      "53:\tlearn: 0.9675425\ttest: 0.8292683\tbest: 0.8727273 (7)\ttotal: 76.7ms\tremaining: 290ms\n",
      "54:\tlearn: 0.9675425\ttest: 0.8292683\tbest: 0.8727273 (7)\ttotal: 78.2ms\tremaining: 288ms\n",
      "55:\tlearn: 0.9675425\ttest: 0.8292683\tbest: 0.8727273 (7)\ttotal: 79.3ms\tremaining: 286ms\n",
      "56:\tlearn: 0.9675425\ttest: 0.8292683\tbest: 0.8727273 (7)\ttotal: 80.9ms\tremaining: 285ms\n",
      "57:\tlearn: 0.9675425\ttest: 0.8292683\tbest: 0.8727273 (7)\ttotal: 82.4ms\tremaining: 284ms\n",
      "58:\tlearn: 0.9675425\ttest: 0.8292683\tbest: 0.8727273 (7)\ttotal: 83.6ms\tremaining: 282ms\n",
      "59:\tlearn: 0.9675425\ttest: 0.8292683\tbest: 0.8727273 (7)\ttotal: 86.6ms\tremaining: 286ms\n",
      "60:\tlearn: 0.9675425\ttest: 0.8292683\tbest: 0.8727273 (7)\ttotal: 90.6ms\tremaining: 293ms\n",
      "61:\tlearn: 0.9675425\ttest: 0.8292683\tbest: 0.8727273 (7)\ttotal: 92.1ms\tremaining: 291ms\n",
      "62:\tlearn: 0.9674419\ttest: 0.8363636\tbest: 0.8727273 (7)\ttotal: 93.3ms\tremaining: 289ms\n",
      "63:\tlearn: 0.9675425\ttest: 0.8363636\tbest: 0.8727273 (7)\ttotal: 94.6ms\tremaining: 287ms\n",
      "64:\tlearn: 0.9675425\ttest: 0.8363636\tbest: 0.8727273 (7)\ttotal: 95.7ms\tremaining: 284ms\n",
      "65:\tlearn: 0.9675425\ttest: 0.8363636\tbest: 0.8727273 (7)\ttotal: 97.1ms\tremaining: 282ms\n",
      "66:\tlearn: 0.9690402\ttest: 0.8363636\tbest: 0.8727273 (7)\ttotal: 98.4ms\tremaining: 281ms\n",
      "67:\tlearn: 0.9720497\ttest: 0.8484848\tbest: 0.8727273 (7)\ttotal: 99.7ms\tremaining: 279ms\n",
      "68:\tlearn: 0.9736434\ttest: 0.8292683\tbest: 0.8727273 (7)\ttotal: 101ms\tremaining: 276ms\n",
      "69:\tlearn: 0.9736434\ttest: 0.8292683\tbest: 0.8727273 (7)\ttotal: 102ms\tremaining: 274ms\n",
      "70:\tlearn: 0.9752322\ttest: 0.8292683\tbest: 0.8727273 (7)\ttotal: 103ms\tremaining: 271ms\n",
      "71:\tlearn: 0.9752322\ttest: 0.8363636\tbest: 0.8727273 (7)\ttotal: 104ms\tremaining: 269ms\n",
      "72:\tlearn: 0.9752322\ttest: 0.8363636\tbest: 0.8727273 (7)\ttotal: 105ms\tremaining: 267ms\n",
      "73:\tlearn: 0.9752322\ttest: 0.8414634\tbest: 0.8727273 (7)\ttotal: 107ms\tremaining: 265ms\n",
      "74:\tlearn: 0.9768161\ttest: 0.8343558\tbest: 0.8727273 (7)\ttotal: 110ms\tremaining: 269ms\n",
      "75:\tlearn: 0.9799073\ttest: 0.8363636\tbest: 0.8727273 (7)\ttotal: 112ms\tremaining: 267ms\n",
      "76:\tlearn: 0.9783951\ttest: 0.8220859\tbest: 0.8727273 (7)\ttotal: 113ms\tremaining: 267ms\n",
      "77:\tlearn: 0.9783951\ttest: 0.8220859\tbest: 0.8727273 (7)\ttotal: 115ms\tremaining: 266ms\n",
      "78:\tlearn: 0.9783951\ttest: 0.8220859\tbest: 0.8727273 (7)\ttotal: 118ms\tremaining: 267ms\n",
      "79:\tlearn: 0.9783951\ttest: 0.8220859\tbest: 0.8727273 (7)\ttotal: 120ms\tremaining: 268ms\n",
      "80:\tlearn: 0.9783951\ttest: 0.8292683\tbest: 0.8727273 (7)\ttotal: 122ms\tremaining: 267ms\n",
      "81:\tlearn: 0.9814815\ttest: 0.8220859\tbest: 0.8727273 (7)\ttotal: 124ms\tremaining: 266ms\n",
      "82:\tlearn: 0.9814815\ttest: 0.8220859\tbest: 0.8727273 (7)\ttotal: 125ms\tremaining: 264ms\n",
      "83:\tlearn: 0.9814815\ttest: 0.8220859\tbest: 0.8727273 (7)\ttotal: 127ms\tremaining: 262ms\n",
      "84:\tlearn: 0.9829985\ttest: 0.8220859\tbest: 0.8727273 (7)\ttotal: 129ms\tremaining: 262ms\n",
      "85:\tlearn: 0.9829985\ttest: 0.8220859\tbest: 0.8727273 (7)\ttotal: 131ms\tremaining: 262ms\n",
      "86:\tlearn: 0.9845679\ttest: 0.8220859\tbest: 0.8727273 (7)\ttotal: 132ms\tremaining: 260ms\n",
      "87:\tlearn: 0.9845679\ttest: 0.8220859\tbest: 0.8727273 (7)\ttotal: 134ms\tremaining: 258ms\n",
      "88:\tlearn: 0.9845679\ttest: 0.8220859\tbest: 0.8727273 (7)\ttotal: 136ms\tremaining: 259ms\n",
      "89:\tlearn: 0.9860896\ttest: 0.8271605\tbest: 0.8727273 (7)\ttotal: 139ms\tremaining: 259ms\n",
      "90:\tlearn: 0.9860896\ttest: 0.8271605\tbest: 0.8727273 (7)\ttotal: 140ms\tremaining: 258ms\n",
      "91:\tlearn: 0.9860896\ttest: 0.8271605\tbest: 0.8727273 (7)\ttotal: 142ms\tremaining: 256ms\n",
      "92:\tlearn: 0.9860896\ttest: 0.8271605\tbest: 0.8727273 (7)\ttotal: 143ms\tremaining: 255ms\n",
      "93:\tlearn: 0.9860896\ttest: 0.8271605\tbest: 0.8727273 (7)\ttotal: 145ms\tremaining: 254ms\n",
      "94:\tlearn: 0.9860896\ttest: 0.8271605\tbest: 0.8727273 (7)\ttotal: 149ms\tremaining: 256ms\n",
      "95:\tlearn: 0.9860896\ttest: 0.8271605\tbest: 0.8727273 (7)\ttotal: 151ms\tremaining: 254ms\n",
      "96:\tlearn: 0.9860896\ttest: 0.8271605\tbest: 0.8727273 (7)\ttotal: 153ms\tremaining: 254ms\n",
      "97:\tlearn: 0.9860896\ttest: 0.8271605\tbest: 0.8727273 (7)\ttotal: 155ms\tremaining: 253ms\n",
      "98:\tlearn: 0.9860896\ttest: 0.8271605\tbest: 0.8727273 (7)\ttotal: 157ms\tremaining: 252ms\n",
      "99:\tlearn: 0.9876161\ttest: 0.8271605\tbest: 0.8727273 (7)\ttotal: 160ms\tremaining: 252ms\n",
      "100:\tlearn: 0.9876161\ttest: 0.8271605\tbest: 0.8727273 (7)\ttotal: 162ms\tremaining: 252ms\n",
      "101:\tlearn: 0.9876161\ttest: 0.8271605\tbest: 0.8727273 (7)\ttotal: 163ms\tremaining: 250ms\n",
      "102:\tlearn: 0.9876161\ttest: 0.8271605\tbest: 0.8727273 (7)\ttotal: 164ms\tremaining: 247ms\n",
      "103:\tlearn: 0.9876161\ttest: 0.8271605\tbest: 0.8727273 (7)\ttotal: 166ms\tremaining: 246ms\n",
      "104:\tlearn: 0.9876161\ttest: 0.8271605\tbest: 0.8727273 (7)\ttotal: 167ms\tremaining: 244ms\n",
      "105:\tlearn: 0.9876161\ttest: 0.8271605\tbest: 0.8727273 (7)\ttotal: 168ms\tremaining: 242ms\n",
      "106:\tlearn: 0.9876161\ttest: 0.8271605\tbest: 0.8727273 (7)\ttotal: 170ms\tremaining: 241ms\n",
      "107:\tlearn: 0.9876161\ttest: 0.8271605\tbest: 0.8727273 (7)\ttotal: 172ms\tremaining: 239ms\n",
      "108:\tlearn: 0.9876161\ttest: 0.8271605\tbest: 0.8727273 (7)\ttotal: 174ms\tremaining: 237ms\n",
      "109:\tlearn: 0.9876161\ttest: 0.8271605\tbest: 0.8727273 (7)\ttotal: 175ms\tremaining: 235ms\n",
      "110:\tlearn: 0.9876161\ttest: 0.8271605\tbest: 0.8727273 (7)\ttotal: 176ms\tremaining: 233ms\n",
      "111:\tlearn: 0.9891473\ttest: 0.8220859\tbest: 0.8727273 (7)\ttotal: 178ms\tremaining: 231ms\n",
      "112:\tlearn: 0.9891473\ttest: 0.8343558\tbest: 0.8727273 (7)\ttotal: 179ms\tremaining: 229ms\n",
      "113:\tlearn: 0.9907121\ttest: 0.8343558\tbest: 0.8727273 (7)\ttotal: 180ms\tremaining: 227ms\n",
      "114:\tlearn: 0.9907121\ttest: 0.8343558\tbest: 0.8727273 (7)\ttotal: 181ms\tremaining: 225ms\n",
      "115:\tlearn: 0.9907121\ttest: 0.8343558\tbest: 0.8727273 (7)\ttotal: 183ms\tremaining: 224ms\n",
      "116:\tlearn: 0.9907121\ttest: 0.8292683\tbest: 0.8727273 (7)\ttotal: 186ms\tremaining: 224ms\n",
      "117:\tlearn: 0.9907121\ttest: 0.8292683\tbest: 0.8727273 (7)\ttotal: 187ms\tremaining: 222ms\n",
      "118:\tlearn: 0.9907121\ttest: 0.8220859\tbest: 0.8727273 (7)\ttotal: 189ms\tremaining: 221ms\n",
      "119:\tlearn: 0.9922481\ttest: 0.8220859\tbest: 0.8727273 (7)\ttotal: 190ms\tremaining: 219ms\n",
      "120:\tlearn: 0.9922481\ttest: 0.8220859\tbest: 0.8727273 (7)\ttotal: 191ms\tremaining: 217ms\n",
      "121:\tlearn: 0.9938080\ttest: 0.8220859\tbest: 0.8727273 (7)\ttotal: 193ms\tremaining: 215ms\n",
      "122:\tlearn: 0.9938080\ttest: 0.8292683\tbest: 0.8727273 (7)\ttotal: 194ms\tremaining: 213ms\n",
      "123:\tlearn: 0.9938080\ttest: 0.8292683\tbest: 0.8727273 (7)\ttotal: 195ms\tremaining: 211ms\n",
      "124:\tlearn: 0.9938080\ttest: 0.8292683\tbest: 0.8727273 (7)\ttotal: 196ms\tremaining: 209ms\n",
      "125:\tlearn: 0.9953488\ttest: 0.8242424\tbest: 0.8727273 (7)\ttotal: 198ms\tremaining: 208ms\n",
      "126:\tlearn: 0.9953488\ttest: 0.8292683\tbest: 0.8727273 (7)\ttotal: 199ms\tremaining: 206ms\n",
      "127:\tlearn: 0.9953488\ttest: 0.8292683\tbest: 0.8727273 (7)\ttotal: 201ms\tremaining: 204ms\n",
      "128:\tlearn: 0.9953488\ttest: 0.8242424\tbest: 0.8727273 (7)\ttotal: 202ms\tremaining: 202ms\n",
      "129:\tlearn: 0.9968944\ttest: 0.8242424\tbest: 0.8727273 (7)\ttotal: 203ms\tremaining: 200ms\n",
      "130:\tlearn: 0.9968944\ttest: 0.8242424\tbest: 0.8727273 (7)\ttotal: 204ms\tremaining: 198ms\n",
      "131:\tlearn: 0.9968944\ttest: 0.8292683\tbest: 0.8727273 (7)\ttotal: 205ms\tremaining: 196ms\n",
      "132:\tlearn: 0.9984448\ttest: 0.8242424\tbest: 0.8727273 (7)\ttotal: 206ms\tremaining: 194ms\n",
      "133:\tlearn: 0.9968944\ttest: 0.8242424\tbest: 0.8727273 (7)\ttotal: 208ms\tremaining: 192ms\n",
      "134:\tlearn: 0.9968944\ttest: 0.8242424\tbest: 0.8727273 (7)\ttotal: 209ms\tremaining: 190ms\n",
      "135:\tlearn: 0.9968944\ttest: 0.8242424\tbest: 0.8727273 (7)\ttotal: 210ms\tremaining: 188ms\n",
      "136:\tlearn: 0.9968944\ttest: 0.8242424\tbest: 0.8727273 (7)\ttotal: 211ms\tremaining: 186ms\n",
      "137:\tlearn: 0.9968944\ttest: 0.8242424\tbest: 0.8727273 (7)\ttotal: 212ms\tremaining: 184ms\n",
      "138:\tlearn: 0.9984448\ttest: 0.8242424\tbest: 0.8727273 (7)\ttotal: 215ms\tremaining: 184ms\n",
      "139:\tlearn: 0.9984448\ttest: 0.8242424\tbest: 0.8727273 (7)\ttotal: 217ms\tremaining: 183ms\n",
      "140:\tlearn: 0.9984448\ttest: 0.8242424\tbest: 0.8727273 (7)\ttotal: 218ms\tremaining: 181ms\n",
      "141:\tlearn: 0.9984448\ttest: 0.8170732\tbest: 0.8727273 (7)\ttotal: 219ms\tremaining: 179ms\n",
      "142:\tlearn: 0.9984448\ttest: 0.8170732\tbest: 0.8727273 (7)\ttotal: 221ms\tremaining: 177ms\n",
      "143:\tlearn: 0.9984448\ttest: 0.8170732\tbest: 0.8727273 (7)\ttotal: 222ms\tremaining: 175ms\n",
      "144:\tlearn: 0.9984448\ttest: 0.8170732\tbest: 0.8727273 (7)\ttotal: 223ms\tremaining: 174ms\n",
      "145:\tlearn: 0.9984448\ttest: 0.8170732\tbest: 0.8727273 (7)\ttotal: 224ms\tremaining: 172ms\n",
      "146:\tlearn: 0.9984448\ttest: 0.8170732\tbest: 0.8727273 (7)\ttotal: 226ms\tremaining: 170ms\n",
      "147:\tlearn: 0.9984448\ttest: 0.8098160\tbest: 0.8727273 (7)\ttotal: 227ms\tremaining: 168ms\n",
      "148:\tlearn: 1.0000000\ttest: 0.8170732\tbest: 0.8727273 (7)\ttotal: 228ms\tremaining: 167ms\n",
      "149:\tlearn: 1.0000000\ttest: 0.8170732\tbest: 0.8727273 (7)\ttotal: 230ms\tremaining: 166ms\n",
      "150:\tlearn: 1.0000000\ttest: 0.8170732\tbest: 0.8727273 (7)\ttotal: 232ms\tremaining: 164ms\n",
      "151:\tlearn: 1.0000000\ttest: 0.8170732\tbest: 0.8727273 (7)\ttotal: 233ms\tremaining: 163ms\n",
      "152:\tlearn: 1.0000000\ttest: 0.8170732\tbest: 0.8727273 (7)\ttotal: 234ms\tremaining: 161ms\n",
      "153:\tlearn: 1.0000000\ttest: 0.8170732\tbest: 0.8727273 (7)\ttotal: 237ms\tremaining: 160ms\n",
      "154:\tlearn: 1.0000000\ttest: 0.8170732\tbest: 0.8727273 (7)\ttotal: 240ms\tremaining: 159ms\n",
      "155:\tlearn: 1.0000000\ttest: 0.8170732\tbest: 0.8727273 (7)\ttotal: 241ms\tremaining: 158ms\n",
      "156:\tlearn: 1.0000000\ttest: 0.8170732\tbest: 0.8727273 (7)\ttotal: 243ms\tremaining: 156ms\n",
      "157:\tlearn: 1.0000000\ttest: 0.8170732\tbest: 0.8727273 (7)\ttotal: 245ms\tremaining: 155ms\n",
      "158:\tlearn: 1.0000000\ttest: 0.8170732\tbest: 0.8727273 (7)\ttotal: 246ms\tremaining: 153ms\n",
      "159:\tlearn: 1.0000000\ttest: 0.8170732\tbest: 0.8727273 (7)\ttotal: 248ms\tremaining: 152ms\n",
      "160:\tlearn: 1.0000000\ttest: 0.8170732\tbest: 0.8727273 (7)\ttotal: 250ms\tremaining: 151ms\n",
      "161:\tlearn: 1.0000000\ttest: 0.8170732\tbest: 0.8727273 (7)\ttotal: 252ms\tremaining: 149ms\n",
      "162:\tlearn: 1.0000000\ttest: 0.8170732\tbest: 0.8727273 (7)\ttotal: 253ms\tremaining: 148ms\n",
      "163:\tlearn: 1.0000000\ttest: 0.8170732\tbest: 0.8727273 (7)\ttotal: 255ms\tremaining: 146ms\n",
      "164:\tlearn: 1.0000000\ttest: 0.8170732\tbest: 0.8727273 (7)\ttotal: 256ms\tremaining: 145ms\n",
      "165:\tlearn: 1.0000000\ttest: 0.8170732\tbest: 0.8727273 (7)\ttotal: 258ms\tremaining: 143ms\n",
      "166:\tlearn: 1.0000000\ttest: 0.8170732\tbest: 0.8727273 (7)\ttotal: 259ms\tremaining: 141ms\n",
      "167:\tlearn: 1.0000000\ttest: 0.8170732\tbest: 0.8727273 (7)\ttotal: 261ms\tremaining: 140ms\n",
      "168:\tlearn: 1.0000000\ttest: 0.8170732\tbest: 0.8727273 (7)\ttotal: 264ms\tremaining: 139ms\n",
      "169:\tlearn: 1.0000000\ttest: 0.8170732\tbest: 0.8727273 (7)\ttotal: 265ms\tremaining: 137ms\n",
      "170:\tlearn: 1.0000000\ttest: 0.8170732\tbest: 0.8727273 (7)\ttotal: 267ms\tremaining: 136ms\n",
      "171:\tlearn: 1.0000000\ttest: 0.8170732\tbest: 0.8727273 (7)\ttotal: 269ms\tremaining: 134ms\n",
      "172:\tlearn: 1.0000000\ttest: 0.8170732\tbest: 0.8727273 (7)\ttotal: 270ms\tremaining: 133ms\n",
      "173:\tlearn: 1.0000000\ttest: 0.8170732\tbest: 0.8727273 (7)\ttotal: 272ms\tremaining: 131ms\n",
      "174:\tlearn: 1.0000000\ttest: 0.8170732\tbest: 0.8727273 (7)\ttotal: 273ms\tremaining: 130ms\n",
      "175:\tlearn: 1.0000000\ttest: 0.8170732\tbest: 0.8727273 (7)\ttotal: 275ms\tremaining: 128ms\n",
      "176:\tlearn: 1.0000000\ttest: 0.8170732\tbest: 0.8727273 (7)\ttotal: 277ms\tremaining: 127ms\n",
      "177:\tlearn: 1.0000000\ttest: 0.8170732\tbest: 0.8727273 (7)\ttotal: 278ms\tremaining: 125ms\n",
      "178:\tlearn: 1.0000000\ttest: 0.8170732\tbest: 0.8727273 (7)\ttotal: 279ms\tremaining: 123ms\n",
      "179:\tlearn: 1.0000000\ttest: 0.8170732\tbest: 0.8727273 (7)\ttotal: 323ms\tremaining: 140ms\n",
      "180:\tlearn: 1.0000000\ttest: 0.8170732\tbest: 0.8727273 (7)\ttotal: 324ms\tremaining: 138ms\n",
      "181:\tlearn: 1.0000000\ttest: 0.8170732\tbest: 0.8727273 (7)\ttotal: 326ms\tremaining: 136ms\n",
      "182:\tlearn: 1.0000000\ttest: 0.8170732\tbest: 0.8727273 (7)\ttotal: 327ms\tremaining: 134ms\n",
      "183:\tlearn: 1.0000000\ttest: 0.8170732\tbest: 0.8727273 (7)\ttotal: 328ms\tremaining: 132ms\n",
      "184:\tlearn: 1.0000000\ttest: 0.8170732\tbest: 0.8727273 (7)\ttotal: 329ms\tremaining: 130ms\n",
      "185:\tlearn: 1.0000000\ttest: 0.8170732\tbest: 0.8727273 (7)\ttotal: 330ms\tremaining: 128ms\n",
      "186:\tlearn: 1.0000000\ttest: 0.8170732\tbest: 0.8727273 (7)\ttotal: 331ms\tremaining: 126ms\n",
      "187:\tlearn: 1.0000000\ttest: 0.8170732\tbest: 0.8727273 (7)\ttotal: 333ms\tremaining: 124ms\n",
      "188:\tlearn: 1.0000000\ttest: 0.8170732\tbest: 0.8727273 (7)\ttotal: 334ms\tremaining: 122ms\n",
      "189:\tlearn: 1.0000000\ttest: 0.8170732\tbest: 0.8727273 (7)\ttotal: 336ms\tremaining: 120ms\n",
      "190:\tlearn: 1.0000000\ttest: 0.8170732\tbest: 0.8727273 (7)\ttotal: 336ms\tremaining: 118ms\n",
      "191:\tlearn: 1.0000000\ttest: 0.8170732\tbest: 0.8727273 (7)\ttotal: 337ms\tremaining: 116ms\n",
      "192:\tlearn: 1.0000000\ttest: 0.8170732\tbest: 0.8727273 (7)\ttotal: 338ms\tremaining: 114ms\n",
      "193:\tlearn: 1.0000000\ttest: 0.8170732\tbest: 0.8727273 (7)\ttotal: 340ms\tremaining: 112ms\n",
      "194:\tlearn: 1.0000000\ttest: 0.8170732\tbest: 0.8727273 (7)\ttotal: 341ms\tremaining: 110ms\n",
      "195:\tlearn: 1.0000000\ttest: 0.8170732\tbest: 0.8727273 (7)\ttotal: 342ms\tremaining: 108ms\n",
      "196:\tlearn: 1.0000000\ttest: 0.8170732\tbest: 0.8727273 (7)\ttotal: 343ms\tremaining: 106ms\n",
      "197:\tlearn: 1.0000000\ttest: 0.8170732\tbest: 0.8727273 (7)\ttotal: 345ms\tremaining: 104ms\n",
      "198:\tlearn: 1.0000000\ttest: 0.8170732\tbest: 0.8727273 (7)\ttotal: 346ms\tremaining: 102ms\n",
      "199:\tlearn: 1.0000000\ttest: 0.8170732\tbest: 0.8727273 (7)\ttotal: 346ms\tremaining: 100ms\n",
      "200:\tlearn: 1.0000000\ttest: 0.8170732\tbest: 0.8727273 (7)\ttotal: 347ms\tremaining: 98.5ms\n",
      "201:\tlearn: 1.0000000\ttest: 0.8170732\tbest: 0.8727273 (7)\ttotal: 349ms\tremaining: 96.8ms\n",
      "202:\tlearn: 1.0000000\ttest: 0.8170732\tbest: 0.8727273 (7)\ttotal: 360ms\tremaining: 97.5ms\n",
      "203:\tlearn: 1.0000000\ttest: 0.8170732\tbest: 0.8727273 (7)\ttotal: 361ms\tremaining: 95.7ms\n",
      "204:\tlearn: 1.0000000\ttest: 0.8170732\tbest: 0.8727273 (7)\ttotal: 363ms\tremaining: 93.7ms\n",
      "205:\tlearn: 1.0000000\ttest: 0.8170732\tbest: 0.8727273 (7)\ttotal: 364ms\tremaining: 91.8ms\n",
      "206:\tlearn: 1.0000000\ttest: 0.8170732\tbest: 0.8727273 (7)\ttotal: 365ms\tremaining: 89.9ms\n",
      "207:\tlearn: 1.0000000\ttest: 0.8220859\tbest: 0.8727273 (7)\ttotal: 366ms\tremaining: 88ms\n",
      "208:\tlearn: 1.0000000\ttest: 0.8220859\tbest: 0.8727273 (7)\ttotal: 367ms\tremaining: 86.1ms\n",
      "209:\tlearn: 1.0000000\ttest: 0.8220859\tbest: 0.8727273 (7)\ttotal: 368ms\tremaining: 84.2ms\n",
      "210:\tlearn: 1.0000000\ttest: 0.8220859\tbest: 0.8727273 (7)\ttotal: 370ms\tremaining: 82.3ms\n",
      "211:\tlearn: 1.0000000\ttest: 0.8220859\tbest: 0.8727273 (7)\ttotal: 371ms\tremaining: 80.5ms\n",
      "212:\tlearn: 1.0000000\ttest: 0.8220859\tbest: 0.8727273 (7)\ttotal: 372ms\tremaining: 78.7ms\n",
      "213:\tlearn: 1.0000000\ttest: 0.8148148\tbest: 0.8727273 (7)\ttotal: 373ms\tremaining: 76.8ms\n",
      "214:\tlearn: 1.0000000\ttest: 0.8148148\tbest: 0.8727273 (7)\ttotal: 375ms\tremaining: 74.9ms\n",
      "215:\tlearn: 1.0000000\ttest: 0.8148148\tbest: 0.8727273 (7)\ttotal: 376ms\tremaining: 73.1ms\n",
      "216:\tlearn: 1.0000000\ttest: 0.8148148\tbest: 0.8727273 (7)\ttotal: 377ms\tremaining: 71.2ms\n",
      "217:\tlearn: 1.0000000\ttest: 0.8148148\tbest: 0.8727273 (7)\ttotal: 378ms\tremaining: 69.4ms\n",
      "218:\tlearn: 1.0000000\ttest: 0.8220859\tbest: 0.8727273 (7)\ttotal: 379ms\tremaining: 67.5ms\n",
      "219:\tlearn: 1.0000000\ttest: 0.8220859\tbest: 0.8727273 (7)\ttotal: 380ms\tremaining: 65.7ms\n",
      "220:\tlearn: 1.0000000\ttest: 0.8220859\tbest: 0.8727273 (7)\ttotal: 381ms\tremaining: 63.8ms\n",
      "221:\tlearn: 1.0000000\ttest: 0.8220859\tbest: 0.8727273 (7)\ttotal: 382ms\tremaining: 62ms\n",
      "222:\tlearn: 1.0000000\ttest: 0.8220859\tbest: 0.8727273 (7)\ttotal: 383ms\tremaining: 60.2ms\n",
      "223:\tlearn: 1.0000000\ttest: 0.8220859\tbest: 0.8727273 (7)\ttotal: 385ms\tremaining: 58.4ms\n",
      "224:\tlearn: 1.0000000\ttest: 0.8220859\tbest: 0.8727273 (7)\ttotal: 386ms\tremaining: 56.6ms\n",
      "225:\tlearn: 1.0000000\ttest: 0.8220859\tbest: 0.8727273 (7)\ttotal: 388ms\tremaining: 55ms\n",
      "226:\tlearn: 1.0000000\ttest: 0.8220859\tbest: 0.8727273 (7)\ttotal: 399ms\tremaining: 54.5ms\n",
      "227:\tlearn: 1.0000000\ttest: 0.8220859\tbest: 0.8727273 (7)\ttotal: 401ms\tremaining: 52.8ms\n",
      "228:\tlearn: 1.0000000\ttest: 0.8220859\tbest: 0.8727273 (7)\ttotal: 405ms\tremaining: 51.3ms\n",
      "229:\tlearn: 1.0000000\ttest: 0.8220859\tbest: 0.8727273 (7)\ttotal: 408ms\tremaining: 49.6ms\n",
      "230:\tlearn: 1.0000000\ttest: 0.8220859\tbest: 0.8727273 (7)\ttotal: 409ms\tremaining: 47.8ms\n",
      "231:\tlearn: 1.0000000\ttest: 0.8220859\tbest: 0.8727273 (7)\ttotal: 410ms\tremaining: 46ms\n",
      "232:\tlearn: 1.0000000\ttest: 0.8220859\tbest: 0.8727273 (7)\ttotal: 412ms\tremaining: 44.2ms\n",
      "233:\tlearn: 1.0000000\ttest: 0.8220859\tbest: 0.8727273 (7)\ttotal: 413ms\tremaining: 42.4ms\n",
      "234:\tlearn: 1.0000000\ttest: 0.8220859\tbest: 0.8727273 (7)\ttotal: 415ms\tremaining: 40.7ms\n",
      "235:\tlearn: 1.0000000\ttest: 0.8220859\tbest: 0.8727273 (7)\ttotal: 417ms\tremaining: 38.9ms\n",
      "236:\tlearn: 1.0000000\ttest: 0.8220859\tbest: 0.8727273 (7)\ttotal: 419ms\tremaining: 37.1ms\n",
      "237:\tlearn: 1.0000000\ttest: 0.8220859\tbest: 0.8727273 (7)\ttotal: 420ms\tremaining: 35.3ms\n",
      "238:\tlearn: 1.0000000\ttest: 0.8220859\tbest: 0.8727273 (7)\ttotal: 421ms\tremaining: 33.5ms\n",
      "239:\tlearn: 1.0000000\ttest: 0.8220859\tbest: 0.8727273 (7)\ttotal: 422ms\tremaining: 31.7ms\n",
      "240:\tlearn: 1.0000000\ttest: 0.8220859\tbest: 0.8727273 (7)\ttotal: 423ms\tremaining: 29.9ms\n",
      "241:\tlearn: 1.0000000\ttest: 0.8220859\tbest: 0.8727273 (7)\ttotal: 424ms\tremaining: 28.1ms\n",
      "242:\tlearn: 1.0000000\ttest: 0.8220859\tbest: 0.8727273 (7)\ttotal: 425ms\tremaining: 26.3ms\n",
      "243:\tlearn: 1.0000000\ttest: 0.8220859\tbest: 0.8727273 (7)\ttotal: 427ms\tremaining: 24.5ms\n",
      "244:\tlearn: 1.0000000\ttest: 0.8220859\tbest: 0.8727273 (7)\ttotal: 428ms\tremaining: 22.7ms\n",
      "245:\tlearn: 1.0000000\ttest: 0.8220859\tbest: 0.8727273 (7)\ttotal: 429ms\tremaining: 20.9ms\n",
      "246:\tlearn: 1.0000000\ttest: 0.8220859\tbest: 0.8727273 (7)\ttotal: 430ms\tremaining: 19.1ms\n",
      "247:\tlearn: 1.0000000\ttest: 0.8220859\tbest: 0.8727273 (7)\ttotal: 431ms\tremaining: 17.4ms\n",
      "248:\tlearn: 1.0000000\ttest: 0.8220859\tbest: 0.8727273 (7)\ttotal: 433ms\tremaining: 15.6ms\n",
      "249:\tlearn: 1.0000000\ttest: 0.8220859\tbest: 0.8727273 (7)\ttotal: 434ms\tremaining: 13.9ms\n",
      "250:\tlearn: 1.0000000\ttest: 0.8220859\tbest: 0.8727273 (7)\ttotal: 435ms\tremaining: 12.1ms\n",
      "251:\tlearn: 1.0000000\ttest: 0.8220859\tbest: 0.8727273 (7)\ttotal: 436ms\tremaining: 10.4ms\n",
      "252:\tlearn: 1.0000000\ttest: 0.8220859\tbest: 0.8727273 (7)\ttotal: 437ms\tremaining: 8.64ms\n",
      "253:\tlearn: 1.0000000\ttest: 0.8220859\tbest: 0.8727273 (7)\ttotal: 438ms\tremaining: 6.9ms\n",
      "254:\tlearn: 1.0000000\ttest: 0.8170732\tbest: 0.8727273 (7)\ttotal: 440ms\tremaining: 5.17ms\n",
      "255:\tlearn: 1.0000000\ttest: 0.8220859\tbest: 0.8727273 (7)\ttotal: 441ms\tremaining: 3.44ms\n",
      "256:\tlearn: 1.0000000\ttest: 0.8220859\tbest: 0.8727273 (7)\ttotal: 442ms\tremaining: 1.72ms\n",
      "257:\tlearn: 1.0000000\ttest: 0.8220859\tbest: 0.8727273 (7)\ttotal: 443ms\tremaining: 0us\n",
      "\n",
      "bestTest = 0.8727272727\n",
      "bestIteration = 7\n",
      "\n"
     ]
    }
   ],
   "source": [
    "import joblib\n",
    "from ARISA_DSML.train import train_cv\n",
    "params = joblib.load(best_params_path)\n",
    "n_folds = 5\n",
    "cv_output_path = train_cv(X_train, y_train, params, n=n_folds)"
   ]
  },
  {
   "cell_type": "code",
   "execution_count": 10,
   "id": "8d2ca8c0",
   "metadata": {},
   "outputs": [
    {
     "data": {
      "application/vnd.plotly.v1+json": {
       "config": {
        "plotlyServerURL": "https://plot.ly"
       },
       "data": [
        {
         "line": {
          "color": "blue"
         },
         "mode": "lines",
         "name": "Mean F1 Score",
         "type": "scatter",
         "x": {
          "bdata": "AAABAAIAAwAEAAUABgAHAAgACQAKAAsADAANAA4ADwAQABEAEgATABQAFQAWABcAGAAZABoAGwAcAB0AHgAfACAAIQAiACMAJAAlACYAJwAoACkAKgArACwALQAuAC8AMAAxADIAMwA0ADUANgA3ADgAOQA6ADsAPAA9AD4APwBAAEEAQgBDAEQARQBGAEcASABJAEoASwBMAE0ATgBPAFAAUQBSAFMAVABVAFYAVwBYAFkAWgBbAFwAXQBeAF8AYABhAGIAYwBkAGUAZgBnAGgAaQBqAGsAbABtAG4AbwBwAHEAcgBzAHQAdQB2AHcAeAB5AHoAewB8AH0AfgB/AIAAgQCCAIMAhACFAIYAhwCIAIkAigCLAIwAjQCOAI8AkACRAJIAkwCUAJUAlgCXAJgAmQCaAJsAnACdAJ4AnwCgAKEAogCjAKQApQCmAKcAqACpAKoAqwCsAK0ArgCvALAAsQCyALMAtAC1ALYAtwC4ALkAugC7ALwAvQC+AL8AwADBAMIAwwDEAMUAxgDHAMgAyQDKAMsAzADNAM4AzwDQANEA0gDTANQA1QDWANcA2ADZANoA2wDcAN0A3gDfAOAA4QDiAOMA5ADlAOYA5wDoAOkA6gDrAOwA7QDuAO8A8ADxAPIA8wD0APUA9gD3APgA+QD6APsA/AD9AP4A/wAAAQEB",
          "dtype": "i2"
         },
         "y": {
          "bdata": "lTWWZMeo6z+Tt40kJpTrPx6lMluC4Os/04eoxxnx6z/At6vcLfbrP2gMF2AoIew/gLphJ7D56z/rNKAboinsP6P40orFNuw/VaE9RMAx7D9SiBVYjgLsP54ZNtbVQuw/3gQ5++w37D8NxM7ZJwHsP8BBXpFl+es/eKyokGz26z8FCozHufDrP/BJTsbd3Os/iHAwwAbk6z9DXOGeSfLrP6a7Ojad7Os/Bjcc+zv56z9w09yYYwTsPw19WAq0DOw/ky45WKgD7D+TLjlYqAPsP8j/CsbX9Os/UoGCLQPv6z9okaf0Gw/sP9DTkJP6F+w/0NOQk/oX7D8wiJ3y0O3rP+h5Wn7M9us/wC57MY4C7D97yVkujvnrP5NQuA1P8+s/9UzAsG7q6z/1TMCwburrPwoq8B9z2+s/a1YjvcPd6z+CnALwK+HrPzhoJQDL9Os/JeUJsmYA7D8l5QmyZgDsPyXlCbJmAOw/uCPzRaXp6z9wv8qho97rPx5wJCne1es/HnAkKd7V6z8q4Inhs9jrPyrgieGz2Os/KuCJ4bPY6z+2qdOItezrP3a1OOWK6us/drU45Yrq6z92tTjliurrP+YOW6bN1es/ngAYMsne6z9zIW5lcurrP3MhbmVy6us/8jZUqvns6z87rZsmKuTrPxpHQ06B5us/U/0FKM/66z9AUNHiKu3rP64JLqZx3us/Q5l6Otvy6z96X6Gy9PTrP2MPN7FP3us/YzgdIurJ6z+DY/mbzOTrP5Bjs5xs8Os/0kkUWlnz6z+2ubOmzObrP/g8hXOm8es/osi5lRns6z9deeOY+8brP0hf5u1ju+s/SF/m7WO76z9m6XCZ0s/rP/VYGh6X2+s/XXnjmPvG6z9m6XCZ0s/rP1LPc+46xOs/Us9z7jrE6z/VpbFyHtDrP5O/ULUxzes/9g9AdZ6y6z9IX+btY7vrPyj5PiarzOs/lbm75u666z8YkPlq0sbrP9CBtvbNz+s/Lar2FWrS6z8tqvYVatLrPy2q9hVq0us/BZIomcHE6z8FkiiZwcTrP6YD/UiNxOs/pgP9SI3E6z+mA/1IjcTrP6YD/UiNxOs/6PPZD4TN6z/T2dxk7MHrP9PZ3GTswes/09ncZOzB6z/T2dxk7MHrP3PGOH8Mt+s/wEKTpHCi6z9+UrbdeZnrP35Stt15mes/4qg6bCmR6z/KHNzOQ6XrP8oc3M5Dpes/yhzczkOl6z99DDdz/LDrPwBVvfMQves/AFW98xC96z+ztmryM7rrP7O2avIzuus/No2odhfG6z/2u1HzL73rPwBVvfMQves/wHJPHPi56z+OibBkwK3rPwqFE4rLuus/EkWXigfD6z+eBSa1LrHrP6YGS1zPs+s/RXDzi9O86z9FcPOL07zrP67GzlwLvOs/pgZLXM+z6z+mBktcz7PrP3M1FQ7BvOs/VpfGhIPF6z9rxYcN6rPrP2vFhw3qs+s/7ZfSq/m/6z/aaREjk9HrP9D5gyK8yOs/4qcWqzq06z/ipxarOrTrP+KnFqs6tOs/4qcWqzq06z/ipxarOrTrP+KnFqs6tOs/fnQLxVao6z/S5m0DXqnrP9LmbQNeqes/0uZtA16p6z9jVHVmcrLrP2NUdWZysus/Y1R1ZnKy6z9jVHVmcrLrP2NUdWZysus/Y1R1ZnKy6z9txAJnSbvrP23EAmdJu+s/bcQCZ0m76z9txAJnSbvrP23EAmdJu+s/bcQCZ0m76z9jVHVmcrLrP2NUdWZysus/Y1R1ZnKy6z/OQFI+dKfrP+6BoYG4nus/g5XEqbap6z+DlcSptqnrP5ByaosXlus/O5QK1s2p6z/OQFI+dKfrP2NUdWZysus/Y1R1ZnKy6z9jVHVmcrLrP2NUdWZysus/Y1R1ZnKy6z9jVHVmcrLrP2NUdWZysus/UJQ3ZZae6z+7gBQ9mJPrP+6BoYG4nus/7oGhgbie6z/OQFI+dKfrPz3TSttfnus/PdNK21+e6z/74m0UaZXrP/vibRRples/++JtFGmV6z/myHBp0YnrP4NMIZKmnes/g0whkqad6z/GqLMiup3rP4W41lvDlOs/xqizIrqd6z/GqLMiup3rP8aosyK6nes/hbjWW8OU6z/GqLMiup3rP8aosyK6nes/xqizIrqd6z/GqLMiup3rP1gWu4XOpus/WBa7hc6m6z/GqLMiup3rP8aosyK6nes/S+lJn/Cl6z9L6Umf8KXrP0vpSZ/wpes/4Pj/16+u6z/g+P/Xr67rP+D4/9evrus/Y9M7gFmu6z9j0zuAWa7rP9DDhUeapes/0MOFR5ql6z/Qw4VHmqXrPyDGOv2Dses/IMY6/YOx6z8yA6aXM67rPzIDppczrus/yGbl+Quj6z/IZuX5C6PrP8hm5fkLo+s/yGbl+Quj6z/IZuX5C6PrP8hm5fkLo+s/yGbl+Quj6z/IZuX5C6PrPzIDppczrus/MgOmlzOu6z/IZuX5C6PrP8hm5fkLo+s/yGbl+Quj6z/IZuX5C6PrP8hm5fkLo+s/yGbl+Quj6z/IZuX5C6PrPzIDppczrus/MgOmlzOu6z8yA6aXM67rPzIDppczrus/MgOmlzOu6z8yA6aXM67rPzIDppczrus/MgOmlzOu6z8yA6aXM67rPzIDppczrus/MgOmlzOu6z8yA6aXM67rPzIDppczrus/MgOmlzOu6z8yA6aXM67rP6vCDxv9pes/g9XtBUO36z+D1e0FQ7frPzIDppczrus/",
          "dtype": "f8"
         }
        },
        {
         "fill": "toself",
         "fillcolor": "rgba(0, 0, 255, 0.2)",
         "line": {
          "color": "rgba(255, 255, 255, 0)"
         },
         "showlegend": false,
         "type": "scatter",
         "x": {
          "bdata": "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",
          "dtype": "f8"
         },
         "y": {
          "bdata": "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",
          "dtype": "f8"
         }
        }
       ],
       "layout": {
        "template": {
         "data": {
          "bar": [
           {
            "error_x": {
             "color": "#2a3f5f"
            },
            "error_y": {
             "color": "#2a3f5f"
            },
            "marker": {
             "line": {
              "color": "white",
              "width": 0.5
             },
             "pattern": {
              "fillmode": "overlay",
              "size": 10,
              "solidity": 0.2
             }
            },
            "type": "bar"
           }
          ],
          "barpolar": [
           {
            "marker": {
             "line": {
              "color": "white",
              "width": 0.5
             },
             "pattern": {
              "fillmode": "overlay",
              "size": 10,
              "solidity": 0.2
             }
            },
            "type": "barpolar"
           }
          ],
          "carpet": [
           {
            "aaxis": {
             "endlinecolor": "#2a3f5f",
             "gridcolor": "#C8D4E3",
             "linecolor": "#C8D4E3",
             "minorgridcolor": "#C8D4E3",
             "startlinecolor": "#2a3f5f"
            },
            "baxis": {
             "endlinecolor": "#2a3f5f",
             "gridcolor": "#C8D4E3",
             "linecolor": "#C8D4E3",
             "minorgridcolor": "#C8D4E3",
             "startlinecolor": "#2a3f5f"
            },
            "type": "carpet"
           }
          ],
          "choropleth": [
           {
            "colorbar": {
             "outlinewidth": 0,
             "ticks": ""
            },
            "type": "choropleth"
           }
          ],
          "contour": [
           {
            "colorbar": {
             "outlinewidth": 0,
             "ticks": ""
            },
            "colorscale": [
             [
              0,
              "#0d0887"
             ],
             [
              0.1111111111111111,
              "#46039f"
             ],
             [
              0.2222222222222222,
              "#7201a8"
             ],
             [
              0.3333333333333333,
              "#9c179e"
             ],
             [
              0.4444444444444444,
              "#bd3786"
             ],
             [
              0.5555555555555556,
              "#d8576b"
             ],
             [
              0.6666666666666666,
              "#ed7953"
             ],
             [
              0.7777777777777778,
              "#fb9f3a"
             ],
             [
              0.8888888888888888,
              "#fdca26"
             ],
             [
              1,
              "#f0f921"
             ]
            ],
            "type": "contour"
           }
          ],
          "contourcarpet": [
           {
            "colorbar": {
             "outlinewidth": 0,
             "ticks": ""
            },
            "type": "contourcarpet"
           }
          ],
          "heatmap": [
           {
            "colorbar": {
             "outlinewidth": 0,
             "ticks": ""
            },
            "colorscale": [
             [
              0,
              "#0d0887"
             ],
             [
              0.1111111111111111,
              "#46039f"
             ],
             [
              0.2222222222222222,
              "#7201a8"
             ],
             [
              0.3333333333333333,
              "#9c179e"
             ],
             [
              0.4444444444444444,
              "#bd3786"
             ],
             [
              0.5555555555555556,
              "#d8576b"
             ],
             [
              0.6666666666666666,
              "#ed7953"
             ],
             [
              0.7777777777777778,
              "#fb9f3a"
             ],
             [
              0.8888888888888888,
              "#fdca26"
             ],
             [
              1,
              "#f0f921"
             ]
            ],
            "type": "heatmap"
           }
          ],
          "histogram": [
           {
            "marker": {
             "pattern": {
              "fillmode": "overlay",
              "size": 10,
              "solidity": 0.2
             }
            },
            "type": "histogram"
           }
          ],
          "histogram2d": [
           {
            "colorbar": {
             "outlinewidth": 0,
             "ticks": ""
            },
            "colorscale": [
             [
              0,
              "#0d0887"
             ],
             [
              0.1111111111111111,
              "#46039f"
             ],
             [
              0.2222222222222222,
              "#7201a8"
             ],
             [
              0.3333333333333333,
              "#9c179e"
             ],
             [
              0.4444444444444444,
              "#bd3786"
             ],
             [
              0.5555555555555556,
              "#d8576b"
             ],
             [
              0.6666666666666666,
              "#ed7953"
             ],
             [
              0.7777777777777778,
              "#fb9f3a"
             ],
             [
              0.8888888888888888,
              "#fdca26"
             ],
             [
              1,
              "#f0f921"
             ]
            ],
            "type": "histogram2d"
           }
          ],
          "histogram2dcontour": [
           {
            "colorbar": {
             "outlinewidth": 0,
             "ticks": ""
            },
            "colorscale": [
             [
              0,
              "#0d0887"
             ],
             [
              0.1111111111111111,
              "#46039f"
             ],
             [
              0.2222222222222222,
              "#7201a8"
             ],
             [
              0.3333333333333333,
              "#9c179e"
             ],
             [
              0.4444444444444444,
              "#bd3786"
             ],
             [
              0.5555555555555556,
              "#d8576b"
             ],
             [
              0.6666666666666666,
              "#ed7953"
             ],
             [
              0.7777777777777778,
              "#fb9f3a"
             ],
             [
              0.8888888888888888,
              "#fdca26"
             ],
             [
              1,
              "#f0f921"
             ]
            ],
            "type": "histogram2dcontour"
           }
          ],
          "mesh3d": [
           {
            "colorbar": {
             "outlinewidth": 0,
             "ticks": ""
            },
            "type": "mesh3d"
           }
          ],
          "parcoords": [
           {
            "line": {
             "colorbar": {
              "outlinewidth": 0,
              "ticks": ""
             }
            },
            "type": "parcoords"
           }
          ],
          "pie": [
           {
            "automargin": true,
            "type": "pie"
           }
          ],
          "scatter": [
           {
            "fillpattern": {
             "fillmode": "overlay",
             "size": 10,
             "solidity": 0.2
            },
            "type": "scatter"
           }
          ],
          "scatter3d": [
           {
            "line": {
             "colorbar": {
              "outlinewidth": 0,
              "ticks": ""
             }
            },
            "marker": {
             "colorbar": {
              "outlinewidth": 0,
              "ticks": ""
             }
            },
            "type": "scatter3d"
           }
          ],
          "scattercarpet": [
           {
            "marker": {
             "colorbar": {
              "outlinewidth": 0,
              "ticks": ""
             }
            },
            "type": "scattercarpet"
           }
          ],
          "scattergeo": [
           {
            "marker": {
             "colorbar": {
              "outlinewidth": 0,
              "ticks": ""
             }
            },
            "type": "scattergeo"
           }
          ],
          "scattergl": [
           {
            "marker": {
             "colorbar": {
              "outlinewidth": 0,
              "ticks": ""
             }
            },
            "type": "scattergl"
           }
          ],
          "scattermap": [
           {
            "marker": {
             "colorbar": {
              "outlinewidth": 0,
              "ticks": ""
             }
            },
            "type": "scattermap"
           }
          ],
          "scattermapbox": [
           {
            "marker": {
             "colorbar": {
              "outlinewidth": 0,
              "ticks": ""
             }
            },
            "type": "scattermapbox"
           }
          ],
          "scatterpolar": [
           {
            "marker": {
             "colorbar": {
              "outlinewidth": 0,
              "ticks": ""
             }
            },
            "type": "scatterpolar"
           }
          ],
          "scatterpolargl": [
           {
            "marker": {
             "colorbar": {
              "outlinewidth": 0,
              "ticks": ""
             }
            },
            "type": "scatterpolargl"
           }
          ],
          "scatterternary": [
           {
            "marker": {
             "colorbar": {
              "outlinewidth": 0,
              "ticks": ""
             }
            },
            "type": "scatterternary"
           }
          ],
          "surface": [
           {
            "colorbar": {
             "outlinewidth": 0,
             "ticks": ""
            },
            "colorscale": [
             [
              0,
              "#0d0887"
             ],
             [
              0.1111111111111111,
              "#46039f"
             ],
             [
              0.2222222222222222,
              "#7201a8"
             ],
             [
              0.3333333333333333,
              "#9c179e"
             ],
             [
              0.4444444444444444,
              "#bd3786"
             ],
             [
              0.5555555555555556,
              "#d8576b"
             ],
             [
              0.6666666666666666,
              "#ed7953"
             ],
             [
              0.7777777777777778,
              "#fb9f3a"
             ],
             [
              0.8888888888888888,
              "#fdca26"
             ],
             [
              1,
              "#f0f921"
             ]
            ],
            "type": "surface"
           }
          ],
          "table": [
           {
            "cells": {
             "fill": {
              "color": "#EBF0F8"
             },
             "line": {
              "color": "white"
             }
            },
            "header": {
             "fill": {
              "color": "#C8D4E3"
             },
             "line": {
              "color": "white"
             }
            },
            "type": "table"
           }
          ]
         },
         "layout": {
          "annotationdefaults": {
           "arrowcolor": "#2a3f5f",
           "arrowhead": 0,
           "arrowwidth": 1
          },
          "autotypenumbers": "strict",
          "coloraxis": {
           "colorbar": {
            "outlinewidth": 0,
            "ticks": ""
           }
          },
          "colorscale": {
           "diverging": [
            [
             0,
             "#8e0152"
            ],
            [
             0.1,
             "#c51b7d"
            ],
            [
             0.2,
             "#de77ae"
            ],
            [
             0.3,
             "#f1b6da"
            ],
            [
             0.4,
             "#fde0ef"
            ],
            [
             0.5,
             "#f7f7f7"
            ],
            [
             0.6,
             "#e6f5d0"
            ],
            [
             0.7,
             "#b8e186"
            ],
            [
             0.8,
             "#7fbc41"
            ],
            [
             0.9,
             "#4d9221"
            ],
            [
             1,
             "#276419"
            ]
           ],
           "sequential": [
            [
             0,
             "#0d0887"
            ],
            [
             0.1111111111111111,
             "#46039f"
            ],
            [
             0.2222222222222222,
             "#7201a8"
            ],
            [
             0.3333333333333333,
             "#9c179e"
            ],
            [
             0.4444444444444444,
             "#bd3786"
            ],
            [
             0.5555555555555556,
             "#d8576b"
            ],
            [
             0.6666666666666666,
             "#ed7953"
            ],
            [
             0.7777777777777778,
             "#fb9f3a"
            ],
            [
             0.8888888888888888,
             "#fdca26"
            ],
            [
             1,
             "#f0f921"
            ]
           ],
           "sequentialminus": [
            [
             0,
             "#0d0887"
            ],
            [
             0.1111111111111111,
             "#46039f"
            ],
            [
             0.2222222222222222,
             "#7201a8"
            ],
            [
             0.3333333333333333,
             "#9c179e"
            ],
            [
             0.4444444444444444,
             "#bd3786"
            ],
            [
             0.5555555555555556,
             "#d8576b"
            ],
            [
             0.6666666666666666,
             "#ed7953"
            ],
            [
             0.7777777777777778,
             "#fb9f3a"
            ],
            [
             0.8888888888888888,
             "#fdca26"
            ],
            [
             1,
             "#f0f921"
            ]
           ]
          },
          "colorway": [
           "#636efa",
           "#EF553B",
           "#00cc96",
           "#ab63fa",
           "#FFA15A",
           "#19d3f3",
           "#FF6692",
           "#B6E880",
           "#FF97FF",
           "#FECB52"
          ],
          "font": {
           "color": "#2a3f5f"
          },
          "geo": {
           "bgcolor": "white",
           "lakecolor": "white",
           "landcolor": "white",
           "showlakes": true,
           "showland": true,
           "subunitcolor": "#C8D4E3"
          },
          "hoverlabel": {
           "align": "left"
          },
          "hovermode": "closest",
          "mapbox": {
           "style": "light"
          },
          "paper_bgcolor": "white",
          "plot_bgcolor": "white",
          "polar": {
           "angularaxis": {
            "gridcolor": "#EBF0F8",
            "linecolor": "#EBF0F8",
            "ticks": ""
           },
           "bgcolor": "white",
           "radialaxis": {
            "gridcolor": "#EBF0F8",
            "linecolor": "#EBF0F8",
            "ticks": ""
           }
          },
          "scene": {
           "xaxis": {
            "backgroundcolor": "white",
            "gridcolor": "#DFE8F3",
            "gridwidth": 2,
            "linecolor": "#EBF0F8",
            "showbackground": true,
            "ticks": "",
            "zerolinecolor": "#EBF0F8"
           },
           "yaxis": {
            "backgroundcolor": "white",
            "gridcolor": "#DFE8F3",
            "gridwidth": 2,
            "linecolor": "#EBF0F8",
            "showbackground": true,
            "ticks": "",
            "zerolinecolor": "#EBF0F8"
           },
           "zaxis": {
            "backgroundcolor": "white",
            "gridcolor": "#DFE8F3",
            "gridwidth": 2,
            "linecolor": "#EBF0F8",
            "showbackground": true,
            "ticks": "",
            "zerolinecolor": "#EBF0F8"
           }
          },
          "shapedefaults": {
           "line": {
            "color": "#2a3f5f"
           }
          },
          "ternary": {
           "aaxis": {
            "gridcolor": "#DFE8F3",
            "linecolor": "#A2B1C6",
            "ticks": ""
           },
           "baxis": {
            "gridcolor": "#DFE8F3",
            "linecolor": "#A2B1C6",
            "ticks": ""
           },
           "bgcolor": "white",
           "caxis": {
            "gridcolor": "#DFE8F3",
            "linecolor": "#A2B1C6",
            "ticks": ""
           }
          },
          "title": {
           "x": 0.05
          },
          "xaxis": {
           "automargin": true,
           "gridcolor": "#EBF0F8",
           "linecolor": "#EBF0F8",
           "ticks": "",
           "title": {
            "standoff": 15
           },
           "zerolinecolor": "#EBF0F8",
           "zerolinewidth": 2
          },
          "yaxis": {
           "automargin": true,
           "gridcolor": "#EBF0F8",
           "linecolor": "#EBF0F8",
           "ticks": "",
           "title": {
            "standoff": 15
           },
           "zerolinecolor": "#EBF0F8",
           "zerolinewidth": 2
          }
         }
        },
        "title": {
         "text": "Cross-Validation (N=5) Mean F1 score with Error Bands"
        },
        "xaxis": {
         "title": {
          "text": "Training Steps"
         }
        },
        "yaxis": {
         "range": [
          0.5,
          1
         ],
         "title": {
          "text": "Performance Score"
         }
        }
       }
      }
     },
     "metadata": {},
     "output_type": "display_data"
    },
    {
     "data": {
      "application/vnd.plotly.v1+json": {
       "config": {
        "plotlyServerURL": "https://plot.ly"
       },
       "data": [
        {
         "line": {
          "color": "blue"
         },
         "mode": "lines",
         "name": "Mean F1 Score",
         "type": "scatter",
         "x": {
          "bdata": "AAABAAIAAwAEAAUABgAHAAgACQAKAAsADAANAA4ADwAQABEAEgATABQAFQAWABcAGAAZABoAGwAcAB0AHgAfACAAIQAiACMAJAAlACYAJwAoACkAKgArACwALQAuAC8AMAAxADIAMwA0ADUANgA3ADgAOQA6ADsAPAA9AD4APwBAAEEAQgBDAEQARQBGAEcASABJAEoASwBMAE0ATgBPAFAAUQBSAFMAVABVAFYAVwBYAFkAWgBbAFwAXQBeAF8AYABhAGIAYwBkAGUAZgBnAGgAaQBqAGsAbABtAG4AbwBwAHEAcgBzAHQAdQB2AHcAeAB5AHoAewB8AH0AfgB/AIAAgQCCAIMAhACFAIYAhwCIAIkAigCLAIwAjQCOAI8AkACRAJIAkwCUAJUAlgCXAJgAmQCaAJsAnACdAJ4AnwCgAKEAogCjAKQApQCmAKcAqACpAKoAqwCsAK0ArgCvALAAsQCyALMAtAC1ALYAtwC4ALkAugC7ALwAvQC+AL8AwADBAMIAwwDEAMUAxgDHAMgAyQDKAMsAzADNAM4AzwDQANEA0gDTANQA1QDWANcA2ADZANoA2wDcAN0A3gDfAOAA4QDiAOMA5ADlAOYA5wDoAOkA6gDrAOwA7QDuAO8A8ADxAPIA8wD0APUA9gD3APgA+QD6APsA/AD9AP4A/wAAAQEB",
          "dtype": "i2"
         },
         "y": {
          "bdata": "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",
          "dtype": "f8"
         }
        },
        {
         "fill": "toself",
         "fillcolor": "rgba(0, 0, 255, 0.2)",
         "line": {
          "color": "rgba(255, 255, 255, 0)"
         },
         "showlegend": false,
         "type": "scatter",
         "x": {
          "bdata": "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",
          "dtype": "f8"
         },
         "y": {
          "bdata": "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",
          "dtype": "f8"
         }
        }
       ],
       "layout": {
        "template": {
         "data": {
          "bar": [
           {
            "error_x": {
             "color": "#2a3f5f"
            },
            "error_y": {
             "color": "#2a3f5f"
            },
            "marker": {
             "line": {
              "color": "white",
              "width": 0.5
             },
             "pattern": {
              "fillmode": "overlay",
              "size": 10,
              "solidity": 0.2
             }
            },
            "type": "bar"
           }
          ],
          "barpolar": [
           {
            "marker": {
             "line": {
              "color": "white",
              "width": 0.5
             },
             "pattern": {
              "fillmode": "overlay",
              "size": 10,
              "solidity": 0.2
             }
            },
            "type": "barpolar"
           }
          ],
          "carpet": [
           {
            "aaxis": {
             "endlinecolor": "#2a3f5f",
             "gridcolor": "#C8D4E3",
             "linecolor": "#C8D4E3",
             "minorgridcolor": "#C8D4E3",
             "startlinecolor": "#2a3f5f"
            },
            "baxis": {
             "endlinecolor": "#2a3f5f",
             "gridcolor": "#C8D4E3",
             "linecolor": "#C8D4E3",
             "minorgridcolor": "#C8D4E3",
             "startlinecolor": "#2a3f5f"
            },
            "type": "carpet"
           }
          ],
          "choropleth": [
           {
            "colorbar": {
             "outlinewidth": 0,
             "ticks": ""
            },
            "type": "choropleth"
           }
          ],
          "contour": [
           {
            "colorbar": {
             "outlinewidth": 0,
             "ticks": ""
            },
            "colorscale": [
             [
              0,
              "#0d0887"
             ],
             [
              0.1111111111111111,
              "#46039f"
             ],
             [
              0.2222222222222222,
              "#7201a8"
             ],
             [
              0.3333333333333333,
              "#9c179e"
             ],
             [
              0.4444444444444444,
              "#bd3786"
             ],
             [
              0.5555555555555556,
              "#d8576b"
             ],
             [
              0.6666666666666666,
              "#ed7953"
             ],
             [
              0.7777777777777778,
              "#fb9f3a"
             ],
             [
              0.8888888888888888,
              "#fdca26"
             ],
             [
              1,
              "#f0f921"
             ]
            ],
            "type": "contour"
           }
          ],
          "contourcarpet": [
           {
            "colorbar": {
             "outlinewidth": 0,
             "ticks": ""
            },
            "type": "contourcarpet"
           }
          ],
          "heatmap": [
           {
            "colorbar": {
             "outlinewidth": 0,
             "ticks": ""
            },
            "colorscale": [
             [
              0,
              "#0d0887"
             ],
             [
              0.1111111111111111,
              "#46039f"
             ],
             [
              0.2222222222222222,
              "#7201a8"
             ],
             [
              0.3333333333333333,
              "#9c179e"
             ],
             [
              0.4444444444444444,
              "#bd3786"
             ],
             [
              0.5555555555555556,
              "#d8576b"
             ],
             [
              0.6666666666666666,
              "#ed7953"
             ],
             [
              0.7777777777777778,
              "#fb9f3a"
             ],
             [
              0.8888888888888888,
              "#fdca26"
             ],
             [
              1,
              "#f0f921"
             ]
            ],
            "type": "heatmap"
           }
          ],
          "histogram": [
           {
            "marker": {
             "pattern": {
              "fillmode": "overlay",
              "size": 10,
              "solidity": 0.2
             }
            },
            "type": "histogram"
           }
          ],
          "histogram2d": [
           {
            "colorbar": {
             "outlinewidth": 0,
             "ticks": ""
            },
            "colorscale": [
             [
              0,
              "#0d0887"
             ],
             [
              0.1111111111111111,
              "#46039f"
             ],
             [
              0.2222222222222222,
              "#7201a8"
             ],
             [
              0.3333333333333333,
              "#9c179e"
             ],
             [
              0.4444444444444444,
              "#bd3786"
             ],
             [
              0.5555555555555556,
              "#d8576b"
             ],
             [
              0.6666666666666666,
              "#ed7953"
             ],
             [
              0.7777777777777778,
              "#fb9f3a"
             ],
             [
              0.8888888888888888,
              "#fdca26"
             ],
             [
              1,
              "#f0f921"
             ]
            ],
            "type": "histogram2d"
           }
          ],
          "histogram2dcontour": [
           {
            "colorbar": {
             "outlinewidth": 0,
             "ticks": ""
            },
            "colorscale": [
             [
              0,
              "#0d0887"
             ],
             [
              0.1111111111111111,
              "#46039f"
             ],
             [
              0.2222222222222222,
              "#7201a8"
             ],
             [
              0.3333333333333333,
              "#9c179e"
             ],
             [
              0.4444444444444444,
              "#bd3786"
             ],
             [
              0.5555555555555556,
              "#d8576b"
             ],
             [
              0.6666666666666666,
              "#ed7953"
             ],
             [
              0.7777777777777778,
              "#fb9f3a"
             ],
             [
              0.8888888888888888,
              "#fdca26"
             ],
             [
              1,
              "#f0f921"
             ]
            ],
            "type": "histogram2dcontour"
           }
          ],
          "mesh3d": [
           {
            "colorbar": {
             "outlinewidth": 0,
             "ticks": ""
            },
            "type": "mesh3d"
           }
          ],
          "parcoords": [
           {
            "line": {
             "colorbar": {
              "outlinewidth": 0,
              "ticks": ""
             }
            },
            "type": "parcoords"
           }
          ],
          "pie": [
           {
            "automargin": true,
            "type": "pie"
           }
          ],
          "scatter": [
           {
            "fillpattern": {
             "fillmode": "overlay",
             "size": 10,
             "solidity": 0.2
            },
            "type": "scatter"
           }
          ],
          "scatter3d": [
           {
            "line": {
             "colorbar": {
              "outlinewidth": 0,
              "ticks": ""
             }
            },
            "marker": {
             "colorbar": {
              "outlinewidth": 0,
              "ticks": ""
             }
            },
            "type": "scatter3d"
           }
          ],
          "scattercarpet": [
           {
            "marker": {
             "colorbar": {
              "outlinewidth": 0,
              "ticks": ""
             }
            },
            "type": "scattercarpet"
           }
          ],
          "scattergeo": [
           {
            "marker": {
             "colorbar": {
              "outlinewidth": 0,
              "ticks": ""
             }
            },
            "type": "scattergeo"
           }
          ],
          "scattergl": [
           {
            "marker": {
             "colorbar": {
              "outlinewidth": 0,
              "ticks": ""
             }
            },
            "type": "scattergl"
           }
          ],
          "scattermap": [
           {
            "marker": {
             "colorbar": {
              "outlinewidth": 0,
              "ticks": ""
             }
            },
            "type": "scattermap"
           }
          ],
          "scattermapbox": [
           {
            "marker": {
             "colorbar": {
              "outlinewidth": 0,
              "ticks": ""
             }
            },
            "type": "scattermapbox"
           }
          ],
          "scatterpolar": [
           {
            "marker": {
             "colorbar": {
              "outlinewidth": 0,
              "ticks": ""
             }
            },
            "type": "scatterpolar"
           }
          ],
          "scatterpolargl": [
           {
            "marker": {
             "colorbar": {
              "outlinewidth": 0,
              "ticks": ""
             }
            },
            "type": "scatterpolargl"
           }
          ],
          "scatterternary": [
           {
            "marker": {
             "colorbar": {
              "outlinewidth": 0,
              "ticks": ""
             }
            },
            "type": "scatterternary"
           }
          ],
          "surface": [
           {
            "colorbar": {
             "outlinewidth": 0,
             "ticks": ""
            },
            "colorscale": [
             [
              0,
              "#0d0887"
             ],
             [
              0.1111111111111111,
              "#46039f"
             ],
             [
              0.2222222222222222,
              "#7201a8"
             ],
             [
              0.3333333333333333,
              "#9c179e"
             ],
             [
              0.4444444444444444,
              "#bd3786"
             ],
             [
              0.5555555555555556,
              "#d8576b"
             ],
             [
              0.6666666666666666,
              "#ed7953"
             ],
             [
              0.7777777777777778,
              "#fb9f3a"
             ],
             [
              0.8888888888888888,
              "#fdca26"
             ],
             [
              1,
              "#f0f921"
             ]
            ],
            "type": "surface"
           }
          ],
          "table": [
           {
            "cells": {
             "fill": {
              "color": "#EBF0F8"
             },
             "line": {
              "color": "white"
             }
            },
            "header": {
             "fill": {
              "color": "#C8D4E3"
             },
             "line": {
              "color": "white"
             }
            },
            "type": "table"
           }
          ]
         },
         "layout": {
          "annotationdefaults": {
           "arrowcolor": "#2a3f5f",
           "arrowhead": 0,
           "arrowwidth": 1
          },
          "autotypenumbers": "strict",
          "coloraxis": {
           "colorbar": {
            "outlinewidth": 0,
            "ticks": ""
           }
          },
          "colorscale": {
           "diverging": [
            [
             0,
             "#8e0152"
            ],
            [
             0.1,
             "#c51b7d"
            ],
            [
             0.2,
             "#de77ae"
            ],
            [
             0.3,
             "#f1b6da"
            ],
            [
             0.4,
             "#fde0ef"
            ],
            [
             0.5,
             "#f7f7f7"
            ],
            [
             0.6,
             "#e6f5d0"
            ],
            [
             0.7,
             "#b8e186"
            ],
            [
             0.8,
             "#7fbc41"
            ],
            [
             0.9,
             "#4d9221"
            ],
            [
             1,
             "#276419"
            ]
           ],
           "sequential": [
            [
             0,
             "#0d0887"
            ],
            [
             0.1111111111111111,
             "#46039f"
            ],
            [
             0.2222222222222222,
             "#7201a8"
            ],
            [
             0.3333333333333333,
             "#9c179e"
            ],
            [
             0.4444444444444444,
             "#bd3786"
            ],
            [
             0.5555555555555556,
             "#d8576b"
            ],
            [
             0.6666666666666666,
             "#ed7953"
            ],
            [
             0.7777777777777778,
             "#fb9f3a"
            ],
            [
             0.8888888888888888,
             "#fdca26"
            ],
            [
             1,
             "#f0f921"
            ]
           ],
           "sequentialminus": [
            [
             0,
             "#0d0887"
            ],
            [
             0.1111111111111111,
             "#46039f"
            ],
            [
             0.2222222222222222,
             "#7201a8"
            ],
            [
             0.3333333333333333,
             "#9c179e"
            ],
            [
             0.4444444444444444,
             "#bd3786"
            ],
            [
             0.5555555555555556,
             "#d8576b"
            ],
            [
             0.6666666666666666,
             "#ed7953"
            ],
            [
             0.7777777777777778,
             "#fb9f3a"
            ],
            [
             0.8888888888888888,
             "#fdca26"
            ],
            [
             1,
             "#f0f921"
            ]
           ]
          },
          "colorway": [
           "#636efa",
           "#EF553B",
           "#00cc96",
           "#ab63fa",
           "#FFA15A",
           "#19d3f3",
           "#FF6692",
           "#B6E880",
           "#FF97FF",
           "#FECB52"
          ],
          "font": {
           "color": "#2a3f5f"
          },
          "geo": {
           "bgcolor": "white",
           "lakecolor": "white",
           "landcolor": "white",
           "showlakes": true,
           "showland": true,
           "subunitcolor": "#C8D4E3"
          },
          "hoverlabel": {
           "align": "left"
          },
          "hovermode": "closest",
          "mapbox": {
           "style": "light"
          },
          "paper_bgcolor": "white",
          "plot_bgcolor": "white",
          "polar": {
           "angularaxis": {
            "gridcolor": "#EBF0F8",
            "linecolor": "#EBF0F8",
            "ticks": ""
           },
           "bgcolor": "white",
           "radialaxis": {
            "gridcolor": "#EBF0F8",
            "linecolor": "#EBF0F8",
            "ticks": ""
           }
          },
          "scene": {
           "xaxis": {
            "backgroundcolor": "white",
            "gridcolor": "#DFE8F3",
            "gridwidth": 2,
            "linecolor": "#EBF0F8",
            "showbackground": true,
            "ticks": "",
            "zerolinecolor": "#EBF0F8"
           },
           "yaxis": {
            "backgroundcolor": "white",
            "gridcolor": "#DFE8F3",
            "gridwidth": 2,
            "linecolor": "#EBF0F8",
            "showbackground": true,
            "ticks": "",
            "zerolinecolor": "#EBF0F8"
           },
           "zaxis": {
            "backgroundcolor": "white",
            "gridcolor": "#DFE8F3",
            "gridwidth": 2,
            "linecolor": "#EBF0F8",
            "showbackground": true,
            "ticks": "",
            "zerolinecolor": "#EBF0F8"
           }
          },
          "shapedefaults": {
           "line": {
            "color": "#2a3f5f"
           }
          },
          "ternary": {
           "aaxis": {
            "gridcolor": "#DFE8F3",
            "linecolor": "#A2B1C6",
            "ticks": ""
           },
           "baxis": {
            "gridcolor": "#DFE8F3",
            "linecolor": "#A2B1C6",
            "ticks": ""
           },
           "bgcolor": "white",
           "caxis": {
            "gridcolor": "#DFE8F3",
            "linecolor": "#A2B1C6",
            "ticks": ""
           }
          },
          "title": {
           "x": 0.05
          },
          "xaxis": {
           "automargin": true,
           "gridcolor": "#EBF0F8",
           "linecolor": "#EBF0F8",
           "ticks": "",
           "title": {
            "standoff": 15
           },
           "zerolinecolor": "#EBF0F8",
           "zerolinewidth": 2
          },
          "yaxis": {
           "automargin": true,
           "gridcolor": "#EBF0F8",
           "linecolor": "#EBF0F8",
           "ticks": "",
           "title": {
            "standoff": 15
           },
           "zerolinecolor": "#EBF0F8",
           "zerolinewidth": 2
          }
         }
        },
        "title": {
         "text": "Cross-Validation (N=5) Mean F1 score with Error Bands"
        },
        "xaxis": {
         "title": {
          "text": "Training Steps"
         }
        },
        "yaxis": {
         "range": [
          0.5,
          1
         ],
         "title": {
          "text": "Performance Score"
         }
        }
       }
      }
     },
     "metadata": {},
     "output_type": "display_data"
    }
   ],
   "source": [
    "from ARISA_DSML.train import plot_error_scatter\n",
    "cv_results = pd.read_csv(cv_output_path)\n",
    "plot_error_scatter(\n",
    "    df_plot=cv_results, \n",
    "    name=\"Mean F1 Score\", \n",
    "    title=\"Cross-Validation (N=5) Mean F1 score with Error Bands\",\n",
    "    xtitle=\"Training Steps\",\n",
    "    ytitle=\"Performance Score\",\n",
    "    yaxis_range=[0.5, 1]\n",
    ")"
   ]
  },
  {
   "cell_type": "code",
   "execution_count": 11,
   "id": "63b1fda4",
   "metadata": {},
   "outputs": [
    {
     "data": {
      "application/vnd.plotly.v1+json": {
       "config": {
        "plotlyServerURL": "https://plot.ly"
       },
       "data": [
        {
         "line": {
          "color": "blue"
         },
         "mode": "lines",
         "name": "Mean logloss",
         "type": "scatter",
         "x": {
          "bdata": "AAABAAIAAwAEAAUABgAHAAgACQAKAAsADAANAA4ADwAQABEAEgATABQAFQAWABcAGAAZABoAGwAcAB0AHgAfACAAIQAiACMAJAAlACYAJwAoACkAKgArACwALQAuAC8AMAAxADIAMwA0ADUANgA3ADgAOQA6ADsAPAA9AD4APwBAAEEAQgBDAEQARQBGAEcASABJAEoASwBMAE0ATgBPAFAAUQBSAFMAVABVAFYAVwBYAFkAWgBbAFwAXQBeAF8AYABhAGIAYwBkAGUAZgBnAGgAaQBqAGsAbABtAG4AbwBwAHEAcgBzAHQAdQB2AHcAeAB5AHoAewB8AH0AfgB/AIAAgQCCAIMAhACFAIYAhwCIAIkAigCLAIwAjQCOAI8AkACRAJIAkwCUAJUAlgCXAJgAmQCaAJsAnACdAJ4AnwCgAKEAogCjAKQApQCmAKcAqACpAKoAqwCsAK0ArgCvALAAsQCyALMAtAC1ALYAtwC4ALkAugC7ALwAvQC+AL8AwADBAMIAwwDEAMUAxgDHAMgAyQDKAMsAzADNAM4AzwDQANEA0gDTANQA1QDWANcA2ADZANoA2wDcAN0A3gDfAOAA4QDiAOMA5ADlAOYA5wDoAOkA6gDrAOwA7QDuAO8A8ADxAPIA8wD0APUA9gD3APgA+QD6APsA/AD9AP4A/wAAAQEB",
          "dtype": "i2"
         },
         "y": {
          "bdata": "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",
          "dtype": "f8"
         }
        },
        {
         "fill": "toself",
         "fillcolor": "rgba(0, 0, 255, 0.2)",
         "line": {
          "color": "rgba(255, 255, 255, 0)"
         },
         "showlegend": false,
         "type": "scatter",
         "x": {
          "bdata": "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",
          "dtype": "f8"
         },
         "y": {
          "bdata": "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",
          "dtype": "f8"
         }
        }
       ],
       "layout": {
        "template": {
         "data": {
          "bar": [
           {
            "error_x": {
             "color": "#2a3f5f"
            },
            "error_y": {
             "color": "#2a3f5f"
            },
            "marker": {
             "line": {
              "color": "white",
              "width": 0.5
             },
             "pattern": {
              "fillmode": "overlay",
              "size": 10,
              "solidity": 0.2
             }
            },
            "type": "bar"
           }
          ],
          "barpolar": [
           {
            "marker": {
             "line": {
              "color": "white",
              "width": 0.5
             },
             "pattern": {
              "fillmode": "overlay",
              "size": 10,
              "solidity": 0.2
             }
            },
            "type": "barpolar"
           }
          ],
          "carpet": [
           {
            "aaxis": {
             "endlinecolor": "#2a3f5f",
             "gridcolor": "#C8D4E3",
             "linecolor": "#C8D4E3",
             "minorgridcolor": "#C8D4E3",
             "startlinecolor": "#2a3f5f"
            },
            "baxis": {
             "endlinecolor": "#2a3f5f",
             "gridcolor": "#C8D4E3",
             "linecolor": "#C8D4E3",
             "minorgridcolor": "#C8D4E3",
             "startlinecolor": "#2a3f5f"
            },
            "type": "carpet"
           }
          ],
          "choropleth": [
           {
            "colorbar": {
             "outlinewidth": 0,
             "ticks": ""
            },
            "type": "choropleth"
           }
          ],
          "contour": [
           {
            "colorbar": {
             "outlinewidth": 0,
             "ticks": ""
            },
            "colorscale": [
             [
              0,
              "#0d0887"
             ],
             [
              0.1111111111111111,
              "#46039f"
             ],
             [
              0.2222222222222222,
              "#7201a8"
             ],
             [
              0.3333333333333333,
              "#9c179e"
             ],
             [
              0.4444444444444444,
              "#bd3786"
             ],
             [
              0.5555555555555556,
              "#d8576b"
             ],
             [
              0.6666666666666666,
              "#ed7953"
             ],
             [
              0.7777777777777778,
              "#fb9f3a"
             ],
             [
              0.8888888888888888,
              "#fdca26"
             ],
             [
              1,
              "#f0f921"
             ]
            ],
            "type": "contour"
           }
          ],
          "contourcarpet": [
           {
            "colorbar": {
             "outlinewidth": 0,
             "ticks": ""
            },
            "type": "contourcarpet"
           }
          ],
          "heatmap": [
           {
            "colorbar": {
             "outlinewidth": 0,
             "ticks": ""
            },
            "colorscale": [
             [
              0,
              "#0d0887"
             ],
             [
              0.1111111111111111,
              "#46039f"
             ],
             [
              0.2222222222222222,
              "#7201a8"
             ],
             [
              0.3333333333333333,
              "#9c179e"
             ],
             [
              0.4444444444444444,
              "#bd3786"
             ],
             [
              0.5555555555555556,
              "#d8576b"
             ],
             [
              0.6666666666666666,
              "#ed7953"
             ],
             [
              0.7777777777777778,
              "#fb9f3a"
             ],
             [
              0.8888888888888888,
              "#fdca26"
             ],
             [
              1,
              "#f0f921"
             ]
            ],
            "type": "heatmap"
           }
          ],
          "histogram": [
           {
            "marker": {
             "pattern": {
              "fillmode": "overlay",
              "size": 10,
              "solidity": 0.2
             }
            },
            "type": "histogram"
           }
          ],
          "histogram2d": [
           {
            "colorbar": {
             "outlinewidth": 0,
             "ticks": ""
            },
            "colorscale": [
             [
              0,
              "#0d0887"
             ],
             [
              0.1111111111111111,
              "#46039f"
             ],
             [
              0.2222222222222222,
              "#7201a8"
             ],
             [
              0.3333333333333333,
              "#9c179e"
             ],
             [
              0.4444444444444444,
              "#bd3786"
             ],
             [
              0.5555555555555556,
              "#d8576b"
             ],
             [
              0.6666666666666666,
              "#ed7953"
             ],
             [
              0.7777777777777778,
              "#fb9f3a"
             ],
             [
              0.8888888888888888,
              "#fdca26"
             ],
             [
              1,
              "#f0f921"
             ]
            ],
            "type": "histogram2d"
           }
          ],
          "histogram2dcontour": [
           {
            "colorbar": {
             "outlinewidth": 0,
             "ticks": ""
            },
            "colorscale": [
             [
              0,
              "#0d0887"
             ],
             [
              0.1111111111111111,
              "#46039f"
             ],
             [
              0.2222222222222222,
              "#7201a8"
             ],
             [
              0.3333333333333333,
              "#9c179e"
             ],
             [
              0.4444444444444444,
              "#bd3786"
             ],
             [
              0.5555555555555556,
              "#d8576b"
             ],
             [
              0.6666666666666666,
              "#ed7953"
             ],
             [
              0.7777777777777778,
              "#fb9f3a"
             ],
             [
              0.8888888888888888,
              "#fdca26"
             ],
             [
              1,
              "#f0f921"
             ]
            ],
            "type": "histogram2dcontour"
           }
          ],
          "mesh3d": [
           {
            "colorbar": {
             "outlinewidth": 0,
             "ticks": ""
            },
            "type": "mesh3d"
           }
          ],
          "parcoords": [
           {
            "line": {
             "colorbar": {
              "outlinewidth": 0,
              "ticks": ""
             }
            },
            "type": "parcoords"
           }
          ],
          "pie": [
           {
            "automargin": true,
            "type": "pie"
           }
          ],
          "scatter": [
           {
            "fillpattern": {
             "fillmode": "overlay",
             "size": 10,
             "solidity": 0.2
            },
            "type": "scatter"
           }
          ],
          "scatter3d": [
           {
            "line": {
             "colorbar": {
              "outlinewidth": 0,
              "ticks": ""
             }
            },
            "marker": {
             "colorbar": {
              "outlinewidth": 0,
              "ticks": ""
             }
            },
            "type": "scatter3d"
           }
          ],
          "scattercarpet": [
           {
            "marker": {
             "colorbar": {
              "outlinewidth": 0,
              "ticks": ""
             }
            },
            "type": "scattercarpet"
           }
          ],
          "scattergeo": [
           {
            "marker": {
             "colorbar": {
              "outlinewidth": 0,
              "ticks": ""
             }
            },
            "type": "scattergeo"
           }
          ],
          "scattergl": [
           {
            "marker": {
             "colorbar": {
              "outlinewidth": 0,
              "ticks": ""
             }
            },
            "type": "scattergl"
           }
          ],
          "scattermap": [
           {
            "marker": {
             "colorbar": {
              "outlinewidth": 0,
              "ticks": ""
             }
            },
            "type": "scattermap"
           }
          ],
          "scattermapbox": [
           {
            "marker": {
             "colorbar": {
              "outlinewidth": 0,
              "ticks": ""
             }
            },
            "type": "scattermapbox"
           }
          ],
          "scatterpolar": [
           {
            "marker": {
             "colorbar": {
              "outlinewidth": 0,
              "ticks": ""
             }
            },
            "type": "scatterpolar"
           }
          ],
          "scatterpolargl": [
           {
            "marker": {
             "colorbar": {
              "outlinewidth": 0,
              "ticks": ""
             }
            },
            "type": "scatterpolargl"
           }
          ],
          "scatterternary": [
           {
            "marker": {
             "colorbar": {
              "outlinewidth": 0,
              "ticks": ""
             }
            },
            "type": "scatterternary"
           }
          ],
          "surface": [
           {
            "colorbar": {
             "outlinewidth": 0,
             "ticks": ""
            },
            "colorscale": [
             [
              0,
              "#0d0887"
             ],
             [
              0.1111111111111111,
              "#46039f"
             ],
             [
              0.2222222222222222,
              "#7201a8"
             ],
             [
              0.3333333333333333,
              "#9c179e"
             ],
             [
              0.4444444444444444,
              "#bd3786"
             ],
             [
              0.5555555555555556,
              "#d8576b"
             ],
             [
              0.6666666666666666,
              "#ed7953"
             ],
             [
              0.7777777777777778,
              "#fb9f3a"
             ],
             [
              0.8888888888888888,
              "#fdca26"
             ],
             [
              1,
              "#f0f921"
             ]
            ],
            "type": "surface"
           }
          ],
          "table": [
           {
            "cells": {
             "fill": {
              "color": "#EBF0F8"
             },
             "line": {
              "color": "white"
             }
            },
            "header": {
             "fill": {
              "color": "#C8D4E3"
             },
             "line": {
              "color": "white"
             }
            },
            "type": "table"
           }
          ]
         },
         "layout": {
          "annotationdefaults": {
           "arrowcolor": "#2a3f5f",
           "arrowhead": 0,
           "arrowwidth": 1
          },
          "autotypenumbers": "strict",
          "coloraxis": {
           "colorbar": {
            "outlinewidth": 0,
            "ticks": ""
           }
          },
          "colorscale": {
           "diverging": [
            [
             0,
             "#8e0152"
            ],
            [
             0.1,
             "#c51b7d"
            ],
            [
             0.2,
             "#de77ae"
            ],
            [
             0.3,
             "#f1b6da"
            ],
            [
             0.4,
             "#fde0ef"
            ],
            [
             0.5,
             "#f7f7f7"
            ],
            [
             0.6,
             "#e6f5d0"
            ],
            [
             0.7,
             "#b8e186"
            ],
            [
             0.8,
             "#7fbc41"
            ],
            [
             0.9,
             "#4d9221"
            ],
            [
             1,
             "#276419"
            ]
           ],
           "sequential": [
            [
             0,
             "#0d0887"
            ],
            [
             0.1111111111111111,
             "#46039f"
            ],
            [
             0.2222222222222222,
             "#7201a8"
            ],
            [
             0.3333333333333333,
             "#9c179e"
            ],
            [
             0.4444444444444444,
             "#bd3786"
            ],
            [
             0.5555555555555556,
             "#d8576b"
            ],
            [
             0.6666666666666666,
             "#ed7953"
            ],
            [
             0.7777777777777778,
             "#fb9f3a"
            ],
            [
             0.8888888888888888,
             "#fdca26"
            ],
            [
             1,
             "#f0f921"
            ]
           ],
           "sequentialminus": [
            [
             0,
             "#0d0887"
            ],
            [
             0.1111111111111111,
             "#46039f"
            ],
            [
             0.2222222222222222,
             "#7201a8"
            ],
            [
             0.3333333333333333,
             "#9c179e"
            ],
            [
             0.4444444444444444,
             "#bd3786"
            ],
            [
             0.5555555555555556,
             "#d8576b"
            ],
            [
             0.6666666666666666,
             "#ed7953"
            ],
            [
             0.7777777777777778,
             "#fb9f3a"
            ],
            [
             0.8888888888888888,
             "#fdca26"
            ],
            [
             1,
             "#f0f921"
            ]
           ]
          },
          "colorway": [
           "#636efa",
           "#EF553B",
           "#00cc96",
           "#ab63fa",
           "#FFA15A",
           "#19d3f3",
           "#FF6692",
           "#B6E880",
           "#FF97FF",
           "#FECB52"
          ],
          "font": {
           "color": "#2a3f5f"
          },
          "geo": {
           "bgcolor": "white",
           "lakecolor": "white",
           "landcolor": "white",
           "showlakes": true,
           "showland": true,
           "subunitcolor": "#C8D4E3"
          },
          "hoverlabel": {
           "align": "left"
          },
          "hovermode": "closest",
          "mapbox": {
           "style": "light"
          },
          "paper_bgcolor": "white",
          "plot_bgcolor": "white",
          "polar": {
           "angularaxis": {
            "gridcolor": "#EBF0F8",
            "linecolor": "#EBF0F8",
            "ticks": ""
           },
           "bgcolor": "white",
           "radialaxis": {
            "gridcolor": "#EBF0F8",
            "linecolor": "#EBF0F8",
            "ticks": ""
           }
          },
          "scene": {
           "xaxis": {
            "backgroundcolor": "white",
            "gridcolor": "#DFE8F3",
            "gridwidth": 2,
            "linecolor": "#EBF0F8",
            "showbackground": true,
            "ticks": "",
            "zerolinecolor": "#EBF0F8"
           },
           "yaxis": {
            "backgroundcolor": "white",
            "gridcolor": "#DFE8F3",
            "gridwidth": 2,
            "linecolor": "#EBF0F8",
            "showbackground": true,
            "ticks": "",
            "zerolinecolor": "#EBF0F8"
           },
           "zaxis": {
            "backgroundcolor": "white",
            "gridcolor": "#DFE8F3",
            "gridwidth": 2,
            "linecolor": "#EBF0F8",
            "showbackground": true,
            "ticks": "",
            "zerolinecolor": "#EBF0F8"
           }
          },
          "shapedefaults": {
           "line": {
            "color": "#2a3f5f"
           }
          },
          "ternary": {
           "aaxis": {
            "gridcolor": "#DFE8F3",
            "linecolor": "#A2B1C6",
            "ticks": ""
           },
           "baxis": {
            "gridcolor": "#DFE8F3",
            "linecolor": "#A2B1C6",
            "ticks": ""
           },
           "bgcolor": "white",
           "caxis": {
            "gridcolor": "#DFE8F3",
            "linecolor": "#A2B1C6",
            "ticks": ""
           }
          },
          "title": {
           "x": 0.05
          },
          "xaxis": {
           "automargin": true,
           "gridcolor": "#EBF0F8",
           "linecolor": "#EBF0F8",
           "ticks": "",
           "title": {
            "standoff": 15
           },
           "zerolinecolor": "#EBF0F8",
           "zerolinewidth": 2
          },
          "yaxis": {
           "automargin": true,
           "gridcolor": "#EBF0F8",
           "linecolor": "#EBF0F8",
           "ticks": "",
           "title": {
            "standoff": 15
           },
           "zerolinecolor": "#EBF0F8",
           "zerolinewidth": 2
          }
         }
        },
        "title": {
         "text": "Cross-Validation (N=5) Mean Logloss with Error Bands"
        },
        "xaxis": {
         "title": {
          "text": "Training Steps"
         }
        },
        "yaxis": {
         "title": {
          "text": "Logloss"
         }
        }
       }
      }
     },
     "metadata": {},
     "output_type": "display_data"
    },
    {
     "data": {
      "application/vnd.plotly.v1+json": {
       "config": {
        "plotlyServerURL": "https://plot.ly"
       },
       "data": [
        {
         "line": {
          "color": "blue"
         },
         "mode": "lines",
         "name": "Mean logloss",
         "type": "scatter",
         "x": {
          "bdata": "AAABAAIAAwAEAAUABgAHAAgACQAKAAsADAANAA4ADwAQABEAEgATABQAFQAWABcAGAAZABoAGwAcAB0AHgAfACAAIQAiACMAJAAlACYAJwAoACkAKgArACwALQAuAC8AMAAxADIAMwA0ADUANgA3ADgAOQA6ADsAPAA9AD4APwBAAEEAQgBDAEQARQBGAEcASABJAEoASwBMAE0ATgBPAFAAUQBSAFMAVABVAFYAVwBYAFkAWgBbAFwAXQBeAF8AYABhAGIAYwBkAGUAZgBnAGgAaQBqAGsAbABtAG4AbwBwAHEAcgBzAHQAdQB2AHcAeAB5AHoAewB8AH0AfgB/AIAAgQCCAIMAhACFAIYAhwCIAIkAigCLAIwAjQCOAI8AkACRAJIAkwCUAJUAlgCXAJgAmQCaAJsAnACdAJ4AnwCgAKEAogCjAKQApQCmAKcAqACpAKoAqwCsAK0ArgCvALAAsQCyALMAtAC1ALYAtwC4ALkAugC7ALwAvQC+AL8AwADBAMIAwwDEAMUAxgDHAMgAyQDKAMsAzADNAM4AzwDQANEA0gDTANQA1QDWANcA2ADZANoA2wDcAN0A3gDfAOAA4QDiAOMA5ADlAOYA5wDoAOkA6gDrAOwA7QDuAO8A8ADxAPIA8wD0APUA9gD3APgA+QD6APsA/AD9AP4A/wAAAQEB",
          "dtype": "i2"
         },
         "y": {
          "bdata": "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",
          "dtype": "f8"
         }
        },
        {
         "fill": "toself",
         "fillcolor": "rgba(0, 0, 255, 0.2)",
         "line": {
          "color": "rgba(255, 255, 255, 0)"
         },
         "showlegend": false,
         "type": "scatter",
         "x": {
          "bdata": "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",
          "dtype": "f8"
         },
         "y": {
          "bdata": "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",
          "dtype": "f8"
         }
        }
       ],
       "layout": {
        "template": {
         "data": {
          "bar": [
           {
            "error_x": {
             "color": "#2a3f5f"
            },
            "error_y": {
             "color": "#2a3f5f"
            },
            "marker": {
             "line": {
              "color": "white",
              "width": 0.5
             },
             "pattern": {
              "fillmode": "overlay",
              "size": 10,
              "solidity": 0.2
             }
            },
            "type": "bar"
           }
          ],
          "barpolar": [
           {
            "marker": {
             "line": {
              "color": "white",
              "width": 0.5
             },
             "pattern": {
              "fillmode": "overlay",
              "size": 10,
              "solidity": 0.2
             }
            },
            "type": "barpolar"
           }
          ],
          "carpet": [
           {
            "aaxis": {
             "endlinecolor": "#2a3f5f",
             "gridcolor": "#C8D4E3",
             "linecolor": "#C8D4E3",
             "minorgridcolor": "#C8D4E3",
             "startlinecolor": "#2a3f5f"
            },
            "baxis": {
             "endlinecolor": "#2a3f5f",
             "gridcolor": "#C8D4E3",
             "linecolor": "#C8D4E3",
             "minorgridcolor": "#C8D4E3",
             "startlinecolor": "#2a3f5f"
            },
            "type": "carpet"
           }
          ],
          "choropleth": [
           {
            "colorbar": {
             "outlinewidth": 0,
             "ticks": ""
            },
            "type": "choropleth"
           }
          ],
          "contour": [
           {
            "colorbar": {
             "outlinewidth": 0,
             "ticks": ""
            },
            "colorscale": [
             [
              0,
              "#0d0887"
             ],
             [
              0.1111111111111111,
              "#46039f"
             ],
             [
              0.2222222222222222,
              "#7201a8"
             ],
             [
              0.3333333333333333,
              "#9c179e"
             ],
             [
              0.4444444444444444,
              "#bd3786"
             ],
             [
              0.5555555555555556,
              "#d8576b"
             ],
             [
              0.6666666666666666,
              "#ed7953"
             ],
             [
              0.7777777777777778,
              "#fb9f3a"
             ],
             [
              0.8888888888888888,
              "#fdca26"
             ],
             [
              1,
              "#f0f921"
             ]
            ],
            "type": "contour"
           }
          ],
          "contourcarpet": [
           {
            "colorbar": {
             "outlinewidth": 0,
             "ticks": ""
            },
            "type": "contourcarpet"
           }
          ],
          "heatmap": [
           {
            "colorbar": {
             "outlinewidth": 0,
             "ticks": ""
            },
            "colorscale": [
             [
              0,
              "#0d0887"
             ],
             [
              0.1111111111111111,
              "#46039f"
             ],
             [
              0.2222222222222222,
              "#7201a8"
             ],
             [
              0.3333333333333333,
              "#9c179e"
             ],
             [
              0.4444444444444444,
              "#bd3786"
             ],
             [
              0.5555555555555556,
              "#d8576b"
             ],
             [
              0.6666666666666666,
              "#ed7953"
             ],
             [
              0.7777777777777778,
              "#fb9f3a"
             ],
             [
              0.8888888888888888,
              "#fdca26"
             ],
             [
              1,
              "#f0f921"
             ]
            ],
            "type": "heatmap"
           }
          ],
          "histogram": [
           {
            "marker": {
             "pattern": {
              "fillmode": "overlay",
              "size": 10,
              "solidity": 0.2
             }
            },
            "type": "histogram"
           }
          ],
          "histogram2d": [
           {
            "colorbar": {
             "outlinewidth": 0,
             "ticks": ""
            },
            "colorscale": [
             [
              0,
              "#0d0887"
             ],
             [
              0.1111111111111111,
              "#46039f"
             ],
             [
              0.2222222222222222,
              "#7201a8"
             ],
             [
              0.3333333333333333,
              "#9c179e"
             ],
             [
              0.4444444444444444,
              "#bd3786"
             ],
             [
              0.5555555555555556,
              "#d8576b"
             ],
             [
              0.6666666666666666,
              "#ed7953"
             ],
             [
              0.7777777777777778,
              "#fb9f3a"
             ],
             [
              0.8888888888888888,
              "#fdca26"
             ],
             [
              1,
              "#f0f921"
             ]
            ],
            "type": "histogram2d"
           }
          ],
          "histogram2dcontour": [
           {
            "colorbar": {
             "outlinewidth": 0,
             "ticks": ""
            },
            "colorscale": [
             [
              0,
              "#0d0887"
             ],
             [
              0.1111111111111111,
              "#46039f"
             ],
             [
              0.2222222222222222,
              "#7201a8"
             ],
             [
              0.3333333333333333,
              "#9c179e"
             ],
             [
              0.4444444444444444,
              "#bd3786"
             ],
             [
              0.5555555555555556,
              "#d8576b"
             ],
             [
              0.6666666666666666,
              "#ed7953"
             ],
             [
              0.7777777777777778,
              "#fb9f3a"
             ],
             [
              0.8888888888888888,
              "#fdca26"
             ],
             [
              1,
              "#f0f921"
             ]
            ],
            "type": "histogram2dcontour"
           }
          ],
          "mesh3d": [
           {
            "colorbar": {
             "outlinewidth": 0,
             "ticks": ""
            },
            "type": "mesh3d"
           }
          ],
          "parcoords": [
           {
            "line": {
             "colorbar": {
              "outlinewidth": 0,
              "ticks": ""
             }
            },
            "type": "parcoords"
           }
          ],
          "pie": [
           {
            "automargin": true,
            "type": "pie"
           }
          ],
          "scatter": [
           {
            "fillpattern": {
             "fillmode": "overlay",
             "size": 10,
             "solidity": 0.2
            },
            "type": "scatter"
           }
          ],
          "scatter3d": [
           {
            "line": {
             "colorbar": {
              "outlinewidth": 0,
              "ticks": ""
             }
            },
            "marker": {
             "colorbar": {
              "outlinewidth": 0,
              "ticks": ""
             }
            },
            "type": "scatter3d"
           }
          ],
          "scattercarpet": [
           {
            "marker": {
             "colorbar": {
              "outlinewidth": 0,
              "ticks": ""
             }
            },
            "type": "scattercarpet"
           }
          ],
          "scattergeo": [
           {
            "marker": {
             "colorbar": {
              "outlinewidth": 0,
              "ticks": ""
             }
            },
            "type": "scattergeo"
           }
          ],
          "scattergl": [
           {
            "marker": {
             "colorbar": {
              "outlinewidth": 0,
              "ticks": ""
             }
            },
            "type": "scattergl"
           }
          ],
          "scattermap": [
           {
            "marker": {
             "colorbar": {
              "outlinewidth": 0,
              "ticks": ""
             }
            },
            "type": "scattermap"
           }
          ],
          "scattermapbox": [
           {
            "marker": {
             "colorbar": {
              "outlinewidth": 0,
              "ticks": ""
             }
            },
            "type": "scattermapbox"
           }
          ],
          "scatterpolar": [
           {
            "marker": {
             "colorbar": {
              "outlinewidth": 0,
              "ticks": ""
             }
            },
            "type": "scatterpolar"
           }
          ],
          "scatterpolargl": [
           {
            "marker": {
             "colorbar": {
              "outlinewidth": 0,
              "ticks": ""
             }
            },
            "type": "scatterpolargl"
           }
          ],
          "scatterternary": [
           {
            "marker": {
             "colorbar": {
              "outlinewidth": 0,
              "ticks": ""
             }
            },
            "type": "scatterternary"
           }
          ],
          "surface": [
           {
            "colorbar": {
             "outlinewidth": 0,
             "ticks": ""
            },
            "colorscale": [
             [
              0,
              "#0d0887"
             ],
             [
              0.1111111111111111,
              "#46039f"
             ],
             [
              0.2222222222222222,
              "#7201a8"
             ],
             [
              0.3333333333333333,
              "#9c179e"
             ],
             [
              0.4444444444444444,
              "#bd3786"
             ],
             [
              0.5555555555555556,
              "#d8576b"
             ],
             [
              0.6666666666666666,
              "#ed7953"
             ],
             [
              0.7777777777777778,
              "#fb9f3a"
             ],
             [
              0.8888888888888888,
              "#fdca26"
             ],
             [
              1,
              "#f0f921"
             ]
            ],
            "type": "surface"
           }
          ],
          "table": [
           {
            "cells": {
             "fill": {
              "color": "#EBF0F8"
             },
             "line": {
              "color": "white"
             }
            },
            "header": {
             "fill": {
              "color": "#C8D4E3"
             },
             "line": {
              "color": "white"
             }
            },
            "type": "table"
           }
          ]
         },
         "layout": {
          "annotationdefaults": {
           "arrowcolor": "#2a3f5f",
           "arrowhead": 0,
           "arrowwidth": 1
          },
          "autotypenumbers": "strict",
          "coloraxis": {
           "colorbar": {
            "outlinewidth": 0,
            "ticks": ""
           }
          },
          "colorscale": {
           "diverging": [
            [
             0,
             "#8e0152"
            ],
            [
             0.1,
             "#c51b7d"
            ],
            [
             0.2,
             "#de77ae"
            ],
            [
             0.3,
             "#f1b6da"
            ],
            [
             0.4,
             "#fde0ef"
            ],
            [
             0.5,
             "#f7f7f7"
            ],
            [
             0.6,
             "#e6f5d0"
            ],
            [
             0.7,
             "#b8e186"
            ],
            [
             0.8,
             "#7fbc41"
            ],
            [
             0.9,
             "#4d9221"
            ],
            [
             1,
             "#276419"
            ]
           ],
           "sequential": [
            [
             0,
             "#0d0887"
            ],
            [
             0.1111111111111111,
             "#46039f"
            ],
            [
             0.2222222222222222,
             "#7201a8"
            ],
            [
             0.3333333333333333,
             "#9c179e"
            ],
            [
             0.4444444444444444,
             "#bd3786"
            ],
            [
             0.5555555555555556,
             "#d8576b"
            ],
            [
             0.6666666666666666,
             "#ed7953"
            ],
            [
             0.7777777777777778,
             "#fb9f3a"
            ],
            [
             0.8888888888888888,
             "#fdca26"
            ],
            [
             1,
             "#f0f921"
            ]
           ],
           "sequentialminus": [
            [
             0,
             "#0d0887"
            ],
            [
             0.1111111111111111,
             "#46039f"
            ],
            [
             0.2222222222222222,
             "#7201a8"
            ],
            [
             0.3333333333333333,
             "#9c179e"
            ],
            [
             0.4444444444444444,
             "#bd3786"
            ],
            [
             0.5555555555555556,
             "#d8576b"
            ],
            [
             0.6666666666666666,
             "#ed7953"
            ],
            [
             0.7777777777777778,
             "#fb9f3a"
            ],
            [
             0.8888888888888888,
             "#fdca26"
            ],
            [
             1,
             "#f0f921"
            ]
           ]
          },
          "colorway": [
           "#636efa",
           "#EF553B",
           "#00cc96",
           "#ab63fa",
           "#FFA15A",
           "#19d3f3",
           "#FF6692",
           "#B6E880",
           "#FF97FF",
           "#FECB52"
          ],
          "font": {
           "color": "#2a3f5f"
          },
          "geo": {
           "bgcolor": "white",
           "lakecolor": "white",
           "landcolor": "white",
           "showlakes": true,
           "showland": true,
           "subunitcolor": "#C8D4E3"
          },
          "hoverlabel": {
           "align": "left"
          },
          "hovermode": "closest",
          "mapbox": {
           "style": "light"
          },
          "paper_bgcolor": "white",
          "plot_bgcolor": "white",
          "polar": {
           "angularaxis": {
            "gridcolor": "#EBF0F8",
            "linecolor": "#EBF0F8",
            "ticks": ""
           },
           "bgcolor": "white",
           "radialaxis": {
            "gridcolor": "#EBF0F8",
            "linecolor": "#EBF0F8",
            "ticks": ""
           }
          },
          "scene": {
           "xaxis": {
            "backgroundcolor": "white",
            "gridcolor": "#DFE8F3",
            "gridwidth": 2,
            "linecolor": "#EBF0F8",
            "showbackground": true,
            "ticks": "",
            "zerolinecolor": "#EBF0F8"
           },
           "yaxis": {
            "backgroundcolor": "white",
            "gridcolor": "#DFE8F3",
            "gridwidth": 2,
            "linecolor": "#EBF0F8",
            "showbackground": true,
            "ticks": "",
            "zerolinecolor": "#EBF0F8"
           },
           "zaxis": {
            "backgroundcolor": "white",
            "gridcolor": "#DFE8F3",
            "gridwidth": 2,
            "linecolor": "#EBF0F8",
            "showbackground": true,
            "ticks": "",
            "zerolinecolor": "#EBF0F8"
           }
          },
          "shapedefaults": {
           "line": {
            "color": "#2a3f5f"
           }
          },
          "ternary": {
           "aaxis": {
            "gridcolor": "#DFE8F3",
            "linecolor": "#A2B1C6",
            "ticks": ""
           },
           "baxis": {
            "gridcolor": "#DFE8F3",
            "linecolor": "#A2B1C6",
            "ticks": ""
           },
           "bgcolor": "white",
           "caxis": {
            "gridcolor": "#DFE8F3",
            "linecolor": "#A2B1C6",
            "ticks": ""
           }
          },
          "title": {
           "x": 0.05
          },
          "xaxis": {
           "automargin": true,
           "gridcolor": "#EBF0F8",
           "linecolor": "#EBF0F8",
           "ticks": "",
           "title": {
            "standoff": 15
           },
           "zerolinecolor": "#EBF0F8",
           "zerolinewidth": 2
          },
          "yaxis": {
           "automargin": true,
           "gridcolor": "#EBF0F8",
           "linecolor": "#EBF0F8",
           "ticks": "",
           "title": {
            "standoff": 15
           },
           "zerolinecolor": "#EBF0F8",
           "zerolinewidth": 2
          }
         }
        },
        "title": {
         "text": "Cross-Validation (N=5) Mean Logloss with Error Bands"
        },
        "xaxis": {
         "title": {
          "text": "Training Steps"
         }
        },
        "yaxis": {
         "title": {
          "text": "Logloss"
         }
        }
       }
      }
     },
     "metadata": {},
     "output_type": "display_data"
    }
   ],
   "source": [
    "plot_error_scatter(\n",
    "    cv_results,\n",
    "    x=\"iterations\",\n",
    "    y=\"test-Logloss-mean\",\n",
    "    err=\"test-Logloss-std\",\n",
    "    name=\"Mean logloss\",\n",
    "    title=\"Cross-Validation (N=5) Mean Logloss with Error Bands\",\n",
    "    xtitle=\"Training Steps\",\n",
    "    ytitle=\"Logloss\",\n",
    ")"
   ]
  },
  {
   "cell_type": "code",
   "execution_count": 12,
   "id": "e233563e",
   "metadata": {},
   "outputs": [
    {
     "data": {
      "application/vnd.jupyter.widget-view+json": {
       "model_id": "f5d73d3e5b1641729dba2e00efbbcad7",
       "version_major": 2,
       "version_minor": 0
      },
      "text/plain": [
       "MetricVisualizer(layout=Layout(align_self='stretch', height='500px'))"
      ]
     },
     "metadata": {},
     "output_type": "display_data"
    },
    {
     "name": "stdout",
     "output_type": "stream",
     "text": [
      "0:\tlearn: 0.5199944\ttotal: 1.37ms\tremaining: 353ms\n",
      "50:\tlearn: 0.1805511\ttotal: 68ms\tremaining: 276ms\n",
      "100:\tlearn: 0.1305037\ttotal: 123ms\tremaining: 191ms\n",
      "150:\tlearn: 0.0889627\ttotal: 178ms\tremaining: 126ms\n",
      "200:\tlearn: 0.0715030\ttotal: 232ms\tremaining: 65.9ms\n",
      "250:\tlearn: 0.0568648\ttotal: 288ms\tremaining: 8.03ms\n",
      "257:\tlearn: 0.0563161\ttotal: 295ms\tremaining: 0us\n"
     ]
    },
    {
     "data": {
      "application/vnd.plotly.v1+json": {
       "config": {
        "plotlyServerURL": "https://plot.ly"
       },
       "data": [
        {
         "line": {
          "color": "blue"
         },
         "mode": "lines",
         "name": "Mean F1 Score",
         "type": "scatter",
         "x": {
          "bdata": "AAABAAIAAwAEAAUABgAHAAgACQAKAAsADAANAA4ADwAQABEAEgATABQAFQAWABcAGAAZABoAGwAcAB0AHgAfACAAIQAiACMAJAAlACYAJwAoACkAKgArACwALQAuAC8AMAAxADIAMwA0ADUANgA3ADgAOQA6ADsAPAA9AD4APwBAAEEAQgBDAEQARQBGAEcASABJAEoASwBMAE0ATgBPAFAAUQBSAFMAVABVAFYAVwBYAFkAWgBbAFwAXQBeAF8AYABhAGIAYwBkAGUAZgBnAGgAaQBqAGsAbABtAG4AbwBwAHEAcgBzAHQAdQB2AHcAeAB5AHoAewB8AH0AfgB/AIAAgQCCAIMAhACFAIYAhwCIAIkAigCLAIwAjQCOAI8AkACRAJIAkwCUAJUAlgCXAJgAmQCaAJsAnACdAJ4AnwCgAKEAogCjAKQApQCmAKcAqACpAKoAqwCsAK0ArgCvALAAsQCyALMAtAC1ALYAtwC4ALkAugC7ALwAvQC+AL8AwADBAMIAwwDEAMUAxgDHAMgAyQDKAMsAzADNAM4AzwDQANEA0gDTANQA1QDWANcA2ADZANoA2wDcAN0A3gDfAOAA4QDiAOMA5ADlAOYA5wDoAOkA6gDrAOwA7QDuAO8A8ADxAPIA8wD0APUA9gD3APgA+QD6APsA/AD9AP4A/wAAAQEB",
          "dtype": "i2"
         },
         "y": {
          "bdata": "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",
          "dtype": "f8"
         }
        },
        {
         "fill": "toself",
         "fillcolor": "rgba(0, 0, 255, 0.2)",
         "line": {
          "color": "rgba(255, 255, 255, 0)"
         },
         "showlegend": false,
         "type": "scatter",
         "x": {
          "bdata": "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",
          "dtype": "f8"
         },
         "y": {
          "bdata": "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",
          "dtype": "f8"
         }
        }
       ],
       "layout": {
        "template": {
         "data": {
          "bar": [
           {
            "error_x": {
             "color": "#2a3f5f"
            },
            "error_y": {
             "color": "#2a3f5f"
            },
            "marker": {
             "line": {
              "color": "white",
              "width": 0.5
             },
             "pattern": {
              "fillmode": "overlay",
              "size": 10,
              "solidity": 0.2
             }
            },
            "type": "bar"
           }
          ],
          "barpolar": [
           {
            "marker": {
             "line": {
              "color": "white",
              "width": 0.5
             },
             "pattern": {
              "fillmode": "overlay",
              "size": 10,
              "solidity": 0.2
             }
            },
            "type": "barpolar"
           }
          ],
          "carpet": [
           {
            "aaxis": {
             "endlinecolor": "#2a3f5f",
             "gridcolor": "#C8D4E3",
             "linecolor": "#C8D4E3",
             "minorgridcolor": "#C8D4E3",
             "startlinecolor": "#2a3f5f"
            },
            "baxis": {
             "endlinecolor": "#2a3f5f",
             "gridcolor": "#C8D4E3",
             "linecolor": "#C8D4E3",
             "minorgridcolor": "#C8D4E3",
             "startlinecolor": "#2a3f5f"
            },
            "type": "carpet"
           }
          ],
          "choropleth": [
           {
            "colorbar": {
             "outlinewidth": 0,
             "ticks": ""
            },
            "type": "choropleth"
           }
          ],
          "contour": [
           {
            "colorbar": {
             "outlinewidth": 0,
             "ticks": ""
            },
            "colorscale": [
             [
              0,
              "#0d0887"
             ],
             [
              0.1111111111111111,
              "#46039f"
             ],
             [
              0.2222222222222222,
              "#7201a8"
             ],
             [
              0.3333333333333333,
              "#9c179e"
             ],
             [
              0.4444444444444444,
              "#bd3786"
             ],
             [
              0.5555555555555556,
              "#d8576b"
             ],
             [
              0.6666666666666666,
              "#ed7953"
             ],
             [
              0.7777777777777778,
              "#fb9f3a"
             ],
             [
              0.8888888888888888,
              "#fdca26"
             ],
             [
              1,
              "#f0f921"
             ]
            ],
            "type": "contour"
           }
          ],
          "contourcarpet": [
           {
            "colorbar": {
             "outlinewidth": 0,
             "ticks": ""
            },
            "type": "contourcarpet"
           }
          ],
          "heatmap": [
           {
            "colorbar": {
             "outlinewidth": 0,
             "ticks": ""
            },
            "colorscale": [
             [
              0,
              "#0d0887"
             ],
             [
              0.1111111111111111,
              "#46039f"
             ],
             [
              0.2222222222222222,
              "#7201a8"
             ],
             [
              0.3333333333333333,
              "#9c179e"
             ],
             [
              0.4444444444444444,
              "#bd3786"
             ],
             [
              0.5555555555555556,
              "#d8576b"
             ],
             [
              0.6666666666666666,
              "#ed7953"
             ],
             [
              0.7777777777777778,
              "#fb9f3a"
             ],
             [
              0.8888888888888888,
              "#fdca26"
             ],
             [
              1,
              "#f0f921"
             ]
            ],
            "type": "heatmap"
           }
          ],
          "histogram": [
           {
            "marker": {
             "pattern": {
              "fillmode": "overlay",
              "size": 10,
              "solidity": 0.2
             }
            },
            "type": "histogram"
           }
          ],
          "histogram2d": [
           {
            "colorbar": {
             "outlinewidth": 0,
             "ticks": ""
            },
            "colorscale": [
             [
              0,
              "#0d0887"
             ],
             [
              0.1111111111111111,
              "#46039f"
             ],
             [
              0.2222222222222222,
              "#7201a8"
             ],
             [
              0.3333333333333333,
              "#9c179e"
             ],
             [
              0.4444444444444444,
              "#bd3786"
             ],
             [
              0.5555555555555556,
              "#d8576b"
             ],
             [
              0.6666666666666666,
              "#ed7953"
             ],
             [
              0.7777777777777778,
              "#fb9f3a"
             ],
             [
              0.8888888888888888,
              "#fdca26"
             ],
             [
              1,
              "#f0f921"
             ]
            ],
            "type": "histogram2d"
           }
          ],
          "histogram2dcontour": [
           {
            "colorbar": {
             "outlinewidth": 0,
             "ticks": ""
            },
            "colorscale": [
             [
              0,
              "#0d0887"
             ],
             [
              0.1111111111111111,
              "#46039f"
             ],
             [
              0.2222222222222222,
              "#7201a8"
             ],
             [
              0.3333333333333333,
              "#9c179e"
             ],
             [
              0.4444444444444444,
              "#bd3786"
             ],
             [
              0.5555555555555556,
              "#d8576b"
             ],
             [
              0.6666666666666666,
              "#ed7953"
             ],
             [
              0.7777777777777778,
              "#fb9f3a"
             ],
             [
              0.8888888888888888,
              "#fdca26"
             ],
             [
              1,
              "#f0f921"
             ]
            ],
            "type": "histogram2dcontour"
           }
          ],
          "mesh3d": [
           {
            "colorbar": {
             "outlinewidth": 0,
             "ticks": ""
            },
            "type": "mesh3d"
           }
          ],
          "parcoords": [
           {
            "line": {
             "colorbar": {
              "outlinewidth": 0,
              "ticks": ""
             }
            },
            "type": "parcoords"
           }
          ],
          "pie": [
           {
            "automargin": true,
            "type": "pie"
           }
          ],
          "scatter": [
           {
            "fillpattern": {
             "fillmode": "overlay",
             "size": 10,
             "solidity": 0.2
            },
            "type": "scatter"
           }
          ],
          "scatter3d": [
           {
            "line": {
             "colorbar": {
              "outlinewidth": 0,
              "ticks": ""
             }
            },
            "marker": {
             "colorbar": {
              "outlinewidth": 0,
              "ticks": ""
             }
            },
            "type": "scatter3d"
           }
          ],
          "scattercarpet": [
           {
            "marker": {
             "colorbar": {
              "outlinewidth": 0,
              "ticks": ""
             }
            },
            "type": "scattercarpet"
           }
          ],
          "scattergeo": [
           {
            "marker": {
             "colorbar": {
              "outlinewidth": 0,
              "ticks": ""
             }
            },
            "type": "scattergeo"
           }
          ],
          "scattergl": [
           {
            "marker": {
             "colorbar": {
              "outlinewidth": 0,
              "ticks": ""
             }
            },
            "type": "scattergl"
           }
          ],
          "scattermap": [
           {
            "marker": {
             "colorbar": {
              "outlinewidth": 0,
              "ticks": ""
             }
            },
            "type": "scattermap"
           }
          ],
          "scattermapbox": [
           {
            "marker": {
             "colorbar": {
              "outlinewidth": 0,
              "ticks": ""
             }
            },
            "type": "scattermapbox"
           }
          ],
          "scatterpolar": [
           {
            "marker": {
             "colorbar": {
              "outlinewidth": 0,
              "ticks": ""
             }
            },
            "type": "scatterpolar"
           }
          ],
          "scatterpolargl": [
           {
            "marker": {
             "colorbar": {
              "outlinewidth": 0,
              "ticks": ""
             }
            },
            "type": "scatterpolargl"
           }
          ],
          "scatterternary": [
           {
            "marker": {
             "colorbar": {
              "outlinewidth": 0,
              "ticks": ""
             }
            },
            "type": "scatterternary"
           }
          ],
          "surface": [
           {
            "colorbar": {
             "outlinewidth": 0,
             "ticks": ""
            },
            "colorscale": [
             [
              0,
              "#0d0887"
             ],
             [
              0.1111111111111111,
              "#46039f"
             ],
             [
              0.2222222222222222,
              "#7201a8"
             ],
             [
              0.3333333333333333,
              "#9c179e"
             ],
             [
              0.4444444444444444,
              "#bd3786"
             ],
             [
              0.5555555555555556,
              "#d8576b"
             ],
             [
              0.6666666666666666,
              "#ed7953"
             ],
             [
              0.7777777777777778,
              "#fb9f3a"
             ],
             [
              0.8888888888888888,
              "#fdca26"
             ],
             [
              1,
              "#f0f921"
             ]
            ],
            "type": "surface"
           }
          ],
          "table": [
           {
            "cells": {
             "fill": {
              "color": "#EBF0F8"
             },
             "line": {
              "color": "white"
             }
            },
            "header": {
             "fill": {
              "color": "#C8D4E3"
             },
             "line": {
              "color": "white"
             }
            },
            "type": "table"
           }
          ]
         },
         "layout": {
          "annotationdefaults": {
           "arrowcolor": "#2a3f5f",
           "arrowhead": 0,
           "arrowwidth": 1
          },
          "autotypenumbers": "strict",
          "coloraxis": {
           "colorbar": {
            "outlinewidth": 0,
            "ticks": ""
           }
          },
          "colorscale": {
           "diverging": [
            [
             0,
             "#8e0152"
            ],
            [
             0.1,
             "#c51b7d"
            ],
            [
             0.2,
             "#de77ae"
            ],
            [
             0.3,
             "#f1b6da"
            ],
            [
             0.4,
             "#fde0ef"
            ],
            [
             0.5,
             "#f7f7f7"
            ],
            [
             0.6,
             "#e6f5d0"
            ],
            [
             0.7,
             "#b8e186"
            ],
            [
             0.8,
             "#7fbc41"
            ],
            [
             0.9,
             "#4d9221"
            ],
            [
             1,
             "#276419"
            ]
           ],
           "sequential": [
            [
             0,
             "#0d0887"
            ],
            [
             0.1111111111111111,
             "#46039f"
            ],
            [
             0.2222222222222222,
             "#7201a8"
            ],
            [
             0.3333333333333333,
             "#9c179e"
            ],
            [
             0.4444444444444444,
             "#bd3786"
            ],
            [
             0.5555555555555556,
             "#d8576b"
            ],
            [
             0.6666666666666666,
             "#ed7953"
            ],
            [
             0.7777777777777778,
             "#fb9f3a"
            ],
            [
             0.8888888888888888,
             "#fdca26"
            ],
            [
             1,
             "#f0f921"
            ]
           ],
           "sequentialminus": [
            [
             0,
             "#0d0887"
            ],
            [
             0.1111111111111111,
             "#46039f"
            ],
            [
             0.2222222222222222,
             "#7201a8"
            ],
            [
             0.3333333333333333,
             "#9c179e"
            ],
            [
             0.4444444444444444,
             "#bd3786"
            ],
            [
             0.5555555555555556,
             "#d8576b"
            ],
            [
             0.6666666666666666,
             "#ed7953"
            ],
            [
             0.7777777777777778,
             "#fb9f3a"
            ],
            [
             0.8888888888888888,
             "#fdca26"
            ],
            [
             1,
             "#f0f921"
            ]
           ]
          },
          "colorway": [
           "#636efa",
           "#EF553B",
           "#00cc96",
           "#ab63fa",
           "#FFA15A",
           "#19d3f3",
           "#FF6692",
           "#B6E880",
           "#FF97FF",
           "#FECB52"
          ],
          "font": {
           "color": "#2a3f5f"
          },
          "geo": {
           "bgcolor": "white",
           "lakecolor": "white",
           "landcolor": "white",
           "showlakes": true,
           "showland": true,
           "subunitcolor": "#C8D4E3"
          },
          "hoverlabel": {
           "align": "left"
          },
          "hovermode": "closest",
          "mapbox": {
           "style": "light"
          },
          "paper_bgcolor": "white",
          "plot_bgcolor": "white",
          "polar": {
           "angularaxis": {
            "gridcolor": "#EBF0F8",
            "linecolor": "#EBF0F8",
            "ticks": ""
           },
           "bgcolor": "white",
           "radialaxis": {
            "gridcolor": "#EBF0F8",
            "linecolor": "#EBF0F8",
            "ticks": ""
           }
          },
          "scene": {
           "xaxis": {
            "backgroundcolor": "white",
            "gridcolor": "#DFE8F3",
            "gridwidth": 2,
            "linecolor": "#EBF0F8",
            "showbackground": true,
            "ticks": "",
            "zerolinecolor": "#EBF0F8"
           },
           "yaxis": {
            "backgroundcolor": "white",
            "gridcolor": "#DFE8F3",
            "gridwidth": 2,
            "linecolor": "#EBF0F8",
            "showbackground": true,
            "ticks": "",
            "zerolinecolor": "#EBF0F8"
           },
           "zaxis": {
            "backgroundcolor": "white",
            "gridcolor": "#DFE8F3",
            "gridwidth": 2,
            "linecolor": "#EBF0F8",
            "showbackground": true,
            "ticks": "",
            "zerolinecolor": "#EBF0F8"
           }
          },
          "shapedefaults": {
           "line": {
            "color": "#2a3f5f"
           }
          },
          "ternary": {
           "aaxis": {
            "gridcolor": "#DFE8F3",
            "linecolor": "#A2B1C6",
            "ticks": ""
           },
           "baxis": {
            "gridcolor": "#DFE8F3",
            "linecolor": "#A2B1C6",
            "ticks": ""
           },
           "bgcolor": "white",
           "caxis": {
            "gridcolor": "#DFE8F3",
            "linecolor": "#A2B1C6",
            "ticks": ""
           }
          },
          "title": {
           "x": 0.05
          },
          "xaxis": {
           "automargin": true,
           "gridcolor": "#EBF0F8",
           "linecolor": "#EBF0F8",
           "ticks": "",
           "title": {
            "standoff": 15
           },
           "zerolinecolor": "#EBF0F8",
           "zerolinewidth": 2
          },
          "yaxis": {
           "automargin": true,
           "gridcolor": "#EBF0F8",
           "linecolor": "#EBF0F8",
           "ticks": "",
           "title": {
            "standoff": 15
           },
           "zerolinecolor": "#EBF0F8",
           "zerolinewidth": 2
          }
         }
        },
        "title": {
         "text": "Cross-Validation (N=5) Mean F1 score with Error Bands"
        },
        "xaxis": {
         "title": {
          "text": "Training Steps"
         }
        },
        "yaxis": {
         "range": [
          0.5,
          1
         ],
         "title": {
          "text": "Performance Score"
         }
        }
       }
      }
     },
     "metadata": {},
     "output_type": "display_data"
    },
    {
     "data": {
      "application/vnd.plotly.v1+json": {
       "config": {
        "plotlyServerURL": "https://plot.ly"
       },
       "data": [
        {
         "line": {
          "color": "blue"
         },
         "mode": "lines",
         "name": "Mean logloss",
         "type": "scatter",
         "x": {
          "bdata": "AAABAAIAAwAEAAUABgAHAAgACQAKAAsADAANAA4ADwAQABEAEgATABQAFQAWABcAGAAZABoAGwAcAB0AHgAfACAAIQAiACMAJAAlACYAJwAoACkAKgArACwALQAuAC8AMAAxADIAMwA0ADUANgA3ADgAOQA6ADsAPAA9AD4APwBAAEEAQgBDAEQARQBGAEcASABJAEoASwBMAE0ATgBPAFAAUQBSAFMAVABVAFYAVwBYAFkAWgBbAFwAXQBeAF8AYABhAGIAYwBkAGUAZgBnAGgAaQBqAGsAbABtAG4AbwBwAHEAcgBzAHQAdQB2AHcAeAB5AHoAewB8AH0AfgB/AIAAgQCCAIMAhACFAIYAhwCIAIkAigCLAIwAjQCOAI8AkACRAJIAkwCUAJUAlgCXAJgAmQCaAJsAnACdAJ4AnwCgAKEAogCjAKQApQCmAKcAqACpAKoAqwCsAK0ArgCvALAAsQCyALMAtAC1ALYAtwC4ALkAugC7ALwAvQC+AL8AwADBAMIAwwDEAMUAxgDHAMgAyQDKAMsAzADNAM4AzwDQANEA0gDTANQA1QDWANcA2ADZANoA2wDcAN0A3gDfAOAA4QDiAOMA5ADlAOYA5wDoAOkA6gDrAOwA7QDuAO8A8ADxAPIA8wD0APUA9gD3APgA+QD6APsA/AD9AP4A/wAAAQEB",
          "dtype": "i2"
         },
         "y": {
          "bdata": "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",
          "dtype": "f8"
         }
        },
        {
         "fill": "toself",
         "fillcolor": "rgba(0, 0, 255, 0.2)",
         "line": {
          "color": "rgba(255, 255, 255, 0)"
         },
         "showlegend": false,
         "type": "scatter",
         "x": {
          "bdata": "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",
          "dtype": "f8"
         },
         "y": {
          "bdata": "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",
          "dtype": "f8"
         }
        }
       ],
       "layout": {
        "template": {
         "data": {
          "bar": [
           {
            "error_x": {
             "color": "#2a3f5f"
            },
            "error_y": {
             "color": "#2a3f5f"
            },
            "marker": {
             "line": {
              "color": "white",
              "width": 0.5
             },
             "pattern": {
              "fillmode": "overlay",
              "size": 10,
              "solidity": 0.2
             }
            },
            "type": "bar"
           }
          ],
          "barpolar": [
           {
            "marker": {
             "line": {
              "color": "white",
              "width": 0.5
             },
             "pattern": {
              "fillmode": "overlay",
              "size": 10,
              "solidity": 0.2
             }
            },
            "type": "barpolar"
           }
          ],
          "carpet": [
           {
            "aaxis": {
             "endlinecolor": "#2a3f5f",
             "gridcolor": "#C8D4E3",
             "linecolor": "#C8D4E3",
             "minorgridcolor": "#C8D4E3",
             "startlinecolor": "#2a3f5f"
            },
            "baxis": {
             "endlinecolor": "#2a3f5f",
             "gridcolor": "#C8D4E3",
             "linecolor": "#C8D4E3",
             "minorgridcolor": "#C8D4E3",
             "startlinecolor": "#2a3f5f"
            },
            "type": "carpet"
           }
          ],
          "choropleth": [
           {
            "colorbar": {
             "outlinewidth": 0,
             "ticks": ""
            },
            "type": "choropleth"
           }
          ],
          "contour": [
           {
            "colorbar": {
             "outlinewidth": 0,
             "ticks": ""
            },
            "colorscale": [
             [
              0,
              "#0d0887"
             ],
             [
              0.1111111111111111,
              "#46039f"
             ],
             [
              0.2222222222222222,
              "#7201a8"
             ],
             [
              0.3333333333333333,
              "#9c179e"
             ],
             [
              0.4444444444444444,
              "#bd3786"
             ],
             [
              0.5555555555555556,
              "#d8576b"
             ],
             [
              0.6666666666666666,
              "#ed7953"
             ],
             [
              0.7777777777777778,
              "#fb9f3a"
             ],
             [
              0.8888888888888888,
              "#fdca26"
             ],
             [
              1,
              "#f0f921"
             ]
            ],
            "type": "contour"
           }
          ],
          "contourcarpet": [
           {
            "colorbar": {
             "outlinewidth": 0,
             "ticks": ""
            },
            "type": "contourcarpet"
           }
          ],
          "heatmap": [
           {
            "colorbar": {
             "outlinewidth": 0,
             "ticks": ""
            },
            "colorscale": [
             [
              0,
              "#0d0887"
             ],
             [
              0.1111111111111111,
              "#46039f"
             ],
             [
              0.2222222222222222,
              "#7201a8"
             ],
             [
              0.3333333333333333,
              "#9c179e"
             ],
             [
              0.4444444444444444,
              "#bd3786"
             ],
             [
              0.5555555555555556,
              "#d8576b"
             ],
             [
              0.6666666666666666,
              "#ed7953"
             ],
             [
              0.7777777777777778,
              "#fb9f3a"
             ],
             [
              0.8888888888888888,
              "#fdca26"
             ],
             [
              1,
              "#f0f921"
             ]
            ],
            "type": "heatmap"
           }
          ],
          "histogram": [
           {
            "marker": {
             "pattern": {
              "fillmode": "overlay",
              "size": 10,
              "solidity": 0.2
             }
            },
            "type": "histogram"
           }
          ],
          "histogram2d": [
           {
            "colorbar": {
             "outlinewidth": 0,
             "ticks": ""
            },
            "colorscale": [
             [
              0,
              "#0d0887"
             ],
             [
              0.1111111111111111,
              "#46039f"
             ],
             [
              0.2222222222222222,
              "#7201a8"
             ],
             [
              0.3333333333333333,
              "#9c179e"
             ],
             [
              0.4444444444444444,
              "#bd3786"
             ],
             [
              0.5555555555555556,
              "#d8576b"
             ],
             [
              0.6666666666666666,
              "#ed7953"
             ],
             [
              0.7777777777777778,
              "#fb9f3a"
             ],
             [
              0.8888888888888888,
              "#fdca26"
             ],
             [
              1,
              "#f0f921"
             ]
            ],
            "type": "histogram2d"
           }
          ],
          "histogram2dcontour": [
           {
            "colorbar": {
             "outlinewidth": 0,
             "ticks": ""
            },
            "colorscale": [
             [
              0,
              "#0d0887"
             ],
             [
              0.1111111111111111,
              "#46039f"
             ],
             [
              0.2222222222222222,
              "#7201a8"
             ],
             [
              0.3333333333333333,
              "#9c179e"
             ],
             [
              0.4444444444444444,
              "#bd3786"
             ],
             [
              0.5555555555555556,
              "#d8576b"
             ],
             [
              0.6666666666666666,
              "#ed7953"
             ],
             [
              0.7777777777777778,
              "#fb9f3a"
             ],
             [
              0.8888888888888888,
              "#fdca26"
             ],
             [
              1,
              "#f0f921"
             ]
            ],
            "type": "histogram2dcontour"
           }
          ],
          "mesh3d": [
           {
            "colorbar": {
             "outlinewidth": 0,
             "ticks": ""
            },
            "type": "mesh3d"
           }
          ],
          "parcoords": [
           {
            "line": {
             "colorbar": {
              "outlinewidth": 0,
              "ticks": ""
             }
            },
            "type": "parcoords"
           }
          ],
          "pie": [
           {
            "automargin": true,
            "type": "pie"
           }
          ],
          "scatter": [
           {
            "fillpattern": {
             "fillmode": "overlay",
             "size": 10,
             "solidity": 0.2
            },
            "type": "scatter"
           }
          ],
          "scatter3d": [
           {
            "line": {
             "colorbar": {
              "outlinewidth": 0,
              "ticks": ""
             }
            },
            "marker": {
             "colorbar": {
              "outlinewidth": 0,
              "ticks": ""
             }
            },
            "type": "scatter3d"
           }
          ],
          "scattercarpet": [
           {
            "marker": {
             "colorbar": {
              "outlinewidth": 0,
              "ticks": ""
             }
            },
            "type": "scattercarpet"
           }
          ],
          "scattergeo": [
           {
            "marker": {
             "colorbar": {
              "outlinewidth": 0,
              "ticks": ""
             }
            },
            "type": "scattergeo"
           }
          ],
          "scattergl": [
           {
            "marker": {
             "colorbar": {
              "outlinewidth": 0,
              "ticks": ""
             }
            },
            "type": "scattergl"
           }
          ],
          "scattermap": [
           {
            "marker": {
             "colorbar": {
              "outlinewidth": 0,
              "ticks": ""
             }
            },
            "type": "scattermap"
           }
          ],
          "scattermapbox": [
           {
            "marker": {
             "colorbar": {
              "outlinewidth": 0,
              "ticks": ""
             }
            },
            "type": "scattermapbox"
           }
          ],
          "scatterpolar": [
           {
            "marker": {
             "colorbar": {
              "outlinewidth": 0,
              "ticks": ""
             }
            },
            "type": "scatterpolar"
           }
          ],
          "scatterpolargl": [
           {
            "marker": {
             "colorbar": {
              "outlinewidth": 0,
              "ticks": ""
             }
            },
            "type": "scatterpolargl"
           }
          ],
          "scatterternary": [
           {
            "marker": {
             "colorbar": {
              "outlinewidth": 0,
              "ticks": ""
             }
            },
            "type": "scatterternary"
           }
          ],
          "surface": [
           {
            "colorbar": {
             "outlinewidth": 0,
             "ticks": ""
            },
            "colorscale": [
             [
              0,
              "#0d0887"
             ],
             [
              0.1111111111111111,
              "#46039f"
             ],
             [
              0.2222222222222222,
              "#7201a8"
             ],
             [
              0.3333333333333333,
              "#9c179e"
             ],
             [
              0.4444444444444444,
              "#bd3786"
             ],
             [
              0.5555555555555556,
              "#d8576b"
             ],
             [
              0.6666666666666666,
              "#ed7953"
             ],
             [
              0.7777777777777778,
              "#fb9f3a"
             ],
             [
              0.8888888888888888,
              "#fdca26"
             ],
             [
              1,
              "#f0f921"
             ]
            ],
            "type": "surface"
           }
          ],
          "table": [
           {
            "cells": {
             "fill": {
              "color": "#EBF0F8"
             },
             "line": {
              "color": "white"
             }
            },
            "header": {
             "fill": {
              "color": "#C8D4E3"
             },
             "line": {
              "color": "white"
             }
            },
            "type": "table"
           }
          ]
         },
         "layout": {
          "annotationdefaults": {
           "arrowcolor": "#2a3f5f",
           "arrowhead": 0,
           "arrowwidth": 1
          },
          "autotypenumbers": "strict",
          "coloraxis": {
           "colorbar": {
            "outlinewidth": 0,
            "ticks": ""
           }
          },
          "colorscale": {
           "diverging": [
            [
             0,
             "#8e0152"
            ],
            [
             0.1,
             "#c51b7d"
            ],
            [
             0.2,
             "#de77ae"
            ],
            [
             0.3,
             "#f1b6da"
            ],
            [
             0.4,
             "#fde0ef"
            ],
            [
             0.5,
             "#f7f7f7"
            ],
            [
             0.6,
             "#e6f5d0"
            ],
            [
             0.7,
             "#b8e186"
            ],
            [
             0.8,
             "#7fbc41"
            ],
            [
             0.9,
             "#4d9221"
            ],
            [
             1,
             "#276419"
            ]
           ],
           "sequential": [
            [
             0,
             "#0d0887"
            ],
            [
             0.1111111111111111,
             "#46039f"
            ],
            [
             0.2222222222222222,
             "#7201a8"
            ],
            [
             0.3333333333333333,
             "#9c179e"
            ],
            [
             0.4444444444444444,
             "#bd3786"
            ],
            [
             0.5555555555555556,
             "#d8576b"
            ],
            [
             0.6666666666666666,
             "#ed7953"
            ],
            [
             0.7777777777777778,
             "#fb9f3a"
            ],
            [
             0.8888888888888888,
             "#fdca26"
            ],
            [
             1,
             "#f0f921"
            ]
           ],
           "sequentialminus": [
            [
             0,
             "#0d0887"
            ],
            [
             0.1111111111111111,
             "#46039f"
            ],
            [
             0.2222222222222222,
             "#7201a8"
            ],
            [
             0.3333333333333333,
             "#9c179e"
            ],
            [
             0.4444444444444444,
             "#bd3786"
            ],
            [
             0.5555555555555556,
             "#d8576b"
            ],
            [
             0.6666666666666666,
             "#ed7953"
            ],
            [
             0.7777777777777778,
             "#fb9f3a"
            ],
            [
             0.8888888888888888,
             "#fdca26"
            ],
            [
             1,
             "#f0f921"
            ]
           ]
          },
          "colorway": [
           "#636efa",
           "#EF553B",
           "#00cc96",
           "#ab63fa",
           "#FFA15A",
           "#19d3f3",
           "#FF6692",
           "#B6E880",
           "#FF97FF",
           "#FECB52"
          ],
          "font": {
           "color": "#2a3f5f"
          },
          "geo": {
           "bgcolor": "white",
           "lakecolor": "white",
           "landcolor": "white",
           "showlakes": true,
           "showland": true,
           "subunitcolor": "#C8D4E3"
          },
          "hoverlabel": {
           "align": "left"
          },
          "hovermode": "closest",
          "mapbox": {
           "style": "light"
          },
          "paper_bgcolor": "white",
          "plot_bgcolor": "white",
          "polar": {
           "angularaxis": {
            "gridcolor": "#EBF0F8",
            "linecolor": "#EBF0F8",
            "ticks": ""
           },
           "bgcolor": "white",
           "radialaxis": {
            "gridcolor": "#EBF0F8",
            "linecolor": "#EBF0F8",
            "ticks": ""
           }
          },
          "scene": {
           "xaxis": {
            "backgroundcolor": "white",
            "gridcolor": "#DFE8F3",
            "gridwidth": 2,
            "linecolor": "#EBF0F8",
            "showbackground": true,
            "ticks": "",
            "zerolinecolor": "#EBF0F8"
           },
           "yaxis": {
            "backgroundcolor": "white",
            "gridcolor": "#DFE8F3",
            "gridwidth": 2,
            "linecolor": "#EBF0F8",
            "showbackground": true,
            "ticks": "",
            "zerolinecolor": "#EBF0F8"
           },
           "zaxis": {
            "backgroundcolor": "white",
            "gridcolor": "#DFE8F3",
            "gridwidth": 2,
            "linecolor": "#EBF0F8",
            "showbackground": true,
            "ticks": "",
            "zerolinecolor": "#EBF0F8"
           }
          },
          "shapedefaults": {
           "line": {
            "color": "#2a3f5f"
           }
          },
          "ternary": {
           "aaxis": {
            "gridcolor": "#DFE8F3",
            "linecolor": "#A2B1C6",
            "ticks": ""
           },
           "baxis": {
            "gridcolor": "#DFE8F3",
            "linecolor": "#A2B1C6",
            "ticks": ""
           },
           "bgcolor": "white",
           "caxis": {
            "gridcolor": "#DFE8F3",
            "linecolor": "#A2B1C6",
            "ticks": ""
           }
          },
          "title": {
           "x": 0.05
          },
          "xaxis": {
           "automargin": true,
           "gridcolor": "#EBF0F8",
           "linecolor": "#EBF0F8",
           "ticks": "",
           "title": {
            "standoff": 15
           },
           "zerolinecolor": "#EBF0F8",
           "zerolinewidth": 2
          },
          "yaxis": {
           "automargin": true,
           "gridcolor": "#EBF0F8",
           "linecolor": "#EBF0F8",
           "ticks": "",
           "title": {
            "standoff": 15
           },
           "zerolinecolor": "#EBF0F8",
           "zerolinewidth": 2
          }
         }
        },
        "title": {
         "text": "Cross-Validation (N=5) Mean Logloss with Error Bands"
        },
        "xaxis": {
         "title": {
          "text": "Training Steps"
         }
        },
        "yaxis": {
         "title": {
          "text": "Logloss"
         }
        }
       }
      }
     },
     "metadata": {},
     "output_type": "display_data"
    },
    {
     "name": "stderr",
     "output_type": "stream",
     "text": [
      "c:\\Users\\Wojciech\\AppData\\Local\\Programs\\Python\\Python311\\Lib\\site-packages\\mlflow\\types\\utils.py:394: UserWarning:\n",
      "\n",
      "Hint: Inferred schema contains integer column(s). Integer columns in Python cannot represent missing values. If your input data contains missing values at inference time, it will be encoded as floats and will cause a schema enforcement error. The best way to avoid this problem is to infer the model schema based on a realistic data sample (training dataset) that includes missing values. Alternatively, you can declare integer columns as doubles (float64) whenever these columns may have missing values. See `Handling Integers With Missing Values <https://www.mlflow.org/docs/latest/models.html#handling-integers-with-missing-values>`_ for more details.\n",
      "\n",
      "Successfully registered model 'heart-disease-bclass'.\n",
      "2025/05/04 17:59:24 INFO mlflow.store.model_registry.abstract_store: Waiting up to 300 seconds for model version to finish creation. Model name: heart-disease-bclass, version 1\n",
      "Created version '1' of model 'heart-disease-bclass'.\n",
      "c:\\Users\\Wojciech\\Documents\\WWSI\\ARISA-MLOps-Assignment\\ARISA_DSML\\train.py:177: FutureWarning:\n",
      "\n",
      "``mlflow.tracking.client.MlflowClient.get_latest_versions`` is deprecated since 2.9.0. Model registry stages will be removed in a future major release. To learn more about the deprecation of model registry stages, see our migration guide here: https://mlflow.org/docs/2.12.1/model-registry.html#migrating-from-stages\n",
      "\n"
     ]
    }
   ],
   "source": [
    "from ARISA_DSML.train import train\n",
    "params = joblib.load(best_params_path)\n",
    "experiment_id = get_or_create_experiment(\"heart_full_training\")\n",
    "mlflow.set_experiment(experiment_id=experiment_id)\n",
    "cv_results = pd.read_csv(cv_output_path)\n",
    "model_path, model_params_path = train(X_train, y_train, params, cv_results=cv_results)"
   ]
  },
  {
   "cell_type": "code",
   "execution_count": 13,
   "id": "ed9c2df9",
   "metadata": {},
   "outputs": [
    {
     "data": {
      "text/html": [
       "<div>\n",
       "<style scoped>\n",
       "    .dataframe tbody tr th:only-of-type {\n",
       "        vertical-align: middle;\n",
       "    }\n",
       "\n",
       "    .dataframe tbody tr th {\n",
       "        vertical-align: top;\n",
       "    }\n",
       "\n",
       "    .dataframe thead th {\n",
       "        text-align: right;\n",
       "    }\n",
       "</style>\n",
       "<table border=\"1\" class=\"dataframe\">\n",
       "  <thead>\n",
       "    <tr style=\"text-align: right;\">\n",
       "      <th></th>\n",
       "      <th>age</th>\n",
       "      <th>sex</th>\n",
       "      <th>chest_pain_type</th>\n",
       "      <th>resting_bp_s</th>\n",
       "      <th>cholesterol</th>\n",
       "      <th>fasting_blood_sugar</th>\n",
       "      <th>resting_ecg</th>\n",
       "      <th>max_heart_rate</th>\n",
       "      <th>exercise_angina</th>\n",
       "      <th>oldpeak</th>\n",
       "      <th>st_slope</th>\n",
       "      <th>target</th>\n",
       "    </tr>\n",
       "  </thead>\n",
       "  <tbody>\n",
       "    <tr>\n",
       "      <th>0</th>\n",
       "      <td>63</td>\n",
       "      <td>0</td>\n",
       "      <td>2</td>\n",
       "      <td>140</td>\n",
       "      <td>195</td>\n",
       "      <td>0</td>\n",
       "      <td>0</td>\n",
       "      <td>179</td>\n",
       "      <td>0</td>\n",
       "      <td>0.0</td>\n",
       "      <td>1</td>\n",
       "      <td>0</td>\n",
       "    </tr>\n",
       "    <tr>\n",
       "      <th>1</th>\n",
       "      <td>53</td>\n",
       "      <td>1</td>\n",
       "      <td>3</td>\n",
       "      <td>145</td>\n",
       "      <td>518</td>\n",
       "      <td>0</td>\n",
       "      <td>0</td>\n",
       "      <td>130</td>\n",
       "      <td>0</td>\n",
       "      <td>0.0</td>\n",
       "      <td>2</td>\n",
       "      <td>1</td>\n",
       "    </tr>\n",
       "    <tr>\n",
       "      <th>2</th>\n",
       "      <td>65</td>\n",
       "      <td>1</td>\n",
       "      <td>4</td>\n",
       "      <td>160</td>\n",
       "      <td>0</td>\n",
       "      <td>1</td>\n",
       "      <td>1</td>\n",
       "      <td>122</td>\n",
       "      <td>0</td>\n",
       "      <td>1.2</td>\n",
       "      <td>2</td>\n",
       "      <td>1</td>\n",
       "    </tr>\n",
       "    <tr>\n",
       "      <th>3</th>\n",
       "      <td>56</td>\n",
       "      <td>1</td>\n",
       "      <td>4</td>\n",
       "      <td>130</td>\n",
       "      <td>0</td>\n",
       "      <td>0</td>\n",
       "      <td>2</td>\n",
       "      <td>122</td>\n",
       "      <td>1</td>\n",
       "      <td>1.0</td>\n",
       "      <td>2</td>\n",
       "      <td>1</td>\n",
       "    </tr>\n",
       "    <tr>\n",
       "      <th>4</th>\n",
       "      <td>54</td>\n",
       "      <td>1</td>\n",
       "      <td>2</td>\n",
       "      <td>108</td>\n",
       "      <td>309</td>\n",
       "      <td>0</td>\n",
       "      <td>0</td>\n",
       "      <td>156</td>\n",
       "      <td>0</td>\n",
       "      <td>0.0</td>\n",
       "      <td>1</td>\n",
       "      <td>0</td>\n",
       "    </tr>\n",
       "  </tbody>\n",
       "</table>\n",
       "</div>"
      ],
      "text/plain": [
       "   age  sex  chest_pain_type  resting_bp_s  cholesterol  fasting_blood_sugar  \\\n",
       "0   63    0                2           140          195                    0   \n",
       "1   53    1                3           145          518                    0   \n",
       "2   65    1                4           160            0                    1   \n",
       "3   56    1                4           130            0                    0   \n",
       "4   54    1                2           108          309                    0   \n",
       "\n",
       "   resting_ecg  max_heart_rate  exercise_angina  oldpeak  st_slope  target  \n",
       "0            0             179                0      0.0         1       0  \n",
       "1            0             130                0      0.0         2       1  \n",
       "2            1             122                0      1.2         2       1  \n",
       "3            2             122                1      1.0         2       1  \n",
       "4            0             156                0      0.0         1       0  "
      ]
     },
     "execution_count": 13,
     "metadata": {},
     "output_type": "execute_result"
    }
   ],
   "source": [
    "df_test = pd.read_csv(test_path)\n",
    "\n",
    "df_test.head()"
   ]
  },
  {
   "cell_type": "code",
   "execution_count": 14,
   "id": "f3bbd911",
   "metadata": {},
   "outputs": [],
   "source": [
    "y_test = df_test.pop(target)\n",
    "X_test = df_test"
   ]
  },
  {
   "cell_type": "code",
   "execution_count": 15,
   "id": "0d285fcf",
   "metadata": {},
   "outputs": [
    {
     "name": "stderr",
     "output_type": "stream",
     "text": [
      "C:\\Users\\Wojciech\\AppData\\Local\\Temp\\ipykernel_27212\\1031401682.py:6: FutureWarning:\n",
      "\n",
      "``mlflow.tracking.client.MlflowClient.get_latest_versions`` is deprecated since 2.9.0. Model registry stages will be removed in a future major release. To learn more about the deprecation of model registry stages, see our migration guide here: https://mlflow.org/docs/2.12.1/model-registry.html#migrating-from-stages\n",
      "\n",
      "C:\\Users\\Wojciech\\AppData\\Local\\Temp\\ipykernel_27212\\1031401682.py:14: FutureWarning:\n",
      "\n",
      "``mlflow.tracking.client.MlflowClient.get_latest_versions`` is deprecated since 2.9.0. Model registry stages will be removed in a future major release. To learn more about the deprecation of model registry stages, see our migration guide here: https://mlflow.org/docs/2.12.1/model-registry.html#migrating-from-stages\n",
      "\n"
     ]
    },
    {
     "data": {
      "application/vnd.jupyter.widget-view+json": {
       "model_id": "01f5c9bafac0475bb54bc6bf3ea072d0",
       "version_major": 2,
       "version_minor": 0
      },
      "text/plain": [
       "Downloading artifacts:   0%|          | 0/10 [00:00<?, ?it/s]"
      ]
     },
     "metadata": {},
     "output_type": "display_data"
    },
    {
     "name": "stderr",
     "output_type": "stream",
     "text": [
      "2025/05/04 18:01:25 INFO mlflow.store.artifact.artifact_repo: The progress bar can be disabled by setting the environment variable MLFLOW_ENABLE_ARTIFACTS_PROGRESS_BAR to false\n"
     ]
    },
    {
     "data": {
      "image/png": "[encoded data removed]",
      "text/plain": [
       "<Figure size 800x590 with 2 Axes>"
      ]
     },
     "metadata": {},
     "output_type": "display_data"
    }
   ],
   "source": [
    "import json\n",
    "from ARISA_DSML.predict import predict\n",
    "from mlflow.client import MlflowClient\n",
    "\n",
    "client = MlflowClient(mlflow.get_tracking_uri())\n",
    "model_info = client.get_latest_versions('heart-disease-bclass')[0]\n",
    "\n",
    "# extract params/metrics data for run `test_run_id` in a single dict\n",
    "run_data_dict = client.get_run(model_info.run_id).data.to_dictionary()\n",
    "run = client.get_run(model_info.run_id)\n",
    "log_model_meta = json.loads(run.data.tags['mlflow.log-model.history'])\n",
    "log_model_meta[0]['signature']\n",
    "\n",
    "latest_model = client.get_latest_versions('heart-disease-bclass')\n",
    "\n",
    "_, artifact_folder = os.path.split(latest_model[0].source)\n",
    "model_uri = \"runs:/{}/{}\".format(latest_model[0].run_id, artifact_folder)\n",
    "loaded_model = mlflow.catboost.load_model(model_uri)\n",
    "\n",
    "params = run_data_dict[\"params\"]\n",
    "params[\"feature_columns\"] = [inp[\"name\"] for inp in json.loads(log_model_meta[0]['signature']['inputs'])]\n",
    "preds_path = predict(loaded_model, df_test, params)"
   ]
  },
  {
   "cell_type": "code",
   "execution_count": 16,
   "id": "c42d6c05",
   "metadata": {},
   "outputs": [],
   "source": [
    "from ARISA_DSML.resolve import get_model_by_alias\n",
    "client = MlflowClient(mlflow.get_tracking_uri())\n",
    "champ_mv = get_model_by_alias(client)\n",
    "chall_mv = get_model_by_alias(client, alias=\"challenger\")"
   ]
  },
  {
   "cell_type": "code",
   "execution_count": 17,
   "id": "6346c29f",
   "metadata": {},
   "outputs": [
    {
     "name": "stdout",
     "output_type": "stream",
     "text": [
      "No champion model, predicting using newest model\n",
      "runs:/7ce0a4dfc80d4b1a9efac94a4bfc2cd7/model\n"
     ]
    },
    {
     "name": "stderr",
     "output_type": "stream",
     "text": [
      "C:\\Users\\Wojciech\\AppData\\Local\\Temp\\ipykernel_27212\\2109093237.py:6: FutureWarning:\n",
      "\n",
      "``mlflow.tracking.client.MlflowClient.get_latest_versions`` is deprecated since 2.9.0. Model registry stages will be removed in a future major release. To learn more about the deprecation of model registry stages, see our migration guide here: https://mlflow.org/docs/2.12.1/model-registry.html#migrating-from-stages\n",
      "\n"
     ]
    },
    {
     "data": {
      "application/vnd.jupyter.widget-view+json": {
       "model_id": "ae7346a2df1f43459bfbe20fe7a888cc",
       "version_major": 2,
       "version_minor": 0
      },
      "text/plain": [
       "Downloading artifacts:   0%|          | 0/10 [00:00<?, ?it/s]"
      ]
     },
     "metadata": {},
     "output_type": "display_data"
    },
    {
     "name": "stderr",
     "output_type": "stream",
     "text": [
      "2025/05/04 18:01:48 INFO mlflow.store.artifact.artifact_repo: The progress bar can be disabled by setting the environment variable MLFLOW_ENABLE_ARTIFACTS_PROGRESS_BAR to false\n"
     ]
    },
    {
     "data": {
      "image/png": "[encoded data removed]",
      "text/plain": [
       "<Figure size 800x590 with 2 Axes>"
      ]
     },
     "metadata": {},
     "output_type": "display_data"
    }
   ],
   "source": [
    "from ARISA_DSML.config import MODEL_NAME\n",
    "client = MlflowClient(mlflow.get_tracking_uri())\n",
    "model_info = get_model_by_alias(client, alias=\"champion\")\n",
    "if model_info is None:\n",
    "    print(\"No champion model, predicting using newest model\")\n",
    "    model_info = client.get_latest_versions(MODEL_NAME)[0]\n",
    "\n",
    "# extract params/metrics data for run `test_run_id` in a single dict \n",
    "run_data_dict = client.get_run(model_info.run_id).data.to_dictionary()\n",
    "run = client.get_run(model_info.run_id)\n",
    "log_model_meta = json.loads(run.data.tags['mlflow.log-model.history'])\n",
    "log_model_meta[0]['signature']\n",
    "\n",
    "\n",
    "_, artifact_folder = os.path.split(model_info.source)\n",
    "model_uri = \"runs:/{}/{}\".format(model_info.run_id, artifact_folder)\n",
    "print(model_uri)\n",
    "loaded_model = mlflow.catboost.load_model(model_uri)\n",
    "\n",
    "params = run_data_dict[\"params\"]\n",
    "params[\"feature_columns\"] = [inp[\"name\"] for inp in json.loads(log_model_meta[0]['signature']['inputs'])]\n",
    "preds_path = predict(loaded_model, df_test, params)"
   ]
  },
  {
   "cell_type": "code",
   "execution_count": null,
   "id": "2a145fae",
   "metadata": {},
   "outputs": [],
   "source": []
  }
 ],
 "metadata": {
  "kernelspec": {
   "display_name": "Python 3",
   "language": "python",
   "name": "python3"
  },
  "language_info": {
   "codemirror_mode": {
    "name": "ipython",
    "version": 3
   },
   "file_extension": ".py",
   "mimetype": "text/x-python",
   "name": "python",
   "nbconvert_exporter": "python",
   "pygments_lexer": "ipython3",
   "version": "3.11.9"
  }
 },
 "nbformat": 4,
 "nbformat_minor": 5
}
