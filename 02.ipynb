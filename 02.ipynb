{
 "cells": [
  {
   "cell_type": "code",
   "execution_count": 1,
   "id": "fbdaf40e",
   "metadata": {},
   "outputs": [
    {
     "name": "stdout",
     "output_type": "stream",
     "text": [
      "Collecting cookiecutter-data-science\n",
      "  Downloading cookiecutter_data_science-2.2.0-py3-none-any.whl.metadata (7.1 kB)\n",
      "Requirement already satisfied: click in c:\\users\\wojciech\\appdata\\local\\programs\\python\\python311\\lib\\site-packages (from cookiecutter-data-science) (8.1.8)\n",
      "Collecting cookiecutter (from cookiecutter-data-science)\n",
      "  Using cached cookiecutter-2.6.0-py3-none-any.whl.metadata (7.3 kB)\n",
      "Collecting tomlkit (from cookiecutter-data-science)\n",
      "  Downloading tomlkit-0.13.2-py3-none-any.whl.metadata (2.7 kB)\n",
      "Requirement already satisfied: colorama in c:\\users\\wojciech\\appdata\\local\\programs\\python\\python311\\lib\\site-packages (from click->cookiecutter-data-science) (0.4.6)\n",
      "Collecting binaryornot>=0.4.4 (from cookiecutter->cookiecutter-data-science)\n",
      "  Using cached binaryornot-0.4.4-py2.py3-none-any.whl.metadata (6.0 kB)\n",
      "Requirement already satisfied: Jinja2<4.0.0,>=2.7 in c:\\users\\wojciech\\appdata\\local\\programs\\python\\python311\\lib\\site-packages (from cookiecutter->cookiecutter-data-science) (3.1.5)\n",
      "Requirement already satisfied: pyyaml>=5.3.1 in c:\\users\\wojciech\\appdata\\local\\programs\\python\\python311\\lib\\site-packages (from cookiecutter->cookiecutter-data-science) (6.0.2)\n",
      "Requirement already satisfied: python-slugify>=4.0.0 in c:\\users\\wojciech\\appdata\\local\\programs\\python\\python311\\lib\\site-packages (from cookiecutter->cookiecutter-data-science) (8.0.4)\n",
      "Requirement already satisfied: requests>=2.23.0 in c:\\users\\wojciech\\appdata\\local\\programs\\python\\python311\\lib\\site-packages (from cookiecutter->cookiecutter-data-science) (2.32.3)\n",
      "Requirement already satisfied: arrow in c:\\users\\wojciech\\appdata\\local\\programs\\python\\python311\\lib\\site-packages (from cookiecutter->cookiecutter-data-science) (1.3.0)\n",
      "Requirement already satisfied: rich in c:\\users\\wojciech\\appdata\\local\\programs\\python\\python311\\lib\\site-packages (from cookiecutter->cookiecutter-data-science) (13.9.4)\n",
      "Collecting chardet>=3.0.2 (from binaryornot>=0.4.4->cookiecutter->cookiecutter-data-science)\n",
      "  Using cached chardet-5.2.0-py3-none-any.whl.metadata (3.4 kB)\n",
      "Requirement already satisfied: MarkupSafe>=2.0 in c:\\users\\wojciech\\appdata\\local\\programs\\python\\python311\\lib\\site-packages (from Jinja2<4.0.0,>=2.7->cookiecutter->cookiecutter-data-science) (3.0.2)\n",
      "Requirement already satisfied: text-unidecode>=1.3 in c:\\users\\wojciech\\appdata\\local\\programs\\python\\python311\\lib\\site-packages (from python-slugify>=4.0.0->cookiecutter->cookiecutter-data-science) (1.3)\n",
      "Requirement already satisfied: charset-normalizer<4,>=2 in c:\\users\\wojciech\\appdata\\local\\programs\\python\\python311\\lib\\site-packages (from requests>=2.23.0->cookiecutter->cookiecutter-data-science) (3.4.1)\n",
      "Requirement already satisfied: idna<4,>=2.5 in c:\\users\\wojciech\\appdata\\local\\programs\\python\\python311\\lib\\site-packages (from requests>=2.23.0->cookiecutter->cookiecutter-data-science) (3.10)\n",
      "Requirement already satisfied: urllib3<3,>=1.21.1 in c:\\users\\wojciech\\appdata\\local\\programs\\python\\python311\\lib\\site-packages (from requests>=2.23.0->cookiecutter->cookiecutter-data-science) (2.3.0)\n",
      "Requirement already satisfied: certifi>=2017.4.17 in c:\\users\\wojciech\\appdata\\local\\programs\\python\\python311\\lib\\site-packages (from requests>=2.23.0->cookiecutter->cookiecutter-data-science) (2025.1.31)\n",
      "Requirement already satisfied: python-dateutil>=2.7.0 in c:\\users\\wojciech\\appdata\\local\\programs\\python\\python311\\lib\\site-packages (from arrow->cookiecutter->cookiecutter-data-science) (2.9.0.post0)\n",
      "Requirement already satisfied: types-python-dateutil>=2.8.10 in c:\\users\\wojciech\\appdata\\local\\programs\\python\\python311\\lib\\site-packages (from arrow->cookiecutter->cookiecutter-data-science) (2.9.0.20241206)\n",
      "Requirement already satisfied: markdown-it-py>=2.2.0 in c:\\users\\wojciech\\appdata\\local\\programs\\python\\python311\\lib\\site-packages (from rich->cookiecutter->cookiecutter-data-science) (3.0.0)\n",
      "Requirement already satisfied: pygments<3.0.0,>=2.13.0 in c:\\users\\wojciech\\appdata\\local\\programs\\python\\python311\\lib\\site-packages (from rich->cookiecutter->cookiecutter-data-science) (2.19.1)\n",
      "Requirement already satisfied: mdurl~=0.1 in c:\\users\\wojciech\\appdata\\local\\programs\\python\\python311\\lib\\site-packages (from markdown-it-py>=2.2.0->rich->cookiecutter->cookiecutter-data-science) (0.1.2)\n",
      "Requirement already satisfied: six>=1.5 in c:\\users\\wojciech\\appdata\\local\\programs\\python\\python311\\lib\\site-packages (from python-dateutil>=2.7.0->arrow->cookiecutter->cookiecutter-data-science) (1.17.0)\n",
      "Downloading cookiecutter_data_science-2.2.0-py3-none-any.whl (9.0 kB)\n",
      "Using cached cookiecutter-2.6.0-py3-none-any.whl (39 kB)\n",
      "Downloading tomlkit-0.13.2-py3-none-any.whl (37 kB)\n",
      "Using cached binaryornot-0.4.4-py2.py3-none-any.whl (9.0 kB)\n",
      "Using cached chardet-5.2.0-py3-none-any.whl (199 kB)\n",
      "Installing collected packages: tomlkit, chardet, binaryornot, cookiecutter, cookiecutter-data-science\n",
      "Successfully installed binaryornot-0.4.4 chardet-5.2.0 cookiecutter-2.6.0 cookiecutter-data-science-2.2.0 tomlkit-0.13.2\n"
     ]
    }
   ],
   "source": [
    "!pip install cookiecutter-data-science"
   ]
  },
  {
   "cell_type": "code",
   "execution_count": null,
   "id": "57b3eadd",
   "metadata": {},
   "outputs": [],
   "source": [
    "import os\n",
    "import zipfile\n",
    "from pathlib import Path\n",
    "from kaggle.api.kaggle_api_extended import KaggleApi\n",
    "\n",
    "api = KaggleApi()\n",
    "api.authenticate()\n",
    "\n",
    "dataset_name = \"mexwell/heart-disease-dataset\"\n",
    "download_folder = Path(\"data/heart-disease\")\n",
    "download_folder.mkdir(parents=True, exist_ok=True)\n",
    "\n",
    "\n",
    "api.competition_download_files(dataset, path=str(download_folder))\n",
    "api.dataset_download_files(dataset_test, path=str(download_folder), unzip=True)\n",
    "\n",
    "with zipfile.ZipFile(zip_path, \"r\") as zip_ref:\n",
    "    zip_ref.extractall(str(download_folder))\n",
    "\n",
    "os.remove(zip_path)"
   ]
  }
 ],
 "metadata": {
  "kernelspec": {
   "display_name": "Python 3",
   "language": "python",
   "name": "python3"
  },
  "language_info": {
   "codemirror_mode": {
    "name": "ipython",
    "version": 3
   },
   "file_extension": ".py",
   "mimetype": "text/x-python",
   "name": "python",
   "nbconvert_exporter": "python",
   "pygments_lexer": "ipython3",
   "version": "3.11.9"
  }
 },
 "nbformat": 4,
 "nbformat_minor": 5
}
